{
  "cells": [
    {
      "cell_type": "markdown",
      "metadata": {
        "id": "view-in-github",
        "colab_type": "text"
      },
      "source": [
        "<a href=\"https://colab.research.google.com/github/seojihyuk26/EarthquakePredictor/blob/main/earthquakePredictor.ipynb\" target=\"_parent\"><img src=\"https://colab.research.google.com/assets/colab-badge.svg\" alt=\"Open In Colab\"/></a>"
      ]
    },
    {
      "cell_type": "markdown",
      "source": [
        "# 모듈 로드"
      ],
      "metadata": {
        "id": "zcv0FGZ8iPne"
      }
    },
    {
      "cell_type": "code",
      "source": [
        "import itertools\n",
        "import os\n",
        "\n",
        "import matplotlib.pylab as plt\n",
        "import numpy as np\n",
        "\n",
        "import tensorflow as tf\n",
        "import tensorflow_hub as hub\n",
        "\n",
        "print(\"TF version:\", tf.__version__)\n",
        "print(\"Hub version:\", hub.__version__)\n",
        "print(\"GPU is\", \"available\" if tf.config.list_physical_devices('GPU') else \"NOT AVAILABLE\")"
      ],
      "metadata": {
        "id": "cHFWuAzQe8g2",
        "outputId": "5017c945-e5ed-469c-8623-e45ada5360fc",
        "colab": {
          "base_uri": "https://localhost:8080/"
        }
      },
      "execution_count": 242,
      "outputs": [
        {
          "output_type": "stream",
          "name": "stdout",
          "text": [
            "TF version: 2.9.2\n",
            "Hub version: 0.12.0\n",
            "GPU is NOT AVAILABLE\n"
          ]
        }
      ]
    },
    {
      "cell_type": "code",
      "source": [
        "%tensorflow_version 2.x\n",
        "device_name = tf.test.gpu_device_name()\n",
        "if device_name == '/device:GPU:0':\n",
        "  # raise SystemError('GPU device not found')\n",
        "  print('Found GPU at: {}'.format(device_name))"
      ],
      "metadata": {
        "id": "MktbGfHZ_Yi8",
        "outputId": "0fab7056-36b1-46bd-a43b-850b32e6ab7e",
        "colab": {
          "base_uri": "https://localhost:8080/"
        }
      },
      "execution_count": 243,
      "outputs": [
        {
          "output_type": "stream",
          "name": "stdout",
          "text": [
            "Colab only includes TensorFlow 2.x; %tensorflow_version has no effect.\n"
          ]
        }
      ]
    },
    {
      "cell_type": "code",
      "source": [
        "import pandas as pd\n",
        "from datetime import timedelta"
      ],
      "metadata": {
        "id": "gO7wLrjBkg5P"
      },
      "execution_count": 244,
      "outputs": []
    },
    {
      "cell_type": "code",
      "source": [
        "import folium\n",
        "print(\"folium version:\", folium.__version__)"
      ],
      "metadata": {
        "colab": {
          "base_uri": "https://localhost:8080/"
        },
        "id": "Vi9yCPiqlMcH",
        "outputId": "eaabd7b9-ba6a-49eb-e775-32d7658bac3e"
      },
      "execution_count": 245,
      "outputs": [
        {
          "output_type": "stream",
          "name": "stdout",
          "text": [
            "folium version: 0.12.1.post1\n"
          ]
        }
      ]
    },
    {
      "cell_type": "code",
      "source": [
        "from folium import plugins"
      ],
      "metadata": {
        "id": "mnXF-0QdpTJG"
      },
      "execution_count": 246,
      "outputs": []
    },
    {
      "cell_type": "code",
      "source": [
        "from tensorflow.keras.layers import LSTM, Dense, Attention, concatenate\n",
        "from tensorflow.keras.models import Sequential\n",
        "from tensorflow.keras import losses,layers\n",
        "from tensorflow.keras.callbacks import EarlyStopping, TerminateOnNaN\n",
        "import tensorflow.keras as keras"
      ],
      "metadata": {
        "id": "YECrIzdvISGW"
      },
      "execution_count": 247,
      "outputs": []
    },
    {
      "cell_type": "code",
      "source": [
        "import matplotlib.pyplot as plt"
      ],
      "metadata": {
        "id": "FpBUKawsSx-f"
      },
      "execution_count": 248,
      "outputs": []
    },
    {
      "cell_type": "code",
      "source": [
        "from sklearn.preprocessing import MinMaxScaler, MaxAbsScaler\n",
        "from sklearn.base import BaseEstimator, TransformerMixin\n",
        "from sklearn.compose import ColumnTransformer"
      ],
      "metadata": {
        "id": "xwgl-5yJkBU8"
      },
      "execution_count": 249,
      "outputs": []
    },
    {
      "cell_type": "code",
      "source": [
        "from tensorflow.keras.utils import plot_model"
      ],
      "metadata": {
        "id": "-8ikirqeMMw5"
      },
      "execution_count": 250,
      "outputs": []
    },
    {
      "cell_type": "code",
      "source": [
        "%load_ext tensorboard"
      ],
      "metadata": {
        "colab": {
          "base_uri": "https://localhost:8080/"
        },
        "id": "dV6Nq2s0hFlY",
        "outputId": "5d709400-4c5a-4c08-f825-44b0c6d84a8e"
      },
      "execution_count": 251,
      "outputs": [
        {
          "output_type": "stream",
          "name": "stdout",
          "text": [
            "The tensorboard extension is already loaded. To reload it, use:\n",
            "  %reload_ext tensorboard\n"
          ]
        }
      ]
    },
    {
      "cell_type": "markdown",
      "source": [
        "# 초기 변수 설정"
      ],
      "metadata": {
        "id": "dR9s24Hu4wnb"
      }
    },
    {
      "cell_type": "code",
      "source": [
        "timesteps = 3\n",
        "batch_size = 1\n",
        "num_epochs = 10\n",
        "startIndex = 1000\n",
        "learningIndex = 5000\n",
        "test_steps = 100\n",
        "test_start_steps = 12000-learningIndex\n",
        "test_end_steps = test_start_steps + test_steps"
      ],
      "metadata": {
        "id": "jLFQQOkD4u_l"
      },
      "execution_count": 252,
      "outputs": []
    },
    {
      "cell_type": "markdown",
      "source": [
        "# 데이터 입력"
      ],
      "metadata": {
        "id": "mTNxih8dib-a"
      }
    },
    {
      "cell_type": "code",
      "source": [
        "data = pd.read_csv('https://raw.githubusercontent.com/seojihyuk26/EarthquakePredictor/main/earthquake1900.csv')\n",
        "data"
      ],
      "metadata": {
        "id": "qgXdRY2HkTWd",
        "outputId": "9344fde3-07a4-426b-9a32-78e247c38c59",
        "colab": {
          "base_uri": "https://localhost:8080/",
          "height": 487
        }
      },
      "execution_count": 253,
      "outputs": [
        {
          "output_type": "execute_result",
          "data": {
            "text/plain": [
              "                           time  latitude  longitude   depth   mag\n",
              "0      2022-12-28T16:34:20.446Z  -21.2622   171.3631  10.000  6.00\n",
              "1      2022-12-20T10:34:24.770Z   40.5250  -124.4230  17.910  6.37\n",
              "2      2022-12-14T18:40:26.902Z   51.6382   178.6190  73.000  6.30\n",
              "3      2022-12-14T18:40:26.778Z   51.6199   178.6159  73.000  6.30\n",
              "4      2022-12-11T14:31:29.703Z   17.2565  -100.4369  18.346  6.00\n",
              "...                         ...       ...        ...     ...   ...\n",
              "13818  1902-11-17T19:50:00.000Z   37.4000  -113.5000     NaN  6.30\n",
              "13819  1902-01-01T05:20:30.000Z   52.3800  -167.4500     NaN  7.00\n",
              "13820  1901-12-31T09:02:30.000Z   51.4500  -171.0200     NaN  7.10\n",
              "13821  1901-12-30T22:34:00.000Z   52.0000  -160.0000     NaN  7.00\n",
              "13822  1901-03-03T07:45:00.000Z   36.0000  -120.5000     NaN  6.40\n",
              "\n",
              "[13823 rows x 5 columns]"
            ],
            "text/html": [
              "\n",
              "  <div id=\"df-37812e9d-0682-48ba-addf-411cc2366c96\">\n",
              "    <div class=\"colab-df-container\">\n",
              "      <div>\n",
              "<style scoped>\n",
              "    .dataframe tbody tr th:only-of-type {\n",
              "        vertical-align: middle;\n",
              "    }\n",
              "\n",
              "    .dataframe tbody tr th {\n",
              "        vertical-align: top;\n",
              "    }\n",
              "\n",
              "    .dataframe thead th {\n",
              "        text-align: right;\n",
              "    }\n",
              "</style>\n",
              "<table border=\"1\" class=\"dataframe\">\n",
              "  <thead>\n",
              "    <tr style=\"text-align: right;\">\n",
              "      <th></th>\n",
              "      <th>time</th>\n",
              "      <th>latitude</th>\n",
              "      <th>longitude</th>\n",
              "      <th>depth</th>\n",
              "      <th>mag</th>\n",
              "    </tr>\n",
              "  </thead>\n",
              "  <tbody>\n",
              "    <tr>\n",
              "      <th>0</th>\n",
              "      <td>2022-12-28T16:34:20.446Z</td>\n",
              "      <td>-21.2622</td>\n",
              "      <td>171.3631</td>\n",
              "      <td>10.000</td>\n",
              "      <td>6.00</td>\n",
              "    </tr>\n",
              "    <tr>\n",
              "      <th>1</th>\n",
              "      <td>2022-12-20T10:34:24.770Z</td>\n",
              "      <td>40.5250</td>\n",
              "      <td>-124.4230</td>\n",
              "      <td>17.910</td>\n",
              "      <td>6.37</td>\n",
              "    </tr>\n",
              "    <tr>\n",
              "      <th>2</th>\n",
              "      <td>2022-12-14T18:40:26.902Z</td>\n",
              "      <td>51.6382</td>\n",
              "      <td>178.6190</td>\n",
              "      <td>73.000</td>\n",
              "      <td>6.30</td>\n",
              "    </tr>\n",
              "    <tr>\n",
              "      <th>3</th>\n",
              "      <td>2022-12-14T18:40:26.778Z</td>\n",
              "      <td>51.6199</td>\n",
              "      <td>178.6159</td>\n",
              "      <td>73.000</td>\n",
              "      <td>6.30</td>\n",
              "    </tr>\n",
              "    <tr>\n",
              "      <th>4</th>\n",
              "      <td>2022-12-11T14:31:29.703Z</td>\n",
              "      <td>17.2565</td>\n",
              "      <td>-100.4369</td>\n",
              "      <td>18.346</td>\n",
              "      <td>6.00</td>\n",
              "    </tr>\n",
              "    <tr>\n",
              "      <th>...</th>\n",
              "      <td>...</td>\n",
              "      <td>...</td>\n",
              "      <td>...</td>\n",
              "      <td>...</td>\n",
              "      <td>...</td>\n",
              "    </tr>\n",
              "    <tr>\n",
              "      <th>13818</th>\n",
              "      <td>1902-11-17T19:50:00.000Z</td>\n",
              "      <td>37.4000</td>\n",
              "      <td>-113.5000</td>\n",
              "      <td>NaN</td>\n",
              "      <td>6.30</td>\n",
              "    </tr>\n",
              "    <tr>\n",
              "      <th>13819</th>\n",
              "      <td>1902-01-01T05:20:30.000Z</td>\n",
              "      <td>52.3800</td>\n",
              "      <td>-167.4500</td>\n",
              "      <td>NaN</td>\n",
              "      <td>7.00</td>\n",
              "    </tr>\n",
              "    <tr>\n",
              "      <th>13820</th>\n",
              "      <td>1901-12-31T09:02:30.000Z</td>\n",
              "      <td>51.4500</td>\n",
              "      <td>-171.0200</td>\n",
              "      <td>NaN</td>\n",
              "      <td>7.10</td>\n",
              "    </tr>\n",
              "    <tr>\n",
              "      <th>13821</th>\n",
              "      <td>1901-12-30T22:34:00.000Z</td>\n",
              "      <td>52.0000</td>\n",
              "      <td>-160.0000</td>\n",
              "      <td>NaN</td>\n",
              "      <td>7.00</td>\n",
              "    </tr>\n",
              "    <tr>\n",
              "      <th>13822</th>\n",
              "      <td>1901-03-03T07:45:00.000Z</td>\n",
              "      <td>36.0000</td>\n",
              "      <td>-120.5000</td>\n",
              "      <td>NaN</td>\n",
              "      <td>6.40</td>\n",
              "    </tr>\n",
              "  </tbody>\n",
              "</table>\n",
              "<p>13823 rows × 5 columns</p>\n",
              "</div>\n",
              "      <button class=\"colab-df-convert\" onclick=\"convertToInteractive('df-37812e9d-0682-48ba-addf-411cc2366c96')\"\n",
              "              title=\"Convert this dataframe to an interactive table.\"\n",
              "              style=\"display:none;\">\n",
              "        \n",
              "  <svg xmlns=\"http://www.w3.org/2000/svg\" height=\"24px\"viewBox=\"0 0 24 24\"\n",
              "       width=\"24px\">\n",
              "    <path d=\"M0 0h24v24H0V0z\" fill=\"none\"/>\n",
              "    <path d=\"M18.56 5.44l.94 2.06.94-2.06 2.06-.94-2.06-.94-.94-2.06-.94 2.06-2.06.94zm-11 1L8.5 8.5l.94-2.06 2.06-.94-2.06-.94L8.5 2.5l-.94 2.06-2.06.94zm10 10l.94 2.06.94-2.06 2.06-.94-2.06-.94-.94-2.06-.94 2.06-2.06.94z\"/><path d=\"M17.41 7.96l-1.37-1.37c-.4-.4-.92-.59-1.43-.59-.52 0-1.04.2-1.43.59L10.3 9.45l-7.72 7.72c-.78.78-.78 2.05 0 2.83L4 21.41c.39.39.9.59 1.41.59.51 0 1.02-.2 1.41-.59l7.78-7.78 2.81-2.81c.8-.78.8-2.07 0-2.86zM5.41 20L4 18.59l7.72-7.72 1.47 1.35L5.41 20z\"/>\n",
              "  </svg>\n",
              "      </button>\n",
              "      \n",
              "  <style>\n",
              "    .colab-df-container {\n",
              "      display:flex;\n",
              "      flex-wrap:wrap;\n",
              "      gap: 12px;\n",
              "    }\n",
              "\n",
              "    .colab-df-convert {\n",
              "      background-color: #E8F0FE;\n",
              "      border: none;\n",
              "      border-radius: 50%;\n",
              "      cursor: pointer;\n",
              "      display: none;\n",
              "      fill: #1967D2;\n",
              "      height: 32px;\n",
              "      padding: 0 0 0 0;\n",
              "      width: 32px;\n",
              "    }\n",
              "\n",
              "    .colab-df-convert:hover {\n",
              "      background-color: #E2EBFA;\n",
              "      box-shadow: 0px 1px 2px rgba(60, 64, 67, 0.3), 0px 1px 3px 1px rgba(60, 64, 67, 0.15);\n",
              "      fill: #174EA6;\n",
              "    }\n",
              "\n",
              "    [theme=dark] .colab-df-convert {\n",
              "      background-color: #3B4455;\n",
              "      fill: #D2E3FC;\n",
              "    }\n",
              "\n",
              "    [theme=dark] .colab-df-convert:hover {\n",
              "      background-color: #434B5C;\n",
              "      box-shadow: 0px 1px 3px 1px rgba(0, 0, 0, 0.15);\n",
              "      filter: drop-shadow(0px 1px 2px rgba(0, 0, 0, 0.3));\n",
              "      fill: #FFFFFF;\n",
              "    }\n",
              "  </style>\n",
              "\n",
              "      <script>\n",
              "        const buttonEl =\n",
              "          document.querySelector('#df-37812e9d-0682-48ba-addf-411cc2366c96 button.colab-df-convert');\n",
              "        buttonEl.style.display =\n",
              "          google.colab.kernel.accessAllowed ? 'block' : 'none';\n",
              "\n",
              "        async function convertToInteractive(key) {\n",
              "          const element = document.querySelector('#df-37812e9d-0682-48ba-addf-411cc2366c96');\n",
              "          const dataTable =\n",
              "            await google.colab.kernel.invokeFunction('convertToInteractive',\n",
              "                                                     [key], {});\n",
              "          if (!dataTable) return;\n",
              "\n",
              "          const docLinkHtml = 'Like what you see? Visit the ' +\n",
              "            '<a target=\"_blank\" href=https://colab.research.google.com/notebooks/data_table.ipynb>data table notebook</a>'\n",
              "            + ' to learn more about interactive tables.';\n",
              "          element.innerHTML = '';\n",
              "          dataTable['output_type'] = 'display_data';\n",
              "          await google.colab.output.renderOutput(dataTable, element);\n",
              "          const docLink = document.createElement('div');\n",
              "          docLink.innerHTML = docLinkHtml;\n",
              "          element.appendChild(docLink);\n",
              "        }\n",
              "      </script>\n",
              "    </div>\n",
              "  </div>\n",
              "  "
            ]
          },
          "metadata": {},
          "execution_count": 253
        }
      ]
    },
    {
      "cell_type": "code",
      "source": [
        "print(data.info())\n",
        "print(data.shape)"
      ],
      "metadata": {
        "colab": {
          "base_uri": "https://localhost:8080/"
        },
        "id": "DnSOmLzsnUWc",
        "outputId": "ab40a0f4-ead5-4173-baa2-aaf47e0b2464"
      },
      "execution_count": 254,
      "outputs": [
        {
          "output_type": "stream",
          "name": "stdout",
          "text": [
            "<class 'pandas.core.frame.DataFrame'>\n",
            "RangeIndex: 13823 entries, 0 to 13822\n",
            "Data columns (total 5 columns):\n",
            " #   Column     Non-Null Count  Dtype  \n",
            "---  ------     --------------  -----  \n",
            " 0   time       13823 non-null  object \n",
            " 1   latitude   13823 non-null  float64\n",
            " 2   longitude  13823 non-null  float64\n",
            " 3   depth      13771 non-null  float64\n",
            " 4   mag        13823 non-null  float64\n",
            "dtypes: float64(4), object(1)\n",
            "memory usage: 540.1+ KB\n",
            "None\n",
            "(13823, 5)\n"
          ]
        }
      ]
    },
    {
      "cell_type": "markdown",
      "source": [
        "# 데이터 전처리"
      ],
      "metadata": {
        "id": "1fTvBK5f_lv2"
      }
    },
    {
      "cell_type": "code",
      "source": [
        "data = data.fillna(data.mean())\n",
        "data"
      ],
      "metadata": {
        "id": "U2ba-_WD_xxi",
        "outputId": "4ecc94eb-2730-4069-87c4-4f4dabb2bd2b",
        "colab": {
          "base_uri": "https://localhost:8080/",
          "height": 481
        }
      },
      "execution_count": 255,
      "outputs": [
        {
          "output_type": "stream",
          "name": "stderr",
          "text": [
            "<ipython-input-255-e8d3a8cf2ef0>:1: FutureWarning: Dropping of nuisance columns in DataFrame reductions (with 'numeric_only=None') is deprecated; in a future version this will raise TypeError.  Select only valid columns before calling the reduction.\n",
            "  data = data.fillna(data.mean())\n"
          ]
        },
        {
          "output_type": "execute_result",
          "data": {
            "text/plain": [
              "                           time  latitude  longitude      depth   mag\n",
              "0      2022-12-28T16:34:20.446Z  -21.2622   171.3631  10.000000  6.00\n",
              "1      2022-12-20T10:34:24.770Z   40.5250  -124.4230  17.910000  6.37\n",
              "2      2022-12-14T18:40:26.902Z   51.6382   178.6190  73.000000  6.30\n",
              "3      2022-12-14T18:40:26.778Z   51.6199   178.6159  73.000000  6.30\n",
              "4      2022-12-11T14:31:29.703Z   17.2565  -100.4369  18.346000  6.00\n",
              "...                         ...       ...        ...        ...   ...\n",
              "13818  1902-11-17T19:50:00.000Z   37.4000  -113.5000  56.177293  6.30\n",
              "13819  1902-01-01T05:20:30.000Z   52.3800  -167.4500  56.177293  7.00\n",
              "13820  1901-12-31T09:02:30.000Z   51.4500  -171.0200  56.177293  7.10\n",
              "13821  1901-12-30T22:34:00.000Z   52.0000  -160.0000  56.177293  7.00\n",
              "13822  1901-03-03T07:45:00.000Z   36.0000  -120.5000  56.177293  6.40\n",
              "\n",
              "[13823 rows x 5 columns]"
            ],
            "text/html": [
              "\n",
              "  <div id=\"df-54cc5566-82f2-461b-8fc9-a03f983afa86\">\n",
              "    <div class=\"colab-df-container\">\n",
              "      <div>\n",
              "<style scoped>\n",
              "    .dataframe tbody tr th:only-of-type {\n",
              "        vertical-align: middle;\n",
              "    }\n",
              "\n",
              "    .dataframe tbody tr th {\n",
              "        vertical-align: top;\n",
              "    }\n",
              "\n",
              "    .dataframe thead th {\n",
              "        text-align: right;\n",
              "    }\n",
              "</style>\n",
              "<table border=\"1\" class=\"dataframe\">\n",
              "  <thead>\n",
              "    <tr style=\"text-align: right;\">\n",
              "      <th></th>\n",
              "      <th>time</th>\n",
              "      <th>latitude</th>\n",
              "      <th>longitude</th>\n",
              "      <th>depth</th>\n",
              "      <th>mag</th>\n",
              "    </tr>\n",
              "  </thead>\n",
              "  <tbody>\n",
              "    <tr>\n",
              "      <th>0</th>\n",
              "      <td>2022-12-28T16:34:20.446Z</td>\n",
              "      <td>-21.2622</td>\n",
              "      <td>171.3631</td>\n",
              "      <td>10.000000</td>\n",
              "      <td>6.00</td>\n",
              "    </tr>\n",
              "    <tr>\n",
              "      <th>1</th>\n",
              "      <td>2022-12-20T10:34:24.770Z</td>\n",
              "      <td>40.5250</td>\n",
              "      <td>-124.4230</td>\n",
              "      <td>17.910000</td>\n",
              "      <td>6.37</td>\n",
              "    </tr>\n",
              "    <tr>\n",
              "      <th>2</th>\n",
              "      <td>2022-12-14T18:40:26.902Z</td>\n",
              "      <td>51.6382</td>\n",
              "      <td>178.6190</td>\n",
              "      <td>73.000000</td>\n",
              "      <td>6.30</td>\n",
              "    </tr>\n",
              "    <tr>\n",
              "      <th>3</th>\n",
              "      <td>2022-12-14T18:40:26.778Z</td>\n",
              "      <td>51.6199</td>\n",
              "      <td>178.6159</td>\n",
              "      <td>73.000000</td>\n",
              "      <td>6.30</td>\n",
              "    </tr>\n",
              "    <tr>\n",
              "      <th>4</th>\n",
              "      <td>2022-12-11T14:31:29.703Z</td>\n",
              "      <td>17.2565</td>\n",
              "      <td>-100.4369</td>\n",
              "      <td>18.346000</td>\n",
              "      <td>6.00</td>\n",
              "    </tr>\n",
              "    <tr>\n",
              "      <th>...</th>\n",
              "      <td>...</td>\n",
              "      <td>...</td>\n",
              "      <td>...</td>\n",
              "      <td>...</td>\n",
              "      <td>...</td>\n",
              "    </tr>\n",
              "    <tr>\n",
              "      <th>13818</th>\n",
              "      <td>1902-11-17T19:50:00.000Z</td>\n",
              "      <td>37.4000</td>\n",
              "      <td>-113.5000</td>\n",
              "      <td>56.177293</td>\n",
              "      <td>6.30</td>\n",
              "    </tr>\n",
              "    <tr>\n",
              "      <th>13819</th>\n",
              "      <td>1902-01-01T05:20:30.000Z</td>\n",
              "      <td>52.3800</td>\n",
              "      <td>-167.4500</td>\n",
              "      <td>56.177293</td>\n",
              "      <td>7.00</td>\n",
              "    </tr>\n",
              "    <tr>\n",
              "      <th>13820</th>\n",
              "      <td>1901-12-31T09:02:30.000Z</td>\n",
              "      <td>51.4500</td>\n",
              "      <td>-171.0200</td>\n",
              "      <td>56.177293</td>\n",
              "      <td>7.10</td>\n",
              "    </tr>\n",
              "    <tr>\n",
              "      <th>13821</th>\n",
              "      <td>1901-12-30T22:34:00.000Z</td>\n",
              "      <td>52.0000</td>\n",
              "      <td>-160.0000</td>\n",
              "      <td>56.177293</td>\n",
              "      <td>7.00</td>\n",
              "    </tr>\n",
              "    <tr>\n",
              "      <th>13822</th>\n",
              "      <td>1901-03-03T07:45:00.000Z</td>\n",
              "      <td>36.0000</td>\n",
              "      <td>-120.5000</td>\n",
              "      <td>56.177293</td>\n",
              "      <td>6.40</td>\n",
              "    </tr>\n",
              "  </tbody>\n",
              "</table>\n",
              "<p>13823 rows × 5 columns</p>\n",
              "</div>\n",
              "      <button class=\"colab-df-convert\" onclick=\"convertToInteractive('df-54cc5566-82f2-461b-8fc9-a03f983afa86')\"\n",
              "              title=\"Convert this dataframe to an interactive table.\"\n",
              "              style=\"display:none;\">\n",
              "        \n",
              "  <svg xmlns=\"http://www.w3.org/2000/svg\" height=\"24px\"viewBox=\"0 0 24 24\"\n",
              "       width=\"24px\">\n",
              "    <path d=\"M0 0h24v24H0V0z\" fill=\"none\"/>\n",
              "    <path d=\"M18.56 5.44l.94 2.06.94-2.06 2.06-.94-2.06-.94-.94-2.06-.94 2.06-2.06.94zm-11 1L8.5 8.5l.94-2.06 2.06-.94-2.06-.94L8.5 2.5l-.94 2.06-2.06.94zm10 10l.94 2.06.94-2.06 2.06-.94-2.06-.94-.94-2.06-.94 2.06-2.06.94z\"/><path d=\"M17.41 7.96l-1.37-1.37c-.4-.4-.92-.59-1.43-.59-.52 0-1.04.2-1.43.59L10.3 9.45l-7.72 7.72c-.78.78-.78 2.05 0 2.83L4 21.41c.39.39.9.59 1.41.59.51 0 1.02-.2 1.41-.59l7.78-7.78 2.81-2.81c.8-.78.8-2.07 0-2.86zM5.41 20L4 18.59l7.72-7.72 1.47 1.35L5.41 20z\"/>\n",
              "  </svg>\n",
              "      </button>\n",
              "      \n",
              "  <style>\n",
              "    .colab-df-container {\n",
              "      display:flex;\n",
              "      flex-wrap:wrap;\n",
              "      gap: 12px;\n",
              "    }\n",
              "\n",
              "    .colab-df-convert {\n",
              "      background-color: #E8F0FE;\n",
              "      border: none;\n",
              "      border-radius: 50%;\n",
              "      cursor: pointer;\n",
              "      display: none;\n",
              "      fill: #1967D2;\n",
              "      height: 32px;\n",
              "      padding: 0 0 0 0;\n",
              "      width: 32px;\n",
              "    }\n",
              "\n",
              "    .colab-df-convert:hover {\n",
              "      background-color: #E2EBFA;\n",
              "      box-shadow: 0px 1px 2px rgba(60, 64, 67, 0.3), 0px 1px 3px 1px rgba(60, 64, 67, 0.15);\n",
              "      fill: #174EA6;\n",
              "    }\n",
              "\n",
              "    [theme=dark] .colab-df-convert {\n",
              "      background-color: #3B4455;\n",
              "      fill: #D2E3FC;\n",
              "    }\n",
              "\n",
              "    [theme=dark] .colab-df-convert:hover {\n",
              "      background-color: #434B5C;\n",
              "      box-shadow: 0px 1px 3px 1px rgba(0, 0, 0, 0.15);\n",
              "      filter: drop-shadow(0px 1px 2px rgba(0, 0, 0, 0.3));\n",
              "      fill: #FFFFFF;\n",
              "    }\n",
              "  </style>\n",
              "\n",
              "      <script>\n",
              "        const buttonEl =\n",
              "          document.querySelector('#df-54cc5566-82f2-461b-8fc9-a03f983afa86 button.colab-df-convert');\n",
              "        buttonEl.style.display =\n",
              "          google.colab.kernel.accessAllowed ? 'block' : 'none';\n",
              "\n",
              "        async function convertToInteractive(key) {\n",
              "          const element = document.querySelector('#df-54cc5566-82f2-461b-8fc9-a03f983afa86');\n",
              "          const dataTable =\n",
              "            await google.colab.kernel.invokeFunction('convertToInteractive',\n",
              "                                                     [key], {});\n",
              "          if (!dataTable) return;\n",
              "\n",
              "          const docLinkHtml = 'Like what you see? Visit the ' +\n",
              "            '<a target=\"_blank\" href=https://colab.research.google.com/notebooks/data_table.ipynb>data table notebook</a>'\n",
              "            + ' to learn more about interactive tables.';\n",
              "          element.innerHTML = '';\n",
              "          dataTable['output_type'] = 'display_data';\n",
              "          await google.colab.output.renderOutput(dataTable, element);\n",
              "          const docLink = document.createElement('div');\n",
              "          docLink.innerHTML = docLinkHtml;\n",
              "          element.appendChild(docLink);\n",
              "        }\n",
              "      </script>\n",
              "    </div>\n",
              "  </div>\n",
              "  "
            ]
          },
          "metadata": {},
          "execution_count": 255
        }
      ]
    },
    {
      "cell_type": "code",
      "source": [
        "dataEdited = data.iloc[::-1]\n",
        "dataEdited"
      ],
      "metadata": {
        "colab": {
          "base_uri": "https://localhost:8080/",
          "height": 423
        },
        "id": "fiyw_opCPFmo",
        "outputId": "77d89883-006b-4bde-ab7f-5e1cde305414"
      },
      "execution_count": 256,
      "outputs": [
        {
          "output_type": "execute_result",
          "data": {
            "text/plain": [
              "                           time  latitude  longitude      depth   mag\n",
              "13822  1901-03-03T07:45:00.000Z   36.0000  -120.5000  56.177293  6.40\n",
              "13821  1901-12-30T22:34:00.000Z   52.0000  -160.0000  56.177293  7.00\n",
              "13820  1901-12-31T09:02:30.000Z   51.4500  -171.0200  56.177293  7.10\n",
              "13819  1902-01-01T05:20:30.000Z   52.3800  -167.4500  56.177293  7.00\n",
              "13818  1902-11-17T19:50:00.000Z   37.4000  -113.5000  56.177293  6.30\n",
              "...                         ...       ...        ...        ...   ...\n",
              "4      2022-12-11T14:31:29.703Z   17.2565  -100.4369  18.346000  6.00\n",
              "3      2022-12-14T18:40:26.778Z   51.6199   178.6159  73.000000  6.30\n",
              "2      2022-12-14T18:40:26.902Z   51.6382   178.6190  73.000000  6.30\n",
              "1      2022-12-20T10:34:24.770Z   40.5250  -124.4230  17.910000  6.37\n",
              "0      2022-12-28T16:34:20.446Z  -21.2622   171.3631  10.000000  6.00\n",
              "\n",
              "[13823 rows x 5 columns]"
            ],
            "text/html": [
              "\n",
              "  <div id=\"df-b0ff9180-de4b-440a-9618-b3e1feb78987\">\n",
              "    <div class=\"colab-df-container\">\n",
              "      <div>\n",
              "<style scoped>\n",
              "    .dataframe tbody tr th:only-of-type {\n",
              "        vertical-align: middle;\n",
              "    }\n",
              "\n",
              "    .dataframe tbody tr th {\n",
              "        vertical-align: top;\n",
              "    }\n",
              "\n",
              "    .dataframe thead th {\n",
              "        text-align: right;\n",
              "    }\n",
              "</style>\n",
              "<table border=\"1\" class=\"dataframe\">\n",
              "  <thead>\n",
              "    <tr style=\"text-align: right;\">\n",
              "      <th></th>\n",
              "      <th>time</th>\n",
              "      <th>latitude</th>\n",
              "      <th>longitude</th>\n",
              "      <th>depth</th>\n",
              "      <th>mag</th>\n",
              "    </tr>\n",
              "  </thead>\n",
              "  <tbody>\n",
              "    <tr>\n",
              "      <th>13822</th>\n",
              "      <td>1901-03-03T07:45:00.000Z</td>\n",
              "      <td>36.0000</td>\n",
              "      <td>-120.5000</td>\n",
              "      <td>56.177293</td>\n",
              "      <td>6.40</td>\n",
              "    </tr>\n",
              "    <tr>\n",
              "      <th>13821</th>\n",
              "      <td>1901-12-30T22:34:00.000Z</td>\n",
              "      <td>52.0000</td>\n",
              "      <td>-160.0000</td>\n",
              "      <td>56.177293</td>\n",
              "      <td>7.00</td>\n",
              "    </tr>\n",
              "    <tr>\n",
              "      <th>13820</th>\n",
              "      <td>1901-12-31T09:02:30.000Z</td>\n",
              "      <td>51.4500</td>\n",
              "      <td>-171.0200</td>\n",
              "      <td>56.177293</td>\n",
              "      <td>7.10</td>\n",
              "    </tr>\n",
              "    <tr>\n",
              "      <th>13819</th>\n",
              "      <td>1902-01-01T05:20:30.000Z</td>\n",
              "      <td>52.3800</td>\n",
              "      <td>-167.4500</td>\n",
              "      <td>56.177293</td>\n",
              "      <td>7.00</td>\n",
              "    </tr>\n",
              "    <tr>\n",
              "      <th>13818</th>\n",
              "      <td>1902-11-17T19:50:00.000Z</td>\n",
              "      <td>37.4000</td>\n",
              "      <td>-113.5000</td>\n",
              "      <td>56.177293</td>\n",
              "      <td>6.30</td>\n",
              "    </tr>\n",
              "    <tr>\n",
              "      <th>...</th>\n",
              "      <td>...</td>\n",
              "      <td>...</td>\n",
              "      <td>...</td>\n",
              "      <td>...</td>\n",
              "      <td>...</td>\n",
              "    </tr>\n",
              "    <tr>\n",
              "      <th>4</th>\n",
              "      <td>2022-12-11T14:31:29.703Z</td>\n",
              "      <td>17.2565</td>\n",
              "      <td>-100.4369</td>\n",
              "      <td>18.346000</td>\n",
              "      <td>6.00</td>\n",
              "    </tr>\n",
              "    <tr>\n",
              "      <th>3</th>\n",
              "      <td>2022-12-14T18:40:26.778Z</td>\n",
              "      <td>51.6199</td>\n",
              "      <td>178.6159</td>\n",
              "      <td>73.000000</td>\n",
              "      <td>6.30</td>\n",
              "    </tr>\n",
              "    <tr>\n",
              "      <th>2</th>\n",
              "      <td>2022-12-14T18:40:26.902Z</td>\n",
              "      <td>51.6382</td>\n",
              "      <td>178.6190</td>\n",
              "      <td>73.000000</td>\n",
              "      <td>6.30</td>\n",
              "    </tr>\n",
              "    <tr>\n",
              "      <th>1</th>\n",
              "      <td>2022-12-20T10:34:24.770Z</td>\n",
              "      <td>40.5250</td>\n",
              "      <td>-124.4230</td>\n",
              "      <td>17.910000</td>\n",
              "      <td>6.37</td>\n",
              "    </tr>\n",
              "    <tr>\n",
              "      <th>0</th>\n",
              "      <td>2022-12-28T16:34:20.446Z</td>\n",
              "      <td>-21.2622</td>\n",
              "      <td>171.3631</td>\n",
              "      <td>10.000000</td>\n",
              "      <td>6.00</td>\n",
              "    </tr>\n",
              "  </tbody>\n",
              "</table>\n",
              "<p>13823 rows × 5 columns</p>\n",
              "</div>\n",
              "      <button class=\"colab-df-convert\" onclick=\"convertToInteractive('df-b0ff9180-de4b-440a-9618-b3e1feb78987')\"\n",
              "              title=\"Convert this dataframe to an interactive table.\"\n",
              "              style=\"display:none;\">\n",
              "        \n",
              "  <svg xmlns=\"http://www.w3.org/2000/svg\" height=\"24px\"viewBox=\"0 0 24 24\"\n",
              "       width=\"24px\">\n",
              "    <path d=\"M0 0h24v24H0V0z\" fill=\"none\"/>\n",
              "    <path d=\"M18.56 5.44l.94 2.06.94-2.06 2.06-.94-2.06-.94-.94-2.06-.94 2.06-2.06.94zm-11 1L8.5 8.5l.94-2.06 2.06-.94-2.06-.94L8.5 2.5l-.94 2.06-2.06.94zm10 10l.94 2.06.94-2.06 2.06-.94-2.06-.94-.94-2.06-.94 2.06-2.06.94z\"/><path d=\"M17.41 7.96l-1.37-1.37c-.4-.4-.92-.59-1.43-.59-.52 0-1.04.2-1.43.59L10.3 9.45l-7.72 7.72c-.78.78-.78 2.05 0 2.83L4 21.41c.39.39.9.59 1.41.59.51 0 1.02-.2 1.41-.59l7.78-7.78 2.81-2.81c.8-.78.8-2.07 0-2.86zM5.41 20L4 18.59l7.72-7.72 1.47 1.35L5.41 20z\"/>\n",
              "  </svg>\n",
              "      </button>\n",
              "      \n",
              "  <style>\n",
              "    .colab-df-container {\n",
              "      display:flex;\n",
              "      flex-wrap:wrap;\n",
              "      gap: 12px;\n",
              "    }\n",
              "\n",
              "    .colab-df-convert {\n",
              "      background-color: #E8F0FE;\n",
              "      border: none;\n",
              "      border-radius: 50%;\n",
              "      cursor: pointer;\n",
              "      display: none;\n",
              "      fill: #1967D2;\n",
              "      height: 32px;\n",
              "      padding: 0 0 0 0;\n",
              "      width: 32px;\n",
              "    }\n",
              "\n",
              "    .colab-df-convert:hover {\n",
              "      background-color: #E2EBFA;\n",
              "      box-shadow: 0px 1px 2px rgba(60, 64, 67, 0.3), 0px 1px 3px 1px rgba(60, 64, 67, 0.15);\n",
              "      fill: #174EA6;\n",
              "    }\n",
              "\n",
              "    [theme=dark] .colab-df-convert {\n",
              "      background-color: #3B4455;\n",
              "      fill: #D2E3FC;\n",
              "    }\n",
              "\n",
              "    [theme=dark] .colab-df-convert:hover {\n",
              "      background-color: #434B5C;\n",
              "      box-shadow: 0px 1px 3px 1px rgba(0, 0, 0, 0.15);\n",
              "      filter: drop-shadow(0px 1px 2px rgba(0, 0, 0, 0.3));\n",
              "      fill: #FFFFFF;\n",
              "    }\n",
              "  </style>\n",
              "\n",
              "      <script>\n",
              "        const buttonEl =\n",
              "          document.querySelector('#df-b0ff9180-de4b-440a-9618-b3e1feb78987 button.colab-df-convert');\n",
              "        buttonEl.style.display =\n",
              "          google.colab.kernel.accessAllowed ? 'block' : 'none';\n",
              "\n",
              "        async function convertToInteractive(key) {\n",
              "          const element = document.querySelector('#df-b0ff9180-de4b-440a-9618-b3e1feb78987');\n",
              "          const dataTable =\n",
              "            await google.colab.kernel.invokeFunction('convertToInteractive',\n",
              "                                                     [key], {});\n",
              "          if (!dataTable) return;\n",
              "\n",
              "          const docLinkHtml = 'Like what you see? Visit the ' +\n",
              "            '<a target=\"_blank\" href=https://colab.research.google.com/notebooks/data_table.ipynb>data table notebook</a>'\n",
              "            + ' to learn more about interactive tables.';\n",
              "          element.innerHTML = '';\n",
              "          dataTable['output_type'] = 'display_data';\n",
              "          await google.colab.output.renderOutput(dataTable, element);\n",
              "          const docLink = document.createElement('div');\n",
              "          docLink.innerHTML = docLinkHtml;\n",
              "          element.appendChild(docLink);\n",
              "        }\n",
              "      </script>\n",
              "    </div>\n",
              "  </div>\n",
              "  "
            ]
          },
          "metadata": {},
          "execution_count": 256
        }
      ]
    },
    {
      "cell_type": "code",
      "source": [
        "# Convert the time column to datetime\n",
        "dataEdited['time'] = pd.to_datetime(dataEdited['time'])\n",
        "dataEdited['original_time'] = dataEdited['time']#pd.Timestamp.to_datetime64()\n",
        "\n",
        "# Calculate the time difference between each time step\n",
        "dataEdited['time'] = dataEdited['time'].dt.date.diff().dt.days\n",
        "\n",
        "dataEdited.loc[dataEdited.shape[0]-1,\"time\"] = 0\n",
        "\n",
        "dataEdited"
      ],
      "metadata": {
        "colab": {
          "base_uri": "https://localhost:8080/",
          "height": 423
        },
        "id": "2foZ0ZVsV7pI",
        "outputId": "e028f150-665f-44ff-8dda-2aad89bc1616"
      },
      "execution_count": 257,
      "outputs": [
        {
          "output_type": "execute_result",
          "data": {
            "text/plain": [
              "        time  latitude  longitude      depth   mag  \\\n",
              "13822    0.0   36.0000  -120.5000  56.177293  6.40   \n",
              "13821  302.0   52.0000  -160.0000  56.177293  7.00   \n",
              "13820    1.0   51.4500  -171.0200  56.177293  7.10   \n",
              "13819    1.0   52.3800  -167.4500  56.177293  7.00   \n",
              "13818  320.0   37.4000  -113.5000  56.177293  6.30   \n",
              "...      ...       ...        ...        ...   ...   \n",
              "4        7.0   17.2565  -100.4369  18.346000  6.00   \n",
              "3        3.0   51.6199   178.6159  73.000000  6.30   \n",
              "2        0.0   51.6382   178.6190  73.000000  6.30   \n",
              "1        6.0   40.5250  -124.4230  17.910000  6.37   \n",
              "0        8.0  -21.2622   171.3631  10.000000  6.00   \n",
              "\n",
              "                         original_time  \n",
              "13822        1901-03-03 07:45:00+00:00  \n",
              "13821        1901-12-30 22:34:00+00:00  \n",
              "13820        1901-12-31 09:02:30+00:00  \n",
              "13819        1902-01-01 05:20:30+00:00  \n",
              "13818        1902-11-17 19:50:00+00:00  \n",
              "...                                ...  \n",
              "4     2022-12-11 14:31:29.703000+00:00  \n",
              "3     2022-12-14 18:40:26.778000+00:00  \n",
              "2     2022-12-14 18:40:26.902000+00:00  \n",
              "1     2022-12-20 10:34:24.770000+00:00  \n",
              "0     2022-12-28 16:34:20.446000+00:00  \n",
              "\n",
              "[13823 rows x 6 columns]"
            ],
            "text/html": [
              "\n",
              "  <div id=\"df-d74d0ce8-b508-4ef7-aa03-f8c6345a1926\">\n",
              "    <div class=\"colab-df-container\">\n",
              "      <div>\n",
              "<style scoped>\n",
              "    .dataframe tbody tr th:only-of-type {\n",
              "        vertical-align: middle;\n",
              "    }\n",
              "\n",
              "    .dataframe tbody tr th {\n",
              "        vertical-align: top;\n",
              "    }\n",
              "\n",
              "    .dataframe thead th {\n",
              "        text-align: right;\n",
              "    }\n",
              "</style>\n",
              "<table border=\"1\" class=\"dataframe\">\n",
              "  <thead>\n",
              "    <tr style=\"text-align: right;\">\n",
              "      <th></th>\n",
              "      <th>time</th>\n",
              "      <th>latitude</th>\n",
              "      <th>longitude</th>\n",
              "      <th>depth</th>\n",
              "      <th>mag</th>\n",
              "      <th>original_time</th>\n",
              "    </tr>\n",
              "  </thead>\n",
              "  <tbody>\n",
              "    <tr>\n",
              "      <th>13822</th>\n",
              "      <td>0.0</td>\n",
              "      <td>36.0000</td>\n",
              "      <td>-120.5000</td>\n",
              "      <td>56.177293</td>\n",
              "      <td>6.40</td>\n",
              "      <td>1901-03-03 07:45:00+00:00</td>\n",
              "    </tr>\n",
              "    <tr>\n",
              "      <th>13821</th>\n",
              "      <td>302.0</td>\n",
              "      <td>52.0000</td>\n",
              "      <td>-160.0000</td>\n",
              "      <td>56.177293</td>\n",
              "      <td>7.00</td>\n",
              "      <td>1901-12-30 22:34:00+00:00</td>\n",
              "    </tr>\n",
              "    <tr>\n",
              "      <th>13820</th>\n",
              "      <td>1.0</td>\n",
              "      <td>51.4500</td>\n",
              "      <td>-171.0200</td>\n",
              "      <td>56.177293</td>\n",
              "      <td>7.10</td>\n",
              "      <td>1901-12-31 09:02:30+00:00</td>\n",
              "    </tr>\n",
              "    <tr>\n",
              "      <th>13819</th>\n",
              "      <td>1.0</td>\n",
              "      <td>52.3800</td>\n",
              "      <td>-167.4500</td>\n",
              "      <td>56.177293</td>\n",
              "      <td>7.00</td>\n",
              "      <td>1902-01-01 05:20:30+00:00</td>\n",
              "    </tr>\n",
              "    <tr>\n",
              "      <th>13818</th>\n",
              "      <td>320.0</td>\n",
              "      <td>37.4000</td>\n",
              "      <td>-113.5000</td>\n",
              "      <td>56.177293</td>\n",
              "      <td>6.30</td>\n",
              "      <td>1902-11-17 19:50:00+00:00</td>\n",
              "    </tr>\n",
              "    <tr>\n",
              "      <th>...</th>\n",
              "      <td>...</td>\n",
              "      <td>...</td>\n",
              "      <td>...</td>\n",
              "      <td>...</td>\n",
              "      <td>...</td>\n",
              "      <td>...</td>\n",
              "    </tr>\n",
              "    <tr>\n",
              "      <th>4</th>\n",
              "      <td>7.0</td>\n",
              "      <td>17.2565</td>\n",
              "      <td>-100.4369</td>\n",
              "      <td>18.346000</td>\n",
              "      <td>6.00</td>\n",
              "      <td>2022-12-11 14:31:29.703000+00:00</td>\n",
              "    </tr>\n",
              "    <tr>\n",
              "      <th>3</th>\n",
              "      <td>3.0</td>\n",
              "      <td>51.6199</td>\n",
              "      <td>178.6159</td>\n",
              "      <td>73.000000</td>\n",
              "      <td>6.30</td>\n",
              "      <td>2022-12-14 18:40:26.778000+00:00</td>\n",
              "    </tr>\n",
              "    <tr>\n",
              "      <th>2</th>\n",
              "      <td>0.0</td>\n",
              "      <td>51.6382</td>\n",
              "      <td>178.6190</td>\n",
              "      <td>73.000000</td>\n",
              "      <td>6.30</td>\n",
              "      <td>2022-12-14 18:40:26.902000+00:00</td>\n",
              "    </tr>\n",
              "    <tr>\n",
              "      <th>1</th>\n",
              "      <td>6.0</td>\n",
              "      <td>40.5250</td>\n",
              "      <td>-124.4230</td>\n",
              "      <td>17.910000</td>\n",
              "      <td>6.37</td>\n",
              "      <td>2022-12-20 10:34:24.770000+00:00</td>\n",
              "    </tr>\n",
              "    <tr>\n",
              "      <th>0</th>\n",
              "      <td>8.0</td>\n",
              "      <td>-21.2622</td>\n",
              "      <td>171.3631</td>\n",
              "      <td>10.000000</td>\n",
              "      <td>6.00</td>\n",
              "      <td>2022-12-28 16:34:20.446000+00:00</td>\n",
              "    </tr>\n",
              "  </tbody>\n",
              "</table>\n",
              "<p>13823 rows × 6 columns</p>\n",
              "</div>\n",
              "      <button class=\"colab-df-convert\" onclick=\"convertToInteractive('df-d74d0ce8-b508-4ef7-aa03-f8c6345a1926')\"\n",
              "              title=\"Convert this dataframe to an interactive table.\"\n",
              "              style=\"display:none;\">\n",
              "        \n",
              "  <svg xmlns=\"http://www.w3.org/2000/svg\" height=\"24px\"viewBox=\"0 0 24 24\"\n",
              "       width=\"24px\">\n",
              "    <path d=\"M0 0h24v24H0V0z\" fill=\"none\"/>\n",
              "    <path d=\"M18.56 5.44l.94 2.06.94-2.06 2.06-.94-2.06-.94-.94-2.06-.94 2.06-2.06.94zm-11 1L8.5 8.5l.94-2.06 2.06-.94-2.06-.94L8.5 2.5l-.94 2.06-2.06.94zm10 10l.94 2.06.94-2.06 2.06-.94-2.06-.94-.94-2.06-.94 2.06-2.06.94z\"/><path d=\"M17.41 7.96l-1.37-1.37c-.4-.4-.92-.59-1.43-.59-.52 0-1.04.2-1.43.59L10.3 9.45l-7.72 7.72c-.78.78-.78 2.05 0 2.83L4 21.41c.39.39.9.59 1.41.59.51 0 1.02-.2 1.41-.59l7.78-7.78 2.81-2.81c.8-.78.8-2.07 0-2.86zM5.41 20L4 18.59l7.72-7.72 1.47 1.35L5.41 20z\"/>\n",
              "  </svg>\n",
              "      </button>\n",
              "      \n",
              "  <style>\n",
              "    .colab-df-container {\n",
              "      display:flex;\n",
              "      flex-wrap:wrap;\n",
              "      gap: 12px;\n",
              "    }\n",
              "\n",
              "    .colab-df-convert {\n",
              "      background-color: #E8F0FE;\n",
              "      border: none;\n",
              "      border-radius: 50%;\n",
              "      cursor: pointer;\n",
              "      display: none;\n",
              "      fill: #1967D2;\n",
              "      height: 32px;\n",
              "      padding: 0 0 0 0;\n",
              "      width: 32px;\n",
              "    }\n",
              "\n",
              "    .colab-df-convert:hover {\n",
              "      background-color: #E2EBFA;\n",
              "      box-shadow: 0px 1px 2px rgba(60, 64, 67, 0.3), 0px 1px 3px 1px rgba(60, 64, 67, 0.15);\n",
              "      fill: #174EA6;\n",
              "    }\n",
              "\n",
              "    [theme=dark] .colab-df-convert {\n",
              "      background-color: #3B4455;\n",
              "      fill: #D2E3FC;\n",
              "    }\n",
              "\n",
              "    [theme=dark] .colab-df-convert:hover {\n",
              "      background-color: #434B5C;\n",
              "      box-shadow: 0px 1px 3px 1px rgba(0, 0, 0, 0.15);\n",
              "      filter: drop-shadow(0px 1px 2px rgba(0, 0, 0, 0.3));\n",
              "      fill: #FFFFFF;\n",
              "    }\n",
              "  </style>\n",
              "\n",
              "      <script>\n",
              "        const buttonEl =\n",
              "          document.querySelector('#df-d74d0ce8-b508-4ef7-aa03-f8c6345a1926 button.colab-df-convert');\n",
              "        buttonEl.style.display =\n",
              "          google.colab.kernel.accessAllowed ? 'block' : 'none';\n",
              "\n",
              "        async function convertToInteractive(key) {\n",
              "          const element = document.querySelector('#df-d74d0ce8-b508-4ef7-aa03-f8c6345a1926');\n",
              "          const dataTable =\n",
              "            await google.colab.kernel.invokeFunction('convertToInteractive',\n",
              "                                                     [key], {});\n",
              "          if (!dataTable) return;\n",
              "\n",
              "          const docLinkHtml = 'Like what you see? Visit the ' +\n",
              "            '<a target=\"_blank\" href=https://colab.research.google.com/notebooks/data_table.ipynb>data table notebook</a>'\n",
              "            + ' to learn more about interactive tables.';\n",
              "          element.innerHTML = '';\n",
              "          dataTable['output_type'] = 'display_data';\n",
              "          await google.colab.output.renderOutput(dataTable, element);\n",
              "          const docLink = document.createElement('div');\n",
              "          docLink.innerHTML = docLinkHtml;\n",
              "          element.appendChild(docLink);\n",
              "        }\n",
              "      </script>\n",
              "    </div>\n",
              "  </div>\n",
              "  "
            ]
          },
          "metadata": {},
          "execution_count": 257
        }
      ]
    },
    {
      "cell_type": "code",
      "source": [
        "class DivideColumns(BaseEstimator, TransformerMixin):\n",
        "    def __init__(self, factor=1, columns=None):\n",
        "        self.factor = factor\n",
        "        self.columns = columns\n",
        "    \n",
        "    def fit(self, X, y=None):\n",
        "        return self\n",
        "\n",
        "    def transform(self, X, y=None):\n",
        "        cols_to_transform = list(X.columns)\n",
        "\n",
        "        if self.columns:\n",
        "            cols_to_transform = self.columns\n",
        "\n",
        "        X[cols_to_transform] = X[cols_to_transform] / self.factor\n",
        "        return X\n",
        "\n",
        "    def inverse_transform(self, X, y=None):\n",
        "        cols_to_transform = list(X.columns)\n",
        "\n",
        "        if self.columns:\n",
        "            cols_to_transform = self.columns\n",
        "\n",
        "        X[cols_to_transform] = X[cols_to_transform] * self.factor\n",
        "        return X"
      ],
      "metadata": {
        "id": "Jwn49O80RYk3"
      },
      "execution_count": 258,
      "outputs": []
    },
    {
      "cell_type": "code",
      "source": [
        "class FixedMinMaxScaler(BaseEstimator, TransformerMixin):\n",
        "    def __init__(self, min=0, columns=None):\n",
        "        self.min = min\n",
        "        self.columns = columns\n",
        "        self.length = 1\n",
        "    \n",
        "    def fit(self, X, y=None):\n",
        "        cols_to_transform = list(X.columns)\n",
        "\n",
        "        if self.columns:\n",
        "            cols_to_transform = self.columns\n",
        "        if X[cols_to_transform].max()[0]-self.min <= 0:\n",
        "            self.length = 0.0000001\n",
        "        else:\n",
        "            self.length = X[cols_to_transform].max()[0]-self.min\n",
        "        return self\n",
        "\n",
        "    def transform(self, X, y=None):\n",
        "        cols_to_transform = list(X.columns)\n",
        "\n",
        "        if self.columns:\n",
        "            cols_to_transform = self.columns\n",
        "        X[cols_to_transform] = (X[cols_to_transform] - self.min)/self.length\n",
        "        return X\n",
        "\n",
        "    def inverse_transform(self, X, y=None):\n",
        "        cols_to_transform = list(X.columns)\n",
        "\n",
        "        if self.columns:\n",
        "            cols_to_transform = self.columns\n",
        "\n",
        "        X[cols_to_transform] = X[cols_to_transform]*self.length + self.min\n",
        "        return X"
      ],
      "metadata": {
        "id": "suQbiYmCTZkP"
      },
      "execution_count": 259,
      "outputs": []
    },
    {
      "cell_type": "code",
      "source": [
        "pipe = ColumnTransformer(transformers=[\n",
        "    (\"time\", FixedMinMaxScaler(),[\"time\"]),\n",
        "    (\"latitude\", DivideColumns(90),[\"latitude\"]),\n",
        "    (\"longitude\", DivideColumns(180),[\"longitude\"]),\n",
        "    (\"depth\", FixedMinMaxScaler(),[\"depth\"]),\n",
        "    (\"mag\", FixedMinMaxScaler(6),[\"mag\"]),\n",
        "    ('original_time', 'passthrough',[\"original_time\"])\n",
        "])\n",
        "data_scaled = pipe.fit_transform(dataEdited)\n",
        "data_scaled = pd.DataFrame(data_scaled, index=dataEdited.index, columns=dataEdited.columns)\n",
        "data_scaled"
      ],
      "metadata": {
        "colab": {
          "base_uri": "https://localhost:8080/",
          "height": 423
        },
        "id": "iQfb_kBEKstT",
        "outputId": "12b3e33d-c091-49c5-d656-0ffef419f660"
      },
      "execution_count": 260,
      "outputs": [
        {
          "output_type": "execute_result",
          "data": {
            "text/plain": [
              "           time  latitude longitude     depth       mag  \\\n",
              "13822       0.0       0.4 -0.669444  0.081653  0.114286   \n",
              "13821   0.94375  0.577778 -0.888889  0.081653  0.285714   \n",
              "13820  0.003125  0.571667 -0.950111  0.081653  0.314286   \n",
              "13819  0.003125     0.582 -0.930278  0.081653  0.285714   \n",
              "13818       1.0  0.415556 -0.630556  0.081653  0.085714   \n",
              "...         ...       ...       ...       ...       ...   \n",
              "4      0.021875  0.191739 -0.557983  0.026666       0.0   \n",
              "3      0.009375  0.573554  0.992311  0.106105  0.085714   \n",
              "2           0.0  0.573758  0.992328  0.106105  0.085714   \n",
              "1       0.01875  0.450278 -0.691239  0.026032  0.105714   \n",
              "0         0.025 -0.236247  0.952017  0.014535       0.0   \n",
              "\n",
              "                         original_time  \n",
              "13822        1901-03-03 07:45:00+00:00  \n",
              "13821        1901-12-30 22:34:00+00:00  \n",
              "13820        1901-12-31 09:02:30+00:00  \n",
              "13819        1902-01-01 05:20:30+00:00  \n",
              "13818        1902-11-17 19:50:00+00:00  \n",
              "...                                ...  \n",
              "4     2022-12-11 14:31:29.703000+00:00  \n",
              "3     2022-12-14 18:40:26.778000+00:00  \n",
              "2     2022-12-14 18:40:26.902000+00:00  \n",
              "1     2022-12-20 10:34:24.770000+00:00  \n",
              "0     2022-12-28 16:34:20.446000+00:00  \n",
              "\n",
              "[13823 rows x 6 columns]"
            ],
            "text/html": [
              "\n",
              "  <div id=\"df-da832c65-83c4-4697-a17e-d3e5fd2372e6\">\n",
              "    <div class=\"colab-df-container\">\n",
              "      <div>\n",
              "<style scoped>\n",
              "    .dataframe tbody tr th:only-of-type {\n",
              "        vertical-align: middle;\n",
              "    }\n",
              "\n",
              "    .dataframe tbody tr th {\n",
              "        vertical-align: top;\n",
              "    }\n",
              "\n",
              "    .dataframe thead th {\n",
              "        text-align: right;\n",
              "    }\n",
              "</style>\n",
              "<table border=\"1\" class=\"dataframe\">\n",
              "  <thead>\n",
              "    <tr style=\"text-align: right;\">\n",
              "      <th></th>\n",
              "      <th>time</th>\n",
              "      <th>latitude</th>\n",
              "      <th>longitude</th>\n",
              "      <th>depth</th>\n",
              "      <th>mag</th>\n",
              "      <th>original_time</th>\n",
              "    </tr>\n",
              "  </thead>\n",
              "  <tbody>\n",
              "    <tr>\n",
              "      <th>13822</th>\n",
              "      <td>0.0</td>\n",
              "      <td>0.4</td>\n",
              "      <td>-0.669444</td>\n",
              "      <td>0.081653</td>\n",
              "      <td>0.114286</td>\n",
              "      <td>1901-03-03 07:45:00+00:00</td>\n",
              "    </tr>\n",
              "    <tr>\n",
              "      <th>13821</th>\n",
              "      <td>0.94375</td>\n",
              "      <td>0.577778</td>\n",
              "      <td>-0.888889</td>\n",
              "      <td>0.081653</td>\n",
              "      <td>0.285714</td>\n",
              "      <td>1901-12-30 22:34:00+00:00</td>\n",
              "    </tr>\n",
              "    <tr>\n",
              "      <th>13820</th>\n",
              "      <td>0.003125</td>\n",
              "      <td>0.571667</td>\n",
              "      <td>-0.950111</td>\n",
              "      <td>0.081653</td>\n",
              "      <td>0.314286</td>\n",
              "      <td>1901-12-31 09:02:30+00:00</td>\n",
              "    </tr>\n",
              "    <tr>\n",
              "      <th>13819</th>\n",
              "      <td>0.003125</td>\n",
              "      <td>0.582</td>\n",
              "      <td>-0.930278</td>\n",
              "      <td>0.081653</td>\n",
              "      <td>0.285714</td>\n",
              "      <td>1902-01-01 05:20:30+00:00</td>\n",
              "    </tr>\n",
              "    <tr>\n",
              "      <th>13818</th>\n",
              "      <td>1.0</td>\n",
              "      <td>0.415556</td>\n",
              "      <td>-0.630556</td>\n",
              "      <td>0.081653</td>\n",
              "      <td>0.085714</td>\n",
              "      <td>1902-11-17 19:50:00+00:00</td>\n",
              "    </tr>\n",
              "    <tr>\n",
              "      <th>...</th>\n",
              "      <td>...</td>\n",
              "      <td>...</td>\n",
              "      <td>...</td>\n",
              "      <td>...</td>\n",
              "      <td>...</td>\n",
              "      <td>...</td>\n",
              "    </tr>\n",
              "    <tr>\n",
              "      <th>4</th>\n",
              "      <td>0.021875</td>\n",
              "      <td>0.191739</td>\n",
              "      <td>-0.557983</td>\n",
              "      <td>0.026666</td>\n",
              "      <td>0.0</td>\n",
              "      <td>2022-12-11 14:31:29.703000+00:00</td>\n",
              "    </tr>\n",
              "    <tr>\n",
              "      <th>3</th>\n",
              "      <td>0.009375</td>\n",
              "      <td>0.573554</td>\n",
              "      <td>0.992311</td>\n",
              "      <td>0.106105</td>\n",
              "      <td>0.085714</td>\n",
              "      <td>2022-12-14 18:40:26.778000+00:00</td>\n",
              "    </tr>\n",
              "    <tr>\n",
              "      <th>2</th>\n",
              "      <td>0.0</td>\n",
              "      <td>0.573758</td>\n",
              "      <td>0.992328</td>\n",
              "      <td>0.106105</td>\n",
              "      <td>0.085714</td>\n",
              "      <td>2022-12-14 18:40:26.902000+00:00</td>\n",
              "    </tr>\n",
              "    <tr>\n",
              "      <th>1</th>\n",
              "      <td>0.01875</td>\n",
              "      <td>0.450278</td>\n",
              "      <td>-0.691239</td>\n",
              "      <td>0.026032</td>\n",
              "      <td>0.105714</td>\n",
              "      <td>2022-12-20 10:34:24.770000+00:00</td>\n",
              "    </tr>\n",
              "    <tr>\n",
              "      <th>0</th>\n",
              "      <td>0.025</td>\n",
              "      <td>-0.236247</td>\n",
              "      <td>0.952017</td>\n",
              "      <td>0.014535</td>\n",
              "      <td>0.0</td>\n",
              "      <td>2022-12-28 16:34:20.446000+00:00</td>\n",
              "    </tr>\n",
              "  </tbody>\n",
              "</table>\n",
              "<p>13823 rows × 6 columns</p>\n",
              "</div>\n",
              "      <button class=\"colab-df-convert\" onclick=\"convertToInteractive('df-da832c65-83c4-4697-a17e-d3e5fd2372e6')\"\n",
              "              title=\"Convert this dataframe to an interactive table.\"\n",
              "              style=\"display:none;\">\n",
              "        \n",
              "  <svg xmlns=\"http://www.w3.org/2000/svg\" height=\"24px\"viewBox=\"0 0 24 24\"\n",
              "       width=\"24px\">\n",
              "    <path d=\"M0 0h24v24H0V0z\" fill=\"none\"/>\n",
              "    <path d=\"M18.56 5.44l.94 2.06.94-2.06 2.06-.94-2.06-.94-.94-2.06-.94 2.06-2.06.94zm-11 1L8.5 8.5l.94-2.06 2.06-.94-2.06-.94L8.5 2.5l-.94 2.06-2.06.94zm10 10l.94 2.06.94-2.06 2.06-.94-2.06-.94-.94-2.06-.94 2.06-2.06.94z\"/><path d=\"M17.41 7.96l-1.37-1.37c-.4-.4-.92-.59-1.43-.59-.52 0-1.04.2-1.43.59L10.3 9.45l-7.72 7.72c-.78.78-.78 2.05 0 2.83L4 21.41c.39.39.9.59 1.41.59.51 0 1.02-.2 1.41-.59l7.78-7.78 2.81-2.81c.8-.78.8-2.07 0-2.86zM5.41 20L4 18.59l7.72-7.72 1.47 1.35L5.41 20z\"/>\n",
              "  </svg>\n",
              "      </button>\n",
              "      \n",
              "  <style>\n",
              "    .colab-df-container {\n",
              "      display:flex;\n",
              "      flex-wrap:wrap;\n",
              "      gap: 12px;\n",
              "    }\n",
              "\n",
              "    .colab-df-convert {\n",
              "      background-color: #E8F0FE;\n",
              "      border: none;\n",
              "      border-radius: 50%;\n",
              "      cursor: pointer;\n",
              "      display: none;\n",
              "      fill: #1967D2;\n",
              "      height: 32px;\n",
              "      padding: 0 0 0 0;\n",
              "      width: 32px;\n",
              "    }\n",
              "\n",
              "    .colab-df-convert:hover {\n",
              "      background-color: #E2EBFA;\n",
              "      box-shadow: 0px 1px 2px rgba(60, 64, 67, 0.3), 0px 1px 3px 1px rgba(60, 64, 67, 0.15);\n",
              "      fill: #174EA6;\n",
              "    }\n",
              "\n",
              "    [theme=dark] .colab-df-convert {\n",
              "      background-color: #3B4455;\n",
              "      fill: #D2E3FC;\n",
              "    }\n",
              "\n",
              "    [theme=dark] .colab-df-convert:hover {\n",
              "      background-color: #434B5C;\n",
              "      box-shadow: 0px 1px 3px 1px rgba(0, 0, 0, 0.15);\n",
              "      filter: drop-shadow(0px 1px 2px rgba(0, 0, 0, 0.3));\n",
              "      fill: #FFFFFF;\n",
              "    }\n",
              "  </style>\n",
              "\n",
              "      <script>\n",
              "        const buttonEl =\n",
              "          document.querySelector('#df-da832c65-83c4-4697-a17e-d3e5fd2372e6 button.colab-df-convert');\n",
              "        buttonEl.style.display =\n",
              "          google.colab.kernel.accessAllowed ? 'block' : 'none';\n",
              "\n",
              "        async function convertToInteractive(key) {\n",
              "          const element = document.querySelector('#df-da832c65-83c4-4697-a17e-d3e5fd2372e6');\n",
              "          const dataTable =\n",
              "            await google.colab.kernel.invokeFunction('convertToInteractive',\n",
              "                                                     [key], {});\n",
              "          if (!dataTable) return;\n",
              "\n",
              "          const docLinkHtml = 'Like what you see? Visit the ' +\n",
              "            '<a target=\"_blank\" href=https://colab.research.google.com/notebooks/data_table.ipynb>data table notebook</a>'\n",
              "            + ' to learn more about interactive tables.';\n",
              "          element.innerHTML = '';\n",
              "          dataTable['output_type'] = 'display_data';\n",
              "          await google.colab.output.renderOutput(dataTable, element);\n",
              "          const docLink = document.createElement('div');\n",
              "          docLink.innerHTML = docLinkHtml;\n",
              "          element.appendChild(docLink);\n",
              "        }\n",
              "      </script>\n",
              "    </div>\n",
              "  </div>\n",
              "  "
            ]
          },
          "metadata": {},
          "execution_count": 260
        }
      ]
    },
    {
      "cell_type": "code",
      "source": [
        "def seq2dataset(seq, window_size):\n",
        "    dataset = []\n",
        "    # print(seq.dtypes)\n",
        "    for i in range(len(seq)-window_size):\n",
        "        subset = seq[i:(i+window_size+1)]\n",
        "        dataset.append(subset)\n",
        "    # print(dataset.dtype)\n",
        "    return np.array(dataset)"
      ],
      "metadata": {
        "id": "X1JywYSkNcbW"
      },
      "execution_count": 261,
      "outputs": []
    },
    {
      "cell_type": "code",
      "source": [
        "dataset = seq2dataset(data_scaled.iloc[startIndex:learningIndex,:5], timesteps)\n",
        "X_train = dataset[:,0:timesteps]\n",
        "y_train = dataset[:,timesteps]"
      ],
      "metadata": {
        "id": "jx3RabLNLDD4"
      },
      "execution_count": 262,
      "outputs": []
    },
    {
      "cell_type": "code",
      "source": [
        "#X_train[0:3]"
      ],
      "metadata": {
        "id": "B5WJibj5sF4l"
      },
      "execution_count": 263,
      "outputs": []
    },
    {
      "cell_type": "code",
      "source": [
        "#y_train[0:3]"
      ],
      "metadata": {
        "id": "VwbRDcuvsHUt"
      },
      "execution_count": 264,
      "outputs": []
    },
    {
      "cell_type": "code",
      "source": [
        "print(\"input data shape : \", X_train.shape, \", result shape: \", y_train.shape)"
      ],
      "metadata": {
        "colab": {
          "base_uri": "https://localhost:8080/"
        },
        "id": "D202IJRFrxOI",
        "outputId": "ca6286f9-c732-4a0b-a230-4f23210a61e2"
      },
      "execution_count": 265,
      "outputs": [
        {
          "output_type": "stream",
          "name": "stdout",
          "text": [
            "input data shape :  (3997, 3, 5) , result shape:  (3997, 5)\n"
          ]
        }
      ]
    },
    {
      "cell_type": "code",
      "source": [
        "dataset_test = seq2dataset(data_scaled[learningIndex:], timesteps)\n",
        "X_test = dataset_test[:,0:timesteps]\n",
        "y_test = dataset_test[:,timesteps]\n",
        "y_test = tf.convert_to_tensor(y_test[:,:5], tf.float32)\n",
        "# y_test = y_test.numpy()"
      ],
      "metadata": {
        "id": "6Aa_kEgtUJp8"
      },
      "execution_count": 266,
      "outputs": []
    },
    {
      "cell_type": "code",
      "source": [
        "X_test[0:3]"
      ],
      "metadata": {
        "colab": {
          "base_uri": "https://localhost:8080/"
        },
        "id": "TAhip_S0sZGj",
        "outputId": "e98ec886-d1f3-4441-8c4c-795f12363b65"
      },
      "execution_count": 267,
      "outputs": [
        {
          "output_type": "execute_result",
          "data": {
            "text/plain": [
              "array([[[0.059375, -0.03671111111111111, 0.818111111111111,\n",
              "         0.036337209302325583, 0.034285714285714315,\n",
              "         Timestamp('1958-05-17 07:02:32.250000+0000', tz='UTC')],\n",
              "        [0.003125, -0.14609999999999998, 0.9265555555555556,\n",
              "         0.06540697674418605, 0.07428571428571422,\n",
              "         Timestamp('1958-05-18 02:33:00.190000+0000', tz='UTC')],\n",
              "        [0.0, -0.14735555555555557, 0.9267055555555554,\n",
              "         0.06540697674418605, 0.06571428571428584,\n",
              "         Timestamp('1958-05-18 12:21:24.410000+0000', tz='UTC')]],\n",
              "\n",
              "       [[0.003125, -0.14609999999999998, 0.9265555555555556,\n",
              "         0.06540697674418605, 0.07428571428571422,\n",
              "         Timestamp('1958-05-18 02:33:00.190000+0000', tz='UTC')],\n",
              "        [0.0, -0.14735555555555557, 0.9267055555555554,\n",
              "         0.06540697674418605, 0.06571428571428584,\n",
              "         Timestamp('1958-05-18 12:21:24.410000+0000', tz='UTC')],\n",
              "        [0.0125, -0.037288888888888885, 0.8137777777777777,\n",
              "         0.036337209302325583, 0.06857142857142863,\n",
              "         Timestamp('1958-05-22 15:08:07.990000+0000', tz='UTC')]],\n",
              "\n",
              "       [[0.0, -0.14735555555555557, 0.9267055555555554,\n",
              "         0.06540697674418605, 0.06571428571428584,\n",
              "         Timestamp('1958-05-18 12:21:24.410000+0000', tz='UTC')],\n",
              "        [0.0125, -0.037288888888888885, 0.8137777777777777,\n",
              "         0.036337209302325583, 0.06857142857142863,\n",
              "         Timestamp('1958-05-22 15:08:07.990000+0000', tz='UTC')],\n",
              "        [0.009375, -0.035944444444444446, -0.43265, 0.06656976744186047,\n",
              "         0.054285714285714395,\n",
              "         Timestamp('1958-05-25 21:11:45.800000+0000', tz='UTC')]]],\n",
              "      dtype=object)"
            ]
          },
          "metadata": {},
          "execution_count": 267
        }
      ]
    },
    {
      "cell_type": "code",
      "source": [
        "y_test[0:3]"
      ],
      "metadata": {
        "colab": {
          "base_uri": "https://localhost:8080/"
        },
        "id": "u6g_qJqksdVt",
        "outputId": "52d18553-2ce5-4783-a6ad-782a87bc4975"
      },
      "execution_count": 268,
      "outputs": [
        {
          "output_type": "execute_result",
          "data": {
            "text/plain": [
              "<tf.Tensor: shape=(3, 5), dtype=float32, numpy=\n",
              "array([[ 0.0125    , -0.03728889,  0.8137778 ,  0.03633721,  0.06857143],\n",
              "       [ 0.009375  , -0.03594444, -0.43265   ,  0.06656977,  0.05428571],\n",
              "       [ 0.015625  ,  0.5819111 , -0.93730557,  0.05087209,  0.03142857]],\n",
              "      dtype=float32)>"
            ]
          },
          "metadata": {},
          "execution_count": 268
        }
      ]
    },
    {
      "cell_type": "code",
      "source": [
        "print(\"input data shape : \", X_test.shape, \", result shape: \", y_test.shape)"
      ],
      "metadata": {
        "colab": {
          "base_uri": "https://localhost:8080/"
        },
        "id": "smRXOF35smqo",
        "outputId": "4a8b8e35-64b4-4754-8830-b4ec0c508bae"
      },
      "execution_count": 269,
      "outputs": [
        {
          "output_type": "stream",
          "name": "stdout",
          "text": [
            "input data shape :  (8820, 3, 6) , result shape:  (8820, 5)\n"
          ]
        }
      ]
    },
    {
      "cell_type": "markdown",
      "source": [
        "# lstm 모델"
      ],
      "metadata": {
        "id": "bvoVhZGxIHvJ"
      }
    },
    {
      "cell_type": "code",
      "source": [
        "# Assume that your input data has shape (batch_size, timesteps, input_dim)\n",
        "input_dim = 5\n",
        "output_dim = 5\n",
        "LSTM_layer = []\n",
        "with tf.device('/device:GPU:0'):\n",
        "  inputs = keras.Input(shape=(timesteps, input_dim),batch_size=batch_size) #batch_size\n",
        "  # inputsDense = Dense(5)(inputs)\n",
        "  # model = Sequential()\n",
        "  LSTM_layer.append(LSTM(64,stateful=True)(inputs)) #kernel_initializer=tf.keras.initializers.RandomNormal(mean=0.0, stddev=0.00001, seed=7)  , input_shape=(batch_size,timesteps, input_dim)\n",
        "  # LSTM_layer.append(LSTM(64, return_sequences=True, stateful=True)(LSTM_layer[-1])) #kernel_initializer=tf.keras.initializers.RandomNormal(mean=0.0, stddev=0.00001, seed=7)  , input_shape=(batch_size,timesteps, input_dim)\n",
        "  # model.add(Attention())\n",
        "  # model.add(LSTM(64,stateful=True))\n",
        "  # model.add(Dense(output_dim))\n",
        "  time = Dense(1,activation='sigmoid', name=\"time\")(LSTM_layer[-1])\n",
        "  position = Dense(2, name=\"position\")(LSTM_layer[-1])\n",
        "  depth = Dense(1,activation='sigmoid', name=\"depth\")(LSTM_layer[-1])\n",
        "  mag = Dense(1, name=\"mag\")(LSTM_layer[-1])\n",
        "  outputs = concatenate([time, position,depth,mag])\n",
        "\n",
        "  model = keras.Model(\n",
        "    inputs=[inputs],\n",
        "    outputs=[outputs],\n",
        ")\n",
        "\n",
        "model.summary()"
      ],
      "metadata": {
        "id": "2lVNJZyAIO3K",
        "colab": {
          "base_uri": "https://localhost:8080/"
        },
        "outputId": "fc1071c1-ac8d-4c27-bd87-204099952901"
      },
      "execution_count": 270,
      "outputs": [
        {
          "output_type": "stream",
          "name": "stdout",
          "text": [
            "Model: \"model_4\"\n",
            "__________________________________________________________________________________________________\n",
            " Layer (type)                   Output Shape         Param #     Connected to                     \n",
            "==================================================================================================\n",
            " input_5 (InputLayer)           [(1, 3, 5)]          0           []                               \n",
            "                                                                                                  \n",
            " lstm_4 (LSTM)                  (1, 64)              17920       ['input_5[0][0]']                \n",
            "                                                                                                  \n",
            " time (Dense)                   (1, 1)               65          ['lstm_4[0][0]']                 \n",
            "                                                                                                  \n",
            " position (Dense)               (1, 2)               130         ['lstm_4[0][0]']                 \n",
            "                                                                                                  \n",
            " depth (Dense)                  (1, 1)               65          ['lstm_4[0][0]']                 \n",
            "                                                                                                  \n",
            " mag (Dense)                    (1, 1)               65          ['lstm_4[0][0]']                 \n",
            "                                                                                                  \n",
            " concatenate_4 (Concatenate)    (1, 5)               0           ['time[0][0]',                   \n",
            "                                                                  'position[0][0]',               \n",
            "                                                                  'depth[0][0]',                  \n",
            "                                                                  'mag[0][0]']                    \n",
            "                                                                                                  \n",
            "==================================================================================================\n",
            "Total params: 18,245\n",
            "Trainable params: 18,245\n",
            "Non-trainable params: 0\n",
            "__________________________________________________________________________________________________\n"
          ]
        }
      ]
    },
    {
      "cell_type": "code",
      "source": [
        "plot_model(model, to_file='model_shapes.png', show_shapes=True)"
      ],
      "metadata": {
        "colab": {
          "base_uri": "https://localhost:8080/",
          "height": 54
        },
        "id": "75p3vITiMRZc",
        "outputId": "a43836dc-b4a6-4f6b-8c0e-74c61f1412d0"
      },
      "execution_count": 271,
      "outputs": [
        {
          "output_type": "execute_result",
          "data": {
            "image/png": "[encoded data removed]",
            "text/plain": [
              "<IPython.core.display.Image object>"
            ]
          },
          "metadata": {},
          "execution_count": 271
        }
      ]
    },
    {
      "cell_type": "code",
      "source": [
        "def degrees_to_radians(deg):\n",
        "    return np.pi*deg/180\n",
        "\n",
        "def sphericalToOrthogonal(lat,lon):\n",
        "  x = tf.math.cos(lat)*tf.math.cos(lon)\n",
        "  y = tf.math.cos(lat)*tf.math.sin(lon)\n",
        "  z = tf.math.sin(lat)\n",
        "  return tf.concat([x,y,z],0)"
      ],
      "metadata": {
        "id": "-lFVMp1jFxwN"
      },
      "execution_count": 272,
      "outputs": []
    },
    {
      "cell_type": "code",
      "source": [
        "def haversine_distance_loss(lat1,lon1,lat2,lon2):\n",
        "    \n",
        "    # 위도와 경도의 단위를 라디안으로 변환\n",
        "    lat1 = degrees_to_radians(lat1*90)\n",
        "    lon1 = degrees_to_radians(lon1*180)\n",
        "    lat2 = degrees_to_radians(lat2*90)\n",
        "    lon2 = degrees_to_radians(lon2*180)\n",
        "    \n",
        "    p_1 = sphericalToOrthogonal(lat1,lon1)\n",
        "    p_2 = sphericalToOrthogonal(lat2,lon2)\n",
        "    \n",
        "    # 유클리드 거리 공식 사용\n",
        "    ThreeDimensionalDistance = tf.norm(p_1-p_2)\n",
        "    \n",
        "    # 거리의 제곱을 반환\n",
        "    return (2*tf.math.asin(ThreeDimensionalDistance/2))**2/(np.pi**2)\n"
      ],
      "metadata": {
        "id": "rO6aW5qw9uiq"
      },
      "execution_count": 273,
      "outputs": []
    },
    {
      "cell_type": "code",
      "source": [
        "# haversine_distance_loss(0,1,0.1,0.2)"
      ],
      "metadata": {
        "id": "1UT-H5LiNgWg"
      },
      "execution_count": 274,
      "outputs": []
    },
    {
      "cell_type": "code",
      "source": [
        "def custom_loss_function(y_true, y_pred):\n",
        "    # 위도와 경도는 지구 위의 2개의 점 사이의 거리를 측정하는 커스텀 손실 함수\n",
        "    distance_loss = haversine_distance_loss(y_true[:, 1], y_true[:, 2], y_pred[:, 1], y_pred[:, 2])\n",
        "    # 나머지 파라미터는 평균 제곱 오차를 측정하는 함수\n",
        "    true_time, true_depth, true_mag = y_true[:, 0], y_true[:, 3], y_true[:, 4]\n",
        "    pred_time, pred_depth, pred_mag = y_pred[:, 0], y_pred[:, 3], y_pred[:, 4]\n",
        "    \n",
        "    # Calculate the mean squared error loss for the time, depth, and mag dimensions\n",
        "    mse_loss = (true_time - pred_time)**2 + (true_depth - pred_depth)**2 + (true_mag - pred_mag)**2\n",
        "\n",
        "    # mse_loss = losses.mean_squared_error(tf.gather(y_true, [0, 3, 4], axis=1), tf.gather(y_pred, [0, 3, 4], axis=1))\n",
        "    # 커스텀 손실 함수 결과 반환\n",
        "    return distance_loss + mse_loss\n"
      ],
      "metadata": {
        "id": "bkzYvKpM8eM0"
      },
      "execution_count": 275,
      "outputs": []
    },
    {
      "cell_type": "code",
      "source": [
        "# 손실 이력 클래스 정의\n",
        "class LossHistory(keras.callbacks.Callback):\n",
        "    def init(self):\n",
        "        self.losses = []\n",
        "        self.accuracys = []\n",
        "        self.term = TerminateOnNaN()\n",
        "        \n",
        "    def on_epoch_end(self, batch, logs={}):\n",
        "        self.losses.append(logs.get('loss'))\n",
        "        self.accuracys.append(logs.get('acc'))\n",
        "        self.term.on_epoch_end(batch, logs)"
      ],
      "metadata": {
        "id": "pX06dxqeRwFa"
      },
      "execution_count": 276,
      "outputs": []
    },
    {
      "cell_type": "code",
      "source": [
        "history = LossHistory() # 손실 이력 객체 생성\n",
        "\n",
        "history.init()"
      ],
      "metadata": {
        "id": "dBdTEXnfSHST"
      },
      "execution_count": 277,
      "outputs": []
    },
    {
      "cell_type": "code",
      "source": [
        "import datetime\n",
        "log_dir = \"logs/my_board/\" + datetime.datetime.now().strftime(\"%Y%m%d-%H%M%S\")\n",
        "tensorboard_callback = tf.keras.callbacks.TensorBoard(log_dir=log_dir, histogram_freq=1)"
      ],
      "metadata": {
        "id": "UDfREsz-hS0u"
      },
      "execution_count": 278,
      "outputs": []
    },
    {
      "cell_type": "code",
      "source": [
        "with tf.device('/device:GPU:0'):\n",
        "  model.compile(loss=custom_loss_function, optimizer=\"adam\")#tf.keras.optimizers.Adam(learning_rate=0.0001)"
      ],
      "metadata": {
        "id": "-Eq9JxH58UTq"
      },
      "execution_count": 279,
      "outputs": []
    },
    {
      "cell_type": "markdown",
      "source": [
        "# 모델 훈련"
      ],
      "metadata": {
        "id": "on1-KHgTJ2qo"
      }
    },
    {
      "cell_type": "code",
      "source": [
        "#term = TerminateOnNaN()"
      ],
      "metadata": {
        "id": "fGI89maepHPO"
      },
      "execution_count": 280,
      "outputs": []
    },
    {
      "cell_type": "code",
      "source": [
        "with tf.device('/device:GPU:0'):\n",
        "  \n",
        "  X_train_tensor = tf.convert_to_tensor(X_train, dtype=tf.float32)\n",
        "  y_train_tensor = tf.convert_to_tensor(y_train, dtype=tf.float32)\n",
        "\n",
        "  for epoch_idx in range(num_epochs):\n",
        "      print ('epochs : ' + str(epoch_idx) )\n",
        "      model.fit(X_train_tensor, y_train_tensor, epochs=1, batch_size=batch_size, verbose=2, shuffle=False, callbacks=[history]) #term\n",
        "      model.reset_states()\n",
        "    "
      ],
      "metadata": {
        "colab": {
          "base_uri": "https://localhost:8080/"
        },
        "id": "wC-vb3pOJ6AO",
        "outputId": "657a03c8-e43d-48b3-88ea-2fea5c41c402"
      },
      "execution_count": null,
      "outputs": [
        {
          "output_type": "stream",
          "name": "stdout",
          "text": [
            "epochs : 0\n",
            "3997/3997 - 15s - loss: 0.1860 - 15s/epoch - 4ms/step\n",
            "epochs : 1\n",
            "3997/3997 - 12s - loss: 0.1732 - 12s/epoch - 3ms/step\n",
            "epochs : 2\n",
            "3997/3997 - 12s - loss: 0.1721 - 12s/epoch - 3ms/step\n",
            "epochs : 3\n",
            "3997/3997 - 11s - loss: 0.1714 - 11s/epoch - 3ms/step\n",
            "epochs : 4\n",
            "3997/3997 - 11s - loss: 0.1730 - 11s/epoch - 3ms/step\n",
            "epochs : 5\n",
            "3997/3997 - 11s - loss: 0.1700 - 11s/epoch - 3ms/step\n",
            "epochs : 6\n",
            "3997/3997 - 13s - loss: 0.1693 - 13s/epoch - 3ms/step\n",
            "epochs : 7\n",
            "3997/3997 - 12s - loss: 0.1690 - 12s/epoch - 3ms/step\n",
            "epochs : 8\n"
          ]
        }
      ]
    },
    {
      "cell_type": "markdown",
      "source": [
        "# 훈련 결과"
      ],
      "metadata": {
        "id": "v8zlRWL354yi"
      }
    },
    {
      "cell_type": "code",
      "source": [
        "#%tensorboard --logdir {log_dir}"
      ],
      "metadata": {
        "id": "FdrCKUw5hHri"
      },
      "execution_count": null,
      "outputs": []
    },
    {
      "cell_type": "code",
      "source": [
        "#weights = model.get_weights()\n",
        "#weights"
      ],
      "metadata": {
        "id": "AC6AeuI0LYZx"
      },
      "execution_count": null,
      "outputs": []
    },
    {
      "cell_type": "code",
      "source": [
        "# 6. 학습과정 살펴보기\n",
        "%matplotlib inline\n",
        "\n",
        "plt.plot(history.losses)\n",
        "plt.ylabel('loss')\n",
        "plt.xlabel('epoch')\n",
        "plt.legend(['train'], loc='upper left')\n",
        "plt.show()"
      ],
      "metadata": {
        "id": "L4i0ffOBfcGn"
      },
      "execution_count": null,
      "outputs": []
    },
    {
      "cell_type": "code",
      "source": [
        "# 7. 모델 평가하기\n",
        "X_test_tensor = tf.convert_to_tensor(X_test[:,:,:5], dtype=tf.float32)\n",
        "y_test_tensor = tf.convert_to_tensor(y_test, dtype=tf.float32)\n",
        "scores = model.evaluate(X_test_tensor, y_test_tensor, batch_size=1)\n",
        "print(\"%s: %.2f\" %(model.metrics_names[0], scores))\n",
        "model.reset_states()"
      ],
      "metadata": {
        "id": "JaV8fruAsB1D"
      },
      "execution_count": null,
      "outputs": []
    },
    {
      "cell_type": "markdown",
      "source": [
        "# 모델 예상"
      ],
      "metadata": {
        "id": "KjqLadL4-tZ2"
      }
    },
    {
      "cell_type": "code",
      "source": [
        "X_test_time = X_test[test_start_steps:test_end_steps,:,5]\n",
        "X_test_time[:3]"
      ],
      "metadata": {
        "id": "9WJeSWK8E4ov"
      },
      "execution_count": null,
      "outputs": []
    },
    {
      "cell_type": "code",
      "source": [
        "X_test = np.reshape(X_test[test_start_steps:test_end_steps,:,:5],(test_steps,timesteps,5))\n",
        "X_test[:3]"
      ],
      "metadata": {
        "id": "OcVobVUA_RI9"
      },
      "execution_count": null,
      "outputs": []
    },
    {
      "cell_type": "code",
      "source": [
        "y_test = np.reshape(y_test[test_start_steps:test_end_steps,:],(test_steps,5))\n",
        "y_test = tf.cast(y_test, tf.float32)\n",
        "y_test[:3]"
      ],
      "metadata": {
        "id": "zuB_vq04__AO"
      },
      "execution_count": null,
      "outputs": []
    },
    {
      "cell_type": "code",
      "source": [
        "y_pred = np.array([])\n",
        "for i in range(test_steps):\n",
        "  y_pred = np.append(y_pred,model.predict(tf.convert_to_tensor(X_test[i].reshape(1,timesteps,5), dtype=\"float32\"),verbose=0))\n",
        "y_pred = tf.reshape(tf.convert_to_tensor(y_pred, dtype=tf.float32),[test_steps,5])\n",
        "y_pred[:3]"
      ],
      "metadata": {
        "id": "uvYM7avG-zeu"
      },
      "execution_count": null,
      "outputs": []
    },
    {
      "cell_type": "code",
      "source": [
        "y_error = []\n",
        "for i in range(test_steps):\n",
        "   y_error.append(custom_loss_function(tf.reshape(y_test[i,:],[1,5]),tf.reshape(y_pred[1,:],[1,5])).numpy()[0])\n",
        "y_error[:3]"
      ],
      "metadata": {
        "id": "f_qpInqR_7VF"
      },
      "execution_count": null,
      "outputs": []
    },
    {
      "cell_type": "markdown",
      "source": [
        "# 원래 데이터 포맷으로 돌리기"
      ],
      "metadata": {
        "id": "9sQyNje3h-Gr"
      }
    },
    {
      "cell_type": "code",
      "source": [
        "def reformTensorToEarthQuake(y_pred,inverse_transform=True):\n",
        "    y_pred = pd.DataFrame(y_pred.numpy(),index=range(test_steps),columns = data.columns[:5])\n",
        "    if inverse_transform:\n",
        "        for column in data.columns[0:5]:\n",
        "            y_pred.loc[:,[column]] = pipe.named_transformers_[column].inverse_transform(y_pred.loc[:,[column]])\n",
        "    y_pred[\"time\"] = X_test_time[:,-1].astype(\"datetime64[D]\") + tf.math.round(y_pred[\"time\"]).numpy().astype('timedelta64[D]')\n",
        "    y_pred = y_pred.iloc[::-1]\n",
        "    y_pred['time'] = y_pred['time'].astype(str)\n",
        "    return y_pred"
      ],
      "metadata": {
        "id": "WtP787BjJIUu"
      },
      "execution_count": null,
      "outputs": []
    },
    {
      "cell_type": "code",
      "source": [
        "y_test = reformTensorToEarthQuake(y_test)"
      ],
      "metadata": {
        "id": "ODheWXADq6gW"
      },
      "execution_count": null,
      "outputs": []
    },
    {
      "cell_type": "code",
      "source": [
        "y_pred = reformTensorToEarthQuake(y_pred)"
      ],
      "metadata": {
        "id": "-7LuJICvs7bj"
      },
      "execution_count": null,
      "outputs": []
    },
    {
      "cell_type": "code",
      "source": [
        "y_pred.info()"
      ],
      "metadata": {
        "id": "b3eS9DQbe0TT"
      },
      "execution_count": null,
      "outputs": []
    },
    {
      "cell_type": "code",
      "source": [
        "y_test"
      ],
      "metadata": {
        "id": "Fet5MMKtxq9Z"
      },
      "execution_count": null,
      "outputs": []
    },
    {
      "cell_type": "markdown",
      "source": [
        "# 데이터 시각화"
      ],
      "metadata": {
        "id": "SL1J-B59iqJf"
      }
    },
    {
      "cell_type": "code",
      "source": [
        "def AddCircles(data,colormap,array):\n",
        "  surfaceEnergy = np.multiply(10**(data['mag']*1.5),1/(data['depth']**2+1))\n",
        "  minSurfaceEnergy = surfaceEnergy.min()\n",
        "\n",
        "  for i, row in data.iterrows():\n",
        "      borderRadius = np.power(10**(row['mag']*1.5)/minSurfaceEnergy - row['depth']**2,1/6)\n",
        "      # np.sqrt(10**(row['mag']*1.5)/minSurfaceEnergy - row['depth']**2)\n",
        "      color = colormap(row['mag'])\n",
        "      latitude = row['latitude']\n",
        "      if latitude > 90:\n",
        "          latitude = 180 - latitude\n",
        "      elif latitude < -90:\n",
        "          latitude = - 180 - latitude\n",
        "      feature = {\n",
        "          'type': 'Feature',\n",
        "          'geometry': {\n",
        "              'type': 'Point',\n",
        "              'coordinates': [row['longitude'], latitude]\n",
        "          },\n",
        "          'properties': {\n",
        "              'time': row['time'],\n",
        "              'style': {'color': color, 'radius': borderRadius},\n",
        "              'icon': 'circle'\n",
        "          }\n",
        "      }\n",
        "      array.append(feature)\n",
        "      if row['longitude'] < 0 :\n",
        "        feature = {\n",
        "          'type': 'Feature',\n",
        "          'geometry': {\n",
        "              'type': 'Point',\n",
        "              'coordinates': [row['longitude']+360, latitude]\n",
        "          },\n",
        "          'properties': {\n",
        "              'time': row['time'],\n",
        "              'style': {'color': color, 'radius': borderRadius},\n",
        "              'icon': 'circle'\n",
        "          }\n",
        "      }\n",
        "      array.append(feature)\n",
        "  return array"
      ],
      "metadata": {
        "id": "cBXvM9EJjn2D"
      },
      "execution_count": null,
      "outputs": []
    },
    {
      "cell_type": "code",
      "source": [
        "def earthquakeVisualizer(realData,predData):\n",
        "  \n",
        "\n",
        "  m = folium.Map(location=[0, 90], zoom_start=2)\n",
        "\n",
        "  realColormap = folium.LinearColormap(\n",
        "      ['yellow', 'red','black'],\n",
        "      vmin=realData['mag'].min(), vmax=realData['mag'].max()\n",
        "  )\n",
        "  m.add_child(realColormap)\n",
        "  predColormap = folium.LinearColormap(\n",
        "      ['green', 'blue','purple'],\n",
        "      vmin=predData['mag'].min(), vmax=predData['mag'].max()\n",
        "  )\n",
        "  m.add_child(predColormap)\n",
        "\n",
        "  # 지도 위에 시간 인터렉티브한 바 추가\n",
        "  timestamps = data['time'].unique()\n",
        "  features = []\n",
        "  # minEnergy = 10**(data['mag'].min()*1.5)\n",
        "  # distanceOfDeepestSixMagReachToOneKM = np.sqrt(data['depth'].max()**2+1)\n",
        "  features = AddCircles(realData,realColormap,features)\n",
        "  features = AddCircles(predData,predColormap,features)\n",
        "\n",
        "  time_slider = plugins.TimestampedGeoJson({\n",
        "      'type': 'FeatureCollection',\n",
        "      'features': features\n",
        "  }, period='P1D',duration=\"P1M\", add_last_point=True, auto_play=False, loop=False)#\n",
        "\n",
        "  m.add_child(time_slider)\n",
        "\n",
        "  return m"
      ],
      "metadata": {
        "id": "jjkBC4hcnIxx"
      },
      "execution_count": null,
      "outputs": []
    },
    {
      "cell_type": "code",
      "source": [
        "m = earthquakeVisualizer(y_test,y_pred)\n",
        "m.save('EarthQuakePrediction.html')\n",
        "m"
      ],
      "metadata": {
        "id": "JXMRylovXrnb"
      },
      "execution_count": null,
      "outputs": []
    },
    {
      "cell_type": "code",
      "source": [
        "# earthquakeVisualizer(data)"
      ],
      "metadata": {
        "id": "7knTAxQORMTB"
      },
      "execution_count": null,
      "outputs": []
    }
  ],
  "metadata": {
    "colab": {
      "name": "Colaboratory에 오신 것을 환영합니다",
      "provenance": [],
      "toc_visible": true,
      "include_colab_link": true
    },
    "kernelspec": {
      "display_name": "Python 3",
      "name": "python3"
    },
    "gpuClass": "standard",
    "accelerator": "GPU"
  },
  "nbformat": 4,
  "nbformat_minor": 0
}