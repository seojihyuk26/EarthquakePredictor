{
  "cells": [
    {
      "cell_type": "markdown",
      "metadata": {
        "id": "view-in-github",
        "colab_type": "text"
      },
      "source": [
        "<a href=\"https://colab.research.google.com/github/seojihyuk26/EarthquakePredictor/blob/main/earthquakePredictor.ipynb\" target=\"_parent\"><img src=\"https://colab.research.google.com/assets/colab-badge.svg\" alt=\"Open In Colab\"/></a>"
      ]
    },
    {
      "cell_type": "markdown",
      "source": [
        "# 모듈 로드"
      ],
      "metadata": {
        "id": "zcv0FGZ8iPne"
      }
    },
    {
      "cell_type": "code",
      "source": [
        "import itertools\n",
        "import os\n",
        "\n",
        "import matplotlib.pylab as plt\n",
        "import numpy as np\n",
        "\n",
        "import tensorflow as tf\n",
        "import tensorflow_hub as hub\n",
        "\n",
        "print(\"TF version:\", tf.__version__)\n",
        "print(\"Hub version:\", hub.__version__)\n",
        "print(\"GPU is\", \"available\" if tf.config.list_physical_devices('GPU') else \"NOT AVAILABLE\")"
      ],
      "metadata": {
        "id": "cHFWuAzQe8g2",
        "outputId": "d8820005-fdf6-4502-a124-111f6d8a9a83",
        "colab": {
          "base_uri": "https://localhost:8080/"
        }
      },
      "execution_count": 3,
      "outputs": [
        {
          "output_type": "stream",
          "name": "stdout",
          "text": [
            "TF version: 2.9.2\n",
            "Hub version: 0.12.0\n",
            "GPU is NOT AVAILABLE\n"
          ]
        }
      ]
    },
    {
      "cell_type": "code",
      "source": [
        "# %tensorflow_version 2.x\n",
        "device_name = tf.test.gpu_device_name()\n",
        "if device_name == '/device:GPU:0':\n",
        "  # raise SystemError('GPU device not found')\n",
        "  print('Found GPU at: {}'.format(device_name))"
      ],
      "metadata": {
        "id": "MktbGfHZ_Yi8"
      },
      "execution_count": 4,
      "outputs": []
    },
    {
      "cell_type": "code",
      "source": [
        "import pandas as pd\n",
        "from datetime import timedelta"
      ],
      "metadata": {
        "id": "gO7wLrjBkg5P"
      },
      "execution_count": 5,
      "outputs": []
    },
    {
      "cell_type": "code",
      "source": [
        "import folium\n",
        "print(\"folium version:\", folium.__version__)"
      ],
      "metadata": {
        "colab": {
          "base_uri": "https://localhost:8080/"
        },
        "id": "Vi9yCPiqlMcH",
        "outputId": "b0d2151b-5e00-4a79-9104-5620f72d0536"
      },
      "execution_count": 6,
      "outputs": [
        {
          "output_type": "stream",
          "name": "stdout",
          "text": [
            "folium version: 0.12.1.post1\n"
          ]
        }
      ]
    },
    {
      "cell_type": "code",
      "source": [
        "from folium import plugins"
      ],
      "metadata": {
        "id": "mnXF-0QdpTJG"
      },
      "execution_count": 7,
      "outputs": []
    },
    {
      "cell_type": "code",
      "source": [
        "from tensorflow.keras.layers import LSTM, Dense, Attention, concatenate\n",
        "from tensorflow.keras.models import Sequential\n",
        "from tensorflow.keras import losses,layers\n",
        "from tensorflow.keras.callbacks import EarlyStopping, TerminateOnNaN\n",
        "import tensorflow.keras as keras"
      ],
      "metadata": {
        "id": "YECrIzdvISGW"
      },
      "execution_count": 8,
      "outputs": []
    },
    {
      "cell_type": "code",
      "source": [
        "import matplotlib.pyplot as plt"
      ],
      "metadata": {
        "id": "FpBUKawsSx-f"
      },
      "execution_count": 9,
      "outputs": []
    },
    {
      "cell_type": "code",
      "source": [
        "from sklearn.preprocessing import MinMaxScaler, MaxAbsScaler\n",
        "from sklearn.base import BaseEstimator, TransformerMixin\n",
        "from sklearn.compose import ColumnTransformer"
      ],
      "metadata": {
        "id": "xwgl-5yJkBU8"
      },
      "execution_count": 10,
      "outputs": []
    },
    {
      "cell_type": "code",
      "source": [
        "from tensorflow.keras.utils import plot_model"
      ],
      "metadata": {
        "id": "-8ikirqeMMw5"
      },
      "execution_count": 11,
      "outputs": []
    },
    {
      "cell_type": "code",
      "source": [
        "%load_ext tensorboard"
      ],
      "metadata": {
        "id": "dV6Nq2s0hFlY"
      },
      "execution_count": 12,
      "outputs": []
    },
    {
      "cell_type": "markdown",
      "source": [
        "# 초기 변수 설정"
      ],
      "metadata": {
        "id": "dR9s24Hu4wnb"
      }
    },
    {
      "cell_type": "code",
      "source": [
        "timesteps = 10\n",
        "batch_size = 30\n",
        "num_epochs = 300\n",
        "startIndex = 1000\n",
        "learningIndex = 5000\n",
        "test_steps = 100\n",
        "test_start_steps = 10000-learningIndex\n",
        "test_end_steps = test_start_steps + test_steps+batch_size-1\n",
        "file_name = \"EarthQuakePrediction_epoch_\"+str(num_epochs)+\"_batch_size_\"+str(batch_size)+\"_time_steps_\"+str(timesteps)+\"_trainFrom_\"+str(startIndex)+\"_until_\"+str(learningIndex)\n",
        "svae_directory = \"/mnt/c/Users/seojihyuk/Documents/MEGAsync/2022/\""
      ],
      "metadata": {
        "id": "jLFQQOkD4u_l"
      },
      "execution_count": 268,
      "outputs": []
    },
    {
      "cell_type": "markdown",
      "source": [
        "# 데이터 입력"
      ],
      "metadata": {
        "id": "mTNxih8dib-a"
      }
    },
    {
      "cell_type": "code",
      "source": [
        "data = pd.read_csv('https://raw.githubusercontent.com/seojihyuk26/EarthquakePredictor/main/earthquake1900.csv')\n",
        "data"
      ],
      "metadata": {
        "id": "qgXdRY2HkTWd",
        "outputId": "0fd86d5e-1901-413c-caf8-27a960939b2b",
        "colab": {
          "base_uri": "https://localhost:8080/",
          "height": 487
        }
      },
      "execution_count": 269,
      "outputs": [
        {
          "output_type": "execute_result",
          "data": {
            "text/plain": [
              "                           time  latitude  longitude   depth   mag\n",
              "0      2022-12-28T16:34:20.446Z  -21.2622   171.3631  10.000  6.00\n",
              "1      2022-12-20T10:34:24.770Z   40.5250  -124.4230  17.910  6.37\n",
              "2      2022-12-14T18:40:26.902Z   51.6382   178.6190  73.000  6.30\n",
              "3      2022-12-14T18:40:26.778Z   51.6199   178.6159  73.000  6.30\n",
              "4      2022-12-11T14:31:29.703Z   17.2565  -100.4369  18.346  6.00\n",
              "...                         ...       ...        ...     ...   ...\n",
              "13818  1902-11-17T19:50:00.000Z   37.4000  -113.5000     NaN  6.30\n",
              "13819  1902-01-01T05:20:30.000Z   52.3800  -167.4500     NaN  7.00\n",
              "13820  1901-12-31T09:02:30.000Z   51.4500  -171.0200     NaN  7.10\n",
              "13821  1901-12-30T22:34:00.000Z   52.0000  -160.0000     NaN  7.00\n",
              "13822  1901-03-03T07:45:00.000Z   36.0000  -120.5000     NaN  6.40\n",
              "\n",
              "[13823 rows x 5 columns]"
            ],
            "text/html": [
              "\n",
              "  <div id=\"df-711806e0-7618-4f58-8856-6e4f39a5788c\">\n",
              "    <div class=\"colab-df-container\">\n",
              "      <div>\n",
              "<style scoped>\n",
              "    .dataframe tbody tr th:only-of-type {\n",
              "        vertical-align: middle;\n",
              "    }\n",
              "\n",
              "    .dataframe tbody tr th {\n",
              "        vertical-align: top;\n",
              "    }\n",
              "\n",
              "    .dataframe thead th {\n",
              "        text-align: right;\n",
              "    }\n",
              "</style>\n",
              "<table border=\"1\" class=\"dataframe\">\n",
              "  <thead>\n",
              "    <tr style=\"text-align: right;\">\n",
              "      <th></th>\n",
              "      <th>time</th>\n",
              "      <th>latitude</th>\n",
              "      <th>longitude</th>\n",
              "      <th>depth</th>\n",
              "      <th>mag</th>\n",
              "    </tr>\n",
              "  </thead>\n",
              "  <tbody>\n",
              "    <tr>\n",
              "      <th>0</th>\n",
              "      <td>2022-12-28T16:34:20.446Z</td>\n",
              "      <td>-21.2622</td>\n",
              "      <td>171.3631</td>\n",
              "      <td>10.000</td>\n",
              "      <td>6.00</td>\n",
              "    </tr>\n",
              "    <tr>\n",
              "      <th>1</th>\n",
              "      <td>2022-12-20T10:34:24.770Z</td>\n",
              "      <td>40.5250</td>\n",
              "      <td>-124.4230</td>\n",
              "      <td>17.910</td>\n",
              "      <td>6.37</td>\n",
              "    </tr>\n",
              "    <tr>\n",
              "      <th>2</th>\n",
              "      <td>2022-12-14T18:40:26.902Z</td>\n",
              "      <td>51.6382</td>\n",
              "      <td>178.6190</td>\n",
              "      <td>73.000</td>\n",
              "      <td>6.30</td>\n",
              "    </tr>\n",
              "    <tr>\n",
              "      <th>3</th>\n",
              "      <td>2022-12-14T18:40:26.778Z</td>\n",
              "      <td>51.6199</td>\n",
              "      <td>178.6159</td>\n",
              "      <td>73.000</td>\n",
              "      <td>6.30</td>\n",
              "    </tr>\n",
              "    <tr>\n",
              "      <th>4</th>\n",
              "      <td>2022-12-11T14:31:29.703Z</td>\n",
              "      <td>17.2565</td>\n",
              "      <td>-100.4369</td>\n",
              "      <td>18.346</td>\n",
              "      <td>6.00</td>\n",
              "    </tr>\n",
              "    <tr>\n",
              "      <th>...</th>\n",
              "      <td>...</td>\n",
              "      <td>...</td>\n",
              "      <td>...</td>\n",
              "      <td>...</td>\n",
              "      <td>...</td>\n",
              "    </tr>\n",
              "    <tr>\n",
              "      <th>13818</th>\n",
              "      <td>1902-11-17T19:50:00.000Z</td>\n",
              "      <td>37.4000</td>\n",
              "      <td>-113.5000</td>\n",
              "      <td>NaN</td>\n",
              "      <td>6.30</td>\n",
              "    </tr>\n",
              "    <tr>\n",
              "      <th>13819</th>\n",
              "      <td>1902-01-01T05:20:30.000Z</td>\n",
              "      <td>52.3800</td>\n",
              "      <td>-167.4500</td>\n",
              "      <td>NaN</td>\n",
              "      <td>7.00</td>\n",
              "    </tr>\n",
              "    <tr>\n",
              "      <th>13820</th>\n",
              "      <td>1901-12-31T09:02:30.000Z</td>\n",
              "      <td>51.4500</td>\n",
              "      <td>-171.0200</td>\n",
              "      <td>NaN</td>\n",
              "      <td>7.10</td>\n",
              "    </tr>\n",
              "    <tr>\n",
              "      <th>13821</th>\n",
              "      <td>1901-12-30T22:34:00.000Z</td>\n",
              "      <td>52.0000</td>\n",
              "      <td>-160.0000</td>\n",
              "      <td>NaN</td>\n",
              "      <td>7.00</td>\n",
              "    </tr>\n",
              "    <tr>\n",
              "      <th>13822</th>\n",
              "      <td>1901-03-03T07:45:00.000Z</td>\n",
              "      <td>36.0000</td>\n",
              "      <td>-120.5000</td>\n",
              "      <td>NaN</td>\n",
              "      <td>6.40</td>\n",
              "    </tr>\n",
              "  </tbody>\n",
              "</table>\n",
              "<p>13823 rows × 5 columns</p>\n",
              "</div>\n",
              "      <button class=\"colab-df-convert\" onclick=\"convertToInteractive('df-711806e0-7618-4f58-8856-6e4f39a5788c')\"\n",
              "              title=\"Convert this dataframe to an interactive table.\"\n",
              "              style=\"display:none;\">\n",
              "        \n",
              "  <svg xmlns=\"http://www.w3.org/2000/svg\" height=\"24px\"viewBox=\"0 0 24 24\"\n",
              "       width=\"24px\">\n",
              "    <path d=\"M0 0h24v24H0V0z\" fill=\"none\"/>\n",
              "    <path d=\"M18.56 5.44l.94 2.06.94-2.06 2.06-.94-2.06-.94-.94-2.06-.94 2.06-2.06.94zm-11 1L8.5 8.5l.94-2.06 2.06-.94-2.06-.94L8.5 2.5l-.94 2.06-2.06.94zm10 10l.94 2.06.94-2.06 2.06-.94-2.06-.94-.94-2.06-.94 2.06-2.06.94z\"/><path d=\"M17.41 7.96l-1.37-1.37c-.4-.4-.92-.59-1.43-.59-.52 0-1.04.2-1.43.59L10.3 9.45l-7.72 7.72c-.78.78-.78 2.05 0 2.83L4 21.41c.39.39.9.59 1.41.59.51 0 1.02-.2 1.41-.59l7.78-7.78 2.81-2.81c.8-.78.8-2.07 0-2.86zM5.41 20L4 18.59l7.72-7.72 1.47 1.35L5.41 20z\"/>\n",
              "  </svg>\n",
              "      </button>\n",
              "      \n",
              "  <style>\n",
              "    .colab-df-container {\n",
              "      display:flex;\n",
              "      flex-wrap:wrap;\n",
              "      gap: 12px;\n",
              "    }\n",
              "\n",
              "    .colab-df-convert {\n",
              "      background-color: #E8F0FE;\n",
              "      border: none;\n",
              "      border-radius: 50%;\n",
              "      cursor: pointer;\n",
              "      display: none;\n",
              "      fill: #1967D2;\n",
              "      height: 32px;\n",
              "      padding: 0 0 0 0;\n",
              "      width: 32px;\n",
              "    }\n",
              "\n",
              "    .colab-df-convert:hover {\n",
              "      background-color: #E2EBFA;\n",
              "      box-shadow: 0px 1px 2px rgba(60, 64, 67, 0.3), 0px 1px 3px 1px rgba(60, 64, 67, 0.15);\n",
              "      fill: #174EA6;\n",
              "    }\n",
              "\n",
              "    [theme=dark] .colab-df-convert {\n",
              "      background-color: #3B4455;\n",
              "      fill: #D2E3FC;\n",
              "    }\n",
              "\n",
              "    [theme=dark] .colab-df-convert:hover {\n",
              "      background-color: #434B5C;\n",
              "      box-shadow: 0px 1px 3px 1px rgba(0, 0, 0, 0.15);\n",
              "      filter: drop-shadow(0px 1px 2px rgba(0, 0, 0, 0.3));\n",
              "      fill: #FFFFFF;\n",
              "    }\n",
              "  </style>\n",
              "\n",
              "      <script>\n",
              "        const buttonEl =\n",
              "          document.querySelector('#df-711806e0-7618-4f58-8856-6e4f39a5788c button.colab-df-convert');\n",
              "        buttonEl.style.display =\n",
              "          google.colab.kernel.accessAllowed ? 'block' : 'none';\n",
              "\n",
              "        async function convertToInteractive(key) {\n",
              "          const element = document.querySelector('#df-711806e0-7618-4f58-8856-6e4f39a5788c');\n",
              "          const dataTable =\n",
              "            await google.colab.kernel.invokeFunction('convertToInteractive',\n",
              "                                                     [key], {});\n",
              "          if (!dataTable) return;\n",
              "\n",
              "          const docLinkHtml = 'Like what you see? Visit the ' +\n",
              "            '<a target=\"_blank\" href=https://colab.research.google.com/notebooks/data_table.ipynb>data table notebook</a>'\n",
              "            + ' to learn more about interactive tables.';\n",
              "          element.innerHTML = '';\n",
              "          dataTable['output_type'] = 'display_data';\n",
              "          await google.colab.output.renderOutput(dataTable, element);\n",
              "          const docLink = document.createElement('div');\n",
              "          docLink.innerHTML = docLinkHtml;\n",
              "          element.appendChild(docLink);\n",
              "        }\n",
              "      </script>\n",
              "    </div>\n",
              "  </div>\n",
              "  "
            ]
          },
          "metadata": {},
          "execution_count": 269
        }
      ]
    },
    {
      "cell_type": "code",
      "source": [
        "print(data.info())\n",
        "print(data.shape)"
      ],
      "metadata": {
        "colab": {
          "base_uri": "https://localhost:8080/"
        },
        "id": "DnSOmLzsnUWc",
        "outputId": "0370cc46-a315-4fa6-f2e0-f7f80968c43b"
      },
      "execution_count": 270,
      "outputs": [
        {
          "output_type": "stream",
          "name": "stdout",
          "text": [
            "<class 'pandas.core.frame.DataFrame'>\n",
            "RangeIndex: 13823 entries, 0 to 13822\n",
            "Data columns (total 5 columns):\n",
            " #   Column     Non-Null Count  Dtype  \n",
            "---  ------     --------------  -----  \n",
            " 0   time       13823 non-null  object \n",
            " 1   latitude   13823 non-null  float64\n",
            " 2   longitude  13823 non-null  float64\n",
            " 3   depth      13771 non-null  float64\n",
            " 4   mag        13823 non-null  float64\n",
            "dtypes: float64(4), object(1)\n",
            "memory usage: 540.1+ KB\n",
            "None\n",
            "(13823, 5)\n"
          ]
        }
      ]
    },
    {
      "cell_type": "markdown",
      "source": [
        "# 데이터 전처리"
      ],
      "metadata": {
        "id": "1fTvBK5f_lv2"
      }
    },
    {
      "cell_type": "code",
      "source": [
        "data = data.fillna(data.mean())\n",
        "data"
      ],
      "metadata": {
        "id": "U2ba-_WD_xxi",
        "outputId": "c5c8fac2-6082-4bcb-eea7-6f964df4da24",
        "colab": {
          "base_uri": "https://localhost:8080/",
          "height": 481
        }
      },
      "execution_count": 290,
      "outputs": [
        {
          "output_type": "stream",
          "name": "stderr",
          "text": [
            "<ipython-input-290-e8d3a8cf2ef0>:1: FutureWarning: Dropping of nuisance columns in DataFrame reductions (with 'numeric_only=None') is deprecated; in a future version this will raise TypeError.  Select only valid columns before calling the reduction.\n",
            "  data = data.fillna(data.mean())\n"
          ]
        },
        {
          "output_type": "execute_result",
          "data": {
            "text/plain": [
              "                           time  latitude  longitude      depth   mag\n",
              "0      2022-12-28T16:34:20.446Z  -21.2622   171.3631  10.000000  6.00\n",
              "1      2022-12-20T10:34:24.770Z   40.5250  -124.4230  17.910000  6.37\n",
              "2      2022-12-14T18:40:26.902Z   51.6382   178.6190  73.000000  6.30\n",
              "3      2022-12-14T18:40:26.778Z   51.6199   178.6159  73.000000  6.30\n",
              "4      2022-12-11T14:31:29.703Z   17.2565  -100.4369  18.346000  6.00\n",
              "...                         ...       ...        ...        ...   ...\n",
              "13818  1902-11-17T19:50:00.000Z   37.4000  -113.5000  56.177293  6.30\n",
              "13819  1902-01-01T05:20:30.000Z   52.3800  -167.4500  56.177293  7.00\n",
              "13820  1901-12-31T09:02:30.000Z   51.4500  -171.0200  56.177293  7.10\n",
              "13821  1901-12-30T22:34:00.000Z   52.0000  -160.0000  56.177293  7.00\n",
              "13822  1901-03-03T07:45:00.000Z   36.0000  -120.5000  56.177293  6.40\n",
              "\n",
              "[13823 rows x 5 columns]"
            ],
            "text/html": [
              "\n",
              "  <div id=\"df-2d1abcab-ae3c-40a3-9849-d838d173f0e0\">\n",
              "    <div class=\"colab-df-container\">\n",
              "      <div>\n",
              "<style scoped>\n",
              "    .dataframe tbody tr th:only-of-type {\n",
              "        vertical-align: middle;\n",
              "    }\n",
              "\n",
              "    .dataframe tbody tr th {\n",
              "        vertical-align: top;\n",
              "    }\n",
              "\n",
              "    .dataframe thead th {\n",
              "        text-align: right;\n",
              "    }\n",
              "</style>\n",
              "<table border=\"1\" class=\"dataframe\">\n",
              "  <thead>\n",
              "    <tr style=\"text-align: right;\">\n",
              "      <th></th>\n",
              "      <th>time</th>\n",
              "      <th>latitude</th>\n",
              "      <th>longitude</th>\n",
              "      <th>depth</th>\n",
              "      <th>mag</th>\n",
              "    </tr>\n",
              "  </thead>\n",
              "  <tbody>\n",
              "    <tr>\n",
              "      <th>0</th>\n",
              "      <td>2022-12-28T16:34:20.446Z</td>\n",
              "      <td>-21.2622</td>\n",
              "      <td>171.3631</td>\n",
              "      <td>10.000000</td>\n",
              "      <td>6.00</td>\n",
              "    </tr>\n",
              "    <tr>\n",
              "      <th>1</th>\n",
              "      <td>2022-12-20T10:34:24.770Z</td>\n",
              "      <td>40.5250</td>\n",
              "      <td>-124.4230</td>\n",
              "      <td>17.910000</td>\n",
              "      <td>6.37</td>\n",
              "    </tr>\n",
              "    <tr>\n",
              "      <th>2</th>\n",
              "      <td>2022-12-14T18:40:26.902Z</td>\n",
              "      <td>51.6382</td>\n",
              "      <td>178.6190</td>\n",
              "      <td>73.000000</td>\n",
              "      <td>6.30</td>\n",
              "    </tr>\n",
              "    <tr>\n",
              "      <th>3</th>\n",
              "      <td>2022-12-14T18:40:26.778Z</td>\n",
              "      <td>51.6199</td>\n",
              "      <td>178.6159</td>\n",
              "      <td>73.000000</td>\n",
              "      <td>6.30</td>\n",
              "    </tr>\n",
              "    <tr>\n",
              "      <th>4</th>\n",
              "      <td>2022-12-11T14:31:29.703Z</td>\n",
              "      <td>17.2565</td>\n",
              "      <td>-100.4369</td>\n",
              "      <td>18.346000</td>\n",
              "      <td>6.00</td>\n",
              "    </tr>\n",
              "    <tr>\n",
              "      <th>...</th>\n",
              "      <td>...</td>\n",
              "      <td>...</td>\n",
              "      <td>...</td>\n",
              "      <td>...</td>\n",
              "      <td>...</td>\n",
              "    </tr>\n",
              "    <tr>\n",
              "      <th>13818</th>\n",
              "      <td>1902-11-17T19:50:00.000Z</td>\n",
              "      <td>37.4000</td>\n",
              "      <td>-113.5000</td>\n",
              "      <td>56.177293</td>\n",
              "      <td>6.30</td>\n",
              "    </tr>\n",
              "    <tr>\n",
              "      <th>13819</th>\n",
              "      <td>1902-01-01T05:20:30.000Z</td>\n",
              "      <td>52.3800</td>\n",
              "      <td>-167.4500</td>\n",
              "      <td>56.177293</td>\n",
              "      <td>7.00</td>\n",
              "    </tr>\n",
              "    <tr>\n",
              "      <th>13820</th>\n",
              "      <td>1901-12-31T09:02:30.000Z</td>\n",
              "      <td>51.4500</td>\n",
              "      <td>-171.0200</td>\n",
              "      <td>56.177293</td>\n",
              "      <td>7.10</td>\n",
              "    </tr>\n",
              "    <tr>\n",
              "      <th>13821</th>\n",
              "      <td>1901-12-30T22:34:00.000Z</td>\n",
              "      <td>52.0000</td>\n",
              "      <td>-160.0000</td>\n",
              "      <td>56.177293</td>\n",
              "      <td>7.00</td>\n",
              "    </tr>\n",
              "    <tr>\n",
              "      <th>13822</th>\n",
              "      <td>1901-03-03T07:45:00.000Z</td>\n",
              "      <td>36.0000</td>\n",
              "      <td>-120.5000</td>\n",
              "      <td>56.177293</td>\n",
              "      <td>6.40</td>\n",
              "    </tr>\n",
              "  </tbody>\n",
              "</table>\n",
              "<p>13823 rows × 5 columns</p>\n",
              "</div>\n",
              "      <button class=\"colab-df-convert\" onclick=\"convertToInteractive('df-2d1abcab-ae3c-40a3-9849-d838d173f0e0')\"\n",
              "              title=\"Convert this dataframe to an interactive table.\"\n",
              "              style=\"display:none;\">\n",
              "        \n",
              "  <svg xmlns=\"http://www.w3.org/2000/svg\" height=\"24px\"viewBox=\"0 0 24 24\"\n",
              "       width=\"24px\">\n",
              "    <path d=\"M0 0h24v24H0V0z\" fill=\"none\"/>\n",
              "    <path d=\"M18.56 5.44l.94 2.06.94-2.06 2.06-.94-2.06-.94-.94-2.06-.94 2.06-2.06.94zm-11 1L8.5 8.5l.94-2.06 2.06-.94-2.06-.94L8.5 2.5l-.94 2.06-2.06.94zm10 10l.94 2.06.94-2.06 2.06-.94-2.06-.94-.94-2.06-.94 2.06-2.06.94z\"/><path d=\"M17.41 7.96l-1.37-1.37c-.4-.4-.92-.59-1.43-.59-.52 0-1.04.2-1.43.59L10.3 9.45l-7.72 7.72c-.78.78-.78 2.05 0 2.83L4 21.41c.39.39.9.59 1.41.59.51 0 1.02-.2 1.41-.59l7.78-7.78 2.81-2.81c.8-.78.8-2.07 0-2.86zM5.41 20L4 18.59l7.72-7.72 1.47 1.35L5.41 20z\"/>\n",
              "  </svg>\n",
              "      </button>\n",
              "      \n",
              "  <style>\n",
              "    .colab-df-container {\n",
              "      display:flex;\n",
              "      flex-wrap:wrap;\n",
              "      gap: 12px;\n",
              "    }\n",
              "\n",
              "    .colab-df-convert {\n",
              "      background-color: #E8F0FE;\n",
              "      border: none;\n",
              "      border-radius: 50%;\n",
              "      cursor: pointer;\n",
              "      display: none;\n",
              "      fill: #1967D2;\n",
              "      height: 32px;\n",
              "      padding: 0 0 0 0;\n",
              "      width: 32px;\n",
              "    }\n",
              "\n",
              "    .colab-df-convert:hover {\n",
              "      background-color: #E2EBFA;\n",
              "      box-shadow: 0px 1px 2px rgba(60, 64, 67, 0.3), 0px 1px 3px 1px rgba(60, 64, 67, 0.15);\n",
              "      fill: #174EA6;\n",
              "    }\n",
              "\n",
              "    [theme=dark] .colab-df-convert {\n",
              "      background-color: #3B4455;\n",
              "      fill: #D2E3FC;\n",
              "    }\n",
              "\n",
              "    [theme=dark] .colab-df-convert:hover {\n",
              "      background-color: #434B5C;\n",
              "      box-shadow: 0px 1px 3px 1px rgba(0, 0, 0, 0.15);\n",
              "      filter: drop-shadow(0px 1px 2px rgba(0, 0, 0, 0.3));\n",
              "      fill: #FFFFFF;\n",
              "    }\n",
              "  </style>\n",
              "\n",
              "      <script>\n",
              "        const buttonEl =\n",
              "          document.querySelector('#df-2d1abcab-ae3c-40a3-9849-d838d173f0e0 button.colab-df-convert');\n",
              "        buttonEl.style.display =\n",
              "          google.colab.kernel.accessAllowed ? 'block' : 'none';\n",
              "\n",
              "        async function convertToInteractive(key) {\n",
              "          const element = document.querySelector('#df-2d1abcab-ae3c-40a3-9849-d838d173f0e0');\n",
              "          const dataTable =\n",
              "            await google.colab.kernel.invokeFunction('convertToInteractive',\n",
              "                                                     [key], {});\n",
              "          if (!dataTable) return;\n",
              "\n",
              "          const docLinkHtml = 'Like what you see? Visit the ' +\n",
              "            '<a target=\"_blank\" href=https://colab.research.google.com/notebooks/data_table.ipynb>data table notebook</a>'\n",
              "            + ' to learn more about interactive tables.';\n",
              "          element.innerHTML = '';\n",
              "          dataTable['output_type'] = 'display_data';\n",
              "          await google.colab.output.renderOutput(dataTable, element);\n",
              "          const docLink = document.createElement('div');\n",
              "          docLink.innerHTML = docLinkHtml;\n",
              "          element.appendChild(docLink);\n",
              "        }\n",
              "      </script>\n",
              "    </div>\n",
              "  </div>\n",
              "  "
            ]
          },
          "metadata": {},
          "execution_count": 290
        }
      ]
    },
    {
      "cell_type": "code",
      "source": [
        "dataEdited = data.iloc[::-1]\n",
        "dataEdited"
      ],
      "metadata": {
        "colab": {
          "base_uri": "https://localhost:8080/",
          "height": 423
        },
        "id": "fiyw_opCPFmo",
        "outputId": "ea5f5ebb-1453-48da-e623-d2853912349b"
      },
      "execution_count": 291,
      "outputs": [
        {
          "output_type": "execute_result",
          "data": {
            "text/plain": [
              "                           time  latitude  longitude      depth   mag\n",
              "13822  1901-03-03T07:45:00.000Z   36.0000  -120.5000  56.177293  6.40\n",
              "13821  1901-12-30T22:34:00.000Z   52.0000  -160.0000  56.177293  7.00\n",
              "13820  1901-12-31T09:02:30.000Z   51.4500  -171.0200  56.177293  7.10\n",
              "13819  1902-01-01T05:20:30.000Z   52.3800  -167.4500  56.177293  7.00\n",
              "13818  1902-11-17T19:50:00.000Z   37.4000  -113.5000  56.177293  6.30\n",
              "...                         ...       ...        ...        ...   ...\n",
              "4      2022-12-11T14:31:29.703Z   17.2565  -100.4369  18.346000  6.00\n",
              "3      2022-12-14T18:40:26.778Z   51.6199   178.6159  73.000000  6.30\n",
              "2      2022-12-14T18:40:26.902Z   51.6382   178.6190  73.000000  6.30\n",
              "1      2022-12-20T10:34:24.770Z   40.5250  -124.4230  17.910000  6.37\n",
              "0      2022-12-28T16:34:20.446Z  -21.2622   171.3631  10.000000  6.00\n",
              "\n",
              "[13823 rows x 5 columns]"
            ],
            "text/html": [
              "\n",
              "  <div id=\"df-373d3a5a-351c-49c3-a9b2-44c15f562e86\">\n",
              "    <div class=\"colab-df-container\">\n",
              "      <div>\n",
              "<style scoped>\n",
              "    .dataframe tbody tr th:only-of-type {\n",
              "        vertical-align: middle;\n",
              "    }\n",
              "\n",
              "    .dataframe tbody tr th {\n",
              "        vertical-align: top;\n",
              "    }\n",
              "\n",
              "    .dataframe thead th {\n",
              "        text-align: right;\n",
              "    }\n",
              "</style>\n",
              "<table border=\"1\" class=\"dataframe\">\n",
              "  <thead>\n",
              "    <tr style=\"text-align: right;\">\n",
              "      <th></th>\n",
              "      <th>time</th>\n",
              "      <th>latitude</th>\n",
              "      <th>longitude</th>\n",
              "      <th>depth</th>\n",
              "      <th>mag</th>\n",
              "    </tr>\n",
              "  </thead>\n",
              "  <tbody>\n",
              "    <tr>\n",
              "      <th>13822</th>\n",
              "      <td>1901-03-03T07:45:00.000Z</td>\n",
              "      <td>36.0000</td>\n",
              "      <td>-120.5000</td>\n",
              "      <td>56.177293</td>\n",
              "      <td>6.40</td>\n",
              "    </tr>\n",
              "    <tr>\n",
              "      <th>13821</th>\n",
              "      <td>1901-12-30T22:34:00.000Z</td>\n",
              "      <td>52.0000</td>\n",
              "      <td>-160.0000</td>\n",
              "      <td>56.177293</td>\n",
              "      <td>7.00</td>\n",
              "    </tr>\n",
              "    <tr>\n",
              "      <th>13820</th>\n",
              "      <td>1901-12-31T09:02:30.000Z</td>\n",
              "      <td>51.4500</td>\n",
              "      <td>-171.0200</td>\n",
              "      <td>56.177293</td>\n",
              "      <td>7.10</td>\n",
              "    </tr>\n",
              "    <tr>\n",
              "      <th>13819</th>\n",
              "      <td>1902-01-01T05:20:30.000Z</td>\n",
              "      <td>52.3800</td>\n",
              "      <td>-167.4500</td>\n",
              "      <td>56.177293</td>\n",
              "      <td>7.00</td>\n",
              "    </tr>\n",
              "    <tr>\n",
              "      <th>13818</th>\n",
              "      <td>1902-11-17T19:50:00.000Z</td>\n",
              "      <td>37.4000</td>\n",
              "      <td>-113.5000</td>\n",
              "      <td>56.177293</td>\n",
              "      <td>6.30</td>\n",
              "    </tr>\n",
              "    <tr>\n",
              "      <th>...</th>\n",
              "      <td>...</td>\n",
              "      <td>...</td>\n",
              "      <td>...</td>\n",
              "      <td>...</td>\n",
              "      <td>...</td>\n",
              "    </tr>\n",
              "    <tr>\n",
              "      <th>4</th>\n",
              "      <td>2022-12-11T14:31:29.703Z</td>\n",
              "      <td>17.2565</td>\n",
              "      <td>-100.4369</td>\n",
              "      <td>18.346000</td>\n",
              "      <td>6.00</td>\n",
              "    </tr>\n",
              "    <tr>\n",
              "      <th>3</th>\n",
              "      <td>2022-12-14T18:40:26.778Z</td>\n",
              "      <td>51.6199</td>\n",
              "      <td>178.6159</td>\n",
              "      <td>73.000000</td>\n",
              "      <td>6.30</td>\n",
              "    </tr>\n",
              "    <tr>\n",
              "      <th>2</th>\n",
              "      <td>2022-12-14T18:40:26.902Z</td>\n",
              "      <td>51.6382</td>\n",
              "      <td>178.6190</td>\n",
              "      <td>73.000000</td>\n",
              "      <td>6.30</td>\n",
              "    </tr>\n",
              "    <tr>\n",
              "      <th>1</th>\n",
              "      <td>2022-12-20T10:34:24.770Z</td>\n",
              "      <td>40.5250</td>\n",
              "      <td>-124.4230</td>\n",
              "      <td>17.910000</td>\n",
              "      <td>6.37</td>\n",
              "    </tr>\n",
              "    <tr>\n",
              "      <th>0</th>\n",
              "      <td>2022-12-28T16:34:20.446Z</td>\n",
              "      <td>-21.2622</td>\n",
              "      <td>171.3631</td>\n",
              "      <td>10.000000</td>\n",
              "      <td>6.00</td>\n",
              "    </tr>\n",
              "  </tbody>\n",
              "</table>\n",
              "<p>13823 rows × 5 columns</p>\n",
              "</div>\n",
              "      <button class=\"colab-df-convert\" onclick=\"convertToInteractive('df-373d3a5a-351c-49c3-a9b2-44c15f562e86')\"\n",
              "              title=\"Convert this dataframe to an interactive table.\"\n",
              "              style=\"display:none;\">\n",
              "        \n",
              "  <svg xmlns=\"http://www.w3.org/2000/svg\" height=\"24px\"viewBox=\"0 0 24 24\"\n",
              "       width=\"24px\">\n",
              "    <path d=\"M0 0h24v24H0V0z\" fill=\"none\"/>\n",
              "    <path d=\"M18.56 5.44l.94 2.06.94-2.06 2.06-.94-2.06-.94-.94-2.06-.94 2.06-2.06.94zm-11 1L8.5 8.5l.94-2.06 2.06-.94-2.06-.94L8.5 2.5l-.94 2.06-2.06.94zm10 10l.94 2.06.94-2.06 2.06-.94-2.06-.94-.94-2.06-.94 2.06-2.06.94z\"/><path d=\"M17.41 7.96l-1.37-1.37c-.4-.4-.92-.59-1.43-.59-.52 0-1.04.2-1.43.59L10.3 9.45l-7.72 7.72c-.78.78-.78 2.05 0 2.83L4 21.41c.39.39.9.59 1.41.59.51 0 1.02-.2 1.41-.59l7.78-7.78 2.81-2.81c.8-.78.8-2.07 0-2.86zM5.41 20L4 18.59l7.72-7.72 1.47 1.35L5.41 20z\"/>\n",
              "  </svg>\n",
              "      </button>\n",
              "      \n",
              "  <style>\n",
              "    .colab-df-container {\n",
              "      display:flex;\n",
              "      flex-wrap:wrap;\n",
              "      gap: 12px;\n",
              "    }\n",
              "\n",
              "    .colab-df-convert {\n",
              "      background-color: #E8F0FE;\n",
              "      border: none;\n",
              "      border-radius: 50%;\n",
              "      cursor: pointer;\n",
              "      display: none;\n",
              "      fill: #1967D2;\n",
              "      height: 32px;\n",
              "      padding: 0 0 0 0;\n",
              "      width: 32px;\n",
              "    }\n",
              "\n",
              "    .colab-df-convert:hover {\n",
              "      background-color: #E2EBFA;\n",
              "      box-shadow: 0px 1px 2px rgba(60, 64, 67, 0.3), 0px 1px 3px 1px rgba(60, 64, 67, 0.15);\n",
              "      fill: #174EA6;\n",
              "    }\n",
              "\n",
              "    [theme=dark] .colab-df-convert {\n",
              "      background-color: #3B4455;\n",
              "      fill: #D2E3FC;\n",
              "    }\n",
              "\n",
              "    [theme=dark] .colab-df-convert:hover {\n",
              "      background-color: #434B5C;\n",
              "      box-shadow: 0px 1px 3px 1px rgba(0, 0, 0, 0.15);\n",
              "      filter: drop-shadow(0px 1px 2px rgba(0, 0, 0, 0.3));\n",
              "      fill: #FFFFFF;\n",
              "    }\n",
              "  </style>\n",
              "\n",
              "      <script>\n",
              "        const buttonEl =\n",
              "          document.querySelector('#df-373d3a5a-351c-49c3-a9b2-44c15f562e86 button.colab-df-convert');\n",
              "        buttonEl.style.display =\n",
              "          google.colab.kernel.accessAllowed ? 'block' : 'none';\n",
              "\n",
              "        async function convertToInteractive(key) {\n",
              "          const element = document.querySelector('#df-373d3a5a-351c-49c3-a9b2-44c15f562e86');\n",
              "          const dataTable =\n",
              "            await google.colab.kernel.invokeFunction('convertToInteractive',\n",
              "                                                     [key], {});\n",
              "          if (!dataTable) return;\n",
              "\n",
              "          const docLinkHtml = 'Like what you see? Visit the ' +\n",
              "            '<a target=\"_blank\" href=https://colab.research.google.com/notebooks/data_table.ipynb>data table notebook</a>'\n",
              "            + ' to learn more about interactive tables.';\n",
              "          element.innerHTML = '';\n",
              "          dataTable['output_type'] = 'display_data';\n",
              "          await google.colab.output.renderOutput(dataTable, element);\n",
              "          const docLink = document.createElement('div');\n",
              "          docLink.innerHTML = docLinkHtml;\n",
              "          element.appendChild(docLink);\n",
              "        }\n",
              "      </script>\n",
              "    </div>\n",
              "  </div>\n",
              "  "
            ]
          },
          "metadata": {},
          "execution_count": 291
        }
      ]
    },
    {
      "cell_type": "code",
      "source": [
        "# Convert the time column to datetime\n",
        "dataEdited['time'] = pd.to_datetime(dataEdited['time'])\n",
        "dataEdited['original_time'] = dataEdited['time']#pd.Timestamp.to_datetime64()\n",
        "\n",
        "# Calculate the time difference between each time step\n",
        "dataEdited['time'] = dataEdited['time'].dt.date.diff().dt.days\n",
        "\n",
        "dataEdited.loc[dataEdited.shape[0]-1,\"time\"] = 0\n",
        "\n",
        "dataEdited"
      ],
      "metadata": {
        "colab": {
          "base_uri": "https://localhost:8080/",
          "height": 423
        },
        "id": "2foZ0ZVsV7pI",
        "outputId": "f9a0c4e0-a59f-4274-9f39-51ecc9f79d4a"
      },
      "execution_count": 292,
      "outputs": [
        {
          "output_type": "execute_result",
          "data": {
            "text/plain": [
              "        time  latitude  longitude      depth   mag  \\\n",
              "13822    0.0   36.0000  -120.5000  56.177293  6.40   \n",
              "13821  302.0   52.0000  -160.0000  56.177293  7.00   \n",
              "13820    1.0   51.4500  -171.0200  56.177293  7.10   \n",
              "13819    1.0   52.3800  -167.4500  56.177293  7.00   \n",
              "13818  320.0   37.4000  -113.5000  56.177293  6.30   \n",
              "...      ...       ...        ...        ...   ...   \n",
              "4        7.0   17.2565  -100.4369  18.346000  6.00   \n",
              "3        3.0   51.6199   178.6159  73.000000  6.30   \n",
              "2        0.0   51.6382   178.6190  73.000000  6.30   \n",
              "1        6.0   40.5250  -124.4230  17.910000  6.37   \n",
              "0        8.0  -21.2622   171.3631  10.000000  6.00   \n",
              "\n",
              "                         original_time  \n",
              "13822        1901-03-03 07:45:00+00:00  \n",
              "13821        1901-12-30 22:34:00+00:00  \n",
              "13820        1901-12-31 09:02:30+00:00  \n",
              "13819        1902-01-01 05:20:30+00:00  \n",
              "13818        1902-11-17 19:50:00+00:00  \n",
              "...                                ...  \n",
              "4     2022-12-11 14:31:29.703000+00:00  \n",
              "3     2022-12-14 18:40:26.778000+00:00  \n",
              "2     2022-12-14 18:40:26.902000+00:00  \n",
              "1     2022-12-20 10:34:24.770000+00:00  \n",
              "0     2022-12-28 16:34:20.446000+00:00  \n",
              "\n",
              "[13823 rows x 6 columns]"
            ],
            "text/html": [
              "\n",
              "  <div id=\"df-f48ed559-a8fb-4b14-896b-58aa7744dd31\">\n",
              "    <div class=\"colab-df-container\">\n",
              "      <div>\n",
              "<style scoped>\n",
              "    .dataframe tbody tr th:only-of-type {\n",
              "        vertical-align: middle;\n",
              "    }\n",
              "\n",
              "    .dataframe tbody tr th {\n",
              "        vertical-align: top;\n",
              "    }\n",
              "\n",
              "    .dataframe thead th {\n",
              "        text-align: right;\n",
              "    }\n",
              "</style>\n",
              "<table border=\"1\" class=\"dataframe\">\n",
              "  <thead>\n",
              "    <tr style=\"text-align: right;\">\n",
              "      <th></th>\n",
              "      <th>time</th>\n",
              "      <th>latitude</th>\n",
              "      <th>longitude</th>\n",
              "      <th>depth</th>\n",
              "      <th>mag</th>\n",
              "      <th>original_time</th>\n",
              "    </tr>\n",
              "  </thead>\n",
              "  <tbody>\n",
              "    <tr>\n",
              "      <th>13822</th>\n",
              "      <td>0.0</td>\n",
              "      <td>36.0000</td>\n",
              "      <td>-120.5000</td>\n",
              "      <td>56.177293</td>\n",
              "      <td>6.40</td>\n",
              "      <td>1901-03-03 07:45:00+00:00</td>\n",
              "    </tr>\n",
              "    <tr>\n",
              "      <th>13821</th>\n",
              "      <td>302.0</td>\n",
              "      <td>52.0000</td>\n",
              "      <td>-160.0000</td>\n",
              "      <td>56.177293</td>\n",
              "      <td>7.00</td>\n",
              "      <td>1901-12-30 22:34:00+00:00</td>\n",
              "    </tr>\n",
              "    <tr>\n",
              "      <th>13820</th>\n",
              "      <td>1.0</td>\n",
              "      <td>51.4500</td>\n",
              "      <td>-171.0200</td>\n",
              "      <td>56.177293</td>\n",
              "      <td>7.10</td>\n",
              "      <td>1901-12-31 09:02:30+00:00</td>\n",
              "    </tr>\n",
              "    <tr>\n",
              "      <th>13819</th>\n",
              "      <td>1.0</td>\n",
              "      <td>52.3800</td>\n",
              "      <td>-167.4500</td>\n",
              "      <td>56.177293</td>\n",
              "      <td>7.00</td>\n",
              "      <td>1902-01-01 05:20:30+00:00</td>\n",
              "    </tr>\n",
              "    <tr>\n",
              "      <th>13818</th>\n",
              "      <td>320.0</td>\n",
              "      <td>37.4000</td>\n",
              "      <td>-113.5000</td>\n",
              "      <td>56.177293</td>\n",
              "      <td>6.30</td>\n",
              "      <td>1902-11-17 19:50:00+00:00</td>\n",
              "    </tr>\n",
              "    <tr>\n",
              "      <th>...</th>\n",
              "      <td>...</td>\n",
              "      <td>...</td>\n",
              "      <td>...</td>\n",
              "      <td>...</td>\n",
              "      <td>...</td>\n",
              "      <td>...</td>\n",
              "    </tr>\n",
              "    <tr>\n",
              "      <th>4</th>\n",
              "      <td>7.0</td>\n",
              "      <td>17.2565</td>\n",
              "      <td>-100.4369</td>\n",
              "      <td>18.346000</td>\n",
              "      <td>6.00</td>\n",
              "      <td>2022-12-11 14:31:29.703000+00:00</td>\n",
              "    </tr>\n",
              "    <tr>\n",
              "      <th>3</th>\n",
              "      <td>3.0</td>\n",
              "      <td>51.6199</td>\n",
              "      <td>178.6159</td>\n",
              "      <td>73.000000</td>\n",
              "      <td>6.30</td>\n",
              "      <td>2022-12-14 18:40:26.778000+00:00</td>\n",
              "    </tr>\n",
              "    <tr>\n",
              "      <th>2</th>\n",
              "      <td>0.0</td>\n",
              "      <td>51.6382</td>\n",
              "      <td>178.6190</td>\n",
              "      <td>73.000000</td>\n",
              "      <td>6.30</td>\n",
              "      <td>2022-12-14 18:40:26.902000+00:00</td>\n",
              "    </tr>\n",
              "    <tr>\n",
              "      <th>1</th>\n",
              "      <td>6.0</td>\n",
              "      <td>40.5250</td>\n",
              "      <td>-124.4230</td>\n",
              "      <td>17.910000</td>\n",
              "      <td>6.37</td>\n",
              "      <td>2022-12-20 10:34:24.770000+00:00</td>\n",
              "    </tr>\n",
              "    <tr>\n",
              "      <th>0</th>\n",
              "      <td>8.0</td>\n",
              "      <td>-21.2622</td>\n",
              "      <td>171.3631</td>\n",
              "      <td>10.000000</td>\n",
              "      <td>6.00</td>\n",
              "      <td>2022-12-28 16:34:20.446000+00:00</td>\n",
              "    </tr>\n",
              "  </tbody>\n",
              "</table>\n",
              "<p>13823 rows × 6 columns</p>\n",
              "</div>\n",
              "      <button class=\"colab-df-convert\" onclick=\"convertToInteractive('df-f48ed559-a8fb-4b14-896b-58aa7744dd31')\"\n",
              "              title=\"Convert this dataframe to an interactive table.\"\n",
              "              style=\"display:none;\">\n",
              "        \n",
              "  <svg xmlns=\"http://www.w3.org/2000/svg\" height=\"24px\"viewBox=\"0 0 24 24\"\n",
              "       width=\"24px\">\n",
              "    <path d=\"M0 0h24v24H0V0z\" fill=\"none\"/>\n",
              "    <path d=\"M18.56 5.44l.94 2.06.94-2.06 2.06-.94-2.06-.94-.94-2.06-.94 2.06-2.06.94zm-11 1L8.5 8.5l.94-2.06 2.06-.94-2.06-.94L8.5 2.5l-.94 2.06-2.06.94zm10 10l.94 2.06.94-2.06 2.06-.94-2.06-.94-.94-2.06-.94 2.06-2.06.94z\"/><path d=\"M17.41 7.96l-1.37-1.37c-.4-.4-.92-.59-1.43-.59-.52 0-1.04.2-1.43.59L10.3 9.45l-7.72 7.72c-.78.78-.78 2.05 0 2.83L4 21.41c.39.39.9.59 1.41.59.51 0 1.02-.2 1.41-.59l7.78-7.78 2.81-2.81c.8-.78.8-2.07 0-2.86zM5.41 20L4 18.59l7.72-7.72 1.47 1.35L5.41 20z\"/>\n",
              "  </svg>\n",
              "      </button>\n",
              "      \n",
              "  <style>\n",
              "    .colab-df-container {\n",
              "      display:flex;\n",
              "      flex-wrap:wrap;\n",
              "      gap: 12px;\n",
              "    }\n",
              "\n",
              "    .colab-df-convert {\n",
              "      background-color: #E8F0FE;\n",
              "      border: none;\n",
              "      border-radius: 50%;\n",
              "      cursor: pointer;\n",
              "      display: none;\n",
              "      fill: #1967D2;\n",
              "      height: 32px;\n",
              "      padding: 0 0 0 0;\n",
              "      width: 32px;\n",
              "    }\n",
              "\n",
              "    .colab-df-convert:hover {\n",
              "      background-color: #E2EBFA;\n",
              "      box-shadow: 0px 1px 2px rgba(60, 64, 67, 0.3), 0px 1px 3px 1px rgba(60, 64, 67, 0.15);\n",
              "      fill: #174EA6;\n",
              "    }\n",
              "\n",
              "    [theme=dark] .colab-df-convert {\n",
              "      background-color: #3B4455;\n",
              "      fill: #D2E3FC;\n",
              "    }\n",
              "\n",
              "    [theme=dark] .colab-df-convert:hover {\n",
              "      background-color: #434B5C;\n",
              "      box-shadow: 0px 1px 3px 1px rgba(0, 0, 0, 0.15);\n",
              "      filter: drop-shadow(0px 1px 2px rgba(0, 0, 0, 0.3));\n",
              "      fill: #FFFFFF;\n",
              "    }\n",
              "  </style>\n",
              "\n",
              "      <script>\n",
              "        const buttonEl =\n",
              "          document.querySelector('#df-f48ed559-a8fb-4b14-896b-58aa7744dd31 button.colab-df-convert');\n",
              "        buttonEl.style.display =\n",
              "          google.colab.kernel.accessAllowed ? 'block' : 'none';\n",
              "\n",
              "        async function convertToInteractive(key) {\n",
              "          const element = document.querySelector('#df-f48ed559-a8fb-4b14-896b-58aa7744dd31');\n",
              "          const dataTable =\n",
              "            await google.colab.kernel.invokeFunction('convertToInteractive',\n",
              "                                                     [key], {});\n",
              "          if (!dataTable) return;\n",
              "\n",
              "          const docLinkHtml = 'Like what you see? Visit the ' +\n",
              "            '<a target=\"_blank\" href=https://colab.research.google.com/notebooks/data_table.ipynb>data table notebook</a>'\n",
              "            + ' to learn more about interactive tables.';\n",
              "          element.innerHTML = '';\n",
              "          dataTable['output_type'] = 'display_data';\n",
              "          await google.colab.output.renderOutput(dataTable, element);\n",
              "          const docLink = document.createElement('div');\n",
              "          docLink.innerHTML = docLinkHtml;\n",
              "          element.appendChild(docLink);\n",
              "        }\n",
              "      </script>\n",
              "    </div>\n",
              "  </div>\n",
              "  "
            ]
          },
          "metadata": {},
          "execution_count": 292
        }
      ]
    },
    {
      "cell_type": "code",
      "source": [
        "class DivideColumns(BaseEstimator, TransformerMixin):\n",
        "    def __init__(self, factor=1, columns=None):\n",
        "        self.factor = factor\n",
        "        self.columns = columns\n",
        "    \n",
        "    def fit(self, X, y=None):\n",
        "        return self\n",
        "\n",
        "    def transform(self, X, y=None):\n",
        "        cols_to_transform = list(X.columns)\n",
        "\n",
        "        if self.columns:\n",
        "            cols_to_transform = self.columns\n",
        "\n",
        "        X[cols_to_transform] = X[cols_to_transform] / self.factor\n",
        "        return X\n",
        "\n",
        "    def inverse_transform(self, X, y=None):\n",
        "        cols_to_transform = list(X.columns)\n",
        "\n",
        "        if self.columns:\n",
        "            cols_to_transform = self.columns\n",
        "\n",
        "        X[cols_to_transform] = X[cols_to_transform] * self.factor\n",
        "        return X"
      ],
      "metadata": {
        "id": "Jwn49O80RYk3"
      },
      "execution_count": 293,
      "outputs": []
    },
    {
      "cell_type": "code",
      "source": [
        "class FixedMinMaxScaler(BaseEstimator, TransformerMixin):\n",
        "    def __init__(self, min=0, columns=None):\n",
        "        self.min = min\n",
        "        self.columns = columns\n",
        "        self.length = 1\n",
        "    \n",
        "    def fit(self, X, y=None):\n",
        "        cols_to_transform = list(X.columns)\n",
        "\n",
        "        if self.columns:\n",
        "            cols_to_transform = self.columns\n",
        "        if X[cols_to_transform].max()[0]-self.min <= 0:\n",
        "            self.length = 0.0000001\n",
        "        else:\n",
        "            self.length = X[cols_to_transform].max()[0]-self.min\n",
        "        return self\n",
        "\n",
        "    def transform(self, X, y=None):\n",
        "        cols_to_transform = list(X.columns)\n",
        "\n",
        "        if self.columns:\n",
        "            cols_to_transform = self.columns\n",
        "        X[cols_to_transform] = (X[cols_to_transform] - self.min)/self.length\n",
        "        return X\n",
        "\n",
        "    def inverse_transform(self, X, y=None):\n",
        "        cols_to_transform = list(X.columns)\n",
        "\n",
        "        if self.columns:\n",
        "            cols_to_transform = self.columns\n",
        "\n",
        "        X[cols_to_transform] = X[cols_to_transform]*self.length + self.min\n",
        "        return X"
      ],
      "metadata": {
        "id": "suQbiYmCTZkP"
      },
      "execution_count": 294,
      "outputs": []
    },
    {
      "cell_type": "code",
      "source": [
        "pipe = ColumnTransformer(transformers=[\n",
        "    (\"time\", FixedMinMaxScaler(),[\"time\"]),\n",
        "    (\"latitude\", DivideColumns(90),[\"latitude\"]),\n",
        "    (\"longitude\", DivideColumns(180),[\"longitude\"]),\n",
        "    (\"depth\", FixedMinMaxScaler(),[\"depth\"]),\n",
        "    (\"mag\", FixedMinMaxScaler(6),[\"mag\"]),\n",
        "    ('original_time', 'passthrough',[\"original_time\"])\n",
        "])\n",
        "data_scaled = pipe.fit_transform(dataEdited)\n",
        "data_scaled = pd.DataFrame(data_scaled, index=dataEdited.index, columns=dataEdited.columns)\n",
        "data_scaled"
      ],
      "metadata": {
        "colab": {
          "base_uri": "https://localhost:8080/",
          "height": 423
        },
        "id": "iQfb_kBEKstT",
        "outputId": "934627d0-ce85-47e2-ac17-40302436b643"
      },
      "execution_count": 295,
      "outputs": [
        {
          "output_type": "execute_result",
          "data": {
            "text/plain": [
              "           time  latitude longitude     depth       mag  \\\n",
              "13822       0.0       0.4 -0.669444  0.081653  0.114286   \n",
              "13821   0.94375  0.577778 -0.888889  0.081653  0.285714   \n",
              "13820  0.003125  0.571667 -0.950111  0.081653  0.314286   \n",
              "13819  0.003125     0.582 -0.930278  0.081653  0.285714   \n",
              "13818       1.0  0.415556 -0.630556  0.081653  0.085714   \n",
              "...         ...       ...       ...       ...       ...   \n",
              "4      0.021875  0.191739 -0.557983  0.026666       0.0   \n",
              "3      0.009375  0.573554  0.992311  0.106105  0.085714   \n",
              "2           0.0  0.573758  0.992328  0.106105  0.085714   \n",
              "1       0.01875  0.450278 -0.691239  0.026032  0.105714   \n",
              "0         0.025 -0.236247  0.952017  0.014535       0.0   \n",
              "\n",
              "                         original_time  \n",
              "13822        1901-03-03 07:45:00+00:00  \n",
              "13821        1901-12-30 22:34:00+00:00  \n",
              "13820        1901-12-31 09:02:30+00:00  \n",
              "13819        1902-01-01 05:20:30+00:00  \n",
              "13818        1902-11-17 19:50:00+00:00  \n",
              "...                                ...  \n",
              "4     2022-12-11 14:31:29.703000+00:00  \n",
              "3     2022-12-14 18:40:26.778000+00:00  \n",
              "2     2022-12-14 18:40:26.902000+00:00  \n",
              "1     2022-12-20 10:34:24.770000+00:00  \n",
              "0     2022-12-28 16:34:20.446000+00:00  \n",
              "\n",
              "[13823 rows x 6 columns]"
            ],
            "text/html": [
              "\n",
              "  <div id=\"df-636ab40b-eb3c-4b13-a874-b8513e09b526\">\n",
              "    <div class=\"colab-df-container\">\n",
              "      <div>\n",
              "<style scoped>\n",
              "    .dataframe tbody tr th:only-of-type {\n",
              "        vertical-align: middle;\n",
              "    }\n",
              "\n",
              "    .dataframe tbody tr th {\n",
              "        vertical-align: top;\n",
              "    }\n",
              "\n",
              "    .dataframe thead th {\n",
              "        text-align: right;\n",
              "    }\n",
              "</style>\n",
              "<table border=\"1\" class=\"dataframe\">\n",
              "  <thead>\n",
              "    <tr style=\"text-align: right;\">\n",
              "      <th></th>\n",
              "      <th>time</th>\n",
              "      <th>latitude</th>\n",
              "      <th>longitude</th>\n",
              "      <th>depth</th>\n",
              "      <th>mag</th>\n",
              "      <th>original_time</th>\n",
              "    </tr>\n",
              "  </thead>\n",
              "  <tbody>\n",
              "    <tr>\n",
              "      <th>13822</th>\n",
              "      <td>0.0</td>\n",
              "      <td>0.4</td>\n",
              "      <td>-0.669444</td>\n",
              "      <td>0.081653</td>\n",
              "      <td>0.114286</td>\n",
              "      <td>1901-03-03 07:45:00+00:00</td>\n",
              "    </tr>\n",
              "    <tr>\n",
              "      <th>13821</th>\n",
              "      <td>0.94375</td>\n",
              "      <td>0.577778</td>\n",
              "      <td>-0.888889</td>\n",
              "      <td>0.081653</td>\n",
              "      <td>0.285714</td>\n",
              "      <td>1901-12-30 22:34:00+00:00</td>\n",
              "    </tr>\n",
              "    <tr>\n",
              "      <th>13820</th>\n",
              "      <td>0.003125</td>\n",
              "      <td>0.571667</td>\n",
              "      <td>-0.950111</td>\n",
              "      <td>0.081653</td>\n",
              "      <td>0.314286</td>\n",
              "      <td>1901-12-31 09:02:30+00:00</td>\n",
              "    </tr>\n",
              "    <tr>\n",
              "      <th>13819</th>\n",
              "      <td>0.003125</td>\n",
              "      <td>0.582</td>\n",
              "      <td>-0.930278</td>\n",
              "      <td>0.081653</td>\n",
              "      <td>0.285714</td>\n",
              "      <td>1902-01-01 05:20:30+00:00</td>\n",
              "    </tr>\n",
              "    <tr>\n",
              "      <th>13818</th>\n",
              "      <td>1.0</td>\n",
              "      <td>0.415556</td>\n",
              "      <td>-0.630556</td>\n",
              "      <td>0.081653</td>\n",
              "      <td>0.085714</td>\n",
              "      <td>1902-11-17 19:50:00+00:00</td>\n",
              "    </tr>\n",
              "    <tr>\n",
              "      <th>...</th>\n",
              "      <td>...</td>\n",
              "      <td>...</td>\n",
              "      <td>...</td>\n",
              "      <td>...</td>\n",
              "      <td>...</td>\n",
              "      <td>...</td>\n",
              "    </tr>\n",
              "    <tr>\n",
              "      <th>4</th>\n",
              "      <td>0.021875</td>\n",
              "      <td>0.191739</td>\n",
              "      <td>-0.557983</td>\n",
              "      <td>0.026666</td>\n",
              "      <td>0.0</td>\n",
              "      <td>2022-12-11 14:31:29.703000+00:00</td>\n",
              "    </tr>\n",
              "    <tr>\n",
              "      <th>3</th>\n",
              "      <td>0.009375</td>\n",
              "      <td>0.573554</td>\n",
              "      <td>0.992311</td>\n",
              "      <td>0.106105</td>\n",
              "      <td>0.085714</td>\n",
              "      <td>2022-12-14 18:40:26.778000+00:00</td>\n",
              "    </tr>\n",
              "    <tr>\n",
              "      <th>2</th>\n",
              "      <td>0.0</td>\n",
              "      <td>0.573758</td>\n",
              "      <td>0.992328</td>\n",
              "      <td>0.106105</td>\n",
              "      <td>0.085714</td>\n",
              "      <td>2022-12-14 18:40:26.902000+00:00</td>\n",
              "    </tr>\n",
              "    <tr>\n",
              "      <th>1</th>\n",
              "      <td>0.01875</td>\n",
              "      <td>0.450278</td>\n",
              "      <td>-0.691239</td>\n",
              "      <td>0.026032</td>\n",
              "      <td>0.105714</td>\n",
              "      <td>2022-12-20 10:34:24.770000+00:00</td>\n",
              "    </tr>\n",
              "    <tr>\n",
              "      <th>0</th>\n",
              "      <td>0.025</td>\n",
              "      <td>-0.236247</td>\n",
              "      <td>0.952017</td>\n",
              "      <td>0.014535</td>\n",
              "      <td>0.0</td>\n",
              "      <td>2022-12-28 16:34:20.446000+00:00</td>\n",
              "    </tr>\n",
              "  </tbody>\n",
              "</table>\n",
              "<p>13823 rows × 6 columns</p>\n",
              "</div>\n",
              "      <button class=\"colab-df-convert\" onclick=\"convertToInteractive('df-636ab40b-eb3c-4b13-a874-b8513e09b526')\"\n",
              "              title=\"Convert this dataframe to an interactive table.\"\n",
              "              style=\"display:none;\">\n",
              "        \n",
              "  <svg xmlns=\"http://www.w3.org/2000/svg\" height=\"24px\"viewBox=\"0 0 24 24\"\n",
              "       width=\"24px\">\n",
              "    <path d=\"M0 0h24v24H0V0z\" fill=\"none\"/>\n",
              "    <path d=\"M18.56 5.44l.94 2.06.94-2.06 2.06-.94-2.06-.94-.94-2.06-.94 2.06-2.06.94zm-11 1L8.5 8.5l.94-2.06 2.06-.94-2.06-.94L8.5 2.5l-.94 2.06-2.06.94zm10 10l.94 2.06.94-2.06 2.06-.94-2.06-.94-.94-2.06-.94 2.06-2.06.94z\"/><path d=\"M17.41 7.96l-1.37-1.37c-.4-.4-.92-.59-1.43-.59-.52 0-1.04.2-1.43.59L10.3 9.45l-7.72 7.72c-.78.78-.78 2.05 0 2.83L4 21.41c.39.39.9.59 1.41.59.51 0 1.02-.2 1.41-.59l7.78-7.78 2.81-2.81c.8-.78.8-2.07 0-2.86zM5.41 20L4 18.59l7.72-7.72 1.47 1.35L5.41 20z\"/>\n",
              "  </svg>\n",
              "      </button>\n",
              "      \n",
              "  <style>\n",
              "    .colab-df-container {\n",
              "      display:flex;\n",
              "      flex-wrap:wrap;\n",
              "      gap: 12px;\n",
              "    }\n",
              "\n",
              "    .colab-df-convert {\n",
              "      background-color: #E8F0FE;\n",
              "      border: none;\n",
              "      border-radius: 50%;\n",
              "      cursor: pointer;\n",
              "      display: none;\n",
              "      fill: #1967D2;\n",
              "      height: 32px;\n",
              "      padding: 0 0 0 0;\n",
              "      width: 32px;\n",
              "    }\n",
              "\n",
              "    .colab-df-convert:hover {\n",
              "      background-color: #E2EBFA;\n",
              "      box-shadow: 0px 1px 2px rgba(60, 64, 67, 0.3), 0px 1px 3px 1px rgba(60, 64, 67, 0.15);\n",
              "      fill: #174EA6;\n",
              "    }\n",
              "\n",
              "    [theme=dark] .colab-df-convert {\n",
              "      background-color: #3B4455;\n",
              "      fill: #D2E3FC;\n",
              "    }\n",
              "\n",
              "    [theme=dark] .colab-df-convert:hover {\n",
              "      background-color: #434B5C;\n",
              "      box-shadow: 0px 1px 3px 1px rgba(0, 0, 0, 0.15);\n",
              "      filter: drop-shadow(0px 1px 2px rgba(0, 0, 0, 0.3));\n",
              "      fill: #FFFFFF;\n",
              "    }\n",
              "  </style>\n",
              "\n",
              "      <script>\n",
              "        const buttonEl =\n",
              "          document.querySelector('#df-636ab40b-eb3c-4b13-a874-b8513e09b526 button.colab-df-convert');\n",
              "        buttonEl.style.display =\n",
              "          google.colab.kernel.accessAllowed ? 'block' : 'none';\n",
              "\n",
              "        async function convertToInteractive(key) {\n",
              "          const element = document.querySelector('#df-636ab40b-eb3c-4b13-a874-b8513e09b526');\n",
              "          const dataTable =\n",
              "            await google.colab.kernel.invokeFunction('convertToInteractive',\n",
              "                                                     [key], {});\n",
              "          if (!dataTable) return;\n",
              "\n",
              "          const docLinkHtml = 'Like what you see? Visit the ' +\n",
              "            '<a target=\"_blank\" href=https://colab.research.google.com/notebooks/data_table.ipynb>data table notebook</a>'\n",
              "            + ' to learn more about interactive tables.';\n",
              "          element.innerHTML = '';\n",
              "          dataTable['output_type'] = 'display_data';\n",
              "          await google.colab.output.renderOutput(dataTable, element);\n",
              "          const docLink = document.createElement('div');\n",
              "          docLink.innerHTML = docLinkHtml;\n",
              "          element.appendChild(docLink);\n",
              "        }\n",
              "      </script>\n",
              "    </div>\n",
              "  </div>\n",
              "  "
            ]
          },
          "metadata": {},
          "execution_count": 295
        }
      ]
    },
    {
      "cell_type": "code",
      "source": [
        "def seq2dataset(seq, window_size):\n",
        "    dataset = []\n",
        "    # print(seq.dtypes)\n",
        "    for i in range(len(seq)-window_size):\n",
        "        subset = seq[i:(i+window_size+1)]\n",
        "        dataset.append(subset)\n",
        "    # print(dataset.dtype)\n",
        "    return np.array(dataset)"
      ],
      "metadata": {
        "id": "X1JywYSkNcbW"
      },
      "execution_count": 296,
      "outputs": []
    },
    {
      "cell_type": "code",
      "source": [
        "dataset = seq2dataset(data_scaled.iloc[startIndex:learningIndex,:5], timesteps)\n",
        "X_train = dataset[:,0:timesteps]\n",
        "y_train = dataset[:,timesteps]"
      ],
      "metadata": {
        "id": "jx3RabLNLDD4"
      },
      "execution_count": 297,
      "outputs": []
    },
    {
      "cell_type": "code",
      "source": [
        "X_train[0:3]"
      ],
      "metadata": {
        "id": "B5WJibj5sF4l",
        "outputId": "3c57f91e-1401-4f66-e4ff-4fb21e93033f",
        "colab": {
          "base_uri": "https://localhost:8080/"
        }
      },
      "execution_count": 298,
      "outputs": [
        {
          "output_type": "execute_result",
          "data": {
            "text/plain": [
              "array([[[0.034375, -0.03386666666666667, 0.7705, 0.050872093023255814,\n",
              "         0.21714285714285708],\n",
              "        [0.00625, 0.5069444444444444, 0.8303499999999999,\n",
              "         0.02180232558139535, 0.04857142857142855],\n",
              "        [0.00625, 0.33976666666666666, 0.5020944444444444,\n",
              "         0.02180232558139535, 0.04285714285714296],\n",
              "        [0.003125, -0.14137777777777777, 0.9274722222222221,\n",
              "         0.050872093023255814, 0.2914285714285713],\n",
              "        [0.03125, 0.07634444444444445, -0.4582444444444444,\n",
              "         0.02180232558139535, 0.0028571428571427964],\n",
              "        [0.040625, 0.07938888888888888, 0.7047166666666667,\n",
              "         0.050872093023255814, 0.23142857142857132],\n",
              "        [0.0125, 0.0828, 0.7063944444444444, 0.02180232558139535,\n",
              "         0.41142857142857153],\n",
              "        [0.00625, 0.13143333333333335, -0.3969944444444445,\n",
              "         0.02180232558139535, 0.0999999999999999],\n",
              "        [0.00625, 0.4026222222222222, 0.3926333333333334,\n",
              "         0.3488372093023256, 0.5142857142857142],\n",
              "        [0.04375, -0.1970222222222222, -0.9603277777777778,\n",
              "         0.02180232558139535, 0.0571428571428572]],\n",
              "\n",
              "       [[0.00625, 0.5069444444444444, 0.8303499999999999,\n",
              "         0.02180232558139535, 0.04857142857142855],\n",
              "        [0.00625, 0.33976666666666666, 0.5020944444444444,\n",
              "         0.02180232558139535, 0.04285714285714296],\n",
              "        [0.003125, -0.14137777777777777, 0.9274722222222221,\n",
              "         0.050872093023255814, 0.2914285714285713],\n",
              "        [0.03125, 0.07634444444444445, -0.4582444444444444,\n",
              "         0.02180232558139535, 0.0028571428571427964],\n",
              "        [0.040625, 0.07938888888888888, 0.7047166666666667,\n",
              "         0.050872093023255814, 0.23142857142857132],\n",
              "        [0.0125, 0.0828, 0.7063944444444444, 0.02180232558139535,\n",
              "         0.41142857142857153],\n",
              "        [0.00625, 0.13143333333333335, -0.3969944444444445,\n",
              "         0.02180232558139535, 0.0999999999999999],\n",
              "        [0.00625, 0.4026222222222222, 0.3926333333333334,\n",
              "         0.3488372093023256, 0.5142857142857142],\n",
              "        [0.04375, -0.1970222222222222, -0.9603277777777778,\n",
              "         0.02180232558139535, 0.0571428571428572],\n",
              "        [0.00625, 0.3453555555555556, 0.6650611111111111,\n",
              "         0.02180232558139535, 0.17714285714285719]],\n",
              "\n",
              "       [[0.00625, 0.33976666666666666, 0.5020944444444444,\n",
              "         0.02180232558139535, 0.04285714285714296],\n",
              "        [0.003125, -0.14137777777777777, 0.9274722222222221,\n",
              "         0.050872093023255814, 0.2914285714285713],\n",
              "        [0.03125, 0.07634444444444445, -0.4582444444444444,\n",
              "         0.02180232558139535, 0.0028571428571427964],\n",
              "        [0.040625, 0.07938888888888888, 0.7047166666666667,\n",
              "         0.050872093023255814, 0.23142857142857132],\n",
              "        [0.0125, 0.0828, 0.7063944444444444, 0.02180232558139535,\n",
              "         0.41142857142857153],\n",
              "        [0.00625, 0.13143333333333335, -0.3969944444444445,\n",
              "         0.02180232558139535, 0.0999999999999999],\n",
              "        [0.00625, 0.4026222222222222, 0.3926333333333334,\n",
              "         0.3488372093023256, 0.5142857142857142],\n",
              "        [0.04375, -0.1970222222222222, -0.9603277777777778,\n",
              "         0.02180232558139535, 0.0571428571428572],\n",
              "        [0.00625, 0.3453555555555556, 0.6650611111111111,\n",
              "         0.02180232558139535, 0.17714285714285719],\n",
              "        [0.021875, 0.3982555555555556, 0.7794111111111112,\n",
              "         0.0872093023255814, 0.12285714285714278]]], dtype=object)"
            ]
          },
          "metadata": {},
          "execution_count": 298
        }
      ]
    },
    {
      "cell_type": "code",
      "source": [
        "#y_train[0:3]"
      ],
      "metadata": {
        "id": "VwbRDcuvsHUt"
      },
      "execution_count": 299,
      "outputs": []
    },
    {
      "cell_type": "code",
      "source": [
        "print(\"input data shape : \", X_train.shape, \", result shape: \", y_train.shape)"
      ],
      "metadata": {
        "colab": {
          "base_uri": "https://localhost:8080/"
        },
        "id": "D202IJRFrxOI",
        "outputId": "f3c34a99-ff4d-43f8-b61e-72934cf74435"
      },
      "execution_count": 300,
      "outputs": [
        {
          "output_type": "stream",
          "name": "stdout",
          "text": [
            "input data shape :  (3990, 10, 5) , result shape:  (3990, 5)\n"
          ]
        }
      ]
    },
    {
      "cell_type": "code",
      "source": [
        "dataset_test = seq2dataset(data_scaled[learningIndex:], timesteps)\n",
        "X_test = dataset_test[:,0:timesteps]\n",
        "y_test = dataset_test[:,timesteps]\n",
        "y_test = tf.convert_to_tensor(y_test[:,:5], tf.float32)\n",
        "# y_test = y_test.numpy()"
      ],
      "metadata": {
        "id": "6Aa_kEgtUJp8"
      },
      "execution_count": 301,
      "outputs": []
    },
    {
      "cell_type": "code",
      "source": [
        "X_test[0:3]"
      ],
      "metadata": {
        "colab": {
          "base_uri": "https://localhost:8080/"
        },
        "id": "TAhip_S0sZGj",
        "outputId": "8ed69748-f971-424c-cd15-54e226b0cd71"
      },
      "execution_count": 302,
      "outputs": [
        {
          "output_type": "execute_result",
          "data": {
            "text/plain": [
              "array([[[0.059375, -0.03671111111111111, 0.818111111111111,\n",
              "         0.036337209302325583, 0.034285714285714315,\n",
              "         Timestamp('1958-05-17 07:02:32.250000+0000', tz='UTC')],\n",
              "        [0.003125, -0.14609999999999998, 0.9265555555555556,\n",
              "         0.06540697674418605, 0.07428571428571422,\n",
              "         Timestamp('1958-05-18 02:33:00.190000+0000', tz='UTC')],\n",
              "        [0.0, -0.14735555555555557, 0.9267055555555554,\n",
              "         0.06540697674418605, 0.06571428571428584,\n",
              "         Timestamp('1958-05-18 12:21:24.410000+0000', tz='UTC')],\n",
              "        [0.0125, -0.037288888888888885, 0.8137777777777777,\n",
              "         0.036337209302325583, 0.06857142857142863,\n",
              "         Timestamp('1958-05-22 15:08:07.990000+0000', tz='UTC')],\n",
              "        [0.009375, -0.035944444444444446, -0.43265, 0.06656976744186047,\n",
              "         0.054285714285714395,\n",
              "         Timestamp('1958-05-25 21:11:45.800000+0000', tz='UTC')],\n",
              "        [0.015625, 0.5819111111111112, -0.9373055555555556,\n",
              "         0.050872093023255814, 0.03142857142857152,\n",
              "         Timestamp('1958-05-30 18:04:57.060000+0000', tz='UTC')],\n",
              "        [0.003125, -0.17048888888888888, 0.9363722222222222,\n",
              "         0.050872093023255814, 0.25428571428571417,\n",
              "         Timestamp('1958-05-31 19:32:38.580000+0000', tz='UTC')],\n",
              "        [0.009375, -0.17273333333333332, 0.9354666666666666,\n",
              "         0.029069767441860465, 0.07142857142857142,\n",
              "         Timestamp('1958-06-03 19:31:55.660000+0000', tz='UTC')],\n",
              "        [0.003125, 0.5847666666666667, -0.9290944444444444,\n",
              "         0.036337209302325583, 0.07428571428571422,\n",
              "         Timestamp('1958-06-04 14:29:55.260000+0000', tz='UTC')],\n",
              "        [0.00625, 0.08525555555555556, -0.47025, 0.050872093023255814,\n",
              "         0.10571428571428575,\n",
              "         Timestamp('1958-06-06 09:11:22.600000+0000', tz='UTC')]],\n",
              "\n",
              "       [[0.003125, -0.14609999999999998, 0.9265555555555556,\n",
              "         0.06540697674418605, 0.07428571428571422,\n",
              "         Timestamp('1958-05-18 02:33:00.190000+0000', tz='UTC')],\n",
              "        [0.0, -0.14735555555555557, 0.9267055555555554,\n",
              "         0.06540697674418605, 0.06571428571428584,\n",
              "         Timestamp('1958-05-18 12:21:24.410000+0000', tz='UTC')],\n",
              "        [0.0125, -0.037288888888888885, 0.8137777777777777,\n",
              "         0.036337209302325583, 0.06857142857142863,\n",
              "         Timestamp('1958-05-22 15:08:07.990000+0000', tz='UTC')],\n",
              "        [0.009375, -0.035944444444444446, -0.43265, 0.06656976744186047,\n",
              "         0.054285714285714395,\n",
              "         Timestamp('1958-05-25 21:11:45.800000+0000', tz='UTC')],\n",
              "        [0.015625, 0.5819111111111112, -0.9373055555555556,\n",
              "         0.050872093023255814, 0.03142857142857152,\n",
              "         Timestamp('1958-05-30 18:04:57.060000+0000', tz='UTC')],\n",
              "        [0.003125, -0.17048888888888888, 0.9363722222222222,\n",
              "         0.050872093023255814, 0.25428571428571417,\n",
              "         Timestamp('1958-05-31 19:32:38.580000+0000', tz='UTC')],\n",
              "        [0.009375, -0.17273333333333332, 0.9354666666666666,\n",
              "         0.029069767441860465, 0.07142857142857142,\n",
              "         Timestamp('1958-06-03 19:31:55.660000+0000', tz='UTC')],\n",
              "        [0.003125, 0.5847666666666667, -0.9290944444444444,\n",
              "         0.036337209302325583, 0.07428571428571422,\n",
              "         Timestamp('1958-06-04 14:29:55.260000+0000', tz='UTC')],\n",
              "        [0.00625, 0.08525555555555556, -0.47025, 0.050872093023255814,\n",
              "         0.10571428571428575,\n",
              "         Timestamp('1958-06-06 09:11:22.600000+0000', tz='UTC')],\n",
              "        [0.0, 0.05906666666666666, -0.45781111111111117,\n",
              "         0.02180232558139535, 0.017142857142857033,\n",
              "         Timestamp('1958-06-06 19:15:32.660000+0000', tz='UTC')]],\n",
              "\n",
              "       [[0.0, -0.14735555555555557, 0.9267055555555554,\n",
              "         0.06540697674418605, 0.06571428571428584,\n",
              "         Timestamp('1958-05-18 12:21:24.410000+0000', tz='UTC')],\n",
              "        [0.0125, -0.037288888888888885, 0.8137777777777777,\n",
              "         0.036337209302325583, 0.06857142857142863,\n",
              "         Timestamp('1958-05-22 15:08:07.990000+0000', tz='UTC')],\n",
              "        [0.009375, -0.035944444444444446, -0.43265, 0.06656976744186047,\n",
              "         0.054285714285714395,\n",
              "         Timestamp('1958-05-25 21:11:45.800000+0000', tz='UTC')],\n",
              "        [0.015625, 0.5819111111111112, -0.9373055555555556,\n",
              "         0.050872093023255814, 0.03142857142857152,\n",
              "         Timestamp('1958-05-30 18:04:57.060000+0000', tz='UTC')],\n",
              "        [0.003125, -0.17048888888888888, 0.9363722222222222,\n",
              "         0.050872093023255814, 0.25428571428571417,\n",
              "         Timestamp('1958-05-31 19:32:38.580000+0000', tz='UTC')],\n",
              "        [0.009375, -0.17273333333333332, 0.9354666666666666,\n",
              "         0.029069767441860465, 0.07142857142857142,\n",
              "         Timestamp('1958-06-03 19:31:55.660000+0000', tz='UTC')],\n",
              "        [0.003125, 0.5847666666666667, -0.9290944444444444,\n",
              "         0.036337209302325583, 0.07428571428571422,\n",
              "         Timestamp('1958-06-04 14:29:55.260000+0000', tz='UTC')],\n",
              "        [0.00625, 0.08525555555555556, -0.47025, 0.050872093023255814,\n",
              "         0.10571428571428575,\n",
              "         Timestamp('1958-06-06 09:11:22.600000+0000', tz='UTC')],\n",
              "        [0.0, 0.05906666666666666, -0.45781111111111117,\n",
              "         0.02180232558139535, 0.017142857142857033,\n",
              "         Timestamp('1958-06-06 19:15:32.660000+0000', tz='UTC')],\n",
              "        [0.01875, 0.5850888888888889, -0.9276833333333333,\n",
              "         0.050872093023255814, 0.08857142857142845,\n",
              "         Timestamp('1958-06-12 20:53:05.930000+0000', tz='UTC')]]],\n",
              "      dtype=object)"
            ]
          },
          "metadata": {},
          "execution_count": 302
        }
      ]
    },
    {
      "cell_type": "code",
      "source": [
        "y_test[0:3]"
      ],
      "metadata": {
        "colab": {
          "base_uri": "https://localhost:8080/"
        },
        "id": "u6g_qJqksdVt",
        "outputId": "dd4d3029-695e-4078-cd0e-95006160282c"
      },
      "execution_count": 303,
      "outputs": [
        {
          "output_type": "execute_result",
          "data": {
            "text/plain": [
              "<tf.Tensor: shape=(3, 5), dtype=float32, numpy=\n",
              "array([[ 0.        ,  0.05906667, -0.45781112,  0.02180232,  0.01714286],\n",
              "       [ 0.01875   ,  0.5850889 , -0.92768335,  0.05087209,  0.08857143],\n",
              "       [ 0.015625  ,  0.27363333,  0.79142225,  0.05087209,  0.00571429]],\n",
              "      dtype=float32)>"
            ]
          },
          "metadata": {},
          "execution_count": 303
        }
      ]
    },
    {
      "cell_type": "code",
      "source": [
        "print(\"input data shape : \", X_test.shape, \", result shape: \", y_test.shape)"
      ],
      "metadata": {
        "colab": {
          "base_uri": "https://localhost:8080/"
        },
        "id": "smRXOF35smqo",
        "outputId": "2831d957-d06e-48c7-8168-9146218601f1"
      },
      "execution_count": 304,
      "outputs": [
        {
          "output_type": "stream",
          "name": "stdout",
          "text": [
            "input data shape :  (8813, 10, 6) , result shape:  (8813, 5)\n"
          ]
        }
      ]
    },
    {
      "cell_type": "markdown",
      "source": [
        "# lstm 모델"
      ],
      "metadata": {
        "id": "bvoVhZGxIHvJ"
      }
    },
    {
      "cell_type": "code",
      "source": [
        "# Assume that your input data has shape (batch_size, timesteps, input_dim)\n",
        "input_dim = 5\n",
        "output_dim = 5\n",
        "LSTM_layer = []\n",
        "with tf.device('/device:GPU:0'):\n",
        "  inputs = keras.Input(shape=(timesteps, input_dim),batch_size=batch_size) #batch_size\n",
        "  # inputsDense = Dense(5)(inputs)\n",
        "  # model = Sequential()\n",
        "  LSTM_layer.append(LSTM(64,stateful=True)(inputs)) #kernel_initializer=tf.keras.initializers.RandomNormal(mean=0.0, stddev=0.00001, seed=7)  , input_shape=(batch_size,timesteps, input_dim)\n",
        "  # LSTM_layer.append(LSTM(64, return_sequences=True, stateful=True)(LSTM_layer[-1])) #kernel_initializer=tf.keras.initializers.RandomNormal(mean=0.0, stddev=0.00001, seed=7)  , input_shape=(batch_size,timesteps, input_dim)\n",
        "  # model.add(Attention())\n",
        "  # model.add(LSTM(64,stateful=True))\n",
        "  # model.add(Dense(output_dim))\n",
        "  time = Dense(1,activation='sigmoid', name=\"time\")(LSTM_layer[-1])\n",
        "  position = Dense(2, name=\"position\")(LSTM_layer[-1])\n",
        "  depth = Dense(1,activation='sigmoid', name=\"depth\")(LSTM_layer[-1])\n",
        "  mag = Dense(1, name=\"mag\")(LSTM_layer[-1])\n",
        "  outputs = concatenate([time, position,depth,mag])\n",
        "\n",
        "  model = keras.Model(\n",
        "    inputs=[inputs],\n",
        "    outputs=[outputs],\n",
        ")\n",
        "\n",
        "model.summary()"
      ],
      "metadata": {
        "id": "2lVNJZyAIO3K",
        "colab": {
          "base_uri": "https://localhost:8080/"
        },
        "outputId": "46b9a00f-9ad1-4564-daec-bb9ea60b2d14"
      },
      "execution_count": 209,
      "outputs": [
        {
          "output_type": "stream",
          "name": "stdout",
          "text": [
            "Model: \"model_4\"\n",
            "__________________________________________________________________________________________________\n",
            " Layer (type)                   Output Shape         Param #     Connected to                     \n",
            "==================================================================================================\n",
            " input_5 (InputLayer)           [(30, 10, 5)]        0           []                               \n",
            "                                                                                                  \n",
            " lstm_4 (LSTM)                  (30, 64)             17920       ['input_5[0][0]']                \n",
            "                                                                                                  \n",
            " time (Dense)                   (30, 1)              65          ['lstm_4[0][0]']                 \n",
            "                                                                                                  \n",
            " position (Dense)               (30, 2)              130         ['lstm_4[0][0]']                 \n",
            "                                                                                                  \n",
            " depth (Dense)                  (30, 1)              65          ['lstm_4[0][0]']                 \n",
            "                                                                                                  \n",
            " mag (Dense)                    (30, 1)              65          ['lstm_4[0][0]']                 \n",
            "                                                                                                  \n",
            " concatenate_4 (Concatenate)    (30, 5)              0           ['time[0][0]',                   \n",
            "                                                                  'position[0][0]',               \n",
            "                                                                  'depth[0][0]',                  \n",
            "                                                                  'mag[0][0]']                    \n",
            "                                                                                                  \n",
            "==================================================================================================\n",
            "Total params: 18,245\n",
            "Trainable params: 18,245\n",
            "Non-trainable params: 0\n",
            "__________________________________________________________________________________________________\n"
          ]
        }
      ]
    },
    {
      "cell_type": "code",
      "source": [
        "plot_model(model, to_file='model_shapes.png', show_shapes=True)"
      ],
      "metadata": {
        "colab": {
          "base_uri": "https://localhost:8080/",
          "height": 422
        },
        "id": "75p3vITiMRZc",
        "outputId": "0a6e32e3-6b10-4984-db7d-c91e692eff0e"
      },
      "execution_count": 210,
      "outputs": [
        {
          "output_type": "execute_result",
          "data": {
            "image/png": "[encoded data removed]",
            "text/plain": [
              "<IPython.core.display.Image object>"
            ]
          },
          "metadata": {},
          "execution_count": 210
        }
      ]
    },
    {
      "cell_type": "markdown",
      "source": [
        "# 손실 함수 정의"
      ],
      "metadata": {
        "id": "izrBn-ZIdZy7"
      }
    },
    {
      "cell_type": "code",
      "source": [
        "def degrees_to_radians(deg):\n",
        "    return tf.convert_to_tensor(np.pi,dtype=tf.float32)*deg/180\n",
        "\n",
        "def sphericalToOrthogonal(lat,lon):\n",
        "  x = tf.math.cos(lat)*tf.math.cos(lon)\n",
        "  y = tf.math.cos(lat)*tf.math.sin(lon)\n",
        "  z = tf.math.sin(lat)\n",
        "\n",
        "  return tf.transpose(tf.stack([x,y,z]))"
      ],
      "metadata": {
        "id": "-lFVMp1jFxwN"
      },
      "execution_count": 211,
      "outputs": []
    },
    {
      "cell_type": "code",
      "source": [
        "def haversine_distance_loss(lat1,lon1,lat2,lon2):\n",
        "    \n",
        "    # 위도와 경도의 단위를 라디안으로 변환\n",
        "    lat1 = degrees_to_radians(lat1*90)\n",
        "    lon1 = degrees_to_radians(lon1*180)\n",
        "    lat2 = degrees_to_radians(lat2*90)\n",
        "    lon2 = degrees_to_radians(lon2*180)\n",
        "\n",
        "    p_1 = sphericalToOrthogonal(lat1,lon1)\n",
        "    p_2 = sphericalToOrthogonal(lat2,lon2)\n",
        "    \n",
        "\n",
        "    # 유클리드 거리 공식 사용\n",
        "    ThreeDimensionalDistance = tf.math.reduce_euclidean_norm(p_1-p_2,1)\n",
        "     \n",
        "    # 거리의 제곱을 반환\n",
        "    return (2*tf.math.asin(ThreeDimensionalDistance/2))**2/(np.pi**2)\n"
      ],
      "metadata": {
        "id": "rO6aW5qw9uiq"
      },
      "execution_count": 212,
      "outputs": []
    },
    {
      "cell_type": "code",
      "source": [
        "# c_0 = tf.constant([[1, 0], [-1, 1], [-1, 0], [-1, 0]],dtype=tf.float32)\n",
        "# c_1 = tf.constant([[0.6, -0.8], [-0.1, 0], [-0.5, 0], [-1, 0]],dtype=tf.float32)\n",
        "# c_1"
      ],
      "metadata": {
        "id": "L3loGFosrAmB"
      },
      "execution_count": 213,
      "outputs": []
    },
    {
      "cell_type": "code",
      "source": [
        "# haversine_distance_loss(c_0[:,0],c_0[:,1],c_1[:,0],c_1[:,1])"
      ],
      "metadata": {
        "id": "1UT-H5LiNgWg"
      },
      "execution_count": 214,
      "outputs": []
    },
    {
      "cell_type": "code",
      "source": [
        "def custom_loss_function(y_true, y_pred):\n",
        "    # 위도와 경도는 지구 위의 2개의 점 사이의 거리를 측정하는 커스텀 손실 함수\n",
        "\n",
        "    distance_loss = haversine_distance_loss(y_true[:,1], y_true[:, 2], y_pred[:, 1], y_pred[:, 2])\n",
        "    # 나머지 파라미터는 평균 제곱 오차를 측정하는 함수\n",
        "    true_time, true_depth, true_mag = y_true[:, 0], y_true[:, 3], y_true[:, 4]\n",
        "    pred_time, pred_depth, pred_mag = y_pred[:, 0], y_pred[:, 3], y_pred[:, 4]\n",
        "    \n",
        "    # Calculate the mean squared error loss for the time, depth, and mag dimensions\n",
        "    mse_loss = (true_time - pred_time)**2 + (true_depth - pred_depth)**2 + (true_mag - pred_mag)**2\n",
        "    # mse_loss = losses.mean_squared_error(tf.gather(y_true, [0, 3, 4], axis=1), tf.gather(y_pred, [0, 3, 4], axis=1))\n",
        "    # 커스텀 손실 함수 결과 반환\n",
        "    return tf.reduce_mean(distance_loss + mse_loss)\n"
      ],
      "metadata": {
        "id": "bkzYvKpM8eM0"
      },
      "execution_count": 215,
      "outputs": []
    },
    {
      "cell_type": "markdown",
      "source": [
        "# 콜백 함수 정의"
      ],
      "metadata": {
        "id": "Qfcib9QXdTCR"
      }
    },
    {
      "cell_type": "code",
      "source": [
        "# 손실 이력 클래스 정의\n",
        "class LossHistory(keras.callbacks.Callback):\n",
        "    def __init__(self):\n",
        "        self.losses = []\n",
        "        self.accuracys = []\n",
        "        # self.term.__init__()\n",
        "        \n",
        "    def on_epoch_end(self, epoch, logs={}):\n",
        "        self.losses.append(logs.get('loss'))\n",
        "        self.accuracys.append(logs.get('acc'))"
      ],
      "metadata": {
        "id": "pX06dxqeRwFa"
      },
      "execution_count": 216,
      "outputs": []
    },
    {
      "cell_type": "code",
      "source": [
        "history = LossHistory() # 손실 이력 객체 생성\n",
        "\n",
        "# history.init()"
      ],
      "metadata": {
        "id": "dBdTEXnfSHST"
      },
      "execution_count": 217,
      "outputs": []
    },
    {
      "cell_type": "code",
      "source": [
        "term = TerminateOnNaN()"
      ],
      "metadata": {
        "id": "qreqvn1GlOOU"
      },
      "execution_count": 218,
      "outputs": []
    },
    {
      "cell_type": "code",
      "source": [
        "import datetime\n",
        "log_dir = \"logs/my_board/\" + datetime.datetime.now().strftime(\"%Y%m%d-%H%M%S\")\n",
        "tensorboard_callback = tf.keras.callbacks.TensorBoard(log_dir=log_dir, histogram_freq=1)"
      ],
      "metadata": {
        "id": "UDfREsz-hS0u"
      },
      "execution_count": 219,
      "outputs": []
    },
    {
      "cell_type": "markdown",
      "source": [
        "# 모델 컴파일"
      ],
      "metadata": {
        "id": "Dse6_Stsc70S"
      }
    },
    {
      "cell_type": "code",
      "source": [
        "with tf.device('/device:GPU:0'):\n",
        "  model.compile(loss=custom_loss_function, optimizer=\"adam\")#tf.keras.optimizers.Adam(learning_rate=0.0001)"
      ],
      "metadata": {
        "id": "-Eq9JxH58UTq"
      },
      "execution_count": 220,
      "outputs": []
    },
    {
      "cell_type": "markdown",
      "source": [
        "# 모델 훈련"
      ],
      "metadata": {
        "id": "on1-KHgTJ2qo"
      }
    },
    {
      "cell_type": "code",
      "source": [
        "with tf.device('/device:GPU:0'):\n",
        "  \n",
        "  X_train_tensor = tf.convert_to_tensor(X_train, dtype=tf.float32)\n",
        "  y_train_tensor = tf.convert_to_tensor(y_train, dtype=tf.float32)\n",
        "\n",
        "  for epoch_idx in range(num_epochs):\n",
        "      print ('epochs : ' + str(epoch_idx) )\n",
        "      model.fit(X_train_tensor, y_train_tensor, epochs=1, batch_size=batch_size, verbose=2, shuffle=False, callbacks=[history,tensorboard_callback]) #term\n",
        "      model.reset_states()\n",
        "    "
      ],
      "metadata": {
        "colab": {
          "base_uri": "https://localhost:8080/"
        },
        "id": "wC-vb3pOJ6AO",
        "outputId": "97ead16b-8ef6-4dd0-8d5d-059ed9a16051"
      },
      "execution_count": 227,
      "outputs": [
        {
          "output_type": "stream",
          "name": "stdout",
          "text": [
            "epochs : 0\n",
            "133/133 - 1s - loss: 0.0323 - 719ms/epoch - 5ms/step\n",
            "epochs : 1\n",
            "133/133 - 1s - loss: 0.0349 - 717ms/epoch - 5ms/step\n",
            "epochs : 2\n",
            "133/133 - 1s - loss: 0.0365 - 718ms/epoch - 5ms/step\n",
            "epochs : 3\n",
            "133/133 - 1s - loss: 0.0330 - 691ms/epoch - 5ms/step\n",
            "epochs : 4\n",
            "133/133 - 1s - loss: 0.0345 - 706ms/epoch - 5ms/step\n",
            "epochs : 5\n",
            "133/133 - 1s - loss: 0.0350 - 706ms/epoch - 5ms/step\n",
            "epochs : 6\n",
            "133/133 - 1s - loss: 0.0329 - 703ms/epoch - 5ms/step\n",
            "epochs : 7\n",
            "133/133 - 1s - loss: 0.0323 - 699ms/epoch - 5ms/step\n",
            "epochs : 8\n",
            "133/133 - 1s - loss: 0.0322 - 718ms/epoch - 5ms/step\n",
            "epochs : 9\n",
            "133/133 - 1s - loss: 0.0326 - 705ms/epoch - 5ms/step\n",
            "epochs : 10\n",
            "133/133 - 1s - loss: 0.0344 - 662ms/epoch - 5ms/step\n",
            "epochs : 11\n",
            "133/133 - 1s - loss: 0.0329 - 661ms/epoch - 5ms/step\n",
            "epochs : 12\n",
            "133/133 - 1s - loss: 0.0342 - 644ms/epoch - 5ms/step\n",
            "epochs : 13\n",
            "133/133 - 1s - loss: 0.0333 - 677ms/epoch - 5ms/step\n",
            "epochs : 14\n",
            "133/133 - 1s - loss: 0.0309 - 675ms/epoch - 5ms/step\n",
            "epochs : 15\n",
            "133/133 - 1s - loss: 0.0331 - 645ms/epoch - 5ms/step\n",
            "epochs : 16\n",
            "133/133 - 1s - loss: 0.0337 - 664ms/epoch - 5ms/step\n",
            "epochs : 17\n",
            "133/133 - 1s - loss: 0.0326 - 684ms/epoch - 5ms/step\n",
            "epochs : 18\n",
            "133/133 - 1s - loss: 0.0307 - 671ms/epoch - 5ms/step\n",
            "epochs : 19\n",
            "133/133 - 1s - loss: 0.0318 - 676ms/epoch - 5ms/step\n",
            "epochs : 20\n",
            "133/133 - 1s - loss: 0.0322 - 680ms/epoch - 5ms/step\n",
            "epochs : 21\n",
            "133/133 - 1s - loss: 0.0319 - 675ms/epoch - 5ms/step\n",
            "epochs : 22\n",
            "133/133 - 1s - loss: 0.0338 - 694ms/epoch - 5ms/step\n",
            "epochs : 23\n",
            "133/133 - 1s - loss: 0.0359 - 646ms/epoch - 5ms/step\n",
            "epochs : 24\n",
            "133/133 - 1s - loss: 0.0323 - 648ms/epoch - 5ms/step\n",
            "epochs : 25\n",
            "133/133 - 1s - loss: 0.0322 - 639ms/epoch - 5ms/step\n",
            "epochs : 26\n",
            "133/133 - 1s - loss: 0.0309 - 674ms/epoch - 5ms/step\n",
            "epochs : 27\n",
            "133/133 - 1s - loss: 0.0299 - 649ms/epoch - 5ms/step\n",
            "epochs : 28\n",
            "133/133 - 1s - loss: 0.0315 - 685ms/epoch - 5ms/step\n",
            "epochs : 29\n",
            "133/133 - 1s - loss: 0.0330 - 699ms/epoch - 5ms/step\n",
            "epochs : 30\n",
            "133/133 - 1s - loss: 0.0338 - 670ms/epoch - 5ms/step\n",
            "epochs : 31\n",
            "133/133 - 1s - loss: 0.0320 - 663ms/epoch - 5ms/step\n",
            "epochs : 32\n",
            "133/133 - 1s - loss: 0.0305 - 685ms/epoch - 5ms/step\n",
            "epochs : 33\n",
            "133/133 - 1s - loss: 0.0333 - 677ms/epoch - 5ms/step\n",
            "epochs : 34\n",
            "133/133 - 1s - loss: 0.0324 - 681ms/epoch - 5ms/step\n",
            "epochs : 35\n",
            "133/133 - 1s - loss: 0.0323 - 672ms/epoch - 5ms/step\n",
            "epochs : 36\n",
            "133/133 - 1s - loss: 0.0329 - 718ms/epoch - 5ms/step\n",
            "epochs : 37\n",
            "133/133 - 1s - loss: 0.0325 - 764ms/epoch - 6ms/step\n",
            "epochs : 38\n",
            "133/133 - 1s - loss: 0.0320 - 746ms/epoch - 6ms/step\n",
            "epochs : 39\n",
            "133/133 - 1s - loss: 0.0301 - 728ms/epoch - 5ms/step\n",
            "epochs : 40\n",
            "133/133 - 1s - loss: 0.0313 - 719ms/epoch - 5ms/step\n",
            "epochs : 41\n",
            "133/133 - 1s - loss: 0.0326 - 693ms/epoch - 5ms/step\n",
            "epochs : 42\n",
            "133/133 - 1s - loss: 0.0298 - 705ms/epoch - 5ms/step\n",
            "epochs : 43\n",
            "133/133 - 1s - loss: 0.0300 - 683ms/epoch - 5ms/step\n",
            "epochs : 44\n",
            "133/133 - 1s - loss: 0.0305 - 693ms/epoch - 5ms/step\n",
            "epochs : 45\n",
            "133/133 - 1s - loss: 0.0331 - 690ms/epoch - 5ms/step\n",
            "epochs : 46\n",
            "133/133 - 1s - loss: 0.0310 - 708ms/epoch - 5ms/step\n",
            "epochs : 47\n",
            "133/133 - 1s - loss: 0.0301 - 675ms/epoch - 5ms/step\n",
            "epochs : 48\n",
            "133/133 - 1s - loss: 0.0311 - 681ms/epoch - 5ms/step\n",
            "epochs : 49\n",
            "133/133 - 1s - loss: 0.0303 - 669ms/epoch - 5ms/step\n",
            "epochs : 50\n",
            "133/133 - 1s - loss: 0.0322 - 670ms/epoch - 5ms/step\n",
            "epochs : 51\n",
            "133/133 - 1s - loss: 0.0342 - 664ms/epoch - 5ms/step\n",
            "epochs : 52\n",
            "133/133 - 1s - loss: 0.0322 - 643ms/epoch - 5ms/step\n",
            "epochs : 53\n",
            "133/133 - 1s - loss: 0.0319 - 672ms/epoch - 5ms/step\n",
            "epochs : 54\n",
            "133/133 - 1s - loss: 0.0311 - 648ms/epoch - 5ms/step\n",
            "epochs : 55\n",
            "133/133 - 1s - loss: 0.0313 - 676ms/epoch - 5ms/step\n",
            "epochs : 56\n",
            "133/133 - 1s - loss: 0.0302 - 651ms/epoch - 5ms/step\n",
            "epochs : 57\n",
            "133/133 - 1s - loss: 0.0300 - 658ms/epoch - 5ms/step\n",
            "epochs : 58\n",
            "133/133 - 1s - loss: 0.0306 - 672ms/epoch - 5ms/step\n",
            "epochs : 59\n",
            "133/133 - 1s - loss: 0.0322 - 650ms/epoch - 5ms/step\n",
            "epochs : 60\n",
            "133/133 - 1s - loss: 0.0313 - 669ms/epoch - 5ms/step\n",
            "epochs : 61\n",
            "133/133 - 1s - loss: 0.0322 - 673ms/epoch - 5ms/step\n",
            "epochs : 62\n",
            "133/133 - 1s - loss: 0.0305 - 667ms/epoch - 5ms/step\n",
            "epochs : 63\n",
            "133/133 - 1s - loss: 0.0307 - 673ms/epoch - 5ms/step\n",
            "epochs : 64\n",
            "133/133 - 1s - loss: 0.0309 - 671ms/epoch - 5ms/step\n",
            "epochs : 65\n",
            "133/133 - 1s - loss: 0.0306 - 675ms/epoch - 5ms/step\n",
            "epochs : 66\n",
            "133/133 - 1s - loss: 0.0308 - 671ms/epoch - 5ms/step\n",
            "epochs : 67\n",
            "133/133 - 1s - loss: 0.0300 - 668ms/epoch - 5ms/step\n",
            "epochs : 68\n",
            "133/133 - 1s - loss: 0.0306 - 666ms/epoch - 5ms/step\n",
            "epochs : 69\n",
            "133/133 - 1s - loss: 0.0325 - 682ms/epoch - 5ms/step\n",
            "epochs : 70\n",
            "133/133 - 1s - loss: 0.0309 - 695ms/epoch - 5ms/step\n",
            "epochs : 71\n",
            "133/133 - 1s - loss: 0.0296 - 694ms/epoch - 5ms/step\n",
            "epochs : 72\n",
            "133/133 - 1s - loss: 0.0305 - 667ms/epoch - 5ms/step\n",
            "epochs : 73\n",
            "133/133 - 1s - loss: 0.0316 - 693ms/epoch - 5ms/step\n",
            "epochs : 74\n",
            "133/133 - 1s - loss: 0.0303 - 734ms/epoch - 6ms/step\n",
            "epochs : 75\n",
            "133/133 - 1s - loss: 0.0292 - 731ms/epoch - 5ms/step\n",
            "epochs : 76\n",
            "133/133 - 1s - loss: 0.0306 - 708ms/epoch - 5ms/step\n",
            "epochs : 77\n",
            "133/133 - 1s - loss: 0.0290 - 709ms/epoch - 5ms/step\n",
            "epochs : 78\n",
            "133/133 - 1s - loss: 0.0313 - 708ms/epoch - 5ms/step\n",
            "epochs : 79\n",
            "133/133 - 1s - loss: 0.0302 - 701ms/epoch - 5ms/step\n",
            "epochs : 80\n",
            "133/133 - 1s - loss: 0.0297 - 689ms/epoch - 5ms/step\n",
            "epochs : 81\n",
            "133/133 - 1s - loss: 0.0308 - 688ms/epoch - 5ms/step\n",
            "epochs : 82\n",
            "133/133 - 1s - loss: 0.0310 - 670ms/epoch - 5ms/step\n",
            "epochs : 83\n",
            "133/133 - 1s - loss: 0.0303 - 669ms/epoch - 5ms/step\n",
            "epochs : 84\n",
            "133/133 - 1s - loss: 0.0286 - 679ms/epoch - 5ms/step\n",
            "epochs : 85\n",
            "133/133 - 1s - loss: 0.0298 - 677ms/epoch - 5ms/step\n",
            "epochs : 86\n",
            "133/133 - 1s - loss: 0.0304 - 672ms/epoch - 5ms/step\n",
            "epochs : 87\n",
            "133/133 - 1s - loss: 0.0288 - 670ms/epoch - 5ms/step\n",
            "epochs : 88\n",
            "133/133 - 1s - loss: 0.0307 - 670ms/epoch - 5ms/step\n",
            "epochs : 89\n",
            "133/133 - 1s - loss: 0.0301 - 681ms/epoch - 5ms/step\n",
            "epochs : 90\n",
            "133/133 - 1s - loss: 0.0300 - 669ms/epoch - 5ms/step\n",
            "epochs : 91\n",
            "133/133 - 1s - loss: 0.0284 - 663ms/epoch - 5ms/step\n",
            "epochs : 92\n",
            "133/133 - 1s - loss: 0.0296 - 685ms/epoch - 5ms/step\n",
            "epochs : 93\n",
            "133/133 - 1s - loss: 0.0295 - 700ms/epoch - 5ms/step\n",
            "epochs : 94\n",
            "133/133 - 1s - loss: 0.0317 - 689ms/epoch - 5ms/step\n",
            "epochs : 95\n",
            "133/133 - 1s - loss: 0.0317 - 678ms/epoch - 5ms/step\n",
            "epochs : 96\n",
            "133/133 - 1s - loss: 0.0320 - 693ms/epoch - 5ms/step\n",
            "epochs : 97\n",
            "133/133 - 1s - loss: 0.0292 - 684ms/epoch - 5ms/step\n",
            "epochs : 98\n",
            "133/133 - 1s - loss: 0.0286 - 691ms/epoch - 5ms/step\n",
            "epochs : 99\n",
            "133/133 - 1s - loss: 0.0283 - 720ms/epoch - 5ms/step\n",
            "epochs : 100\n",
            "133/133 - 1s - loss: 0.0286 - 722ms/epoch - 5ms/step\n",
            "epochs : 101\n",
            "133/133 - 1s - loss: 0.0303 - 730ms/epoch - 5ms/step\n",
            "epochs : 102\n",
            "133/133 - 1s - loss: 0.0304 - 750ms/epoch - 6ms/step\n",
            "epochs : 103\n",
            "133/133 - 1s - loss: 0.0293 - 774ms/epoch - 6ms/step\n",
            "epochs : 104\n",
            "133/133 - 1s - loss: 0.0280 - 785ms/epoch - 6ms/step\n",
            "epochs : 105\n",
            "133/133 - 1s - loss: 0.0295 - 720ms/epoch - 5ms/step\n",
            "epochs : 106\n",
            "133/133 - 1s - loss: 0.0308 - 706ms/epoch - 5ms/step\n",
            "epochs : 107\n",
            "133/133 - 1s - loss: 0.0278 - 729ms/epoch - 5ms/step\n",
            "epochs : 108\n",
            "133/133 - 1s - loss: 0.0268 - 734ms/epoch - 6ms/step\n",
            "epochs : 109\n",
            "133/133 - 1s - loss: 0.0273 - 755ms/epoch - 6ms/step\n",
            "epochs : 110\n",
            "133/133 - 1s - loss: 0.0275 - 714ms/epoch - 5ms/step\n",
            "epochs : 111\n",
            "133/133 - 1s - loss: 0.0303 - 733ms/epoch - 6ms/step\n",
            "epochs : 112\n",
            "133/133 - 1s - loss: 0.0276 - 702ms/epoch - 5ms/step\n",
            "epochs : 113\n",
            "133/133 - 1s - loss: 0.0269 - 740ms/epoch - 6ms/step\n",
            "epochs : 114\n",
            "133/133 - 1s - loss: 0.0269 - 735ms/epoch - 6ms/step\n",
            "epochs : 115\n",
            "133/133 - 1s - loss: 0.0292 - 724ms/epoch - 5ms/step\n",
            "epochs : 116\n",
            "133/133 - 1s - loss: 0.0286 - 733ms/epoch - 6ms/step\n",
            "epochs : 117\n",
            "133/133 - 1s - loss: 0.0282 - 666ms/epoch - 5ms/step\n",
            "epochs : 118\n",
            "133/133 - 1s - loss: 0.0273 - 674ms/epoch - 5ms/step\n",
            "epochs : 119\n",
            "133/133 - 1s - loss: 0.0304 - 663ms/epoch - 5ms/step\n",
            "epochs : 120\n",
            "133/133 - 1s - loss: 0.0297 - 674ms/epoch - 5ms/step\n",
            "epochs : 121\n",
            "133/133 - 1s - loss: 0.0285 - 645ms/epoch - 5ms/step\n",
            "epochs : 122\n",
            "133/133 - 1s - loss: 0.0273 - 684ms/epoch - 5ms/step\n",
            "epochs : 123\n",
            "133/133 - 1s - loss: 0.0269 - 673ms/epoch - 5ms/step\n",
            "epochs : 124\n",
            "133/133 - 1s - loss: 0.0279 - 655ms/epoch - 5ms/step\n",
            "epochs : 125\n",
            "133/133 - 1s - loss: 0.0268 - 667ms/epoch - 5ms/step\n",
            "epochs : 126\n",
            "133/133 - 1s - loss: 0.0260 - 660ms/epoch - 5ms/step\n",
            "epochs : 127\n",
            "133/133 - 1s - loss: 0.0271 - 681ms/epoch - 5ms/step\n",
            "epochs : 128\n",
            "133/133 - 1s - loss: 0.0256 - 660ms/epoch - 5ms/step\n",
            "epochs : 129\n",
            "133/133 - 1s - loss: 0.0261 - 663ms/epoch - 5ms/step\n",
            "epochs : 130\n",
            "133/133 - 1s - loss: 0.0265 - 649ms/epoch - 5ms/step\n",
            "epochs : 131\n",
            "133/133 - 1s - loss: 0.0274 - 664ms/epoch - 5ms/step\n",
            "epochs : 132\n",
            "133/133 - 1s - loss: 0.0272 - 668ms/epoch - 5ms/step\n",
            "epochs : 133\n",
            "133/133 - 1s - loss: 0.0281 - 647ms/epoch - 5ms/step\n",
            "epochs : 134\n",
            "133/133 - 1s - loss: 0.0270 - 680ms/epoch - 5ms/step\n",
            "epochs : 135\n",
            "133/133 - 1s - loss: 0.0265 - 648ms/epoch - 5ms/step\n",
            "epochs : 136\n",
            "133/133 - 1s - loss: 0.0270 - 683ms/epoch - 5ms/step\n",
            "epochs : 137\n",
            "133/133 - 1s - loss: 0.0277 - 678ms/epoch - 5ms/step\n",
            "epochs : 138\n",
            "133/133 - 1s - loss: 0.0306 - 666ms/epoch - 5ms/step\n",
            "epochs : 139\n",
            "133/133 - 1s - loss: 0.0295 - 712ms/epoch - 5ms/step\n",
            "epochs : 140\n",
            "133/133 - 1s - loss: 0.0267 - 665ms/epoch - 5ms/step\n",
            "epochs : 141\n",
            "133/133 - 1s - loss: 0.0260 - 675ms/epoch - 5ms/step\n",
            "epochs : 142\n",
            "133/133 - 1s - loss: 0.0275 - 657ms/epoch - 5ms/step\n",
            "epochs : 143\n",
            "133/133 - 1s - loss: 0.0257 - 687ms/epoch - 5ms/step\n",
            "epochs : 144\n",
            "133/133 - 1s - loss: 0.0270 - 668ms/epoch - 5ms/step\n",
            "epochs : 145\n",
            "133/133 - 1s - loss: 0.0268 - 696ms/epoch - 5ms/step\n",
            "epochs : 146\n",
            "133/133 - 1s - loss: 0.0271 - 702ms/epoch - 5ms/step\n",
            "epochs : 147\n",
            "133/133 - 1s - loss: 0.0261 - 687ms/epoch - 5ms/step\n",
            "epochs : 148\n",
            "133/133 - 1s - loss: 0.0272 - 694ms/epoch - 5ms/step\n",
            "epochs : 149\n",
            "133/133 - 1s - loss: 0.0288 - 674ms/epoch - 5ms/step\n",
            "epochs : 150\n",
            "133/133 - 1s - loss: 0.0276 - 666ms/epoch - 5ms/step\n",
            "epochs : 151\n",
            "133/133 - 1s - loss: 0.0260 - 677ms/epoch - 5ms/step\n",
            "epochs : 152\n",
            "133/133 - 1s - loss: 0.0267 - 676ms/epoch - 5ms/step\n",
            "epochs : 153\n",
            "133/133 - 1s - loss: 0.0279 - 670ms/epoch - 5ms/step\n",
            "epochs : 154\n",
            "133/133 - 1s - loss: 0.0278 - 753ms/epoch - 6ms/step\n",
            "epochs : 155\n",
            "133/133 - 1s - loss: 0.0258 - 959ms/epoch - 7ms/step\n",
            "epochs : 156\n",
            "133/133 - 1s - loss: 0.0258 - 675ms/epoch - 5ms/step\n",
            "epochs : 157\n",
            "133/133 - 1s - loss: 0.0250 - 682ms/epoch - 5ms/step\n",
            "epochs : 158\n",
            "133/133 - 1s - loss: 0.0259 - 672ms/epoch - 5ms/step\n",
            "epochs : 159\n",
            "133/133 - 1s - loss: 0.0265 - 659ms/epoch - 5ms/step\n",
            "epochs : 160\n",
            "133/133 - 1s - loss: 0.0270 - 673ms/epoch - 5ms/step\n",
            "epochs : 161\n",
            "133/133 - 1s - loss: 0.0276 - 654ms/epoch - 5ms/step\n",
            "epochs : 162\n",
            "133/133 - 1s - loss: 0.0258 - 665ms/epoch - 5ms/step\n",
            "epochs : 163\n",
            "133/133 - 1s - loss: 0.0248 - 696ms/epoch - 5ms/step\n",
            "epochs : 164\n",
            "133/133 - 1s - loss: 0.0253 - 699ms/epoch - 5ms/step\n",
            "epochs : 165\n",
            "133/133 - 1s - loss: 0.0243 - 657ms/epoch - 5ms/step\n",
            "epochs : 166\n",
            "133/133 - 1s - loss: 0.0249 - 672ms/epoch - 5ms/step\n",
            "epochs : 167\n",
            "133/133 - 1s - loss: 0.0261 - 698ms/epoch - 5ms/step\n",
            "epochs : 168\n",
            "133/133 - 1s - loss: 0.0269 - 692ms/epoch - 5ms/step\n",
            "epochs : 169\n",
            "133/133 - 1s - loss: 0.0246 - 664ms/epoch - 5ms/step\n",
            "epochs : 170\n",
            "133/133 - 1s - loss: 0.0256 - 648ms/epoch - 5ms/step\n",
            "epochs : 171\n",
            "133/133 - 1s - loss: 0.0275 - 670ms/epoch - 5ms/step\n",
            "epochs : 172\n",
            "133/133 - 1s - loss: 0.0270 - 647ms/epoch - 5ms/step\n",
            "epochs : 173\n",
            "133/133 - 1s - loss: 0.0272 - 652ms/epoch - 5ms/step\n",
            "epochs : 174\n",
            "133/133 - 1s - loss: 0.0271 - 650ms/epoch - 5ms/step\n",
            "epochs : 175\n",
            "133/133 - 1s - loss: 0.0254 - 643ms/epoch - 5ms/step\n",
            "epochs : 176\n",
            "133/133 - 1s - loss: 0.0244 - 668ms/epoch - 5ms/step\n",
            "epochs : 177\n",
            "133/133 - 1s - loss: 0.0243 - 675ms/epoch - 5ms/step\n",
            "epochs : 178\n",
            "133/133 - 1s - loss: 0.0242 - 680ms/epoch - 5ms/step\n",
            "epochs : 179\n",
            "133/133 - 1s - loss: 0.0247 - 673ms/epoch - 5ms/step\n",
            "epochs : 180\n",
            "133/133 - 1s - loss: 0.0270 - 679ms/epoch - 5ms/step\n",
            "epochs : 181\n",
            "133/133 - 1s - loss: 0.0256 - 707ms/epoch - 5ms/step\n",
            "epochs : 182\n",
            "133/133 - 1s - loss: 0.0267 - 705ms/epoch - 5ms/step\n",
            "epochs : 183\n",
            "133/133 - 1s - loss: 0.0250 - 683ms/epoch - 5ms/step\n",
            "epochs : 184\n",
            "133/133 - 1s - loss: 0.0262 - 664ms/epoch - 5ms/step\n",
            "epochs : 185\n",
            "133/133 - 1s - loss: 0.0278 - 706ms/epoch - 5ms/step\n",
            "epochs : 186\n",
            "133/133 - 1s - loss: 0.0283 - 686ms/epoch - 5ms/step\n",
            "epochs : 187\n",
            "133/133 - 1s - loss: 0.0264 - 704ms/epoch - 5ms/step\n",
            "epochs : 188\n",
            "133/133 - 1s - loss: 0.0254 - 687ms/epoch - 5ms/step\n",
            "epochs : 189\n",
            "133/133 - 1s - loss: 0.0250 - 698ms/epoch - 5ms/step\n",
            "epochs : 190\n",
            "133/133 - 1s - loss: 0.0243 - 696ms/epoch - 5ms/step\n",
            "epochs : 191\n",
            "133/133 - 1s - loss: 0.0251 - 700ms/epoch - 5ms/step\n",
            "epochs : 192\n",
            "133/133 - 1s - loss: 0.0262 - 713ms/epoch - 5ms/step\n",
            "epochs : 193\n",
            "133/133 - 1s - loss: 0.0234 - 685ms/epoch - 5ms/step\n",
            "epochs : 194\n",
            "133/133 - 1s - loss: 0.0255 - 687ms/epoch - 5ms/step\n",
            "epochs : 195\n",
            "133/133 - 1s - loss: 0.0249 - 677ms/epoch - 5ms/step\n",
            "epochs : 196\n",
            "133/133 - 1s - loss: 0.0249 - 677ms/epoch - 5ms/step\n",
            "epochs : 197\n",
            "133/133 - 1s - loss: 0.0243 - 677ms/epoch - 5ms/step\n",
            "epochs : 198\n",
            "133/133 - 1s - loss: 0.0246 - 671ms/epoch - 5ms/step\n",
            "epochs : 199\n",
            "133/133 - 1s - loss: 0.0254 - 661ms/epoch - 5ms/step\n",
            "epochs : 200\n",
            "133/133 - 1s - loss: 0.0252 - 660ms/epoch - 5ms/step\n",
            "epochs : 201\n",
            "133/133 - 1s - loss: 0.0258 - 667ms/epoch - 5ms/step\n",
            "epochs : 202\n",
            "133/133 - 1s - loss: 0.0251 - 654ms/epoch - 5ms/step\n",
            "epochs : 203\n",
            "133/133 - 1s - loss: 0.0266 - 660ms/epoch - 5ms/step\n",
            "epochs : 204\n",
            "133/133 - 1s - loss: 0.0267 - 651ms/epoch - 5ms/step\n",
            "epochs : 205\n",
            "133/133 - 1s - loss: 0.0253 - 675ms/epoch - 5ms/step\n",
            "epochs : 206\n",
            "133/133 - 1s - loss: 0.0251 - 658ms/epoch - 5ms/step\n",
            "epochs : 207\n",
            "133/133 - 1s - loss: 0.0238 - 639ms/epoch - 5ms/step\n",
            "epochs : 208\n",
            "133/133 - 1s - loss: 0.0235 - 664ms/epoch - 5ms/step\n",
            "epochs : 209\n",
            "133/133 - 1s - loss: 0.0233 - 660ms/epoch - 5ms/step\n",
            "epochs : 210\n",
            "133/133 - 1s - loss: 0.0240 - 662ms/epoch - 5ms/step\n",
            "epochs : 211\n",
            "133/133 - 1s - loss: 0.0254 - 671ms/epoch - 5ms/step\n",
            "epochs : 212\n",
            "133/133 - 1s - loss: 0.0266 - 653ms/epoch - 5ms/step\n",
            "epochs : 213\n",
            "133/133 - 1s - loss: 0.0249 - 649ms/epoch - 5ms/step\n",
            "epochs : 214\n",
            "133/133 - 1s - loss: 0.0237 - 668ms/epoch - 5ms/step\n",
            "epochs : 215\n",
            "133/133 - 1s - loss: 0.0246 - 707ms/epoch - 5ms/step\n",
            "epochs : 216\n",
            "133/133 - 1s - loss: 0.0275 - 668ms/epoch - 5ms/step\n",
            "epochs : 217\n",
            "133/133 - 1s - loss: 0.0267 - 707ms/epoch - 5ms/step\n",
            "epochs : 218\n",
            "133/133 - 1s - loss: 0.0262 - 723ms/epoch - 5ms/step\n",
            "epochs : 219\n",
            "133/133 - 1s - loss: 0.0255 - 711ms/epoch - 5ms/step\n",
            "epochs : 220\n",
            "133/133 - 1s - loss: 0.0246 - 680ms/epoch - 5ms/step\n",
            "epochs : 221\n",
            "133/133 - 1s - loss: 0.0252 - 742ms/epoch - 6ms/step\n",
            "epochs : 222\n",
            "133/133 - 1s - loss: 0.0252 - 751ms/epoch - 6ms/step\n",
            "epochs : 223\n",
            "133/133 - 1s - loss: 0.0253 - 712ms/epoch - 5ms/step\n",
            "epochs : 224\n",
            "133/133 - 1s - loss: 0.0235 - 746ms/epoch - 6ms/step\n",
            "epochs : 225\n",
            "133/133 - 1s - loss: 0.0269 - 695ms/epoch - 5ms/step\n",
            "epochs : 226\n",
            "133/133 - 1s - loss: 0.0259 - 745ms/epoch - 6ms/step\n",
            "epochs : 227\n",
            "133/133 - 1s - loss: 0.0249 - 733ms/epoch - 6ms/step\n",
            "epochs : 228\n",
            "133/133 - 1s - loss: 0.0242 - 742ms/epoch - 6ms/step\n",
            "epochs : 229\n",
            "133/133 - 1s - loss: 0.0238 - 741ms/epoch - 6ms/step\n",
            "epochs : 230\n",
            "133/133 - 1s - loss: 0.0243 - 712ms/epoch - 5ms/step\n",
            "epochs : 231\n",
            "133/133 - 1s - loss: 0.0242 - 713ms/epoch - 5ms/step\n",
            "epochs : 232\n",
            "133/133 - 1s - loss: 0.0245 - 722ms/epoch - 5ms/step\n",
            "epochs : 233\n",
            "133/133 - 1s - loss: 0.0244 - 720ms/epoch - 5ms/step\n",
            "epochs : 234\n",
            "133/133 - 1s - loss: 0.0247 - 684ms/epoch - 5ms/step\n",
            "epochs : 235\n",
            "133/133 - 1s - loss: 0.0230 - 734ms/epoch - 6ms/step\n",
            "epochs : 236\n",
            "133/133 - 1s - loss: 0.0244 - 716ms/epoch - 5ms/step\n",
            "epochs : 237\n",
            "133/133 - 1s - loss: 0.0245 - 704ms/epoch - 5ms/step\n",
            "epochs : 238\n",
            "133/133 - 1s - loss: 0.0230 - 722ms/epoch - 5ms/step\n",
            "epochs : 239\n",
            "133/133 - 1s - loss: 0.0247 - 733ms/epoch - 6ms/step\n",
            "epochs : 240\n",
            "133/133 - 1s - loss: 0.0251 - 712ms/epoch - 5ms/step\n",
            "epochs : 241\n",
            "133/133 - 1s - loss: 0.0265 - 696ms/epoch - 5ms/step\n",
            "epochs : 242\n",
            "133/133 - 1s - loss: 0.0247 - 758ms/epoch - 6ms/step\n",
            "epochs : 243\n",
            "133/133 - 1s - loss: 0.0261 - 704ms/epoch - 5ms/step\n",
            "epochs : 244\n",
            "133/133 - 1s - loss: 0.0260 - 707ms/epoch - 5ms/step\n",
            "epochs : 245\n",
            "133/133 - 1s - loss: 0.0260 - 714ms/epoch - 5ms/step\n",
            "epochs : 246\n",
            "133/133 - 1s - loss: 0.0247 - 727ms/epoch - 5ms/step\n",
            "epochs : 247\n",
            "133/133 - 1s - loss: 0.0235 - 714ms/epoch - 5ms/step\n",
            "epochs : 248\n",
            "133/133 - 1s - loss: 0.0236 - 722ms/epoch - 5ms/step\n",
            "epochs : 249\n",
            "133/133 - 1s - loss: 0.0253 - 708ms/epoch - 5ms/step\n",
            "epochs : 250\n",
            "133/133 - 1s - loss: 0.0248 - 715ms/epoch - 5ms/step\n",
            "epochs : 251\n",
            "133/133 - 1s - loss: 0.0241 - 715ms/epoch - 5ms/step\n",
            "epochs : 252\n",
            "133/133 - 1s - loss: 0.0244 - 690ms/epoch - 5ms/step\n",
            "epochs : 253\n",
            "133/133 - 1s - loss: 0.0233 - 721ms/epoch - 5ms/step\n",
            "epochs : 254\n",
            "133/133 - 1s - loss: 0.0251 - 744ms/epoch - 6ms/step\n",
            "epochs : 255\n",
            "133/133 - 1s - loss: 0.0252 - 730ms/epoch - 5ms/step\n",
            "epochs : 256\n",
            "133/133 - 1s - loss: 0.0257 - 737ms/epoch - 6ms/step\n",
            "epochs : 257\n",
            "133/133 - 1s - loss: 0.0247 - 705ms/epoch - 5ms/step\n",
            "epochs : 258\n",
            "133/133 - 1s - loss: 0.0238 - 707ms/epoch - 5ms/step\n",
            "epochs : 259\n",
            "133/133 - 1s - loss: 0.0243 - 734ms/epoch - 6ms/step\n",
            "epochs : 260\n",
            "133/133 - 1s - loss: 0.0248 - 713ms/epoch - 5ms/step\n",
            "epochs : 261\n",
            "133/133 - 1s - loss: 0.0254 - 701ms/epoch - 5ms/step\n",
            "epochs : 262\n",
            "133/133 - 1s - loss: 0.0240 - 719ms/epoch - 5ms/step\n",
            "epochs : 263\n",
            "133/133 - 1s - loss: 0.0246 - 698ms/epoch - 5ms/step\n",
            "epochs : 264\n",
            "133/133 - 1s - loss: 0.0240 - 690ms/epoch - 5ms/step\n",
            "epochs : 265\n",
            "133/133 - 1s - loss: 0.0247 - 711ms/epoch - 5ms/step\n",
            "epochs : 266\n",
            "133/133 - 1s - loss: 0.0248 - 717ms/epoch - 5ms/step\n",
            "epochs : 267\n",
            "133/133 - 1s - loss: 0.0248 - 727ms/epoch - 5ms/step\n",
            "epochs : 268\n",
            "133/133 - 1s - loss: 0.0245 - 717ms/epoch - 5ms/step\n",
            "epochs : 269\n",
            "133/133 - 1s - loss: 0.0257 - 703ms/epoch - 5ms/step\n",
            "epochs : 270\n",
            "133/133 - 1s - loss: 0.0242 - 715ms/epoch - 5ms/step\n",
            "epochs : 271\n",
            "133/133 - 1s - loss: 0.0237 - 741ms/epoch - 6ms/step\n",
            "epochs : 272\n",
            "133/133 - 1s - loss: 0.0233 - 719ms/epoch - 5ms/step\n",
            "epochs : 273\n",
            "133/133 - 1s - loss: 0.0234 - 734ms/epoch - 6ms/step\n",
            "epochs : 274\n",
            "133/133 - 1s - loss: 0.0229 - 803ms/epoch - 6ms/step\n",
            "epochs : 275\n",
            "133/133 - 1s - loss: 0.0239 - 771ms/epoch - 6ms/step\n",
            "epochs : 276\n",
            "133/133 - 1s - loss: 0.0243 - 753ms/epoch - 6ms/step\n",
            "epochs : 277\n",
            "133/133 - 1s - loss: 0.0231 - 702ms/epoch - 5ms/step\n",
            "epochs : 278\n",
            "133/133 - 1s - loss: 0.0231 - 703ms/epoch - 5ms/step\n",
            "epochs : 279\n",
            "133/133 - 1s - loss: 0.0245 - 724ms/epoch - 5ms/step\n",
            "epochs : 280\n",
            "133/133 - 1s - loss: 0.0240 - 727ms/epoch - 5ms/step\n",
            "epochs : 281\n",
            "133/133 - 1s - loss: 0.0229 - 743ms/epoch - 6ms/step\n",
            "epochs : 282\n",
            "133/133 - 1s - loss: 0.0232 - 720ms/epoch - 5ms/step\n",
            "epochs : 283\n",
            "133/133 - 1s - loss: 0.0244 - 707ms/epoch - 5ms/step\n",
            "epochs : 284\n",
            "133/133 - 1s - loss: 0.0243 - 736ms/epoch - 6ms/step\n",
            "epochs : 285\n",
            "133/133 - 1s - loss: 0.0247 - 741ms/epoch - 6ms/step\n",
            "epochs : 286\n",
            "133/133 - 1s - loss: 0.0235 - 708ms/epoch - 5ms/step\n",
            "epochs : 287\n",
            "133/133 - 1s - loss: 0.0223 - 710ms/epoch - 5ms/step\n",
            "epochs : 288\n",
            "133/133 - 1s - loss: 0.0218 - 726ms/epoch - 5ms/step\n",
            "epochs : 289\n",
            "133/133 - 1s - loss: 0.0212 - 715ms/epoch - 5ms/step\n",
            "epochs : 290\n",
            "133/133 - 1s - loss: 0.0229 - 709ms/epoch - 5ms/step\n",
            "epochs : 291\n",
            "133/133 - 1s - loss: 0.0234 - 713ms/epoch - 5ms/step\n",
            "epochs : 292\n",
            "133/133 - 1s - loss: 0.0236 - 706ms/epoch - 5ms/step\n",
            "epochs : 293\n",
            "133/133 - 1s - loss: 0.0228 - 732ms/epoch - 6ms/step\n",
            "epochs : 294\n",
            "133/133 - 1s - loss: 0.0230 - 738ms/epoch - 6ms/step\n",
            "epochs : 295\n",
            "133/133 - 1s - loss: 0.0238 - 710ms/epoch - 5ms/step\n",
            "epochs : 296\n",
            "133/133 - 1s - loss: 0.0221 - 732ms/epoch - 6ms/step\n",
            "epochs : 297\n",
            "133/133 - 1s - loss: 0.0228 - 722ms/epoch - 5ms/step\n",
            "epochs : 298\n",
            "133/133 - 1s - loss: 0.0220 - 736ms/epoch - 6ms/step\n",
            "epochs : 299\n",
            "133/133 - 1s - loss: 0.0217 - 701ms/epoch - 5ms/step\n"
          ]
        }
      ]
    },
    {
      "cell_type": "markdown",
      "source": [
        "# 훈련 결과"
      ],
      "metadata": {
        "id": "v8zlRWL354yi"
      }
    },
    {
      "cell_type": "code",
      "source": [
        "#%tensorboard --logdir {log_dir}"
      ],
      "metadata": {
        "id": "FdrCKUw5hHri"
      },
      "execution_count": 222,
      "outputs": []
    },
    {
      "cell_type": "code",
      "source": [
        "#weights = model.get_weights()\n",
        "#weights"
      ],
      "metadata": {
        "id": "AC6AeuI0LYZx"
      },
      "execution_count": 223,
      "outputs": []
    },
    {
      "cell_type": "code",
      "source": [
        "# 6. 학습과정 살펴보기\n",
        "%matplotlib inline\n",
        "\n",
        "plt.plot(history.losses)\n",
        "plt.ylabel('loss')\n",
        "plt.xlabel('epoch')\n",
        "plt.legend(['train'], loc='upper left')\n",
        "plt.show()"
      ],
      "metadata": {
        "id": "L4i0ffOBfcGn",
        "outputId": "f08f5309-d34a-4183-d1e8-cfaf204e33a0",
        "colab": {
          "base_uri": "https://localhost:8080/",
          "height": 279
        }
      },
      "execution_count": 238,
      "outputs": [
        {
          "output_type": "display_data",
          "data": {
            "text/plain": [
              "<Figure size 432x288 with 1 Axes>"
            ],
            "image/png": "[encoded data removed]"
          },
          "metadata": {
            "needs_background": "light"
          }
        }
      ]
    },
    {
      "cell_type": "code",
      "source": [
        "# 7. 모델 평가하기\n",
        "X_test_tensor = tf.convert_to_tensor(X_test[:,:,:5], dtype=tf.float32)\n",
        "y_test_tensor = tf.convert_to_tensor(y_test, dtype=tf.float32)\n",
        "scores = model.evaluate(X_test_tensor, y_test_tensor, batch_size=batch_size)\n",
        "print(\"%s: %.2f\" %(model.metrics_names[0], scores))\n",
        "model.reset_states()"
      ],
      "metadata": {
        "id": "JaV8fruAsB1D",
        "outputId": "1a07bda7-55af-4b73-83ca-9e3c61126003",
        "colab": {
          "base_uri": "https://localhost:8080/",
          "height": 499
        }
      },
      "execution_count": 228,
      "outputs": [
        {
          "output_type": "stream",
          "name": "stdout",
          "text": [
            "287/294 [============================>.] - ETA: 0s - loss: 0.2947"
          ]
        },
        {
          "output_type": "error",
          "ename": "InvalidArgumentError",
          "evalue": "ignored",
          "traceback": [
            "\u001b[0;31m---------------------------------------------------------------------------\u001b[0m",
            "\u001b[0;31mInvalidArgumentError\u001b[0m                      Traceback (most recent call last)",
            "\u001b[0;32m<ipython-input-228-d0cc23085918>\u001b[0m in \u001b[0;36m<module>\u001b[0;34m\u001b[0m\n\u001b[1;32m      2\u001b[0m \u001b[0mX_test_tensor\u001b[0m \u001b[0;34m=\u001b[0m \u001b[0mtf\u001b[0m\u001b[0;34m.\u001b[0m\u001b[0mconvert_to_tensor\u001b[0m\u001b[0;34m(\u001b[0m\u001b[0mX_test\u001b[0m\u001b[0;34m[\u001b[0m\u001b[0;34m:\u001b[0m\u001b[0;34m,\u001b[0m\u001b[0;34m:\u001b[0m\u001b[0;34m,\u001b[0m\u001b[0;34m:\u001b[0m\u001b[0;36m5\u001b[0m\u001b[0;34m]\u001b[0m\u001b[0;34m,\u001b[0m \u001b[0mdtype\u001b[0m\u001b[0;34m=\u001b[0m\u001b[0mtf\u001b[0m\u001b[0;34m.\u001b[0m\u001b[0mfloat32\u001b[0m\u001b[0;34m)\u001b[0m\u001b[0;34m\u001b[0m\u001b[0;34m\u001b[0m\u001b[0m\n\u001b[1;32m      3\u001b[0m \u001b[0my_test_tensor\u001b[0m \u001b[0;34m=\u001b[0m \u001b[0mtf\u001b[0m\u001b[0;34m.\u001b[0m\u001b[0mconvert_to_tensor\u001b[0m\u001b[0;34m(\u001b[0m\u001b[0my_test\u001b[0m\u001b[0;34m,\u001b[0m \u001b[0mdtype\u001b[0m\u001b[0;34m=\u001b[0m\u001b[0mtf\u001b[0m\u001b[0;34m.\u001b[0m\u001b[0mfloat32\u001b[0m\u001b[0;34m)\u001b[0m\u001b[0;34m\u001b[0m\u001b[0;34m\u001b[0m\u001b[0m\n\u001b[0;32m----> 4\u001b[0;31m \u001b[0mscores\u001b[0m \u001b[0;34m=\u001b[0m \u001b[0mmodel\u001b[0m\u001b[0;34m.\u001b[0m\u001b[0mevaluate\u001b[0m\u001b[0;34m(\u001b[0m\u001b[0mX_test_tensor\u001b[0m\u001b[0;34m,\u001b[0m \u001b[0my_test_tensor\u001b[0m\u001b[0;34m,\u001b[0m \u001b[0mbatch_size\u001b[0m\u001b[0;34m=\u001b[0m\u001b[0mbatch_size\u001b[0m\u001b[0;34m)\u001b[0m\u001b[0;34m\u001b[0m\u001b[0;34m\u001b[0m\u001b[0m\n\u001b[0m\u001b[1;32m      5\u001b[0m \u001b[0mprint\u001b[0m\u001b[0;34m(\u001b[0m\u001b[0;34m\"%s: %.2f\"\u001b[0m \u001b[0;34m%\u001b[0m\u001b[0;34m(\u001b[0m\u001b[0mmodel\u001b[0m\u001b[0;34m.\u001b[0m\u001b[0mmetrics_names\u001b[0m\u001b[0;34m[\u001b[0m\u001b[0;36m0\u001b[0m\u001b[0;34m]\u001b[0m\u001b[0;34m,\u001b[0m \u001b[0mscores\u001b[0m\u001b[0;34m)\u001b[0m\u001b[0;34m)\u001b[0m\u001b[0;34m\u001b[0m\u001b[0;34m\u001b[0m\u001b[0m\n\u001b[1;32m      6\u001b[0m \u001b[0mmodel\u001b[0m\u001b[0;34m.\u001b[0m\u001b[0mreset_states\u001b[0m\u001b[0;34m(\u001b[0m\u001b[0;34m)\u001b[0m\u001b[0;34m\u001b[0m\u001b[0;34m\u001b[0m\u001b[0m\n",
            "\u001b[0;32m/usr/local/lib/python3.8/dist-packages/keras/utils/traceback_utils.py\u001b[0m in \u001b[0;36merror_handler\u001b[0;34m(*args, **kwargs)\u001b[0m\n\u001b[1;32m     65\u001b[0m     \u001b[0;32mexcept\u001b[0m \u001b[0mException\u001b[0m \u001b[0;32mas\u001b[0m \u001b[0me\u001b[0m\u001b[0;34m:\u001b[0m  \u001b[0;31m# pylint: disable=broad-except\u001b[0m\u001b[0;34m\u001b[0m\u001b[0;34m\u001b[0m\u001b[0m\n\u001b[1;32m     66\u001b[0m       \u001b[0mfiltered_tb\u001b[0m \u001b[0;34m=\u001b[0m \u001b[0m_process_traceback_frames\u001b[0m\u001b[0;34m(\u001b[0m\u001b[0me\u001b[0m\u001b[0;34m.\u001b[0m\u001b[0m__traceback__\u001b[0m\u001b[0;34m)\u001b[0m\u001b[0;34m\u001b[0m\u001b[0;34m\u001b[0m\u001b[0m\n\u001b[0;32m---> 67\u001b[0;31m       \u001b[0;32mraise\u001b[0m \u001b[0me\u001b[0m\u001b[0;34m.\u001b[0m\u001b[0mwith_traceback\u001b[0m\u001b[0;34m(\u001b[0m\u001b[0mfiltered_tb\u001b[0m\u001b[0;34m)\u001b[0m \u001b[0;32mfrom\u001b[0m \u001b[0;32mNone\u001b[0m\u001b[0;34m\u001b[0m\u001b[0;34m\u001b[0m\u001b[0m\n\u001b[0m\u001b[1;32m     68\u001b[0m     \u001b[0;32mfinally\u001b[0m\u001b[0;34m:\u001b[0m\u001b[0;34m\u001b[0m\u001b[0;34m\u001b[0m\u001b[0m\n\u001b[1;32m     69\u001b[0m       \u001b[0;32mdel\u001b[0m \u001b[0mfiltered_tb\u001b[0m\u001b[0;34m\u001b[0m\u001b[0;34m\u001b[0m\u001b[0m\n",
            "\u001b[0;32m/usr/local/lib/python3.8/dist-packages/tensorflow/python/eager/execute.py\u001b[0m in \u001b[0;36mquick_execute\u001b[0;34m(op_name, num_outputs, inputs, attrs, ctx, name)\u001b[0m\n\u001b[1;32m     52\u001b[0m   \u001b[0;32mtry\u001b[0m\u001b[0;34m:\u001b[0m\u001b[0;34m\u001b[0m\u001b[0;34m\u001b[0m\u001b[0m\n\u001b[1;32m     53\u001b[0m     \u001b[0mctx\u001b[0m\u001b[0;34m.\u001b[0m\u001b[0mensure_initialized\u001b[0m\u001b[0;34m(\u001b[0m\u001b[0;34m)\u001b[0m\u001b[0;34m\u001b[0m\u001b[0;34m\u001b[0m\u001b[0m\n\u001b[0;32m---> 54\u001b[0;31m     tensors = pywrap_tfe.TFE_Py_Execute(ctx._handle, device_name, op_name,\n\u001b[0m\u001b[1;32m     55\u001b[0m                                         inputs, attrs, num_outputs)\n\u001b[1;32m     56\u001b[0m   \u001b[0;32mexcept\u001b[0m \u001b[0mcore\u001b[0m\u001b[0;34m.\u001b[0m\u001b[0m_NotOkStatusException\u001b[0m \u001b[0;32mas\u001b[0m \u001b[0me\u001b[0m\u001b[0;34m:\u001b[0m\u001b[0;34m\u001b[0m\u001b[0;34m\u001b[0m\u001b[0m\n",
            "\u001b[0;31mInvalidArgumentError\u001b[0m: Graph execution error:\n\nSpecified a list with shape [30,5] from a tensor with shape [23,5]\n\t [[{{node TensorArrayUnstack/TensorListFromTensor}}]]\n\t [[model_4/lstm_4/PartitionedCall]] [Op:__inference_test_function_1610860]"
          ]
        }
      ]
    },
    {
      "cell_type": "markdown",
      "source": [
        "# 모델 예상"
      ],
      "metadata": {
        "id": "KjqLadL4-tZ2"
      }
    },
    {
      "cell_type": "code",
      "source": [
        "X_test_time = X_test[test_start_steps:test_end_steps,:,5]\n",
        "X_test_time[:3]"
      ],
      "metadata": {
        "id": "9WJeSWK8E4ov",
        "outputId": "bf55323d-1f7e-4dc7-afc1-cd280bcef9e7",
        "colab": {
          "base_uri": "https://localhost:8080/"
        }
      },
      "execution_count": 286,
      "outputs": [
        {
          "output_type": "execute_result",
          "data": {
            "text/plain": [
              "array([[Timestamp('1997-05-25 23:22:33.190000+0000', tz='UTC'),\n",
              "        Timestamp('1997-05-27 06:10:31.780000+0000', tz='UTC'),\n",
              "        Timestamp('1997-05-27 08:00:29.050000+0000', tz='UTC'),\n",
              "        Timestamp('1997-05-29 17:02:38.740000+0000', tz='UTC'),\n",
              "        Timestamp('1997-06-02 21:24:38.430000+0000', tz='UTC'),\n",
              "        Timestamp('1997-06-09 07:24:12.390000+0000', tz='UTC'),\n",
              "        Timestamp('1997-06-10 21:53:55.020000+0000', tz='UTC'),\n",
              "        Timestamp('1997-06-12 12:07:33.600000+0000', tz='UTC'),\n",
              "        Timestamp('1997-06-17 21:03:40.260000+0000', tz='UTC'),\n",
              "        Timestamp('1997-06-24 23:04:53.140000+0000', tz='UTC')],\n",
              "       [Timestamp('1997-05-27 06:10:31.780000+0000', tz='UTC'),\n",
              "        Timestamp('1997-05-27 08:00:29.050000+0000', tz='UTC'),\n",
              "        Timestamp('1997-05-29 17:02:38.740000+0000', tz='UTC'),\n",
              "        Timestamp('1997-06-02 21:24:38.430000+0000', tz='UTC'),\n",
              "        Timestamp('1997-06-09 07:24:12.390000+0000', tz='UTC'),\n",
              "        Timestamp('1997-06-10 21:53:55.020000+0000', tz='UTC'),\n",
              "        Timestamp('1997-06-12 12:07:33.600000+0000', tz='UTC'),\n",
              "        Timestamp('1997-06-17 21:03:40.260000+0000', tz='UTC'),\n",
              "        Timestamp('1997-06-24 23:04:53.140000+0000', tz='UTC'),\n",
              "        Timestamp('1997-06-26 19:21:08.830000+0000', tz='UTC')],\n",
              "       [Timestamp('1997-05-27 08:00:29.050000+0000', tz='UTC'),\n",
              "        Timestamp('1997-05-29 17:02:38.740000+0000', tz='UTC'),\n",
              "        Timestamp('1997-06-02 21:24:38.430000+0000', tz='UTC'),\n",
              "        Timestamp('1997-06-09 07:24:12.390000+0000', tz='UTC'),\n",
              "        Timestamp('1997-06-10 21:53:55.020000+0000', tz='UTC'),\n",
              "        Timestamp('1997-06-12 12:07:33.600000+0000', tz='UTC'),\n",
              "        Timestamp('1997-06-17 21:03:40.260000+0000', tz='UTC'),\n",
              "        Timestamp('1997-06-24 23:04:53.140000+0000', tz='UTC'),\n",
              "        Timestamp('1997-06-26 19:21:08.830000+0000', tz='UTC'),\n",
              "        Timestamp('1997-07-06 09:54:00.760000+0000', tz='UTC')]],\n",
              "      dtype=object)"
            ]
          },
          "metadata": {},
          "execution_count": 286
        }
      ]
    },
    {
      "cell_type": "code",
      "source": [
        "X_test.shape"
      ],
      "metadata": {
        "id": "6gElNhS3QsyT",
        "outputId": "4ddc03a2-19e5-4823-9e21-ed8a909592fe",
        "colab": {
          "base_uri": "https://localhost:8080/"
        }
      },
      "execution_count": 305,
      "outputs": [
        {
          "output_type": "execute_result",
          "data": {
            "text/plain": [
              "(8813, 10, 6)"
            ]
          },
          "metadata": {},
          "execution_count": 305
        }
      ]
    },
    {
      "cell_type": "code",
      "source": [
        "X_test[test_start_steps:test_end_steps,:,:5].shape"
      ],
      "metadata": {
        "id": "VJXYnS8KR63Z",
        "outputId": "70cb8eba-40aa-4f8e-d05e-58c3e11a5050",
        "colab": {
          "base_uri": "https://localhost:8080/"
        }
      },
      "execution_count": 306,
      "outputs": [
        {
          "output_type": "execute_result",
          "data": {
            "text/plain": [
              "(129, 10, 5)"
            ]
          },
          "metadata": {},
          "execution_count": 306
        }
      ]
    },
    {
      "cell_type": "code",
      "source": [
        "X_to_test = X_test[test_start_steps:test_end_steps,:,:5]\n",
        "X_to_test[:3]"
      ],
      "metadata": {
        "id": "OcVobVUA_RI9",
        "outputId": "1ed1f0c5-a852-4942-95f5-eb61342e9d4a",
        "colab": {
          "base_uri": "https://localhost:8080/"
        }
      },
      "execution_count": 307,
      "outputs": [
        {
          "output_type": "execute_result",
          "data": {
            "text/plain": [
              "array([[[0.009375, -0.35683333333333334, 0.9988388888888888,\n",
              "         0.48357558139534884, 0.31428571428571417],\n",
              "        [0.00625, -0.6102777777777777, -0.7565, 0.014534883720930232,\n",
              "         0.02857142857142847],\n",
              "        [0.0, -0.1690222222222222, -0.9629333333333333,\n",
              "         0.020348837209302327, 0.1142857142857144],\n",
              "        [0.00625, -0.3996, -0.5695055555555555, 0.014534883720930232,\n",
              "         0.14285714285714285],\n",
              "        [0.0125, -0.6419555555555556, -0.14147777777777779,\n",
              "         0.04796511627906977, 0.02857142857142847],\n",
              "        [0.021875, -0.23701111111111112, 0.9530111111111111,\n",
              "         0.04796511627906977, 0.0],\n",
              "        [0.003125, -0.39794444444444443, -0.60075, 0.014534883720930232,\n",
              "         0.14285714285714285],\n",
              "        [0.00625, -0.06612222222222222, 0.8168111111111112,\n",
              "         0.04796511627906977, 0.02857142857142847],\n",
              "        [0.015625, 0.5705222222222223, -0.9962888888888889,\n",
              "         0.04796511627906977, 0.1142857142857144],\n",
              "        [0.021875, -0.021377777777777777, 0.71055, 0.04796511627906977,\n",
              "         0.1142857142857144]],\n",
              "\n",
              "       [[0.00625, -0.6102777777777777, -0.7565, 0.014534883720930232,\n",
              "         0.02857142857142847],\n",
              "        [0.0, -0.1690222222222222, -0.9629333333333333,\n",
              "         0.020348837209302327, 0.1142857142857144],\n",
              "        [0.00625, -0.3996, -0.5695055555555555, 0.014534883720930232,\n",
              "         0.14285714285714285],\n",
              "        [0.0125, -0.6419555555555556, -0.14147777777777779,\n",
              "         0.04796511627906977, 0.02857142857142847],\n",
              "        [0.021875, -0.23701111111111112, 0.9530111111111111,\n",
              "         0.04796511627906977, 0.0],\n",
              "        [0.003125, -0.39794444444444443, -0.60075, 0.014534883720930232,\n",
              "         0.14285714285714285],\n",
              "        [0.00625, -0.06612222222222222, 0.8168111111111112,\n",
              "         0.04796511627906977, 0.02857142857142847],\n",
              "        [0.015625, 0.5705222222222223, -0.9962888888888889,\n",
              "         0.04796511627906977, 0.1142857142857144],\n",
              "        [0.021875, -0.021377777777777777, 0.71055, 0.04796511627906977,\n",
              "         0.1142857142857144],\n",
              "        [0.00625, -0.5521333333333334, -0.6365, 0.014534883720930232,\n",
              "         0.08571428571428566]],\n",
              "\n",
              "       [[0.0, -0.1690222222222222, -0.9629333333333333,\n",
              "         0.020348837209302327, 0.1142857142857144],\n",
              "        [0.00625, -0.3996, -0.5695055555555555, 0.014534883720930232,\n",
              "         0.14285714285714285],\n",
              "        [0.0125, -0.6419555555555556, -0.14147777777777779,\n",
              "         0.04796511627906977, 0.02857142857142847],\n",
              "        [0.021875, -0.23701111111111112, 0.9530111111111111,\n",
              "         0.04796511627906977, 0.0],\n",
              "        [0.003125, -0.39794444444444443, -0.60075, 0.014534883720930232,\n",
              "         0.14285714285714285],\n",
              "        [0.00625, -0.06612222222222222, 0.8168111111111112,\n",
              "         0.04796511627906977, 0.02857142857142847],\n",
              "        [0.015625, 0.5705222222222223, -0.9962888888888889,\n",
              "         0.04796511627906977, 0.1142857142857144],\n",
              "        [0.021875, -0.021377777777777777, 0.71055, 0.04796511627906977,\n",
              "         0.1142857142857144],\n",
              "        [0.00625, -0.5521333333333334, -0.6365, 0.014534883720930232,\n",
              "         0.08571428571428566],\n",
              "        [0.03125, -0.33397777777777776, -0.3992888888888889,\n",
              "         0.027616279069767442, 0.2285714285714285]]], dtype=object)"
            ]
          },
          "metadata": {},
          "execution_count": 307
        }
      ]
    },
    {
      "cell_type": "code",
      "source": [
        "y_to_test = y_test[test_start_steps+batch_size-1:test_end_steps,:]\n",
        "y_to_test = tf.cast(y_to_test, tf.float32)\n",
        "y_to_test[:3]"
      ],
      "metadata": {
        "id": "zuB_vq04__AO",
        "outputId": "635e4244-8952-4b30-e0da-bb7eb8ca8e56",
        "colab": {
          "base_uri": "https://localhost:8080/"
        }
      },
      "execution_count": 319,
      "outputs": [
        {
          "output_type": "execute_result",
          "data": {
            "text/plain": [
              "<tf.Tensor: shape=(3, 5), dtype=float32, numpy=\n",
              "array([[ 0.015625  ,  0.08997778,  0.7035667 ,  0.07369186,  0.05714286],\n",
              "       [ 0.00625   ,  0.02343333,  0.7033167 ,  0.04796512,  0.        ],\n",
              "       [ 0.009375  , -0.3187    , -0.9868    ,  0.04360465,  0.2857143 ]],\n",
              "      dtype=float32)>"
            ]
          },
          "metadata": {},
          "execution_count": 319
        }
      ]
    },
    {
      "cell_type": "code",
      "source": [
        "X_to_test[0].reshape(1,timesteps,5)"
      ],
      "metadata": {
        "id": "YiR0Fa6YNyfu",
        "outputId": "2139962c-3036-4474-d674-7be7bad28a8f",
        "colab": {
          "base_uri": "https://localhost:8080/"
        }
      },
      "execution_count": 312,
      "outputs": [
        {
          "output_type": "execute_result",
          "data": {
            "text/plain": [
              "array([[[0.009375, -0.35683333333333334, 0.9988388888888888,\n",
              "         0.48357558139534884, 0.31428571428571417],\n",
              "        [0.00625, -0.6102777777777777, -0.7565, 0.014534883720930232,\n",
              "         0.02857142857142847],\n",
              "        [0.0, -0.1690222222222222, -0.9629333333333333,\n",
              "         0.020348837209302327, 0.1142857142857144],\n",
              "        [0.00625, -0.3996, -0.5695055555555555, 0.014534883720930232,\n",
              "         0.14285714285714285],\n",
              "        [0.0125, -0.6419555555555556, -0.14147777777777779,\n",
              "         0.04796511627906977, 0.02857142857142847],\n",
              "        [0.021875, -0.23701111111111112, 0.9530111111111111,\n",
              "         0.04796511627906977, 0.0],\n",
              "        [0.003125, -0.39794444444444443, -0.60075, 0.014534883720930232,\n",
              "         0.14285714285714285],\n",
              "        [0.00625, -0.06612222222222222, 0.8168111111111112,\n",
              "         0.04796511627906977, 0.02857142857142847],\n",
              "        [0.015625, 0.5705222222222223, -0.9962888888888889,\n",
              "         0.04796511627906977, 0.1142857142857144],\n",
              "        [0.021875, -0.021377777777777777, 0.71055, 0.04796511627906977,\n",
              "         0.1142857142857144]]], dtype=object)"
            ]
          },
          "metadata": {},
          "execution_count": 312
        }
      ]
    },
    {
      "cell_type": "code",
      "source": [
        "model.predict(tf.convert_to_tensor(X_to_test[0:0+batch_size].reshape(batch_size,timesteps,5), dtype=\"float32\"),verbose=0)[-1,:].shape"
      ],
      "metadata": {
        "id": "cQm2uNb-TBZ9",
        "outputId": "a567a834-cba3-47b0-8691-d4b7f4004738",
        "colab": {
          "base_uri": "https://localhost:8080/"
        }
      },
      "execution_count": 318,
      "outputs": [
        {
          "output_type": "execute_result",
          "data": {
            "text/plain": [
              "(5,)"
            ]
          },
          "metadata": {},
          "execution_count": 318
        }
      ]
    },
    {
      "cell_type": "code",
      "source": [
        "y_pred = np.array([])\n",
        "for i in range(test_steps):\n",
        "  y_pred = np.append(y_pred,model.predict(tf.convert_to_tensor(X_to_test[i:i+batch_size].reshape(batch_size,timesteps,5), dtype=\"float32\"),verbose=0)[-1,:])\n",
        "y_pred = tf.reshape(tf.convert_to_tensor(y_pred, dtype=tf.float32),[test_steps,5])\n",
        "y_pred[:3]"
      ],
      "metadata": {
        "id": "uvYM7avG-zeu",
        "outputId": "1f0ea82c-750a-4671-ce6f-160b40874e90",
        "colab": {
          "base_uri": "https://localhost:8080/"
        }
      },
      "execution_count": 321,
      "outputs": [
        {
          "output_type": "execute_result",
          "data": {
            "text/plain": [
              "<tf.Tensor: shape=(3, 5), dtype=float32, numpy=\n",
              "array([[0.00991077, 1.5927728 , 2.0035372 , 0.02183605, 0.04055437],\n",
              "       [0.01101548, 1.691199  , 1.8457812 , 0.02099936, 0.24967739],\n",
              "       [0.00935804, 1.3911891 , 2.1168365 , 0.05283888, 0.15423614]],\n",
              "      dtype=float32)>"
            ]
          },
          "metadata": {},
          "execution_count": 321
        }
      ]
    },
    {
      "cell_type": "code",
      "source": [
        "y_pred.shape"
      ],
      "metadata": {
        "id": "wrdhxihGU6QG",
        "outputId": "3b010cce-83b9-4f3e-d358-6bcc09fd08d9",
        "colab": {
          "base_uri": "https://localhost:8080/"
        }
      },
      "execution_count": 329,
      "outputs": [
        {
          "output_type": "execute_result",
          "data": {
            "text/plain": [
              "TensorShape([100, 5])"
            ]
          },
          "metadata": {},
          "execution_count": 329
        }
      ]
    },
    {
      "cell_type": "code",
      "source": [
        "y_to_test.shape"
      ],
      "metadata": {
        "id": "oV_LfThwU8ru",
        "outputId": "afe0f8a8-8eb9-447e-b11f-dbdd512b2d6b",
        "colab": {
          "base_uri": "https://localhost:8080/"
        }
      },
      "execution_count": 330,
      "outputs": [
        {
          "output_type": "execute_result",
          "data": {
            "text/plain": [
              "TensorShape([100, 5])"
            ]
          },
          "metadata": {},
          "execution_count": 330
        }
      ]
    },
    {
      "cell_type": "code",
      "source": [
        "custom_loss_function(y_to_test,y_pred)"
      ],
      "metadata": {
        "id": "7X5DkYbFUTl4",
        "outputId": "2a6ae841-cc04-43ad-c3e9-e5bde78d70af",
        "colab": {
          "base_uri": "https://localhost:8080/"
        }
      },
      "execution_count": 323,
      "outputs": [
        {
          "output_type": "execute_result",
          "data": {
            "text/plain": [
              "<tf.Tensor: shape=(), dtype=float32, numpy=0.39180663>"
            ]
          },
          "metadata": {},
          "execution_count": 323
        }
      ]
    },
    {
      "cell_type": "code",
      "source": [
        "X_test_time.shape"
      ],
      "metadata": {
        "id": "bYehOvZFVLTF",
        "outputId": "5888af58-d879-44a1-d70a-70a3bd1712b3",
        "colab": {
          "base_uri": "https://localhost:8080/"
        }
      },
      "execution_count": 331,
      "outputs": [
        {
          "output_type": "execute_result",
          "data": {
            "text/plain": [
              "(129, 10)"
            ]
          },
          "metadata": {},
          "execution_count": 331
        }
      ]
    },
    {
      "cell_type": "code",
      "source": [
        "y_error = []\n",
        "for i in range(test_steps):\n",
        "   y_error.append(custom_loss_function(tf.reshape(y_to_test[i,:],[1,5]),tf.reshape(y_pred[i,:],[1,5])))\n",
        "y_error[:3]"
      ],
      "metadata": {
        "id": "f_qpInqR_7VF",
        "outputId": "6e25bbb8-f1f5-4f56-9132-904a1045be55",
        "colab": {
          "base_uri": "https://localhost:8080/"
        }
      },
      "execution_count": 325,
      "outputs": [
        {
          "output_type": "execute_result",
          "data": {
            "text/plain": [
              "[<tf.Tensor: shape=(), dtype=float32, numpy=0.101742834>,\n",
              " <tf.Tensor: shape=(), dtype=float32, numpy=0.101982325>,\n",
              " <tf.Tensor: shape=(), dtype=float32, numpy=0.24039821>]"
            ]
          },
          "metadata": {},
          "execution_count": 325
        }
      ]
    },
    {
      "cell_type": "markdown",
      "source": [
        "# 원래 데이터 포맷으로 돌리기"
      ],
      "metadata": {
        "id": "9sQyNje3h-Gr"
      }
    },
    {
      "cell_type": "code",
      "source": [
        "def reformTensorToEarthQuake(y_pred,inverse_transform=True):\n",
        "    y_pred = pd.DataFrame(y_pred.numpy(),index=range(test_steps),columns = data.columns[:5])\n",
        "    if inverse_transform:\n",
        "        for column in data.columns[0:5]:\n",
        "            y_pred.loc[:,[column]] = pipe.named_transformers_[column].inverse_transform(y_pred.loc[:,[column]])\n",
        "    y_pred[\"time\"] = X_test_time[batch_size-1:,-1].astype(\"datetime64[D]\") + tf.math.round(y_pred[\"time\"]).numpy().astype('timedelta64[D]')\n",
        "    y_pred = y_pred.iloc[::-1]\n",
        "    y_pred['time'] = y_pred['time'].astype(str)\n",
        "    return y_pred"
      ],
      "metadata": {
        "id": "WtP787BjJIUu"
      },
      "execution_count": 332,
      "outputs": []
    },
    {
      "cell_type": "code",
      "source": [
        "y_to_test = reformTensorToEarthQuake(y_to_test)"
      ],
      "metadata": {
        "id": "ODheWXADq6gW",
        "outputId": "09776371-5e27-4417-e5bc-92f7ac333f5b",
        "colab": {
          "base_uri": "https://localhost:8080/"
        }
      },
      "execution_count": 333,
      "outputs": [
        {
          "output_type": "stream",
          "name": "stderr",
          "text": [
            "<ipython-input-332-cf5a58fd6a01>:6: DeprecationWarning: parsing timezone aware datetimes is deprecated; this will raise an error in the future\n",
            "  y_pred[\"time\"] = X_test_time[batch_size-1:,-1].astype(\"datetime64[D]\") + tf.math.round(y_pred[\"time\"]).numpy().astype('timedelta64[D]')\n"
          ]
        }
      ]
    },
    {
      "cell_type": "code",
      "source": [
        "y_pred = reformTensorToEarthQuake(y_pred)"
      ],
      "metadata": {
        "id": "-7LuJICvs7bj",
        "outputId": "2a45727c-bc17-428a-d16b-b482d33a351d",
        "colab": {
          "base_uri": "https://localhost:8080/"
        }
      },
      "execution_count": 334,
      "outputs": [
        {
          "output_type": "stream",
          "name": "stderr",
          "text": [
            "<ipython-input-332-cf5a58fd6a01>:6: DeprecationWarning: parsing timezone aware datetimes is deprecated; this will raise an error in the future\n",
            "  y_pred[\"time\"] = X_test_time[batch_size-1:,-1].astype(\"datetime64[D]\") + tf.math.round(y_pred[\"time\"]).numpy().astype('timedelta64[D]')\n"
          ]
        }
      ]
    },
    {
      "cell_type": "code",
      "source": [
        "y_pred.info()"
      ],
      "metadata": {
        "id": "b3eS9DQbe0TT",
        "outputId": "2f6a5c0e-5149-4b9d-d2b7-291b3178156d",
        "colab": {
          "base_uri": "https://localhost:8080/"
        }
      },
      "execution_count": 335,
      "outputs": [
        {
          "output_type": "stream",
          "name": "stdout",
          "text": [
            "<class 'pandas.core.frame.DataFrame'>\n",
            "RangeIndex: 100 entries, 99 to 0\n",
            "Data columns (total 5 columns):\n",
            " #   Column     Non-Null Count  Dtype  \n",
            "---  ------     --------------  -----  \n",
            " 0   time       100 non-null    object \n",
            " 1   latitude   100 non-null    float32\n",
            " 2   longitude  100 non-null    float32\n",
            " 3   depth      100 non-null    float32\n",
            " 4   mag        100 non-null    float32\n",
            "dtypes: float32(4), object(1)\n",
            "memory usage: 2.5+ KB\n"
          ]
        }
      ]
    },
    {
      "cell_type": "code",
      "source": [
        "y_to_test"
      ],
      "metadata": {
        "id": "Fet5MMKtxq9Z",
        "outputId": "a67d2117-2c97-4d8b-df20-ff52022db398",
        "colab": {
          "base_uri": "https://localhost:8080/",
          "height": 423
        }
      },
      "execution_count": 340,
      "outputs": [
        {
          "output_type": "execute_result",
          "data": {
            "text/plain": [
              "          time   latitude   longitude      depth  mag\n",
              "99  1998-06-20 -30.105001 -177.925003  57.399998  6.0\n",
              "98  1998-06-18 -11.572001  -13.894000  10.000000  6.3\n",
              "97  1998-06-16 -52.987999  159.837006  10.000000  6.2\n",
              "96  1998-06-07  15.959001  -93.776001  86.599998  6.3\n",
              "95  1998-06-01  52.889000  160.067001  43.700001  6.4\n",
              "..         ...        ...         ...        ...  ...\n",
              "4   1997-09-26  43.084000   12.812000  10.000000  6.0\n",
              "3   1997-09-25 -13.761000   66.248001  10.000000  6.0\n",
              "2   1997-09-20 -28.682999 -177.624008  29.999998  7.0\n",
              "1   1997-09-17   2.109000  126.597000  33.000000  6.0\n",
              "0   1997-09-15   8.098001  126.641998  50.700001  6.2\n",
              "\n",
              "[100 rows x 5 columns]"
            ],
            "text/html": [
              "\n",
              "  <div id=\"df-14081d58-644a-4c4b-ab7f-46f24bfc1675\">\n",
              "    <div class=\"colab-df-container\">\n",
              "      <div>\n",
              "<style scoped>\n",
              "    .dataframe tbody tr th:only-of-type {\n",
              "        vertical-align: middle;\n",
              "    }\n",
              "\n",
              "    .dataframe tbody tr th {\n",
              "        vertical-align: top;\n",
              "    }\n",
              "\n",
              "    .dataframe thead th {\n",
              "        text-align: right;\n",
              "    }\n",
              "</style>\n",
              "<table border=\"1\" class=\"dataframe\">\n",
              "  <thead>\n",
              "    <tr style=\"text-align: right;\">\n",
              "      <th></th>\n",
              "      <th>time</th>\n",
              "      <th>latitude</th>\n",
              "      <th>longitude</th>\n",
              "      <th>depth</th>\n",
              "      <th>mag</th>\n",
              "    </tr>\n",
              "  </thead>\n",
              "  <tbody>\n",
              "    <tr>\n",
              "      <th>99</th>\n",
              "      <td>1998-06-20</td>\n",
              "      <td>-30.105001</td>\n",
              "      <td>-177.925003</td>\n",
              "      <td>57.399998</td>\n",
              "      <td>6.0</td>\n",
              "    </tr>\n",
              "    <tr>\n",
              "      <th>98</th>\n",
              "      <td>1998-06-18</td>\n",
              "      <td>-11.572001</td>\n",
              "      <td>-13.894000</td>\n",
              "      <td>10.000000</td>\n",
              "      <td>6.3</td>\n",
              "    </tr>\n",
              "    <tr>\n",
              "      <th>97</th>\n",
              "      <td>1998-06-16</td>\n",
              "      <td>-52.987999</td>\n",
              "      <td>159.837006</td>\n",
              "      <td>10.000000</td>\n",
              "      <td>6.2</td>\n",
              "    </tr>\n",
              "    <tr>\n",
              "      <th>96</th>\n",
              "      <td>1998-06-07</td>\n",
              "      <td>15.959001</td>\n",
              "      <td>-93.776001</td>\n",
              "      <td>86.599998</td>\n",
              "      <td>6.3</td>\n",
              "    </tr>\n",
              "    <tr>\n",
              "      <th>95</th>\n",
              "      <td>1998-06-01</td>\n",
              "      <td>52.889000</td>\n",
              "      <td>160.067001</td>\n",
              "      <td>43.700001</td>\n",
              "      <td>6.4</td>\n",
              "    </tr>\n",
              "    <tr>\n",
              "      <th>...</th>\n",
              "      <td>...</td>\n",
              "      <td>...</td>\n",
              "      <td>...</td>\n",
              "      <td>...</td>\n",
              "      <td>...</td>\n",
              "    </tr>\n",
              "    <tr>\n",
              "      <th>4</th>\n",
              "      <td>1997-09-26</td>\n",
              "      <td>43.084000</td>\n",
              "      <td>12.812000</td>\n",
              "      <td>10.000000</td>\n",
              "      <td>6.0</td>\n",
              "    </tr>\n",
              "    <tr>\n",
              "      <th>3</th>\n",
              "      <td>1997-09-25</td>\n",
              "      <td>-13.761000</td>\n",
              "      <td>66.248001</td>\n",
              "      <td>10.000000</td>\n",
              "      <td>6.0</td>\n",
              "    </tr>\n",
              "    <tr>\n",
              "      <th>2</th>\n",
              "      <td>1997-09-20</td>\n",
              "      <td>-28.682999</td>\n",
              "      <td>-177.624008</td>\n",
              "      <td>29.999998</td>\n",
              "      <td>7.0</td>\n",
              "    </tr>\n",
              "    <tr>\n",
              "      <th>1</th>\n",
              "      <td>1997-09-17</td>\n",
              "      <td>2.109000</td>\n",
              "      <td>126.597000</td>\n",
              "      <td>33.000000</td>\n",
              "      <td>6.0</td>\n",
              "    </tr>\n",
              "    <tr>\n",
              "      <th>0</th>\n",
              "      <td>1997-09-15</td>\n",
              "      <td>8.098001</td>\n",
              "      <td>126.641998</td>\n",
              "      <td>50.700001</td>\n",
              "      <td>6.2</td>\n",
              "    </tr>\n",
              "  </tbody>\n",
              "</table>\n",
              "<p>100 rows × 5 columns</p>\n",
              "</div>\n",
              "      <button class=\"colab-df-convert\" onclick=\"convertToInteractive('df-14081d58-644a-4c4b-ab7f-46f24bfc1675')\"\n",
              "              title=\"Convert this dataframe to an interactive table.\"\n",
              "              style=\"display:none;\">\n",
              "        \n",
              "  <svg xmlns=\"http://www.w3.org/2000/svg\" height=\"24px\"viewBox=\"0 0 24 24\"\n",
              "       width=\"24px\">\n",
              "    <path d=\"M0 0h24v24H0V0z\" fill=\"none\"/>\n",
              "    <path d=\"M18.56 5.44l.94 2.06.94-2.06 2.06-.94-2.06-.94-.94-2.06-.94 2.06-2.06.94zm-11 1L8.5 8.5l.94-2.06 2.06-.94-2.06-.94L8.5 2.5l-.94 2.06-2.06.94zm10 10l.94 2.06.94-2.06 2.06-.94-2.06-.94-.94-2.06-.94 2.06-2.06.94z\"/><path d=\"M17.41 7.96l-1.37-1.37c-.4-.4-.92-.59-1.43-.59-.52 0-1.04.2-1.43.59L10.3 9.45l-7.72 7.72c-.78.78-.78 2.05 0 2.83L4 21.41c.39.39.9.59 1.41.59.51 0 1.02-.2 1.41-.59l7.78-7.78 2.81-2.81c.8-.78.8-2.07 0-2.86zM5.41 20L4 18.59l7.72-7.72 1.47 1.35L5.41 20z\"/>\n",
              "  </svg>\n",
              "      </button>\n",
              "      \n",
              "  <style>\n",
              "    .colab-df-container {\n",
              "      display:flex;\n",
              "      flex-wrap:wrap;\n",
              "      gap: 12px;\n",
              "    }\n",
              "\n",
              "    .colab-df-convert {\n",
              "      background-color: #E8F0FE;\n",
              "      border: none;\n",
              "      border-radius: 50%;\n",
              "      cursor: pointer;\n",
              "      display: none;\n",
              "      fill: #1967D2;\n",
              "      height: 32px;\n",
              "      padding: 0 0 0 0;\n",
              "      width: 32px;\n",
              "    }\n",
              "\n",
              "    .colab-df-convert:hover {\n",
              "      background-color: #E2EBFA;\n",
              "      box-shadow: 0px 1px 2px rgba(60, 64, 67, 0.3), 0px 1px 3px 1px rgba(60, 64, 67, 0.15);\n",
              "      fill: #174EA6;\n",
              "    }\n",
              "\n",
              "    [theme=dark] .colab-df-convert {\n",
              "      background-color: #3B4455;\n",
              "      fill: #D2E3FC;\n",
              "    }\n",
              "\n",
              "    [theme=dark] .colab-df-convert:hover {\n",
              "      background-color: #434B5C;\n",
              "      box-shadow: 0px 1px 3px 1px rgba(0, 0, 0, 0.15);\n",
              "      filter: drop-shadow(0px 1px 2px rgba(0, 0, 0, 0.3));\n",
              "      fill: #FFFFFF;\n",
              "    }\n",
              "  </style>\n",
              "\n",
              "      <script>\n",
              "        const buttonEl =\n",
              "          document.querySelector('#df-14081d58-644a-4c4b-ab7f-46f24bfc1675 button.colab-df-convert');\n",
              "        buttonEl.style.display =\n",
              "          google.colab.kernel.accessAllowed ? 'block' : 'none';\n",
              "\n",
              "        async function convertToInteractive(key) {\n",
              "          const element = document.querySelector('#df-14081d58-644a-4c4b-ab7f-46f24bfc1675');\n",
              "          const dataTable =\n",
              "            await google.colab.kernel.invokeFunction('convertToInteractive',\n",
              "                                                     [key], {});\n",
              "          if (!dataTable) return;\n",
              "\n",
              "          const docLinkHtml = 'Like what you see? Visit the ' +\n",
              "            '<a target=\"_blank\" href=https://colab.research.google.com/notebooks/data_table.ipynb>data table notebook</a>'\n",
              "            + ' to learn more about interactive tables.';\n",
              "          element.innerHTML = '';\n",
              "          dataTable['output_type'] = 'display_data';\n",
              "          await google.colab.output.renderOutput(dataTable, element);\n",
              "          const docLink = document.createElement('div');\n",
              "          docLink.innerHTML = docLinkHtml;\n",
              "          element.appendChild(docLink);\n",
              "        }\n",
              "      </script>\n",
              "    </div>\n",
              "  </div>\n",
              "  "
            ]
          },
          "metadata": {},
          "execution_count": 340
        }
      ]
    },
    {
      "cell_type": "code",
      "source": [
        "y_pred"
      ],
      "metadata": {
        "id": "4aJCgI33WODm",
        "outputId": "af7288cc-7475-4fac-ea45-aebabd30ee5a",
        "colab": {
          "base_uri": "https://localhost:8080/",
          "height": 423
        }
      },
      "execution_count": 343,
      "outputs": [
        {
          "output_type": "execute_result",
          "data": {
            "text/plain": [
              "          time    latitude   longitude       depth       mag\n",
              "99  1998-06-22  168.628433  309.454163    9.366982  6.262223\n",
              "98  1998-06-19  200.812103  413.806580    4.365499  6.183846\n",
              "97  1998-06-09  115.054672  348.132080    2.092512  6.570379\n",
              "96  1998-06-03  171.494217  311.239929    2.022256  5.908944\n",
              "95  1998-06-01  209.052551  352.753479    2.352988  5.854308\n",
              "..         ...         ...         ...         ...       ...\n",
              "4   1997-09-29  164.982224  476.804504   81.892952  6.468935\n",
              "3   1997-09-24  205.285919  434.307312  115.522537  7.085049\n",
              "2   1997-09-20  125.207016  381.030579   36.353149  6.539826\n",
              "1   1997-09-19  152.207901  332.240631   14.447560  6.873871\n",
              "0   1997-09-13  143.349548  360.636688   15.023201  6.141940\n",
              "\n",
              "[100 rows x 5 columns]"
            ],
            "text/html": [
              "\n",
              "  <div id=\"df-8d726e8d-a51c-4064-90d3-555b971991fa\">\n",
              "    <div class=\"colab-df-container\">\n",
              "      <div>\n",
              "<style scoped>\n",
              "    .dataframe tbody tr th:only-of-type {\n",
              "        vertical-align: middle;\n",
              "    }\n",
              "\n",
              "    .dataframe tbody tr th {\n",
              "        vertical-align: top;\n",
              "    }\n",
              "\n",
              "    .dataframe thead th {\n",
              "        text-align: right;\n",
              "    }\n",
              "</style>\n",
              "<table border=\"1\" class=\"dataframe\">\n",
              "  <thead>\n",
              "    <tr style=\"text-align: right;\">\n",
              "      <th></th>\n",
              "      <th>time</th>\n",
              "      <th>latitude</th>\n",
              "      <th>longitude</th>\n",
              "      <th>depth</th>\n",
              "      <th>mag</th>\n",
              "    </tr>\n",
              "  </thead>\n",
              "  <tbody>\n",
              "    <tr>\n",
              "      <th>99</th>\n",
              "      <td>1998-06-22</td>\n",
              "      <td>168.628433</td>\n",
              "      <td>309.454163</td>\n",
              "      <td>9.366982</td>\n",
              "      <td>6.262223</td>\n",
              "    </tr>\n",
              "    <tr>\n",
              "      <th>98</th>\n",
              "      <td>1998-06-19</td>\n",
              "      <td>200.812103</td>\n",
              "      <td>413.806580</td>\n",
              "      <td>4.365499</td>\n",
              "      <td>6.183846</td>\n",
              "    </tr>\n",
              "    <tr>\n",
              "      <th>97</th>\n",
              "      <td>1998-06-09</td>\n",
              "      <td>115.054672</td>\n",
              "      <td>348.132080</td>\n",
              "      <td>2.092512</td>\n",
              "      <td>6.570379</td>\n",
              "    </tr>\n",
              "    <tr>\n",
              "      <th>96</th>\n",
              "      <td>1998-06-03</td>\n",
              "      <td>171.494217</td>\n",
              "      <td>311.239929</td>\n",
              "      <td>2.022256</td>\n",
              "      <td>5.908944</td>\n",
              "    </tr>\n",
              "    <tr>\n",
              "      <th>95</th>\n",
              "      <td>1998-06-01</td>\n",
              "      <td>209.052551</td>\n",
              "      <td>352.753479</td>\n",
              "      <td>2.352988</td>\n",
              "      <td>5.854308</td>\n",
              "    </tr>\n",
              "    <tr>\n",
              "      <th>...</th>\n",
              "      <td>...</td>\n",
              "      <td>...</td>\n",
              "      <td>...</td>\n",
              "      <td>...</td>\n",
              "      <td>...</td>\n",
              "    </tr>\n",
              "    <tr>\n",
              "      <th>4</th>\n",
              "      <td>1997-09-29</td>\n",
              "      <td>164.982224</td>\n",
              "      <td>476.804504</td>\n",
              "      <td>81.892952</td>\n",
              "      <td>6.468935</td>\n",
              "    </tr>\n",
              "    <tr>\n",
              "      <th>3</th>\n",
              "      <td>1997-09-24</td>\n",
              "      <td>205.285919</td>\n",
              "      <td>434.307312</td>\n",
              "      <td>115.522537</td>\n",
              "      <td>7.085049</td>\n",
              "    </tr>\n",
              "    <tr>\n",
              "      <th>2</th>\n",
              "      <td>1997-09-20</td>\n",
              "      <td>125.207016</td>\n",
              "      <td>381.030579</td>\n",
              "      <td>36.353149</td>\n",
              "      <td>6.539826</td>\n",
              "    </tr>\n",
              "    <tr>\n",
              "      <th>1</th>\n",
              "      <td>1997-09-19</td>\n",
              "      <td>152.207901</td>\n",
              "      <td>332.240631</td>\n",
              "      <td>14.447560</td>\n",
              "      <td>6.873871</td>\n",
              "    </tr>\n",
              "    <tr>\n",
              "      <th>0</th>\n",
              "      <td>1997-09-13</td>\n",
              "      <td>143.349548</td>\n",
              "      <td>360.636688</td>\n",
              "      <td>15.023201</td>\n",
              "      <td>6.141940</td>\n",
              "    </tr>\n",
              "  </tbody>\n",
              "</table>\n",
              "<p>100 rows × 5 columns</p>\n",
              "</div>\n",
              "      <button class=\"colab-df-convert\" onclick=\"convertToInteractive('df-8d726e8d-a51c-4064-90d3-555b971991fa')\"\n",
              "              title=\"Convert this dataframe to an interactive table.\"\n",
              "              style=\"display:none;\">\n",
              "        \n",
              "  <svg xmlns=\"http://www.w3.org/2000/svg\" height=\"24px\"viewBox=\"0 0 24 24\"\n",
              "       width=\"24px\">\n",
              "    <path d=\"M0 0h24v24H0V0z\" fill=\"none\"/>\n",
              "    <path d=\"M18.56 5.44l.94 2.06.94-2.06 2.06-.94-2.06-.94-.94-2.06-.94 2.06-2.06.94zm-11 1L8.5 8.5l.94-2.06 2.06-.94-2.06-.94L8.5 2.5l-.94 2.06-2.06.94zm10 10l.94 2.06.94-2.06 2.06-.94-2.06-.94-.94-2.06-.94 2.06-2.06.94z\"/><path d=\"M17.41 7.96l-1.37-1.37c-.4-.4-.92-.59-1.43-.59-.52 0-1.04.2-1.43.59L10.3 9.45l-7.72 7.72c-.78.78-.78 2.05 0 2.83L4 21.41c.39.39.9.59 1.41.59.51 0 1.02-.2 1.41-.59l7.78-7.78 2.81-2.81c.8-.78.8-2.07 0-2.86zM5.41 20L4 18.59l7.72-7.72 1.47 1.35L5.41 20z\"/>\n",
              "  </svg>\n",
              "      </button>\n",
              "      \n",
              "  <style>\n",
              "    .colab-df-container {\n",
              "      display:flex;\n",
              "      flex-wrap:wrap;\n",
              "      gap: 12px;\n",
              "    }\n",
              "\n",
              "    .colab-df-convert {\n",
              "      background-color: #E8F0FE;\n",
              "      border: none;\n",
              "      border-radius: 50%;\n",
              "      cursor: pointer;\n",
              "      display: none;\n",
              "      fill: #1967D2;\n",
              "      height: 32px;\n",
              "      padding: 0 0 0 0;\n",
              "      width: 32px;\n",
              "    }\n",
              "\n",
              "    .colab-df-convert:hover {\n",
              "      background-color: #E2EBFA;\n",
              "      box-shadow: 0px 1px 2px rgba(60, 64, 67, 0.3), 0px 1px 3px 1px rgba(60, 64, 67, 0.15);\n",
              "      fill: #174EA6;\n",
              "    }\n",
              "\n",
              "    [theme=dark] .colab-df-convert {\n",
              "      background-color: #3B4455;\n",
              "      fill: #D2E3FC;\n",
              "    }\n",
              "\n",
              "    [theme=dark] .colab-df-convert:hover {\n",
              "      background-color: #434B5C;\n",
              "      box-shadow: 0px 1px 3px 1px rgba(0, 0, 0, 0.15);\n",
              "      filter: drop-shadow(0px 1px 2px rgba(0, 0, 0, 0.3));\n",
              "      fill: #FFFFFF;\n",
              "    }\n",
              "  </style>\n",
              "\n",
              "      <script>\n",
              "        const buttonEl =\n",
              "          document.querySelector('#df-8d726e8d-a51c-4064-90d3-555b971991fa button.colab-df-convert');\n",
              "        buttonEl.style.display =\n",
              "          google.colab.kernel.accessAllowed ? 'block' : 'none';\n",
              "\n",
              "        async function convertToInteractive(key) {\n",
              "          const element = document.querySelector('#df-8d726e8d-a51c-4064-90d3-555b971991fa');\n",
              "          const dataTable =\n",
              "            await google.colab.kernel.invokeFunction('convertToInteractive',\n",
              "                                                     [key], {});\n",
              "          if (!dataTable) return;\n",
              "\n",
              "          const docLinkHtml = 'Like what you see? Visit the ' +\n",
              "            '<a target=\"_blank\" href=https://colab.research.google.com/notebooks/data_table.ipynb>data table notebook</a>'\n",
              "            + ' to learn more about interactive tables.';\n",
              "          element.innerHTML = '';\n",
              "          dataTable['output_type'] = 'display_data';\n",
              "          await google.colab.output.renderOutput(dataTable, element);\n",
              "          const docLink = document.createElement('div');\n",
              "          docLink.innerHTML = docLinkHtml;\n",
              "          element.appendChild(docLink);\n",
              "        }\n",
              "      </script>\n",
              "    </div>\n",
              "  </div>\n",
              "  "
            ]
          },
          "metadata": {},
          "execution_count": 343
        }
      ]
    },
    {
      "cell_type": "markdown",
      "source": [
        "# 데이터 시각화"
      ],
      "metadata": {
        "id": "SL1J-B59iqJf"
      }
    },
    {
      "cell_type": "code",
      "source": [
        "e = -10\n",
        "e %= 360\n",
        "e"
      ],
      "metadata": {
        "id": "X36SCz3OWkBR",
        "outputId": "b2cb0991-713c-4d7c-98ba-9126ac47b157",
        "colab": {
          "base_uri": "https://localhost:8080/"
        }
      },
      "execution_count": 345,
      "outputs": [
        {
          "output_type": "execute_result",
          "data": {
            "text/plain": [
              "350"
            ]
          },
          "metadata": {},
          "execution_count": 345
        }
      ]
    },
    {
      "cell_type": "code",
      "source": [
        "def AddCircles(data,colormap,array):\n",
        "  surfaceEnergy = np.multiply(10**(data['mag']*1.5),1/(data['depth']**2+1))\n",
        "  minSurfaceEnergy = surfaceEnergy.min()\n",
        "\n",
        "  for i, row in data.iterrows():\n",
        "      borderRadius = np.power(10**(row['mag']*1.5)/minSurfaceEnergy - row['depth']**2,1/6)\n",
        "      # np.sqrt(10**(row['mag']*1.5)/minSurfaceEnergy - row['depth']**2)\n",
        "      color = colormap(row['mag'])\n",
        "      latitude = row['latitude']\n",
        "      if latitude > 90:\n",
        "          latitude = 180 - latitude\n",
        "      elif latitude < -90:\n",
        "          latitude = - 180 - latitude\n",
        "      longitude = row['longitude']\n",
        "      longitude %= 360\n",
        "      feature = {\n",
        "          'type': 'Feature',\n",
        "          'geometry': {\n",
        "              'type': 'Point',\n",
        "              'coordinates': [longitude, latitude]\n",
        "          },\n",
        "          'properties': {\n",
        "              'time': row['time'],\n",
        "              'style': {'color': color, 'radius': borderRadius},\n",
        "              'icon': 'circle'\n",
        "          }\n",
        "      }\n",
        "      array.append(feature)\n",
        "      if longitude < 180 :\n",
        "        feature = {\n",
        "          'type': 'Feature',\n",
        "          'geometry': {\n",
        "              'type': 'Point',\n",
        "              'coordinates': [longitude-360, latitude]\n",
        "          },\n",
        "          'properties': {\n",
        "              'time': row['time'],\n",
        "              'style': {'color': color, 'radius': borderRadius},\n",
        "              'icon': 'circle'\n",
        "          }\n",
        "      }\n",
        "      array.append(feature)\n",
        "  return array"
      ],
      "metadata": {
        "id": "cBXvM9EJjn2D"
      },
      "execution_count": 346,
      "outputs": []
    },
    {
      "cell_type": "code",
      "source": [
        "def earthquakeVisualizer(realData,predData):\n",
        "  \n",
        "\n",
        "  m = folium.Map(location=[0, 90], zoom_start=2)\n",
        "\n",
        "  realColormap = folium.LinearColormap(\n",
        "      ['yellow', 'red','black'],\n",
        "      vmin=realData['mag'].min(), vmax=realData['mag'].max()\n",
        "  )\n",
        "  m.add_child(realColormap)\n",
        "  predColormap = folium.LinearColormap(\n",
        "      ['green', 'blue','purple'],\n",
        "      vmin=predData['mag'].min(), vmax=predData['mag'].max()\n",
        "  )\n",
        "  m.add_child(predColormap)\n",
        "\n",
        "  # 지도 위에 시간 인터렉티브한 바 추가\n",
        "  timestamps = data['time'].unique()\n",
        "  features = []\n",
        "  # minEnergy = 10**(data['mag'].min()*1.5)\n",
        "  # distanceOfDeepestSixMagReachToOneKM = np.sqrt(data['depth'].max()**2+1)\n",
        "  features = AddCircles(realData,realColormap,features)\n",
        "  features = AddCircles(predData,predColormap,features)\n",
        "\n",
        "  time_slider = plugins.TimestampedGeoJson({\n",
        "      'type': 'FeatureCollection',\n",
        "      'features': features\n",
        "  }, period='P1D',duration=\"P1M\", add_last_point=True, auto_play=False, loop=False)#\n",
        "\n",
        "  m.add_child(time_slider)\n",
        "\n",
        "  return m"
      ],
      "metadata": {
        "id": "jjkBC4hcnIxx"
      },
      "execution_count": 338,
      "outputs": []
    },
    {
      "cell_type": "code",
      "source": [
        "m = earthquakeVisualizer(y_to_test,y_pred)\n",
        "# m.save(save_directory+file_name+'.html')\n",
        "m"
      ],
      "metadata": {
        "id": "JXMRylovXrnb",
        "outputId": "5960703a-1889-4c74-a282-354b0fe29180",
        "colab": {
          "base_uri": "https://localhost:8080/",
          "height": 784
        }
      },
      "execution_count": 347,
      "outputs": [
        {
          "output_type": "execute_result",
          "data": {
            "text/plain": [
              "<folium.folium.Map at 0x7fbb74118dc0>"
            ],
            "text/html": [
              "<div style=\"width:100%;\"><div style=\"position:relative;width:100%;height:0;padding-bottom:60%;\"><span style=\"color:#565656\">Make this Notebook Trusted to load map: File -> Trust Notebook</span><iframe srcdoc=\"&lt;!DOCTYPE html&gt;\n",
              "&lt;html&gt;\n",
              "&lt;head&gt;\n",
              "    \n",
              "    &lt;meta http-equiv=&quot;content-type&quot; content=&quot;text/html; charset=UTF-8&quot; /&gt;\n",
              "    \n",
              "        &lt;script&gt;\n",
              "            L_NO_TOUCH = false;\n",
              "            L_DISABLE_3D = false;\n",
              "        &lt;/script&gt;\n",
              "    \n",
              "    &lt;style&gt;html, body {width: 100%;height: 100%;margin: 0;padding: 0;}&lt;/style&gt;\n",
              "    &lt;style&gt;#map {position:absolute;top:0;bottom:0;right:0;left:0;}&lt;/style&gt;\n",
              "    &lt;script src=&quot;https://cdn.jsdelivr.net/npm/leaflet@1.6.0/dist/leaflet.js&quot;&gt;&lt;/script&gt;\n",
              "    &lt;script src=&quot;https://code.jquery.com/jquery-1.12.4.min.js&quot;&gt;&lt;/script&gt;\n",
              "    &lt;script src=&quot;https://maxcdn.bootstrapcdn.com/bootstrap/3.2.0/js/bootstrap.min.js&quot;&gt;&lt;/script&gt;\n",
              "    &lt;script src=&quot;https://cdnjs.cloudflare.com/ajax/libs/Leaflet.awesome-markers/2.0.2/leaflet.awesome-markers.js&quot;&gt;&lt;/script&gt;\n",
              "    &lt;link rel=&quot;stylesheet&quot; href=&quot;https://cdn.jsdelivr.net/npm/leaflet@1.6.0/dist/leaflet.css&quot;/&gt;\n",
              "    &lt;link rel=&quot;stylesheet&quot; href=&quot;https://maxcdn.bootstrapcdn.com/bootstrap/3.2.0/css/bootstrap.min.css&quot;/&gt;\n",
              "    &lt;link rel=&quot;stylesheet&quot; href=&quot;https://maxcdn.bootstrapcdn.com/bootstrap/3.2.0/css/bootstrap-theme.min.css&quot;/&gt;\n",
              "    &lt;link rel=&quot;stylesheet&quot; href=&quot;https://maxcdn.bootstrapcdn.com/font-awesome/4.6.3/css/font-awesome.min.css&quot;/&gt;\n",
              "    &lt;link rel=&quot;stylesheet&quot; href=&quot;https://cdnjs.cloudflare.com/ajax/libs/Leaflet.awesome-markers/2.0.2/leaflet.awesome-markers.css&quot;/&gt;\n",
              "    &lt;link rel=&quot;stylesheet&quot; href=&quot;https://cdn.jsdelivr.net/gh/python-visualization/folium/folium/templates/leaflet.awesome.rotate.min.css&quot;/&gt;\n",
              "    \n",
              "            &lt;meta name=&quot;viewport&quot; content=&quot;width=device-width,\n",
              "                initial-scale=1.0, maximum-scale=1.0, user-scalable=no&quot; /&gt;\n",
              "            &lt;style&gt;\n",
              "                #map_bbe7fc8df6b94d50473f783ed11e3f07 {\n",
              "                    position: relative;\n",
              "                    width: 100.0%;\n",
              "                    height: 100.0%;\n",
              "                    left: 0.0%;\n",
              "                    top: 0.0%;\n",
              "                }\n",
              "            &lt;/style&gt;\n",
              "        \n",
              "    &lt;script src=&quot;https://cdnjs.cloudflare.com/ajax/libs/d3/3.5.5/d3.min.js&quot;&gt;&lt;/script&gt;\n",
              "    &lt;script src=&quot;https://cdnjs.cloudflare.com/ajax/libs/jquery/2.0.0/jquery.min.js&quot;&gt;&lt;/script&gt;\n",
              "    &lt;script src=&quot;https://cdnjs.cloudflare.com/ajax/libs/jqueryui/1.10.2/jquery-ui.min.js&quot;&gt;&lt;/script&gt;\n",
              "    &lt;script src=&quot;https://cdn.jsdelivr.net/npm/iso8601-js-period@0.2.1/iso8601.min.js&quot;&gt;&lt;/script&gt;\n",
              "    &lt;script src=&quot;https://cdn.jsdelivr.net/npm/leaflet-timedimension@1.1.1/dist/leaflet.timedimension.min.js&quot;&gt;&lt;/script&gt;\n",
              "    &lt;script src=&quot;https://cdnjs.cloudflare.com/ajax/libs/moment.js/2.18.1/moment.min.js&quot;&gt;&lt;/script&gt;\n",
              "    &lt;link rel=&quot;stylesheet&quot; href=&quot;https://cdnjs.cloudflare.com/ajax/libs/highlight.js/8.4/styles/default.min.css&quot;/&gt;\n",
              "    &lt;link rel=&quot;stylesheet&quot; href=&quot;https://cdn.jsdelivr.net/npm/leaflet-timedimension@1.1.1/dist/leaflet.timedimension.control.css&quot;/&gt;\n",
              "&lt;/head&gt;\n",
              "&lt;body&gt;\n",
              "    \n",
              "    \n",
              "            &lt;div class=&quot;folium-map&quot; id=&quot;map_bbe7fc8df6b94d50473f783ed11e3f07&quot; &gt;&lt;/div&gt;\n",
              "        \n",
              "&lt;/body&gt;\n",
              "&lt;script&gt;\n",
              "    \n",
              "    \n",
              "            var map_bbe7fc8df6b94d50473f783ed11e3f07 = L.map(\n",
              "                &quot;map_bbe7fc8df6b94d50473f783ed11e3f07&quot;,\n",
              "                {\n",
              "                    center: [0.0, 90.0],\n",
              "                    crs: L.CRS.EPSG3857,\n",
              "                    zoom: 2,\n",
              "                    zoomControl: true,\n",
              "                    preferCanvas: false,\n",
              "                }\n",
              "            );\n",
              "\n",
              "            \n",
              "\n",
              "        \n",
              "    \n",
              "            var tile_layer_e0e7d276159c460dcb2d080e9a6ee4b9 = L.tileLayer(\n",
              "                &quot;https://{s}.tile.openstreetmap.org/{z}/{x}/{y}.png&quot;,\n",
              "                {&quot;attribution&quot;: &quot;Data by \\u0026copy; \\u003ca href=\\&quot;http://openstreetmap.org\\&quot;\\u003eOpenStreetMap\\u003c/a\\u003e, under \\u003ca href=\\&quot;http://www.openstreetmap.org/copyright\\&quot;\\u003eODbL\\u003c/a\\u003e.&quot;, &quot;detectRetina&quot;: false, &quot;maxNativeZoom&quot;: 18, &quot;maxZoom&quot;: 18, &quot;minZoom&quot;: 0, &quot;noWrap&quot;: false, &quot;opacity&quot;: 1, &quot;subdomains&quot;: &quot;abc&quot;, &quot;tms&quot;: false}\n",
              "            ).addTo(map_bbe7fc8df6b94d50473f783ed11e3f07);\n",
              "        \n",
              "    \n",
              "    var color_map_67ac5b9aa0ff52c0c66969e03a081360 = {};\n",
              "\n",
              "    \n",
              "    color_map_67ac5b9aa0ff52c0c66969e03a081360.color = d3.scale.threshold()\n",
              "              .domain([6.0, 6.004208417598136, 6.008416835196272, 6.0126252527944075, 6.0168336703925425, 6.021042087990678, 6.025250505588814, 6.02945892318695, 6.033667340785086, 6.037875758383222, 6.0420841759813575, 6.046292593579493, 6.050501011177628, 6.054709428775764, 6.0589178463739, 6.063126263972036, 6.067334681570172, 6.0715430991683075, 6.075751516766443, 6.079959934364579, 6.084168351962714, 6.08837676956085, 6.092585187158986, 6.096793604757122, 6.1010020223552575, 6.105210439953393, 6.109418857551529, 6.113627275149665, 6.1178356927478, 6.122044110345936, 6.126252527944072, 6.130460945542207, 6.134669363140343, 6.138877780738479, 6.143086198336615, 6.147294615934751, 6.151503033532886, 6.155711451131022, 6.159919868729157, 6.164128286327293, 6.168336703925429, 6.172545121523565, 6.176753539121701, 6.180961956719836, 6.185170374317972, 6.189378791916107, 6.193587209514243, 6.197795627112379, 6.202004044710515, 6.206212462308651, 6.210420879906787, 6.2146292975049215, 6.218837715103057, 6.223046132701193, 6.227254550299329, 6.231462967897465, 6.235671385495601, 6.239879803093737, 6.244088220691872, 6.248296638290007, 6.252505055888143, 6.256713473486279, 6.260921891084415, 6.265130308682551, 6.269338726280687, 6.273547143878822, 6.277755561476958, 6.281963979075093, 6.286172396673229, 6.290380814271365, 6.294589231869501, 6.2987976494676365, 6.303006067065772, 6.307214484663908, 6.311422902262043, 6.315631319860179, 6.319839737458315, 6.324048155056451, 6.3282565726545865, 6.332464990252722, 6.336673407850858, 6.340881825448994, 6.34509024304713, 6.349298660645265, 6.353507078243401, 6.3577154958415365, 6.361923913439672, 6.366132331037808, 6.370340748635944, 6.37454916623408, 6.378757583832215, 6.382966001430351, 6.3871744190284865, 6.391382836626622, 6.395591254224758, 6.399799671822894, 6.40400808942103, 6.408216507019166, 6.412424924617301, 6.4166333422154365, 6.420841759813572, 6.425050177411708, 6.429258595009844, 6.43346701260798, 6.437675430206116, 6.4418838478042515, 6.4460922654023864, 6.450300683000522, 6.454509100598658, 6.458717518196794, 6.46292593579493, 6.467134353393066, 6.4713427709912015, 6.475551188589337, 6.479759606187472, 6.483968023785608, 6.488176441383744, 6.49238485898188, 6.496593276580016, 6.5008016941781515, 6.505010111776287, 6.509218529374422, 6.513426946972558, 6.517635364570694, 6.52184378216883, 6.526052199766966, 6.530260617365101, 6.534469034963237, 6.538677452561373, 6.542885870159509, 6.547094287757644, 6.55130270535578, 6.555511122953916, 6.559719540552051, 6.563927958150187, 6.568136375748323, 6.572344793346458, 6.576553210944594, 6.58076162854273, 6.584970046140866, 6.589178463739001, 6.593386881337137, 6.597595298935273, 6.601803716533409, 6.606012134131545, 6.61022055172968, 6.6144289693278155, 6.618637386925951, 6.622845804524087, 6.627054222122223, 6.631262639720359, 6.635471057318495, 6.63967947491663, 6.6438878925147655, 6.648096310112901, 6.652304727711037, 6.656513145309173, 6.660721562907309, 6.664929980505445, 6.669138398103581, 6.673346815701716, 6.677555233299851, 6.681763650897987, 6.685972068496123, 6.690180486094259, 6.694388903692395, 6.6985973212905305, 6.702805738888666, 6.707014156486801, 6.711222574084937, 6.715430991683073, 6.719639409281209, 6.723847826879345, 6.7280562444774805, 6.732264662075616, 6.736473079673752, 6.740681497271887, 6.744889914870023, 6.749098332468159, 6.753306750066295, 6.7575151676644305, 6.761723585262566, 6.765932002860702, 6.770140420458837, 6.774348838056973, 6.778557255655109, 6.782765673253245, 6.7869740908513805, 6.791182508449516, 6.795390926047652, 6.799599343645788, 6.803807761243924, 6.808016178842059, 6.812224596440195, 6.8164330140383305, 6.820641431636466, 6.824849849234602, 6.829058266832738, 6.833266684430874, 6.837475102029009, 6.841683519627145, 6.84589193722528, 6.850100354823416, 6.854308772421552, 6.858517190019688, 6.862725607617824, 6.86693402521596, 6.8711424428140955, 6.87535086041223, 6.879559278010366, 6.883767695608502, 6.887976113206638, 6.892184530804774, 6.89639294840291, 6.900601366001045, 6.90480978359918, 6.909018201197316, 6.913226618795452, 6.917435036393588, 6.921643453991724, 6.92585187158986, 6.930060289187995, 6.934268706786131, 6.938477124384266, 6.942685541982402, 6.946893959580538, 6.951102377178674, 6.95531079477681, 6.959519212374945, 6.963727629973081, 6.967936047571216, 6.972144465169352, 6.976352882767488, 6.980561300365624, 6.98476971796376, 6.988978135561895, 6.993186553160031, 6.997394970758167, 7.001603388356303, 7.005811805954438, 7.010020223552574, 7.0142286411507095, 7.018437058748845, 7.022645476346981, 7.026853893945117, 7.031062311543252, 7.035270729141388, 7.039479146739524, 7.0436875643376595, 7.047895981935795, 7.052104399533931, 7.056312817132067, 7.060521234730203, 7.064729652328339, 7.0689380699264746, 7.0731464875246095, 7.077354905122745, 7.081563322720881, 7.085771740319017, 7.089980157917153, 7.094188575515289, 7.098396993113424, 7.1026054107115595, 7.106813828309695, 7.111022245907831, 7.115230663505967, 7.119439081104103, 7.123647498702239, 7.1278559163003745, 7.13206433389851, 7.136272751496645, 7.140481169094781, 7.144689586692917, 7.148898004291053, 7.153106421889189, 7.1573148394873245, 7.1615232570854594, 7.165731674683595, 7.169940092281731, 7.174148509879867, 7.178356927478003, 7.182565345076139, 7.1867737626742745, 7.19098218027241, 7.195190597870546, 7.199399015468682, 7.203607433066817, 7.207815850664953, 7.212024268263089, 7.2162326858612245, 7.22044110345936, 7.224649521057496, 7.228857938655631, 7.233066356253767, 7.237274773851903, 7.241483191450039, 7.245691609048174, 7.24990002664631, 7.254108444244446, 7.258316861842582, 7.262525279440718, 7.266733697038854, 7.270942114636989, 7.275150532235124, 7.27935894983326, 7.283567367431396, 7.287775785029532, 7.291984202627668, 7.296192620225803, 7.300401037823939, 7.304609455422074, 7.30881787302021, 7.313026290618346, 7.317234708216482, 7.321443125814618, 7.325651543412754, 7.329859961010889, 7.334068378609024, 7.33827679620716, 7.342485213805296, 7.346693631403432, 7.350902049001568, 7.355110466599704, 7.3593188841978385, 7.363527301795974, 7.36773571939411, 7.371944136992246, 7.376152554590382, 7.380360972188518, 7.384569389786654, 7.388777807384789, 7.392986224982925, 7.397194642581061, 7.401403060179196, 7.405611477777332, 7.409819895375468, 7.4140283129736035, 7.418236730571739, 7.422445148169875, 7.42665356576801, 7.430861983366146, 7.435070400964282, 7.439278818562418, 7.4434872361605535, 7.447695653758689, 7.451904071356825, 7.456112488954961, 7.460320906553097, 7.464529324151232, 7.468737741749368, 7.4729461593475035, 7.477154576945639, 7.481362994543775, 7.485571412141911, 7.489779829740046, 7.493988247338182, 7.498196664936318, 7.5024050825344535, 7.506613500132589, 7.510821917730725, 7.515030335328861, 7.519238752926997, 7.523447170525133, 7.5276555881232685, 7.5318640057214035, 7.536072423319539, 7.540280840917675, 7.544489258515811, 7.548697676113947, 7.552906093712083, 7.557114511310218, 7.5613229289083534, 7.565531346506489, 7.569739764104625, 7.573948181702761, 7.578156599300897, 7.582365016899033, 7.5865734344971685, 7.590781852095304, 7.59499026969344, 7.599198687291575, 7.603407104889711, 7.607615522487847, 7.611823940085983, 7.6160323576841185, 7.620240775282253, 7.624449192880389, 7.628657610478525, 7.632866028076661, 7.637074445674797, 7.641282863272933, 7.645491280871068, 7.649699698469204, 7.65390811606734, 7.658116533665476, 7.662324951263611, 7.666533368861747, 7.670741786459883, 7.674950204058018, 7.679158621656154, 7.68336703925429, 7.687575456852425, 7.691783874450561, 7.695992292048697, 7.700200709646833, 7.704409127244968, 7.708617544843104, 7.71282596244124, 7.717034380039376, 7.721242797637512, 7.725451215235648, 7.7296596328337825, 7.733868050431918, 7.738076468030054, 7.74228488562819, 7.746493303226326, 7.750701720824462, 7.754910138422597, 7.7591185560207325, 7.763326973618868, 7.767535391217004, 7.77174380881514, 7.775952226413276, 7.780160644011412, 7.784369061609548, 7.788577479207683, 7.792785896805818, 7.796994314403954, 7.80120273200209, 7.805411149600226, 7.809619567198362, 7.8138279847964975, 7.8180364023946325, 7.822244819992768, 7.826453237590904, 7.83066165518904, 7.834870072787176, 7.839078490385312, 7.8432869079834475, 7.847495325581583, 7.851703743179719, 7.855912160777855, 7.86012057837599, 7.864328995974126, 7.868537413572262, 7.8727458311703975, 7.876954248768533, 7.881162666366669, 7.885371083964804, 7.88957950156294, 7.893787919161076, 7.897996336759212, 7.9022047543573475, 7.906413171955483, 7.910621589553619, 7.914830007151755, 7.919038424749891, 7.923246842348027, 7.927455259946162, 7.9316636775442975, 7.935872095142433, 7.940080512740569, 7.944288930338705, 7.94849734793684, 7.952705765534976, 7.956914183133112, 7.9611226007312474, 7.965331018329383, 7.969539435927519, 7.973747853525655, 7.977956271123791, 7.982164688721927, 7.9863731063200625, 7.990581523918197, 7.994789941516333, 7.998998359114469, 8.003206776712606, 8.007415194310742, 8.011623611908876, 8.015832029507012, 8.020040447105147, 8.024248864703283, 8.028457282301419, 8.032665699899555, 8.03687411749769, 8.041082535095827, 8.045290952693962, 8.049499370292098, 8.053707787890234, 8.05791620548837, 8.062124623086504, 8.06633304068464, 8.070541458282776, 8.074749875880912, 8.078958293479047, 8.083166711077183, 8.087375128675319, 8.091583546273455, 8.09579196387159, 8.100000381469727])\n",
              "              .range([&#x27;#ffff00ff&#x27;, &#x27;#fffe00ff&#x27;, &#x27;#fffd00ff&#x27;, &#x27;#fffc00ff&#x27;, &#x27;#fffb00ff&#x27;, &#x27;#fffa00ff&#x27;, &#x27;#fff900ff&#x27;, &#x27;#fff800ff&#x27;, &#x27;#fff700ff&#x27;, &#x27;#fff600ff&#x27;, &#x27;#fff500ff&#x27;, &#x27;#fff400ff&#x27;, &#x27;#fff300ff&#x27;, &#x27;#fff200ff&#x27;, &#x27;#fff100ff&#x27;, &#x27;#fff000ff&#x27;, &#x27;#ffef00ff&#x27;, &#x27;#ffee00ff&#x27;, &#x27;#ffed00ff&#x27;, &#x27;#ffec00ff&#x27;, &#x27;#ffeb00ff&#x27;, &#x27;#ffea00ff&#x27;, &#x27;#ffe900ff&#x27;, &#x27;#ffe800ff&#x27;, &#x27;#ffe700ff&#x27;, &#x27;#ffe600ff&#x27;, &#x27;#ffe500ff&#x27;, &#x27;#ffe400ff&#x27;, &#x27;#ffe300ff&#x27;, &#x27;#ffe200ff&#x27;, &#x27;#ffe100ff&#x27;, &#x27;#ffe000ff&#x27;, &#x27;#ffdf00ff&#x27;, &#x27;#ffde00ff&#x27;, &#x27;#ffdd00ff&#x27;, &#x27;#ffdc00ff&#x27;, &#x27;#ffdb00ff&#x27;, &#x27;#ffda00ff&#x27;, &#x27;#ffd900ff&#x27;, &#x27;#ffd700ff&#x27;, &#x27;#ffd600ff&#x27;, &#x27;#ffd500ff&#x27;, &#x27;#ffd400ff&#x27;, &#x27;#ffd300ff&#x27;, &#x27;#ffd200ff&#x27;, &#x27;#ffd100ff&#x27;, &#x27;#ffd000ff&#x27;, &#x27;#ffcf00ff&#x27;, &#x27;#ffce00ff&#x27;, &#x27;#ffcd00ff&#x27;, &#x27;#ffcc00ff&#x27;, &#x27;#ffcb00ff&#x27;, &#x27;#ffca00ff&#x27;, &#x27;#ffc900ff&#x27;, &#x27;#ffc800ff&#x27;, &#x27;#ffc700ff&#x27;, &#x27;#ffc600ff&#x27;, &#x27;#ffc500ff&#x27;, &#x27;#ffc400ff&#x27;, &#x27;#ffc300ff&#x27;, &#x27;#ffc200ff&#x27;, &#x27;#ffc100ff&#x27;, &#x27;#ffc000ff&#x27;, &#x27;#ffbf00ff&#x27;, &#x27;#ffbe00ff&#x27;, &#x27;#ffbd00ff&#x27;, &#x27;#ffbc00ff&#x27;, &#x27;#ffbb00ff&#x27;, &#x27;#ffba00ff&#x27;, &#x27;#ffb900ff&#x27;, &#x27;#ffb800ff&#x27;, &#x27;#ffb700ff&#x27;, &#x27;#ffb600ff&#x27;, &#x27;#ffb500ff&#x27;, &#x27;#ffb400ff&#x27;, &#x27;#ffb300ff&#x27;, &#x27;#ffb200ff&#x27;, &#x27;#ffb000ff&#x27;, &#x27;#ffaf00ff&#x27;, &#x27;#ffae00ff&#x27;, &#x27;#ffad00ff&#x27;, &#x27;#ffac00ff&#x27;, &#x27;#ffab00ff&#x27;, &#x27;#ffaa00ff&#x27;, &#x27;#ffa900ff&#x27;, &#x27;#ffa800ff&#x27;, &#x27;#ffa700ff&#x27;, &#x27;#ffa600ff&#x27;, &#x27;#ffa500ff&#x27;, &#x27;#ffa400ff&#x27;, &#x27;#ffa300ff&#x27;, &#x27;#ffa200ff&#x27;, &#x27;#ffa100ff&#x27;, &#x27;#ffa000ff&#x27;, &#x27;#ff9f00ff&#x27;, &#x27;#ff9e00ff&#x27;, &#x27;#ff9d00ff&#x27;, &#x27;#ff9c00ff&#x27;, &#x27;#ff9b00ff&#x27;, &#x27;#ff9a00ff&#x27;, &#x27;#ff9900ff&#x27;, &#x27;#ff9800ff&#x27;, &#x27;#ff9700ff&#x27;, &#x27;#ff9600ff&#x27;, &#x27;#ff9500ff&#x27;, &#x27;#ff9400ff&#x27;, &#x27;#ff9300ff&#x27;, &#x27;#ff9200ff&#x27;, &#x27;#ff9100ff&#x27;, &#x27;#ff9000ff&#x27;, &#x27;#ff8f00ff&#x27;, &#x27;#ff8e00ff&#x27;, &#x27;#ff8d00ff&#x27;, &#x27;#ff8c00ff&#x27;, &#x27;#ff8b00ff&#x27;, &#x27;#ff8a00ff&#x27;, &#x27;#ff8800ff&#x27;, &#x27;#ff8700ff&#x27;, &#x27;#ff8600ff&#x27;, &#x27;#ff8500ff&#x27;, &#x27;#ff8400ff&#x27;, &#x27;#ff8300ff&#x27;, &#x27;#ff8200ff&#x27;, &#x27;#ff8100ff&#x27;, &#x27;#ff8000ff&#x27;, &#x27;#ff7f00ff&#x27;, &#x27;#ff7e00ff&#x27;, &#x27;#ff7d00ff&#x27;, &#x27;#ff7c00ff&#x27;, &#x27;#ff7b00ff&#x27;, &#x27;#ff7a00ff&#x27;, &#x27;#ff7900ff&#x27;, &#x27;#ff7800ff&#x27;, &#x27;#ff7700ff&#x27;, &#x27;#ff7600ff&#x27;, &#x27;#ff7500ff&#x27;, &#x27;#ff7400ff&#x27;, &#x27;#ff7300ff&#x27;, &#x27;#ff7200ff&#x27;, &#x27;#ff7100ff&#x27;, &#x27;#ff7000ff&#x27;, &#x27;#ff6f00ff&#x27;, &#x27;#ff6e00ff&#x27;, &#x27;#ff6d00ff&#x27;, &#x27;#ff6c00ff&#x27;, &#x27;#ff6b00ff&#x27;, &#x27;#ff6a00ff&#x27;, &#x27;#ff6900ff&#x27;, &#x27;#ff6800ff&#x27;, &#x27;#ff6700ff&#x27;, &#x27;#ff6600ff&#x27;, &#x27;#ff6500ff&#x27;, &#x27;#ff6400ff&#x27;, &#x27;#ff6300ff&#x27;, &#x27;#ff6100ff&#x27;, &#x27;#ff6000ff&#x27;, &#x27;#ff5f00ff&#x27;, &#x27;#ff5e00ff&#x27;, &#x27;#ff5d00ff&#x27;, &#x27;#ff5c00ff&#x27;, &#x27;#ff5b00ff&#x27;, &#x27;#ff5a00ff&#x27;, &#x27;#ff5900ff&#x27;, &#x27;#ff5800ff&#x27;, &#x27;#ff5700ff&#x27;, &#x27;#ff5600ff&#x27;, &#x27;#ff5500ff&#x27;, &#x27;#ff5400ff&#x27;, &#x27;#ff5300ff&#x27;, &#x27;#ff5200ff&#x27;, &#x27;#ff5100ff&#x27;, &#x27;#ff5000ff&#x27;, &#x27;#ff4f00ff&#x27;, &#x27;#ff4e00ff&#x27;, &#x27;#ff4d00ff&#x27;, &#x27;#ff4c00ff&#x27;, &#x27;#ff4b00ff&#x27;, &#x27;#ff4a00ff&#x27;, &#x27;#ff4900ff&#x27;, &#x27;#ff4800ff&#x27;, &#x27;#ff4700ff&#x27;, &#x27;#ff4600ff&#x27;, &#x27;#ff4500ff&#x27;, &#x27;#ff4400ff&#x27;, &#x27;#ff4300ff&#x27;, &#x27;#ff4200ff&#x27;, &#x27;#ff4100ff&#x27;, &#x27;#ff4000ff&#x27;, &#x27;#ff3f00ff&#x27;, &#x27;#ff3e00ff&#x27;, &#x27;#ff3d00ff&#x27;, &#x27;#ff3c00ff&#x27;, &#x27;#ff3a00ff&#x27;, &#x27;#ff3900ff&#x27;, &#x27;#ff3800ff&#x27;, &#x27;#ff3700ff&#x27;, &#x27;#ff3600ff&#x27;, &#x27;#ff3500ff&#x27;, &#x27;#ff3400ff&#x27;, &#x27;#ff3300ff&#x27;, &#x27;#ff3200ff&#x27;, &#x27;#ff3100ff&#x27;, &#x27;#ff3000ff&#x27;, &#x27;#ff2f00ff&#x27;, &#x27;#ff2e00ff&#x27;, &#x27;#ff2d00ff&#x27;, &#x27;#ff2c00ff&#x27;, &#x27;#ff2b00ff&#x27;, &#x27;#ff2a00ff&#x27;, &#x27;#ff2900ff&#x27;, &#x27;#ff2800ff&#x27;, &#x27;#ff2700ff&#x27;, &#x27;#ff2600ff&#x27;, &#x27;#ff2500ff&#x27;, &#x27;#ff2400ff&#x27;, &#x27;#ff2300ff&#x27;, &#x27;#ff2200ff&#x27;, &#x27;#ff2100ff&#x27;, &#x27;#ff2000ff&#x27;, &#x27;#ff1f00ff&#x27;, &#x27;#ff1e00ff&#x27;, &#x27;#ff1d00ff&#x27;, &#x27;#ff1c00ff&#x27;, &#x27;#ff1b00ff&#x27;, &#x27;#ff1a00ff&#x27;, &#x27;#ff1900ff&#x27;, &#x27;#ff1800ff&#x27;, &#x27;#ff1700ff&#x27;, &#x27;#ff1600ff&#x27;, &#x27;#ff1500ff&#x27;, &#x27;#ff1400ff&#x27;, &#x27;#ff1200ff&#x27;, &#x27;#ff1100ff&#x27;, &#x27;#ff1000ff&#x27;, &#x27;#ff0f00ff&#x27;, &#x27;#ff0e00ff&#x27;, &#x27;#ff0d00ff&#x27;, &#x27;#ff0c00ff&#x27;, &#x27;#ff0b00ff&#x27;, &#x27;#ff0a00ff&#x27;, &#x27;#ff0900ff&#x27;, &#x27;#ff0800ff&#x27;, &#x27;#ff0700ff&#x27;, &#x27;#ff0600ff&#x27;, &#x27;#ff0500ff&#x27;, &#x27;#ff0400ff&#x27;, &#x27;#ff0300ff&#x27;, &#x27;#ff0200ff&#x27;, &#x27;#ff0100ff&#x27;, &#x27;#ff0000ff&#x27;, &#x27;#ff0000ff&#x27;, &#x27;#fe0000ff&#x27;, &#x27;#fd0000ff&#x27;, &#x27;#fc0000ff&#x27;, &#x27;#fb0000ff&#x27;, &#x27;#fa0000ff&#x27;, &#x27;#f90000ff&#x27;, &#x27;#f80000ff&#x27;, &#x27;#f70000ff&#x27;, &#x27;#f60000ff&#x27;, &#x27;#f50000ff&#x27;, &#x27;#f40000ff&#x27;, &#x27;#f30000ff&#x27;, &#x27;#f20000ff&#x27;, &#x27;#f10000ff&#x27;, &#x27;#f00000ff&#x27;, &#x27;#ef0000ff&#x27;, &#x27;#ee0000ff&#x27;, &#x27;#ed0000ff&#x27;, &#x27;#eb0000ff&#x27;, &#x27;#ea0000ff&#x27;, &#x27;#e90000ff&#x27;, &#x27;#e80000ff&#x27;, &#x27;#e70000ff&#x27;, &#x27;#e60000ff&#x27;, &#x27;#e50000ff&#x27;, &#x27;#e40000ff&#x27;, &#x27;#e30000ff&#x27;, &#x27;#e20000ff&#x27;, &#x27;#e10000ff&#x27;, &#x27;#e00000ff&#x27;, &#x27;#df0000ff&#x27;, &#x27;#de0000ff&#x27;, &#x27;#dd0000ff&#x27;, &#x27;#dc0000ff&#x27;, &#x27;#db0000ff&#x27;, &#x27;#da0000ff&#x27;, &#x27;#d90000ff&#x27;, &#x27;#d80000ff&#x27;, &#x27;#d70000ff&#x27;, &#x27;#d60000ff&#x27;, &#x27;#d50000ff&#x27;, &#x27;#d40000ff&#x27;, &#x27;#d30000ff&#x27;, &#x27;#d20000ff&#x27;, &#x27;#d10000ff&#x27;, &#x27;#d00000ff&#x27;, &#x27;#cf0000ff&#x27;, &#x27;#ce0000ff&#x27;, &#x27;#cd0000ff&#x27;, &#x27;#cc0000ff&#x27;, &#x27;#cb0000ff&#x27;, &#x27;#ca0000ff&#x27;, &#x27;#c90000ff&#x27;, &#x27;#c80000ff&#x27;, &#x27;#c70000ff&#x27;, &#x27;#c60000ff&#x27;, &#x27;#c50000ff&#x27;, &#x27;#c30000ff&#x27;, &#x27;#c20000ff&#x27;, &#x27;#c10000ff&#x27;, &#x27;#c00000ff&#x27;, &#x27;#bf0000ff&#x27;, &#x27;#be0000ff&#x27;, &#x27;#bd0000ff&#x27;, &#x27;#bc0000ff&#x27;, &#x27;#bb0000ff&#x27;, &#x27;#ba0000ff&#x27;, &#x27;#b90000ff&#x27;, &#x27;#b80000ff&#x27;, &#x27;#b70000ff&#x27;, &#x27;#b60000ff&#x27;, &#x27;#b50000ff&#x27;, &#x27;#b40000ff&#x27;, &#x27;#b30000ff&#x27;, &#x27;#b20000ff&#x27;, &#x27;#b10000ff&#x27;, &#x27;#b00000ff&#x27;, &#x27;#af0000ff&#x27;, &#x27;#ae0000ff&#x27;, &#x27;#ad0000ff&#x27;, &#x27;#ac0000ff&#x27;, &#x27;#ab0000ff&#x27;, &#x27;#aa0000ff&#x27;, &#x27;#a90000ff&#x27;, &#x27;#a80000ff&#x27;, &#x27;#a70000ff&#x27;, &#x27;#a60000ff&#x27;, &#x27;#a50000ff&#x27;, &#x27;#a40000ff&#x27;, &#x27;#a30000ff&#x27;, &#x27;#a20000ff&#x27;, &#x27;#a10000ff&#x27;, &#x27;#a00000ff&#x27;, &#x27;#9f0000ff&#x27;, &#x27;#9e0000ff&#x27;, &#x27;#9c0000ff&#x27;, &#x27;#9b0000ff&#x27;, &#x27;#9a0000ff&#x27;, &#x27;#990000ff&#x27;, &#x27;#980000ff&#x27;, &#x27;#970000ff&#x27;, &#x27;#960000ff&#x27;, &#x27;#950000ff&#x27;, &#x27;#940000ff&#x27;, &#x27;#930000ff&#x27;, &#x27;#920000ff&#x27;, &#x27;#910000ff&#x27;, &#x27;#900000ff&#x27;, &#x27;#8f0000ff&#x27;, &#x27;#8e0000ff&#x27;, &#x27;#8d0000ff&#x27;, &#x27;#8c0000ff&#x27;, &#x27;#8b0000ff&#x27;, &#x27;#8a0000ff&#x27;, &#x27;#890000ff&#x27;, &#x27;#880000ff&#x27;, &#x27;#870000ff&#x27;, &#x27;#860000ff&#x27;, &#x27;#850000ff&#x27;, &#x27;#840000ff&#x27;, &#x27;#830000ff&#x27;, &#x27;#820000ff&#x27;, &#x27;#810000ff&#x27;, &#x27;#800000ff&#x27;, &#x27;#7f0000ff&#x27;, &#x27;#7e0000ff&#x27;, &#x27;#7d0000ff&#x27;, &#x27;#7c0000ff&#x27;, &#x27;#7b0000ff&#x27;, &#x27;#7a0000ff&#x27;, &#x27;#790000ff&#x27;, &#x27;#780000ff&#x27;, &#x27;#770000ff&#x27;, &#x27;#750000ff&#x27;, &#x27;#740000ff&#x27;, &#x27;#730000ff&#x27;, &#x27;#720000ff&#x27;, &#x27;#710000ff&#x27;, &#x27;#700000ff&#x27;, &#x27;#6f0000ff&#x27;, &#x27;#6e0000ff&#x27;, &#x27;#6d0000ff&#x27;, &#x27;#6c0000ff&#x27;, &#x27;#6b0000ff&#x27;, &#x27;#6a0000ff&#x27;, &#x27;#690000ff&#x27;, &#x27;#680000ff&#x27;, &#x27;#670000ff&#x27;, &#x27;#660000ff&#x27;, &#x27;#650000ff&#x27;, &#x27;#640000ff&#x27;, &#x27;#630000ff&#x27;, &#x27;#620000ff&#x27;, &#x27;#610000ff&#x27;, &#x27;#600000ff&#x27;, &#x27;#5f0000ff&#x27;, &#x27;#5e0000ff&#x27;, &#x27;#5d0000ff&#x27;, &#x27;#5c0000ff&#x27;, &#x27;#5b0000ff&#x27;, &#x27;#5a0000ff&#x27;, &#x27;#590000ff&#x27;, &#x27;#580000ff&#x27;, &#x27;#570000ff&#x27;, &#x27;#560000ff&#x27;, &#x27;#550000ff&#x27;, &#x27;#540000ff&#x27;, &#x27;#530000ff&#x27;, &#x27;#520000ff&#x27;, &#x27;#510000ff&#x27;, &#x27;#500000ff&#x27;, &#x27;#4f0000ff&#x27;, &#x27;#4d0000ff&#x27;, &#x27;#4c0000ff&#x27;, &#x27;#4b0000ff&#x27;, &#x27;#4a0000ff&#x27;, &#x27;#490000ff&#x27;, &#x27;#480000ff&#x27;, &#x27;#470000ff&#x27;, &#x27;#460000ff&#x27;, &#x27;#450000ff&#x27;, &#x27;#440000ff&#x27;, &#x27;#430000ff&#x27;, &#x27;#420000ff&#x27;, &#x27;#410000ff&#x27;, &#x27;#400000ff&#x27;, &#x27;#3f0000ff&#x27;, &#x27;#3e0000ff&#x27;, &#x27;#3d0000ff&#x27;, &#x27;#3c0000ff&#x27;, &#x27;#3b0000ff&#x27;, &#x27;#3a0000ff&#x27;, &#x27;#390000ff&#x27;, &#x27;#380000ff&#x27;, &#x27;#370000ff&#x27;, &#x27;#360000ff&#x27;, &#x27;#350000ff&#x27;, &#x27;#340000ff&#x27;, &#x27;#330000ff&#x27;, &#x27;#320000ff&#x27;, &#x27;#310000ff&#x27;, &#x27;#300000ff&#x27;, &#x27;#2f0000ff&#x27;, &#x27;#2e0000ff&#x27;, &#x27;#2d0000ff&#x27;, &#x27;#2c0000ff&#x27;, &#x27;#2b0000ff&#x27;, &#x27;#2a0000ff&#x27;, &#x27;#290000ff&#x27;, &#x27;#280000ff&#x27;, &#x27;#260000ff&#x27;, &#x27;#250000ff&#x27;, &#x27;#240000ff&#x27;, &#x27;#230000ff&#x27;, &#x27;#220000ff&#x27;, &#x27;#210000ff&#x27;, &#x27;#200000ff&#x27;, &#x27;#1f0000ff&#x27;, &#x27;#1e0000ff&#x27;, &#x27;#1d0000ff&#x27;, &#x27;#1c0000ff&#x27;, &#x27;#1b0000ff&#x27;, &#x27;#1a0000ff&#x27;, &#x27;#190000ff&#x27;, &#x27;#180000ff&#x27;, &#x27;#170000ff&#x27;, &#x27;#160000ff&#x27;, &#x27;#150000ff&#x27;, &#x27;#140000ff&#x27;, &#x27;#130000ff&#x27;, &#x27;#120000ff&#x27;, &#x27;#110000ff&#x27;, &#x27;#100000ff&#x27;, &#x27;#0f0000ff&#x27;, &#x27;#0e0000ff&#x27;, &#x27;#0d0000ff&#x27;, &#x27;#0c0000ff&#x27;, &#x27;#0b0000ff&#x27;, &#x27;#0a0000ff&#x27;, &#x27;#090000ff&#x27;, &#x27;#080000ff&#x27;, &#x27;#070000ff&#x27;, &#x27;#060000ff&#x27;, &#x27;#050000ff&#x27;, &#x27;#040000ff&#x27;, &#x27;#030000ff&#x27;, &#x27;#020000ff&#x27;, &#x27;#010000ff&#x27;, &#x27;#000000ff&#x27;]);\n",
              "    \n",
              "\n",
              "    color_map_67ac5b9aa0ff52c0c66969e03a081360.x = d3.scale.linear()\n",
              "              .domain([6.0, 8.100000381469727])\n",
              "              .range([0, 450 - 50]);\n",
              "\n",
              "    color_map_67ac5b9aa0ff52c0c66969e03a081360.legend = L.control({position: &#x27;topright&#x27;});\n",
              "    color_map_67ac5b9aa0ff52c0c66969e03a081360.legend.onAdd = function (map) {var div = L.DomUtil.create(&#x27;div&#x27;, &#x27;legend&#x27;); return div};\n",
              "    color_map_67ac5b9aa0ff52c0c66969e03a081360.legend.addTo(map_bbe7fc8df6b94d50473f783ed11e3f07);\n",
              "\n",
              "    color_map_67ac5b9aa0ff52c0c66969e03a081360.xAxis = d3.svg.axis()\n",
              "        .scale(color_map_67ac5b9aa0ff52c0c66969e03a081360.x)\n",
              "        .orient(&quot;top&quot;)\n",
              "        .tickSize(1)\n",
              "        .tickValues([6.0, 7.050000190734863, 8.100000381469727]);\n",
              "\n",
              "    color_map_67ac5b9aa0ff52c0c66969e03a081360.svg = d3.select(&quot;.legend.leaflet-control&quot;).append(&quot;svg&quot;)\n",
              "        .attr(&quot;id&quot;, &#x27;legend&#x27;)\n",
              "        .attr(&quot;width&quot;, 450)\n",
              "        .attr(&quot;height&quot;, 40);\n",
              "\n",
              "    color_map_67ac5b9aa0ff52c0c66969e03a081360.g = color_map_67ac5b9aa0ff52c0c66969e03a081360.svg.append(&quot;g&quot;)\n",
              "        .attr(&quot;class&quot;, &quot;key&quot;)\n",
              "        .attr(&quot;transform&quot;, &quot;translate(25,16)&quot;);\n",
              "\n",
              "    color_map_67ac5b9aa0ff52c0c66969e03a081360.g.selectAll(&quot;rect&quot;)\n",
              "        .data(color_map_67ac5b9aa0ff52c0c66969e03a081360.color.range().map(function(d, i) {\n",
              "          return {\n",
              "            x0: i ? color_map_67ac5b9aa0ff52c0c66969e03a081360.x(color_map_67ac5b9aa0ff52c0c66969e03a081360.color.domain()[i - 1]) : color_map_67ac5b9aa0ff52c0c66969e03a081360.x.range()[0],\n",
              "            x1: i &lt; color_map_67ac5b9aa0ff52c0c66969e03a081360.color.domain().length ? color_map_67ac5b9aa0ff52c0c66969e03a081360.x(color_map_67ac5b9aa0ff52c0c66969e03a081360.color.domain()[i]) : color_map_67ac5b9aa0ff52c0c66969e03a081360.x.range()[1],\n",
              "            z: d\n",
              "          };\n",
              "        }))\n",
              "      .enter().append(&quot;rect&quot;)\n",
              "        .attr(&quot;height&quot;, 40 - 30)\n",
              "        .attr(&quot;x&quot;, function(d) { return d.x0; })\n",
              "        .attr(&quot;width&quot;, function(d) { return d.x1 - d.x0; })\n",
              "        .style(&quot;fill&quot;, function(d) { return d.z; });\n",
              "\n",
              "    color_map_67ac5b9aa0ff52c0c66969e03a081360.g.call(color_map_67ac5b9aa0ff52c0c66969e03a081360.xAxis).append(&quot;text&quot;)\n",
              "        .attr(&quot;class&quot;, &quot;caption&quot;)\n",
              "        .attr(&quot;y&quot;, 21)\n",
              "        .text(&quot;&quot;);\n",
              "    \n",
              "    var color_map_ec5e1f6b907818dc64ed031edcd22bc1 = {};\n",
              "\n",
              "    \n",
              "    color_map_ec5e1f6b907818dc64ed031edcd22bc1.color = d3.scale.threshold()\n",
              "              .domain([5.244867324829102, 5.249320138193562, 5.253772951558023, 5.258225764922484, 5.262678578286945, 5.2671313916514055, 5.271584205015866, 5.276037018380327, 5.280489831744789, 5.28494264510925, 5.28939545847371, 5.293848271838171, 5.298301085202632, 5.302753898567093, 5.307206711931554, 5.311659525296014, 5.316112338660475, 5.320565152024936, 5.325017965389397, 5.3294707787538576, 5.333923592118318, 5.338376405482779, 5.342829218847241, 5.347282032211702, 5.351734845576162, 5.356187658940623, 5.360640472305084, 5.365093285669545, 5.369546099034006, 5.373998912398466, 5.378451725762927, 5.382904539127388, 5.387357352491849, 5.39181016585631, 5.39626297922077, 5.400715792585231, 5.405168605949692, 5.409621419314154, 5.414074232678614, 5.418527046043075, 5.422979859407536, 5.427432672771997, 5.431885486136458, 5.436338299500918, 5.440791112865379, 5.44524392622984, 5.449696739594301, 5.454149552958762, 5.458602366323222, 5.463055179687683, 5.467507993052144, 5.471960806416605, 5.4764136197810664, 5.480866433145527, 5.485319246509988, 5.489772059874449, 5.49422487323891, 5.49867768660337, 5.503130499967831, 5.507583313332292, 5.512036126696753, 5.516488940061214, 5.520941753425674, 5.525394566790135, 5.529847380154596, 5.534300193519057, 5.538753006883518, 5.543205820247979, 5.54765863361244, 5.552111446976901, 5.556564260341362, 5.561017073705822, 5.565469887070283, 5.569922700434744, 5.574375513799205, 5.578828327163666, 5.583281140528126, 5.587733953892587, 5.592186767257048, 5.596639580621509, 5.60109239398597, 5.605545207350431, 5.609998020714892, 5.614450834079353, 5.618903647443814, 5.6233564608082744, 5.627809274172735, 5.632262087537196, 5.636714900901657, 5.641167714266118, 5.645620527630578, 5.650073340995039, 5.6545261543595, 5.658978967723961, 5.663431781088422, 5.667884594452882, 5.672337407817344, 5.676790221181805, 5.681243034546266, 5.6856958479107265, 5.690148661275187, 5.694601474639648, 5.699054288004109, 5.70350710136857, 5.70795991473303, 5.712412728097491, 5.716865541461952, 5.721318354826413, 5.725771168190874, 5.730223981555334, 5.734676794919796, 5.739129608284257, 5.743582421648718, 5.7480352350131785, 5.752488048377639, 5.7569408617421, 5.761393675106561, 5.765846488471022, 5.7702993018354825, 5.774752115199943, 5.779204928564404, 5.783657741928865, 5.788110555293326, 5.792563368657786, 5.797016182022247, 5.801468995386708, 5.80592180875117, 5.8103746221156305, 5.814827435480091, 5.819280248844552, 5.823733062209013, 5.828185875573474, 5.8326386889379345, 5.837091502302395, 5.841544315666856, 5.845997129031317, 5.850449942395778, 5.854902755760238, 5.859355569124699, 5.863808382489161, 5.868261195853622, 5.8727140092180825, 5.877166822582543, 5.881619635947004, 5.886072449311465, 5.890525262675926, 5.8949780760403865, 5.899430889404847, 5.903883702769308, 5.908336516133769, 5.91278932949823, 5.9172421428626905, 5.921694956227151, 5.926147769591612, 5.930600582956073, 5.935053396320534, 5.939506209684995, 5.943959023049456, 5.948411836413917, 5.952864649778378, 5.9573174631428385, 5.961770276507299, 5.96622308987176, 5.970675903236221, 5.975128716600682, 5.9795815299651425, 5.984034343329603, 5.988487156694064, 5.992939970058526, 5.9973927834229865, 6.001845596787447, 6.006298410151908, 6.010751223516369, 6.01520403688083, 6.0196568502452905, 6.024109663609751, 6.028562476974212, 6.033015290338673, 6.037468103703134, 6.0419209170675945, 6.046373730432055, 6.050826543796516, 6.055279357160977, 6.059732170525438, 6.0641849838898985, 6.06863779725436, 6.073090610618821, 6.077543423983282, 6.0819962373477425, 6.086449050712203, 6.090901864076664, 6.095354677441125, 6.099807490805586, 6.1042603041700465, 6.108713117534507, 6.113165930898968, 6.117618744263429, 6.12207155762789, 6.126524370992351, 6.130977184356812, 6.135429997721273, 6.139882811085734, 6.1443356244501945, 6.148788437814655, 6.153241251179116, 6.157694064543577, 6.162146877908038, 6.1665996912724985, 6.171052504636959, 6.17550531800142, 6.179958131365881, 6.184410944730342, 6.1888637580948025, 6.193316571459263, 6.197769384823725, 6.202222198188186, 6.206675011552647, 6.211127824917107, 6.215580638281568, 6.220033451646029, 6.22448626501049, 6.2289390783749505, 6.233391891739411, 6.237844705103872, 6.242297518468333, 6.246750331832794, 6.251203145197255, 6.255655958561716, 6.260108771926177, 6.264561585290638, 6.269014398655099, 6.273467212019559, 6.27792002538402, 6.282372838748481, 6.286825652112942, 6.2912784654774025, 6.295731278841863, 6.300184092206324, 6.304636905570785, 6.309089718935246, 6.3135425322997065, 6.317995345664167, 6.322448159028628, 6.326900972393089, 6.331353785757551, 6.335806599122011, 6.340259412486472, 6.344712225850933, 6.349165039215394, 6.353617852579855, 6.358070665944315, 6.362523479308776, 6.366976292673237, 6.371429106037698, 6.3758819194021585, 6.380334732766619, 6.384787546131081, 6.389240359495542, 6.393693172860003, 6.398145986224463, 6.402598799588924, 6.407051612953385, 6.411504426317846, 6.415957239682307, 6.420410053046767, 6.424862866411228, 6.429315679775689, 6.43376849314015, 6.4382213065046106, 6.442674119869071, 6.447126933233532, 6.451579746597993, 6.456032559962454, 6.4604853733269145, 6.464938186691376, 6.469391000055837, 6.473843813420298, 6.478296626784759, 6.482749440149219, 6.48720225351368, 6.491655066878141, 6.496107880242602, 6.500560693607063, 6.505013506971523, 6.509466320335984, 6.513919133700446, 6.518371947064907, 6.522824760429367, 6.527277573793828, 6.531730387158289, 6.53618320052275, 6.540636013887211, 6.545088827251671, 6.549541640616132, 6.553994453980593, 6.558447267345054, 6.562900080709515, 6.567352894073975, 6.571805707438436, 6.576258520802897, 6.580711334167358, 6.585164147531819, 6.589616960896279, 6.594069774260741, 6.598522587625202, 6.602975400989663, 6.607428214354123, 6.611881027718584, 6.616333841083045, 6.620786654447506, 6.625239467811967, 6.629692281176427, 6.634145094540888, 6.638597907905349, 6.643050721269811, 6.6475035346342715, 6.651956347998732, 6.656409161363193, 6.660861974727654, 6.665314788092115, 6.669767601456575, 6.674220414821036, 6.678673228185497, 6.683126041549958, 6.687578854914419, 6.692031668278879, 6.69648448164334, 6.700937295007801, 6.705390108372262, 6.709842921736723, 6.714295735101183, 6.718748548465644, 6.723201361830105, 6.727654175194567, 6.7321069885590274, 6.736559801923488, 6.741012615287949, 6.74546542865241, 6.749918242016871, 6.754371055381331, 6.758823868745792, 6.763276682110253, 6.767729495474714, 6.772182308839175, 6.776635122203636, 6.781087935568097, 6.785540748932558, 6.789993562297019, 6.7944463756614795, 6.79889918902594, 6.803352002390401, 6.807804815754862, 6.812257629119323, 6.816710442483783, 6.821163255848244, 6.825616069212705, 6.830068882577166, 6.834521695941627, 6.838974509306087, 6.843427322670548, 6.847880136035009, 6.85233294939947, 6.8567857627639315, 6.861238576128392, 6.865691389492853, 6.870144202857314, 6.874597016221775, 6.8790498295862355, 6.883502642950696, 6.887955456315157, 6.892408269679618, 6.896861083044079, 6.901313896408539, 6.905766709773001, 6.910219523137462, 6.914672336501923, 6.9191251498663835, 6.923577963230844, 6.928030776595305, 6.932483589959766, 6.936936403324227, 6.9413892166886875, 6.945842030053148, 6.950294843417609, 6.95474765678207, 6.959200470146531, 6.963653283510991, 6.968106096875452, 6.972558910239913, 6.977011723604374, 6.981464536968835, 6.985917350333296, 6.990370163697757, 6.994822977062218, 6.999275790426679, 7.0037286037911395, 7.0081814171556, 7.012634230520061, 7.017087043884522, 7.021539857248983, 7.0259926706134435, 7.030445483977904, 7.034898297342366, 7.039351110706827, 7.0438039240712875, 7.048256737435748, 7.052709550800209, 7.05716236416467, 7.061615177529131, 7.0660679908935915, 7.070520804258052, 7.074973617622513, 7.079426430986974, 7.083879244351435, 7.0883320577158955, 7.092784871080356, 7.097237684444817, 7.101690497809278, 7.106143311173739, 7.1105961245381994, 7.11504893790266, 7.119501751267122, 7.123954564631583, 7.1284073779960435, 7.132860191360504, 7.137313004724965, 7.141765818089426, 7.146218631453887, 7.1506714448183475, 7.155124258182808, 7.159577071547269, 7.16402988491173, 7.168482698276192, 7.172935511640652, 7.177388325005113, 7.181841138369574, 7.186293951734035, 7.1907467650984955, 7.195199578462956, 7.199652391827417, 7.204105205191878, 7.208558018556339, 7.2130108319207995, 7.21746364528526, 7.221916458649721, 7.226369272014182, 7.230822085378643, 7.2352748987431035, 7.239727712107564, 7.244180525472025, 7.248633338836486, 7.253086152200947, 7.257538965565408, 7.261991778929869, 7.26644459229433, 7.270897405658791, 7.2753502190232515, 7.279803032387712, 7.284255845752173, 7.288708659116635, 7.293161472481096, 7.297614285845556, 7.302067099210017, 7.306519912574478, 7.310972725938939, 7.3154255393034, 7.31987835266786, 7.324331166032321, 7.328783979396782, 7.333236792761243, 7.3376896061257035, 7.342142419490164, 7.346595232854625, 7.351048046219086, 7.355500859583547, 7.3599536729480075, 7.364406486312468, 7.368859299676929, 7.37331211304139, 7.377764926405851, 7.3822177397703115, 7.386670553134773, 7.391123366499234, 7.395576179863695, 7.4000289932281555, 7.404481806592616, 7.408934619957077, 7.413387433321538, 7.417840246686, 7.42229306005046, 7.426745873414921, 7.431198686779382, 7.435651500143843, 7.440104313508304, 7.444557126872764, 7.449009940237225, 7.453462753601686, 7.457915566966147, 7.462368380330608, 7.466821193695068])\n",
              "              .range([&#x27;#008000ff&#x27;, &#x27;#007f01ff&#x27;, &#x27;#007f02ff&#x27;, &#x27;#007e03ff&#x27;, &#x27;#007e04ff&#x27;, &#x27;#007d05ff&#x27;, &#x27;#007d06ff&#x27;, &#x27;#007c07ff&#x27;, &#x27;#007c08ff&#x27;, &#x27;#007b09ff&#x27;, &#x27;#007b0aff&#x27;, &#x27;#007a0bff&#x27;, &#x27;#007a0cff&#x27;, &#x27;#00790dff&#x27;, &#x27;#00790eff&#x27;, &#x27;#00780fff&#x27;, &#x27;#007810ff&#x27;, &#x27;#007711ff&#x27;, &#x27;#007712ff&#x27;, &#x27;#007613ff&#x27;, &#x27;#007614ff&#x27;, &#x27;#007515ff&#x27;, &#x27;#007516ff&#x27;, &#x27;#007417ff&#x27;, &#x27;#007418ff&#x27;, &#x27;#007319ff&#x27;, &#x27;#00731aff&#x27;, &#x27;#00721bff&#x27;, &#x27;#00721cff&#x27;, &#x27;#00711dff&#x27;, &#x27;#00711eff&#x27;, &#x27;#00701fff&#x27;, &#x27;#007020ff&#x27;, &#x27;#006f21ff&#x27;, &#x27;#006e22ff&#x27;, &#x27;#006e23ff&#x27;, &#x27;#006d24ff&#x27;, &#x27;#006d25ff&#x27;, &#x27;#006c26ff&#x27;, &#x27;#006c28ff&#x27;, &#x27;#006b29ff&#x27;, &#x27;#006b2aff&#x27;, &#x27;#006a2bff&#x27;, &#x27;#006a2cff&#x27;, &#x27;#00692dff&#x27;, &#x27;#00692eff&#x27;, &#x27;#00682fff&#x27;, &#x27;#006830ff&#x27;, &#x27;#006731ff&#x27;, &#x27;#006732ff&#x27;, &#x27;#006633ff&#x27;, &#x27;#006634ff&#x27;, &#x27;#006535ff&#x27;, &#x27;#006536ff&#x27;, &#x27;#006437ff&#x27;, &#x27;#006438ff&#x27;, &#x27;#006339ff&#x27;, &#x27;#00633aff&#x27;, &#x27;#00623bff&#x27;, &#x27;#00623cff&#x27;, &#x27;#00613dff&#x27;, &#x27;#00613eff&#x27;, &#x27;#00603fff&#x27;, &#x27;#006040ff&#x27;, &#x27;#005f41ff&#x27;, &#x27;#005f42ff&#x27;, &#x27;#005e43ff&#x27;, &#x27;#005d44ff&#x27;, &#x27;#005d45ff&#x27;, &#x27;#005c46ff&#x27;, &#x27;#005c47ff&#x27;, &#x27;#005b48ff&#x27;, &#x27;#005b49ff&#x27;, &#x27;#005a4aff&#x27;, &#x27;#005a4bff&#x27;, &#x27;#00594cff&#x27;, &#x27;#00594dff&#x27;, &#x27;#00584fff&#x27;, &#x27;#005850ff&#x27;, &#x27;#005751ff&#x27;, &#x27;#005752ff&#x27;, &#x27;#005653ff&#x27;, &#x27;#005654ff&#x27;, &#x27;#005555ff&#x27;, &#x27;#005556ff&#x27;, &#x27;#005457ff&#x27;, &#x27;#005458ff&#x27;, &#x27;#005359ff&#x27;, &#x27;#00535aff&#x27;, &#x27;#00525bff&#x27;, &#x27;#00525cff&#x27;, &#x27;#00515dff&#x27;, &#x27;#00515eff&#x27;, &#x27;#00505fff&#x27;, &#x27;#005060ff&#x27;, &#x27;#004f61ff&#x27;, &#x27;#004f62ff&#x27;, &#x27;#004e63ff&#x27;, &#x27;#004e64ff&#x27;, &#x27;#004d65ff&#x27;, &#x27;#004c66ff&#x27;, &#x27;#004c67ff&#x27;, &#x27;#004b68ff&#x27;, &#x27;#004b69ff&#x27;, &#x27;#004a6aff&#x27;, &#x27;#004a6bff&#x27;, &#x27;#00496cff&#x27;, &#x27;#00496dff&#x27;, &#x27;#00486eff&#x27;, &#x27;#00486fff&#x27;, &#x27;#004770ff&#x27;, &#x27;#004771ff&#x27;, &#x27;#004672ff&#x27;, &#x27;#004673ff&#x27;, &#x27;#004574ff&#x27;, &#x27;#004575ff&#x27;, &#x27;#004477ff&#x27;, &#x27;#004478ff&#x27;, &#x27;#004379ff&#x27;, &#x27;#00437aff&#x27;, &#x27;#00427bff&#x27;, &#x27;#00427cff&#x27;, &#x27;#00417dff&#x27;, &#x27;#00417eff&#x27;, &#x27;#00407fff&#x27;, &#x27;#004080ff&#x27;, &#x27;#003f81ff&#x27;, &#x27;#003f82ff&#x27;, &#x27;#003e83ff&#x27;, &#x27;#003e84ff&#x27;, &#x27;#003d85ff&#x27;, &#x27;#003d86ff&#x27;, &#x27;#003c87ff&#x27;, &#x27;#003c88ff&#x27;, &#x27;#003b89ff&#x27;, &#x27;#003a8aff&#x27;, &#x27;#003a8bff&#x27;, &#x27;#00398cff&#x27;, &#x27;#00398dff&#x27;, &#x27;#00388eff&#x27;, &#x27;#00388fff&#x27;, &#x27;#003790ff&#x27;, &#x27;#003791ff&#x27;, &#x27;#003692ff&#x27;, &#x27;#003693ff&#x27;, &#x27;#003594ff&#x27;, &#x27;#003595ff&#x27;, &#x27;#003496ff&#x27;, &#x27;#003497ff&#x27;, &#x27;#003398ff&#x27;, &#x27;#003399ff&#x27;, &#x27;#00329aff&#x27;, &#x27;#00329bff&#x27;, &#x27;#00319cff&#x27;, &#x27;#00319eff&#x27;, &#x27;#00309fff&#x27;, &#x27;#0030a0ff&#x27;, &#x27;#002fa1ff&#x27;, &#x27;#002fa2ff&#x27;, &#x27;#002ea3ff&#x27;, &#x27;#002ea4ff&#x27;, &#x27;#002da5ff&#x27;, &#x27;#002da6ff&#x27;, &#x27;#002ca7ff&#x27;, &#x27;#002ca8ff&#x27;, &#x27;#002ba9ff&#x27;, &#x27;#002baaff&#x27;, &#x27;#002aabff&#x27;, &#x27;#0029acff&#x27;, &#x27;#0029adff&#x27;, &#x27;#0028aeff&#x27;, &#x27;#0028afff&#x27;, &#x27;#0027b0ff&#x27;, &#x27;#0027b1ff&#x27;, &#x27;#0026b2ff&#x27;, &#x27;#0026b3ff&#x27;, &#x27;#0025b4ff&#x27;, &#x27;#0025b5ff&#x27;, &#x27;#0024b6ff&#x27;, &#x27;#0024b7ff&#x27;, &#x27;#0023b8ff&#x27;, &#x27;#0023b9ff&#x27;, &#x27;#0022baff&#x27;, &#x27;#0022bbff&#x27;, &#x27;#0021bcff&#x27;, &#x27;#0021bdff&#x27;, &#x27;#0020beff&#x27;, &#x27;#0020bfff&#x27;, &#x27;#001fc0ff&#x27;, &#x27;#001fc1ff&#x27;, &#x27;#001ec2ff&#x27;, &#x27;#001ec3ff&#x27;, &#x27;#001dc5ff&#x27;, &#x27;#001dc6ff&#x27;, &#x27;#001cc7ff&#x27;, &#x27;#001cc8ff&#x27;, &#x27;#001bc9ff&#x27;, &#x27;#001bcaff&#x27;, &#x27;#001acbff&#x27;, &#x27;#001accff&#x27;, &#x27;#0019cdff&#x27;, &#x27;#0018ceff&#x27;, &#x27;#0018cfff&#x27;, &#x27;#0017d0ff&#x27;, &#x27;#0017d1ff&#x27;, &#x27;#0016d2ff&#x27;, &#x27;#0016d3ff&#x27;, &#x27;#0015d4ff&#x27;, &#x27;#0015d5ff&#x27;, &#x27;#0014d6ff&#x27;, &#x27;#0014d7ff&#x27;, &#x27;#0013d8ff&#x27;, &#x27;#0013d9ff&#x27;, &#x27;#0012daff&#x27;, &#x27;#0012dbff&#x27;, &#x27;#0011dcff&#x27;, &#x27;#0011ddff&#x27;, &#x27;#0010deff&#x27;, &#x27;#0010dfff&#x27;, &#x27;#000fe0ff&#x27;, &#x27;#000fe1ff&#x27;, &#x27;#000ee2ff&#x27;, &#x27;#000ee3ff&#x27;, &#x27;#000de4ff&#x27;, &#x27;#000de5ff&#x27;, &#x27;#000ce6ff&#x27;, &#x27;#000ce7ff&#x27;, &#x27;#000be8ff&#x27;, &#x27;#000be9ff&#x27;, &#x27;#000aeaff&#x27;, &#x27;#000aebff&#x27;, &#x27;#0009edff&#x27;, &#x27;#0009eeff&#x27;, &#x27;#0008efff&#x27;, &#x27;#0007f0ff&#x27;, &#x27;#0007f1ff&#x27;, &#x27;#0006f2ff&#x27;, &#x27;#0006f3ff&#x27;, &#x27;#0005f4ff&#x27;, &#x27;#0005f5ff&#x27;, &#x27;#0004f6ff&#x27;, &#x27;#0004f7ff&#x27;, &#x27;#0003f8ff&#x27;, &#x27;#0003f9ff&#x27;, &#x27;#0002faff&#x27;, &#x27;#0002fbff&#x27;, &#x27;#0001fcff&#x27;, &#x27;#0001fdff&#x27;, &#x27;#0000feff&#x27;, &#x27;#0000ffff&#x27;, &#x27;#0000ffff&#x27;, &#x27;#0000ffff&#x27;, &#x27;#0100feff&#x27;, &#x27;#0100feff&#x27;, &#x27;#0200fdff&#x27;, &#x27;#0200fdff&#x27;, &#x27;#0300fcff&#x27;, &#x27;#0300fcff&#x27;, &#x27;#0400fbff&#x27;, &#x27;#0400fbff&#x27;, &#x27;#0500faff&#x27;, &#x27;#0500faff&#x27;, &#x27;#0600f9ff&#x27;, &#x27;#0600f9ff&#x27;, &#x27;#0700f8ff&#x27;, &#x27;#0700f8ff&#x27;, &#x27;#0800f7ff&#x27;, &#x27;#0900f7ff&#x27;, &#x27;#0900f6ff&#x27;, &#x27;#0a00f6ff&#x27;, &#x27;#0a00f5ff&#x27;, &#x27;#0b00f5ff&#x27;, &#x27;#0b00f4ff&#x27;, &#x27;#0c00f3ff&#x27;, &#x27;#0c00f3ff&#x27;, &#x27;#0d00f2ff&#x27;, &#x27;#0d00f2ff&#x27;, &#x27;#0e00f1ff&#x27;, &#x27;#0e00f1ff&#x27;, &#x27;#0f00f0ff&#x27;, &#x27;#0f00f0ff&#x27;, &#x27;#1000efff&#x27;, &#x27;#1000efff&#x27;, &#x27;#1100eeff&#x27;, &#x27;#1100eeff&#x27;, &#x27;#1200edff&#x27;, &#x27;#1200edff&#x27;, &#x27;#1300ecff&#x27;, &#x27;#1300ecff&#x27;, &#x27;#1400ebff&#x27;, &#x27;#1400ebff&#x27;, &#x27;#1500eaff&#x27;, &#x27;#1500eaff&#x27;, &#x27;#1600e9ff&#x27;, &#x27;#1600e9ff&#x27;, &#x27;#1700e8ff&#x27;, &#x27;#1700e8ff&#x27;, &#x27;#1800e7ff&#x27;, &#x27;#1800e7ff&#x27;, &#x27;#1900e6ff&#x27;, &#x27;#1a00e6ff&#x27;, &#x27;#1a00e5ff&#x27;, &#x27;#1b00e5ff&#x27;, &#x27;#1b00e4ff&#x27;, &#x27;#1c00e4ff&#x27;, &#x27;#1c00e3ff&#x27;, &#x27;#1d00e3ff&#x27;, &#x27;#1d00e2ff&#x27;, &#x27;#1e00e2ff&#x27;, &#x27;#1e00e1ff&#x27;, &#x27;#1f00e1ff&#x27;, &#x27;#1f00e0ff&#x27;, &#x27;#2000e0ff&#x27;, &#x27;#2000dfff&#x27;, &#x27;#2100dfff&#x27;, &#x27;#2100deff&#x27;, &#x27;#2200deff&#x27;, &#x27;#2200ddff&#x27;, &#x27;#2300dcff&#x27;, &#x27;#2300dcff&#x27;, &#x27;#2400dbff&#x27;, &#x27;#2400dbff&#x27;, &#x27;#2500daff&#x27;, &#x27;#2500daff&#x27;, &#x27;#2600d9ff&#x27;, &#x27;#2600d9ff&#x27;, &#x27;#2700d8ff&#x27;, &#x27;#2700d8ff&#x27;, &#x27;#2800d7ff&#x27;, &#x27;#2800d7ff&#x27;, &#x27;#2900d6ff&#x27;, &#x27;#2900d6ff&#x27;, &#x27;#2a00d5ff&#x27;, &#x27;#2b00d5ff&#x27;, &#x27;#2b00d4ff&#x27;, &#x27;#2c00d4ff&#x27;, &#x27;#2c00d3ff&#x27;, &#x27;#2d00d3ff&#x27;, &#x27;#2d00d2ff&#x27;, &#x27;#2e00d2ff&#x27;, &#x27;#2e00d1ff&#x27;, &#x27;#2f00d1ff&#x27;, &#x27;#2f00d0ff&#x27;, &#x27;#3000d0ff&#x27;, &#x27;#3000cfff&#x27;, &#x27;#3100cfff&#x27;, &#x27;#3100ceff&#x27;, &#x27;#3200ceff&#x27;, &#x27;#3200cdff&#x27;, &#x27;#3300cdff&#x27;, &#x27;#3300ccff&#x27;, &#x27;#3400ccff&#x27;, &#x27;#3400cbff&#x27;, &#x27;#3500cbff&#x27;, &#x27;#3500caff&#x27;, &#x27;#3600caff&#x27;, &#x27;#3600c9ff&#x27;, &#x27;#3700c9ff&#x27;, &#x27;#3700c8ff&#x27;, &#x27;#3800c8ff&#x27;, &#x27;#3800c7ff&#x27;, &#x27;#3900c7ff&#x27;, &#x27;#3900c6ff&#x27;, &#x27;#3a00c5ff&#x27;, &#x27;#3a00c5ff&#x27;, &#x27;#3b00c4ff&#x27;, &#x27;#3c00c4ff&#x27;, &#x27;#3c00c3ff&#x27;, &#x27;#3d00c3ff&#x27;, &#x27;#3d00c2ff&#x27;, &#x27;#3e00c2ff&#x27;, &#x27;#3e00c1ff&#x27;, &#x27;#3f00c1ff&#x27;, &#x27;#3f00c0ff&#x27;, &#x27;#4000c0ff&#x27;, &#x27;#4000bfff&#x27;, &#x27;#4100bfff&#x27;, &#x27;#4100beff&#x27;, &#x27;#4200beff&#x27;, &#x27;#4200bdff&#x27;, &#x27;#4300bdff&#x27;, &#x27;#4300bcff&#x27;, &#x27;#4400bcff&#x27;, &#x27;#4400bbff&#x27;, &#x27;#4500bbff&#x27;, &#x27;#4500baff&#x27;, &#x27;#4600baff&#x27;, &#x27;#4600b9ff&#x27;, &#x27;#4700b9ff&#x27;, &#x27;#4700b8ff&#x27;, &#x27;#4800b8ff&#x27;, &#x27;#4800b7ff&#x27;, &#x27;#4900b7ff&#x27;, &#x27;#4900b6ff&#x27;, &#x27;#4a00b6ff&#x27;, &#x27;#4a00b5ff&#x27;, &#x27;#4b00b5ff&#x27;, &#x27;#4b00b4ff&#x27;, &#x27;#4c00b4ff&#x27;, &#x27;#4c00b3ff&#x27;, &#x27;#4d00b3ff&#x27;, &#x27;#4e00b2ff&#x27;, &#x27;#4e00b2ff&#x27;, &#x27;#4f00b1ff&#x27;, &#x27;#4f00b1ff&#x27;, &#x27;#5000b0ff&#x27;, &#x27;#5000b0ff&#x27;, &#x27;#5100afff&#x27;, &#x27;#5100afff&#x27;, &#x27;#5200aeff&#x27;, &#x27;#5200adff&#x27;, &#x27;#5300adff&#x27;, &#x27;#5300acff&#x27;, &#x27;#5400acff&#x27;, &#x27;#5400abff&#x27;, &#x27;#5500abff&#x27;, &#x27;#5500aaff&#x27;, &#x27;#5600aaff&#x27;, &#x27;#5600a9ff&#x27;, &#x27;#5700a9ff&#x27;, &#x27;#5700a8ff&#x27;, &#x27;#5800a8ff&#x27;, &#x27;#5800a7ff&#x27;, &#x27;#5900a7ff&#x27;, &#x27;#5900a6ff&#x27;, &#x27;#5a00a6ff&#x27;, &#x27;#5a00a5ff&#x27;, &#x27;#5b00a5ff&#x27;, &#x27;#5b00a4ff&#x27;, &#x27;#5c00a4ff&#x27;, &#x27;#5c00a3ff&#x27;, &#x27;#5d00a3ff&#x27;, &#x27;#5d00a2ff&#x27;, &#x27;#5e00a2ff&#x27;, &#x27;#5f00a1ff&#x27;, &#x27;#5f00a1ff&#x27;, &#x27;#6000a0ff&#x27;, &#x27;#6000a0ff&#x27;, &#x27;#61009fff&#x27;, &#x27;#61009fff&#x27;, &#x27;#62009eff&#x27;, &#x27;#62009eff&#x27;, &#x27;#63009dff&#x27;, &#x27;#63009dff&#x27;, &#x27;#64009cff&#x27;, &#x27;#64009cff&#x27;, &#x27;#65009bff&#x27;, &#x27;#65009bff&#x27;, &#x27;#66009aff&#x27;, &#x27;#66009aff&#x27;, &#x27;#670099ff&#x27;, &#x27;#670099ff&#x27;, &#x27;#680098ff&#x27;, &#x27;#680098ff&#x27;, &#x27;#690097ff&#x27;, &#x27;#690096ff&#x27;, &#x27;#6a0096ff&#x27;, &#x27;#6a0095ff&#x27;, &#x27;#6b0095ff&#x27;, &#x27;#6b0094ff&#x27;, &#x27;#6c0094ff&#x27;, &#x27;#6c0093ff&#x27;, &#x27;#6d0093ff&#x27;, &#x27;#6d0092ff&#x27;, &#x27;#6e0092ff&#x27;, &#x27;#6e0091ff&#x27;, &#x27;#6f0091ff&#x27;, &#x27;#700090ff&#x27;, &#x27;#700090ff&#x27;, &#x27;#71008fff&#x27;, &#x27;#71008fff&#x27;, &#x27;#72008eff&#x27;, &#x27;#72008eff&#x27;, &#x27;#73008dff&#x27;, &#x27;#73008dff&#x27;, &#x27;#74008cff&#x27;, &#x27;#74008cff&#x27;, &#x27;#75008bff&#x27;, &#x27;#75008bff&#x27;, &#x27;#76008aff&#x27;, &#x27;#76008aff&#x27;, &#x27;#770089ff&#x27;, &#x27;#770089ff&#x27;, &#x27;#780088ff&#x27;, &#x27;#780088ff&#x27;, &#x27;#790087ff&#x27;, &#x27;#790087ff&#x27;, &#x27;#7a0086ff&#x27;, &#x27;#7a0086ff&#x27;, &#x27;#7b0085ff&#x27;, &#x27;#7b0085ff&#x27;, &#x27;#7c0084ff&#x27;, &#x27;#7c0084ff&#x27;, &#x27;#7d0083ff&#x27;, &#x27;#7d0083ff&#x27;, &#x27;#7e0082ff&#x27;, &#x27;#7e0082ff&#x27;, &#x27;#7f0081ff&#x27;, &#x27;#7f0081ff&#x27;, &#x27;#800080ff&#x27;]);\n",
              "    \n",
              "\n",
              "    color_map_ec5e1f6b907818dc64ed031edcd22bc1.x = d3.scale.linear()\n",
              "              .domain([5.244867324829102, 7.466821193695068])\n",
              "              .range([0, 450 - 50]);\n",
              "\n",
              "    color_map_ec5e1f6b907818dc64ed031edcd22bc1.legend = L.control({position: &#x27;topright&#x27;});\n",
              "    color_map_ec5e1f6b907818dc64ed031edcd22bc1.legend.onAdd = function (map) {var div = L.DomUtil.create(&#x27;div&#x27;, &#x27;legend&#x27;); return div};\n",
              "    color_map_ec5e1f6b907818dc64ed031edcd22bc1.legend.addTo(map_bbe7fc8df6b94d50473f783ed11e3f07);\n",
              "\n",
              "    color_map_ec5e1f6b907818dc64ed031edcd22bc1.xAxis = d3.svg.axis()\n",
              "        .scale(color_map_ec5e1f6b907818dc64ed031edcd22bc1.x)\n",
              "        .orient(&quot;top&quot;)\n",
              "        .tickSize(1)\n",
              "        .tickValues([5.244867324829102, 6.355844259262085, 7.466821193695068]);\n",
              "\n",
              "    color_map_ec5e1f6b907818dc64ed031edcd22bc1.svg = d3.select(&quot;.legend.leaflet-control&quot;).append(&quot;svg&quot;)\n",
              "        .attr(&quot;id&quot;, &#x27;legend&#x27;)\n",
              "        .attr(&quot;width&quot;, 450)\n",
              "        .attr(&quot;height&quot;, 40);\n",
              "\n",
              "    color_map_ec5e1f6b907818dc64ed031edcd22bc1.g = color_map_ec5e1f6b907818dc64ed031edcd22bc1.svg.append(&quot;g&quot;)\n",
              "        .attr(&quot;class&quot;, &quot;key&quot;)\n",
              "        .attr(&quot;transform&quot;, &quot;translate(25,16)&quot;);\n",
              "\n",
              "    color_map_ec5e1f6b907818dc64ed031edcd22bc1.g.selectAll(&quot;rect&quot;)\n",
              "        .data(color_map_ec5e1f6b907818dc64ed031edcd22bc1.color.range().map(function(d, i) {\n",
              "          return {\n",
              "            x0: i ? color_map_ec5e1f6b907818dc64ed031edcd22bc1.x(color_map_ec5e1f6b907818dc64ed031edcd22bc1.color.domain()[i - 1]) : color_map_ec5e1f6b907818dc64ed031edcd22bc1.x.range()[0],\n",
              "            x1: i &lt; color_map_ec5e1f6b907818dc64ed031edcd22bc1.color.domain().length ? color_map_ec5e1f6b907818dc64ed031edcd22bc1.x(color_map_ec5e1f6b907818dc64ed031edcd22bc1.color.domain()[i]) : color_map_ec5e1f6b907818dc64ed031edcd22bc1.x.range()[1],\n",
              "            z: d\n",
              "          };\n",
              "        }))\n",
              "      .enter().append(&quot;rect&quot;)\n",
              "        .attr(&quot;height&quot;, 40 - 30)\n",
              "        .attr(&quot;x&quot;, function(d) { return d.x0; })\n",
              "        .attr(&quot;width&quot;, function(d) { return d.x1 - d.x0; })\n",
              "        .style(&quot;fill&quot;, function(d) { return d.z; });\n",
              "\n",
              "    color_map_ec5e1f6b907818dc64ed031edcd22bc1.g.call(color_map_ec5e1f6b907818dc64ed031edcd22bc1.xAxis).append(&quot;text&quot;)\n",
              "        .attr(&quot;class&quot;, &quot;caption&quot;)\n",
              "        .attr(&quot;y&quot;, 21)\n",
              "        .text(&quot;&quot;);\n",
              "    \n",
              "            L.Control.TimeDimensionCustom = L.Control.TimeDimension.extend({\n",
              "                _getDisplayDateFormat: function(date){\n",
              "                    var newdate = new moment(date);\n",
              "                    console.log(newdate)\n",
              "                    return newdate.format(&quot;YYYY-MM-DD HH:mm:ss&quot;);\n",
              "                }\n",
              "            });\n",
              "            map_bbe7fc8df6b94d50473f783ed11e3f07.timeDimension = L.timeDimension(\n",
              "                {\n",
              "                    period: &quot;P1D&quot;,\n",
              "                }\n",
              "            );\n",
              "            var timeDimensionControl = new L.Control.TimeDimensionCustom(\n",
              "                {&quot;autoPlay&quot;: false, &quot;loopButton&quot;: false, &quot;maxSpeed&quot;: 10, &quot;minSpeed&quot;: 0.1, &quot;playerOptions&quot;: {&quot;loop&quot;: false, &quot;startOver&quot;: true, &quot;transitionTime&quot;: 200}, &quot;position&quot;: &quot;bottomleft&quot;, &quot;timeSliderDragUpdate&quot;: false}\n",
              "            );\n",
              "            map_bbe7fc8df6b94d50473f783ed11e3f07.addControl(this.timeDimensionControl);\n",
              "\n",
              "            var geoJsonLayer = L.geoJson({&quot;type&quot;: &quot;FeatureCollection&quot;, &quot;features&quot;: [{&quot;type&quot;: &quot;Feature&quot;, &quot;geometry&quot;: {&quot;type&quot;: &quot;Point&quot;, &quot;coordinates&quot;: [182.0749969482422, -30.10500144958496]}, &quot;properties&quot;: {&quot;time&quot;: &quot;1998-06-20&quot;, &quot;style&quot;: {&quot;color&quot;: &quot;#ffff00ff&quot;, &quot;radius&quot;: 8.685834102832096}, &quot;icon&quot;: &quot;circle&quot;}}, {&quot;type&quot;: &quot;Feature&quot;, &quot;geometry&quot;: {&quot;type&quot;: &quot;Point&quot;, &quot;coordinates&quot;: [182.0749969482422, -30.10500144958496]}, &quot;properties&quot;: {&quot;time&quot;: &quot;1998-06-20&quot;, &quot;style&quot;: {&quot;color&quot;: &quot;#ffff00ff&quot;, &quot;radius&quot;: 8.685834102832096}, &quot;icon&quot;: &quot;circle&quot;}}, {&quot;type&quot;: &quot;Feature&quot;, &quot;geometry&quot;: {&quot;type&quot;: &quot;Point&quot;, &quot;coordinates&quot;: [346.10599994659424, -11.572000503540039]}, &quot;properties&quot;: {&quot;time&quot;: &quot;1998-06-18&quot;, &quot;style&quot;: {&quot;color&quot;: &quot;#ffb600ff&quot;, &quot;radius&quot;: 10.336152282766209}, &quot;icon&quot;: &quot;circle&quot;}}, {&quot;type&quot;: &quot;Feature&quot;, &quot;geometry&quot;: {&quot;type&quot;: &quot;Point&quot;, &quot;coordinates&quot;: [346.10599994659424, -11.572000503540039]}, &quot;properties&quot;: {&quot;time&quot;: &quot;1998-06-18&quot;, &quot;style&quot;: {&quot;color&quot;: &quot;#ffb600ff&quot;, &quot;radius&quot;: 10.336152282766209}, &quot;icon&quot;: &quot;circle&quot;}}, {&quot;type&quot;: &quot;Feature&quot;, &quot;geometry&quot;: {&quot;type&quot;: &quot;Point&quot;, &quot;coordinates&quot;: [159.83700561523438, -52.987998962402344]}, &quot;properties&quot;: {&quot;time&quot;: &quot;1998-06-16&quot;, &quot;style&quot;: {&quot;color&quot;: &quot;#ffcf00ff&quot;, &quot;radius&quot;: 9.75789981807732}, &quot;icon&quot;: &quot;circle&quot;}}, {&quot;type&quot;: &quot;Feature&quot;, &quot;geometry&quot;: {&quot;type&quot;: &quot;Point&quot;, &quot;coordinates&quot;: [-200.16299438476562, -52.987998962402344]}, &quot;properties&quot;: {&quot;time&quot;: &quot;1998-06-16&quot;, &quot;style&quot;: {&quot;color&quot;: &quot;#ffcf00ff&quot;, &quot;radius&quot;: 9.75789981807732}, &quot;icon&quot;: &quot;circle&quot;}}, {&quot;type&quot;: &quot;Feature&quot;, &quot;geometry&quot;: {&quot;type&quot;: &quot;Point&quot;, &quot;coordinates&quot;: [266.2239990234375, 15.959000587463379]}, &quot;properties&quot;: {&quot;time&quot;: &quot;1998-06-07&quot;, &quot;style&quot;: {&quot;color&quot;: &quot;#ffb600ff&quot;, &quot;radius&quot;: 10.325672292329292}, &quot;icon&quot;: &quot;circle&quot;}}, {&quot;type&quot;: &quot;Feature&quot;, &quot;geometry&quot;: {&quot;type&quot;: &quot;Point&quot;, &quot;coordinates&quot;: [266.2239990234375, 15.959000587463379]}, &quot;properties&quot;: {&quot;time&quot;: &quot;1998-06-07&quot;, &quot;style&quot;: {&quot;color&quot;: &quot;#ffb600ff&quot;, &quot;radius&quot;: 10.325672292329292}, &quot;icon&quot;: &quot;circle&quot;}}, {&quot;type&quot;: &quot;Feature&quot;, &quot;geometry&quot;: {&quot;type&quot;: &quot;Point&quot;, &quot;coordinates&quot;: [160.06700134277344, 52.888999938964844]}, &quot;properties&quot;: {&quot;time&quot;: &quot;1998-06-01&quot;, &quot;style&quot;: {&quot;color&quot;: &quot;#ff9e00ff&quot;, &quot;radius&quot;: 10.946732949185236}, &quot;icon&quot;: &quot;circle&quot;}}, {&quot;type&quot;: &quot;Feature&quot;, &quot;geometry&quot;: {&quot;type&quot;: &quot;Point&quot;, &quot;coordinates&quot;: [-199.93299865722656, 52.888999938964844]}, &quot;properties&quot;: {&quot;time&quot;: &quot;1998-06-01&quot;, &quot;style&quot;: {&quot;color&quot;: &quot;#ff9e00ff&quot;, &quot;radius&quot;: 10.946732949185236}, &quot;icon&quot;: &quot;circle&quot;}}, {&quot;type&quot;: &quot;Feature&quot;, &quot;geometry&quot;: {&quot;type&quot;: &quot;Point&quot;, &quot;coordinates&quot;: [143.4409942626953, 39.027000427246094]}, &quot;properties&quot;: {&quot;time&quot;: &quot;1998-05-30&quot;, &quot;style&quot;: {&quot;color&quot;: &quot;#ffcf00ff&quot;, &quot;radius&quot;: 9.756035711764694}, &quot;icon&quot;: &quot;circle&quot;}}, {&quot;type&quot;: &quot;Feature&quot;, &quot;geometry&quot;: {&quot;type&quot;: &quot;Point&quot;, &quot;coordinates&quot;: [-216.5590057373047, 39.027000427246094]}, &quot;properties&quot;: {&quot;time&quot;: &quot;1998-05-30&quot;, &quot;style&quot;: {&quot;color&quot;: &quot;#ffcf00ff&quot;, &quot;radius&quot;: 9.756035711764694}, &quot;icon&quot;: &quot;circle&quot;}}, {&quot;type&quot;: &quot;Feature&quot;, &quot;geometry&quot;: {&quot;type&quot;: &quot;Point&quot;, &quot;coordinates&quot;: [70.11000061035156, 37.10599899291992]}, &quot;properties&quot;: {&quot;time&quot;: &quot;1998-05-30&quot;, &quot;style&quot;: {&quot;color&quot;: &quot;#ff6d00ff&quot;, &quot;radius&quot;: 12.28405708464602}, &quot;icon&quot;: &quot;circle&quot;}}, {&quot;type&quot;: &quot;Feature&quot;, &quot;geometry&quot;: {&quot;type&quot;: &quot;Point&quot;, &quot;coordinates&quot;: [-289.88999938964844, 37.10599899291992]}, &quot;properties&quot;: {&quot;time&quot;: &quot;1998-05-30&quot;, &quot;style&quot;: {&quot;color&quot;: &quot;#ff6d00ff&quot;, &quot;radius&quot;: 12.28405708464602}, &quot;icon&quot;: &quot;circle&quot;}}, {&quot;type&quot;: &quot;Feature&quot;, &quot;geometry&quot;: {&quot;type&quot;: &quot;Point&quot;, &quot;coordinates&quot;: [159.5260009765625, 52.23899841308594]}, &quot;properties&quot;: {&quot;time&quot;: &quot;1998-05-27&quot;, &quot;style&quot;: {&quot;color&quot;: &quot;#ffff00ff&quot;, &quot;radius&quot;: 8.68476424222266}, &quot;icon&quot;: &quot;circle&quot;}}, {&quot;type&quot;: &quot;Feature&quot;, &quot;geometry&quot;: {&quot;type&quot;: &quot;Point&quot;, &quot;coordinates&quot;: [-200.4739990234375, 52.23899841308594]}, &quot;properties&quot;: {&quot;time&quot;: &quot;1998-05-27&quot;, &quot;style&quot;: {&quot;color&quot;: &quot;#ffff00ff&quot;, &quot;radius&quot;: 8.68476424222266}, &quot;icon&quot;: &quot;circle&quot;}}, {&quot;type&quot;: &quot;Feature&quot;, &quot;geometry&quot;: {&quot;type&quot;: &quot;Point&quot;, &quot;coordinates&quot;: [149.70399475097656, -5.845000267028809]}, &quot;properties&quot;: {&quot;time&quot;: &quot;1998-05-27&quot;, &quot;style&quot;: {&quot;color&quot;: &quot;#ffff00ff&quot;, &quot;radius&quot;: 8.693254406760826}, &quot;icon&quot;: &quot;circle&quot;}}, {&quot;type&quot;: &quot;Feature&quot;, &quot;geometry&quot;: {&quot;type&quot;: &quot;Point&quot;, &quot;coordinates&quot;: [-210.29600524902344, -5.845000267028809]}, &quot;properties&quot;: {&quot;time&quot;: &quot;1998-05-27&quot;, &quot;style&quot;: {&quot;color&quot;: &quot;#ffff00ff&quot;, &quot;radius&quot;: 8.693254406760826}, &quot;icon&quot;: &quot;circle&quot;}}, {&quot;type&quot;: &quot;Feature&quot;, &quot;geometry&quot;: {&quot;type&quot;: &quot;Point&quot;, &quot;coordinates&quot;: [123.72599792480469, 8.137999534606934]}, &quot;properties&quot;: {&quot;time&quot;: &quot;1998-05-23&quot;, &quot;style&quot;: {&quot;color&quot;: &quot;#ffff00ff&quot;, &quot;radius&quot;: 0.999405631924068}, &quot;icon&quot;: &quot;circle&quot;}}, {&quot;type&quot;: &quot;Feature&quot;, &quot;geometry&quot;: {&quot;type&quot;: &quot;Point&quot;, &quot;coordinates&quot;: [-236.2740020751953, 8.137999534606934]}, &quot;properties&quot;: {&quot;time&quot;: &quot;1998-05-23&quot;, &quot;style&quot;: {&quot;color&quot;: &quot;#ffff00ff&quot;, &quot;radius&quot;: 0.999405631924068}, &quot;icon&quot;: &quot;circle&quot;}}, {&quot;type&quot;: &quot;Feature&quot;, &quot;geometry&quot;: {&quot;type&quot;: &quot;Point&quot;, &quot;coordinates&quot;: [294.5690002441406, -17.731000900268555]}, &quot;properties&quot;: {&quot;time&quot;: &quot;1998-05-22&quot;, &quot;style&quot;: {&quot;color&quot;: &quot;#ff6d00ff&quot;, &quot;radius&quot;: 12.28436273851106}, &quot;icon&quot;: &quot;circle&quot;}}, {&quot;type&quot;: &quot;Feature&quot;, &quot;geometry&quot;: {&quot;type&quot;: &quot;Point&quot;, &quot;coordinates&quot;: [294.5690002441406, -17.731000900268555]}, &quot;properties&quot;: {&quot;time&quot;: &quot;1998-05-22&quot;, &quot;style&quot;: {&quot;color&quot;: &quot;#ff6d00ff&quot;, &quot;radius&quot;: 12.28436273851106}, &quot;icon&quot;: &quot;circle&quot;}}, {&quot;type&quot;: &quot;Feature&quot;, &quot;geometry&quot;: {&quot;type&quot;: &quot;Point&quot;, &quot;coordinates&quot;: [41.387001037597656, -43.400001525878906]}, &quot;properties&quot;: {&quot;time&quot;: &quot;1998-05-21&quot;, &quot;style&quot;: {&quot;color&quot;: &quot;#ffb600ff&quot;, &quot;radius&quot;: 10.336152282766209}, &quot;icon&quot;: &quot;circle&quot;}}, {&quot;type&quot;: &quot;Feature&quot;, &quot;geometry&quot;: {&quot;type&quot;: &quot;Point&quot;, &quot;coordinates&quot;: [-318.61299896240234, -43.400001525878906]}, &quot;properties&quot;: {&quot;time&quot;: &quot;1998-05-21&quot;, &quot;style&quot;: {&quot;color&quot;: &quot;#ffb600ff&quot;, &quot;radius&quot;: 10.336152282766209}, &quot;icon&quot;: &quot;circle&quot;}}, {&quot;type&quot;: &quot;Feature&quot;, &quot;geometry&quot;: {&quot;type&quot;: &quot;Point&quot;, &quot;coordinates&quot;: [119.5840072631836, 0.2070000022649765]}, &quot;properties&quot;: {&quot;time&quot;: &quot;1998-05-21&quot;, &quot;style&quot;: {&quot;color&quot;: &quot;#ff5500ff&quot;, &quot;radius&quot;: 13.012133243601584}, &quot;icon&quot;: &quot;circle&quot;}}, {&quot;type&quot;: &quot;Feature&quot;, &quot;geometry&quot;: {&quot;type&quot;: &quot;Point&quot;, &quot;coordinates&quot;: [-240.4159927368164, 0.2070000022649765]}, &quot;properties&quot;: {&quot;time&quot;: &quot;1998-05-21&quot;, &quot;style&quot;: {&quot;color&quot;: &quot;#ff5500ff&quot;, &quot;radius&quot;: 13.012133243601584}, &quot;icon&quot;: &quot;circle&quot;}}, {&quot;type&quot;: &quot;Feature&quot;, &quot;geometry&quot;: {&quot;type&quot;: &quot;Point&quot;, &quot;coordinates&quot;: [180.48098754882812, -22.226999282836914]}, &quot;properties&quot;: {&quot;time&quot;: &quot;1998-05-16&quot;, &quot;style&quot;: {&quot;color&quot;: &quot;#ff2400ff&quot;, &quot;radius&quot;: 14.512807026706328}, &quot;icon&quot;: &quot;circle&quot;}}, {&quot;type&quot;: &quot;Feature&quot;, &quot;geometry&quot;: {&quot;type&quot;: &quot;Point&quot;, &quot;coordinates&quot;: [180.48098754882812, -22.226999282836914]}, &quot;properties&quot;: {&quot;time&quot;: &quot;1998-05-16&quot;, &quot;style&quot;: {&quot;color&quot;: &quot;#ff2400ff&quot;, &quot;radius&quot;: 14.512807026706328}, &quot;icon&quot;: &quot;circle&quot;}}, {&quot;type&quot;: &quot;Feature&quot;, &quot;geometry&quot;: {&quot;type&quot;: &quot;Point&quot;, &quot;coordinates&quot;: [144.8800048828125, 14.177999496459961]}, &quot;properties&quot;: {&quot;time&quot;: &quot;1998-05-15&quot;, &quot;style&quot;: {&quot;color&quot;: &quot;#ffff00ff&quot;, &quot;radius&quot;: 8.615475568912853}, &quot;icon&quot;: &quot;circle&quot;}}, {&quot;type&quot;: &quot;Feature&quot;, &quot;geometry&quot;: {&quot;type&quot;: &quot;Point&quot;, &quot;coordinates&quot;: [-215.1199951171875, 14.177999496459961]}, &quot;properties&quot;: {&quot;time&quot;: &quot;1998-05-15&quot;, &quot;style&quot;: {&quot;color&quot;: &quot;#ffff00ff&quot;, &quot;radius&quot;: 8.615475568912853}, &quot;icon&quot;: &quot;circle&quot;}}, {&quot;type&quot;: &quot;Feature&quot;, &quot;geometry&quot;: {&quot;type&quot;: &quot;Point&quot;, &quot;coordinates&quot;: [143.25299072265625, 40.25400161743164]}, &quot;properties&quot;: {&quot;time&quot;: &quot;1998-05-14&quot;, &quot;style&quot;: {&quot;color&quot;: &quot;#ffff00ff&quot;, &quot;radius&quot;: 8.693254406760826}, &quot;icon&quot;: &quot;circle&quot;}}, {&quot;type&quot;: &quot;Feature&quot;, &quot;geometry&quot;: {&quot;type&quot;: &quot;Point&quot;, &quot;coordinates&quot;: [-216.74700927734375, 40.25400161743164]}, &quot;properties&quot;: {&quot;time&quot;: &quot;1998-05-14&quot;, &quot;style&quot;: {&quot;color&quot;: &quot;#ffff00ff&quot;, &quot;radius&quot;: 8.693254406760826}, &quot;icon&quot;: &quot;circle&quot;}}, {&quot;type&quot;: &quot;Feature&quot;, &quot;geometry&quot;: {&quot;type&quot;: &quot;Point&quot;, &quot;coordinates&quot;: [151.71400451660156, -5.146999835968018]}, &quot;properties&quot;: {&quot;time&quot;: &quot;1998-05-13&quot;, &quot;style&quot;: {&quot;color&quot;: &quot;#ff6d00ff&quot;, &quot;radius&quot;: 12.282459105079488}, &quot;icon&quot;: &quot;circle&quot;}}, {&quot;type&quot;: &quot;Feature&quot;, &quot;geometry&quot;: {&quot;type&quot;: &quot;Point&quot;, &quot;coordinates&quot;: [-208.28599548339844, -5.146999835968018]}, &quot;properties&quot;: {&quot;time&quot;: &quot;1998-05-13&quot;, &quot;style&quot;: {&quot;color&quot;: &quot;#ff6d00ff&quot;, &quot;radius&quot;: 12.282459105079488}, &quot;icon&quot;: &quot;circle&quot;}}, {&quot;type&quot;: &quot;Feature&quot;, &quot;geometry&quot;: {&quot;type&quot;: &quot;Point&quot;, &quot;coordinates&quot;: [269.2530059814453, 13.676000595092773]}, &quot;properties&quot;: {&quot;time&quot;: &quot;1998-05-10&quot;, &quot;style&quot;: {&quot;color&quot;: &quot;#ffb600ff&quot;, &quot;radius&quot;: 10.334754636218443}, &quot;icon&quot;: &quot;circle&quot;}}, {&quot;type&quot;: &quot;Feature&quot;, &quot;geometry&quot;: {&quot;type&quot;: &quot;Point&quot;, &quot;coordinates&quot;: [269.2530059814453, 13.676000595092773]}, &quot;properties&quot;: {&quot;time&quot;: &quot;1998-05-10&quot;, &quot;style&quot;: {&quot;color&quot;: &quot;#ffb600ff&quot;, &quot;radius&quot;: 10.334754636218443}, &quot;icon&quot;: &quot;circle&quot;}}, {&quot;type&quot;: &quot;Feature&quot;, &quot;geometry&quot;: {&quot;type&quot;: &quot;Point&quot;, &quot;coordinates&quot;: [125.30799865722656, 22.305999755859375]}, &quot;properties&quot;: {&quot;time&quot;: &quot;1998-05-03&quot;, &quot;style&quot;: {&quot;color&quot;: &quot;#920000ff&quot;, &quot;radius&quot;: 20.623566084159542}, &quot;icon&quot;: &quot;circle&quot;}}, {&quot;type&quot;: &quot;Feature&quot;, &quot;geometry&quot;: {&quot;type&quot;: &quot;Point&quot;, &quot;coordinates&quot;: [-234.69200134277344, 22.305999755859375]}, &quot;properties&quot;: {&quot;time&quot;: &quot;1998-05-03&quot;, &quot;style&quot;: {&quot;color&quot;: &quot;#920000ff&quot;, &quot;radius&quot;: 20.623566084159542}, &quot;icon&quot;: &quot;circle&quot;}}, {&quot;type&quot;: &quot;Feature&quot;, &quot;geometry&quot;: {&quot;type&quot;: &quot;Point&quot;, &quot;coordinates&quot;: [136.28199768066406, -2.994999885559082]}, &quot;properties&quot;: {&quot;time&quot;: &quot;1998-04-27&quot;, &quot;style&quot;: {&quot;color&quot;: &quot;#ffcf00ff&quot;, &quot;radius&quot;: 9.752789539657018}, &quot;icon&quot;: &quot;circle&quot;}}, {&quot;type&quot;: &quot;Feature&quot;, &quot;geometry&quot;: {&quot;type&quot;: &quot;Point&quot;, &quot;coordinates&quot;: [-223.71800231933594, -2.994999885559082]}, &quot;properties&quot;: {&quot;time&quot;: &quot;1998-04-27&quot;, &quot;style&quot;: {&quot;color&quot;: &quot;#ffcf00ff&quot;, &quot;radius&quot;: 9.752789539657018}, &quot;icon&quot;: &quot;circle&quot;}}, {&quot;type&quot;: &quot;Feature&quot;, &quot;geometry&quot;: {&quot;type&quot;: &quot;Point&quot;, &quot;coordinates&quot;: [342.67399978637695, -35.26599884033203]}, &quot;properties&quot;: {&quot;time&quot;: &quot;1998-04-25&quot;, &quot;style&quot;: {&quot;color&quot;: &quot;#ffb600ff&quot;, &quot;radius&quot;: 10.336152282766209}, &quot;icon&quot;: &quot;circle&quot;}}, {&quot;type&quot;: &quot;Feature&quot;, &quot;geometry&quot;: {&quot;type&quot;: &quot;Point&quot;, &quot;coordinates&quot;: [342.67399978637695, -35.26599884033203]}, &quot;properties&quot;: {&quot;time&quot;: &quot;1998-04-25&quot;, &quot;style&quot;: {&quot;color&quot;: &quot;#ffb600ff&quot;, &quot;radius&quot;: 10.336152282766209}, &quot;icon&quot;: &quot;circle&quot;}}, {&quot;type&quot;: &quot;Feature&quot;, &quot;geometry&quot;: {&quot;type&quot;: &quot;Point&quot;, &quot;coordinates&quot;: [258.79700469970703, 18.524999618530273]}, &quot;properties&quot;: {&quot;time&quot;: &quot;1998-04-20&quot;, &quot;style&quot;: {&quot;color&quot;: &quot;#ffff00ff&quot;, &quot;radius&quot;: 8.681667195622287}, &quot;icon&quot;: &quot;circle&quot;}}, {&quot;type&quot;: &quot;Feature&quot;, &quot;geometry&quot;: {&quot;type&quot;: &quot;Point&quot;, &quot;coordinates&quot;: [258.79700469970703, 18.524999618530273]}, &quot;properties&quot;: {&quot;time&quot;: &quot;1998-04-20&quot;, &quot;style&quot;: {&quot;color&quot;: &quot;#ffff00ff&quot;, &quot;radius&quot;: 8.681667195622287}, &quot;icon&quot;: &quot;circle&quot;}}, {&quot;type&quot;: &quot;Feature&quot;, &quot;geometry&quot;: {&quot;type&quot;: &quot;Point&quot;, &quot;coordinates&quot;: [180.12899780273438, -23.820999145507812]}, &quot;properties&quot;: {&quot;time&quot;: &quot;1998-04-14&quot;, &quot;style&quot;: {&quot;color&quot;: &quot;#ffe700ff&quot;, &quot;radius&quot;: 8.44446962379135}, &quot;icon&quot;: &quot;circle&quot;}}, {&quot;type&quot;: &quot;Feature&quot;, &quot;geometry&quot;: {&quot;type&quot;: &quot;Point&quot;, &quot;coordinates&quot;: [180.12899780273438, -23.820999145507812]}, &quot;properties&quot;: {&quot;time&quot;: &quot;1998-04-14&quot;, &quot;style&quot;: {&quot;color&quot;: &quot;#ffe700ff&quot;, &quot;radius&quot;: 8.44446962379135}, &quot;icon&quot;: &quot;circle&quot;}}, {&quot;type&quot;: &quot;Feature&quot;, &quot;geometry&quot;: {&quot;type&quot;: &quot;Point&quot;, &quot;coordinates&quot;: [183.8889923095703, -23.635000228881836]}, &quot;properties&quot;: {&quot;time&quot;: &quot;1998-04-11&quot;, &quot;style&quot;: {&quot;color&quot;: &quot;#ffcf00ff&quot;, &quot;radius&quot;: 9.756035711764694}, &quot;icon&quot;: &quot;circle&quot;}}, {&quot;type&quot;: &quot;Feature&quot;, &quot;geometry&quot;: {&quot;type&quot;: &quot;Point&quot;, &quot;coordinates&quot;: [183.8889923095703, -23.635000228881836]}, &quot;properties&quot;: {&quot;time&quot;: &quot;1998-04-11&quot;, &quot;style&quot;: {&quot;color&quot;: &quot;#ffcf00ff&quot;, &quot;radius&quot;: 9.756035711764694}, &quot;icon&quot;: &quot;circle&quot;}}, {&quot;type&quot;: &quot;Feature&quot;, &quot;geometry&quot;: {&quot;type&quot;: &quot;Point&quot;, &quot;coordinates&quot;: [344.34900093078613, -1.3220000267028809]}, &quot;properties&quot;: {&quot;time&quot;: &quot;1998-04-10&quot;, &quot;style&quot;: {&quot;color&quot;: &quot;#ffcf00ff&quot;, &quot;radius&quot;: 9.75789981807732}, &quot;icon&quot;: &quot;circle&quot;}}, {&quot;type&quot;: &quot;Feature&quot;, &quot;geometry&quot;: {&quot;type&quot;: &quot;Point&quot;, &quot;coordinates&quot;: [344.34900093078613, -1.3220000267028809]}, &quot;properties&quot;: {&quot;time&quot;: &quot;1998-04-10&quot;, &quot;style&quot;: {&quot;color&quot;: &quot;#ffcf00ff&quot;, &quot;radius&quot;: 9.75789981807732}, &quot;icon&quot;: &quot;circle&quot;}}, {&quot;type&quot;: &quot;Feature&quot;, &quot;geometry&quot;: {&quot;type&quot;: &quot;Point&quot;, &quot;coordinates&quot;: [285.76200103759766, -8.14799976348877]}, &quot;properties&quot;: {&quot;time&quot;: &quot;1998-04-03&quot;, &quot;style&quot;: {&quot;color&quot;: &quot;#ff6d00ff&quot;, &quot;radius&quot;: 12.2685133209443}, &quot;icon&quot;: &quot;circle&quot;}}, {&quot;type&quot;: &quot;Feature&quot;, &quot;geometry&quot;: {&quot;type&quot;: &quot;Point&quot;, &quot;coordinates&quot;: [285.76200103759766, -8.14799976348877]}, &quot;properties&quot;: {&quot;time&quot;: &quot;1998-04-03&quot;, &quot;style&quot;: {&quot;color&quot;: &quot;#ff6d00ff&quot;, &quot;radius&quot;: 12.2685133209443}, &quot;icon&quot;: &quot;circle&quot;}}, {&quot;type&quot;: &quot;Feature&quot;, &quot;geometry&quot;: {&quot;type&quot;: &quot;Point&quot;, &quot;coordinates&quot;: [285.1259994506836, -40.31599807739258]}, &quot;properties&quot;: {&quot;time&quot;: &quot;1998-04-01&quot;, &quot;style&quot;: {&quot;color&quot;: &quot;#ff5500ff&quot;, &quot;radius&quot;: 13.01258357185695}, &quot;icon&quot;: &quot;circle&quot;}}, {&quot;type&quot;: &quot;Feature&quot;, &quot;geometry&quot;: {&quot;type&quot;: &quot;Point&quot;, &quot;coordinates&quot;: [285.1259994506836, -40.31599807739258]}, &quot;properties&quot;: {&quot;time&quot;: &quot;1998-04-01&quot;, &quot;style&quot;: {&quot;color&quot;: &quot;#ff5500ff&quot;, &quot;radius&quot;: 13.01258357185695}, &quot;icon&quot;: &quot;circle&quot;}}, {&quot;type&quot;: &quot;Feature&quot;, &quot;geometry&quot;: {&quot;type&quot;: &quot;Point&quot;, &quot;coordinates&quot;: [99.26100158691406, -0.5440000295639038]}, &quot;properties&quot;: {&quot;time&quot;: &quot;1998-04-01&quot;, &quot;style&quot;: {&quot;color&quot;: &quot;#ff0c00ff&quot;, &quot;radius&quot;: 15.46494477345668}, &quot;icon&quot;: &quot;circle&quot;}}, {&quot;type&quot;: &quot;Feature&quot;, &quot;geometry&quot;: {&quot;type&quot;: &quot;Point&quot;, &quot;coordinates&quot;: [-260.73899841308594, -0.5440000295639038]}, &quot;properties&quot;: {&quot;time&quot;: &quot;1998-04-01&quot;, &quot;style&quot;: {&quot;color&quot;: &quot;#ff0c00ff&quot;, &quot;radius&quot;: 15.46494477345668}, &quot;icon&quot;: &quot;circle&quot;}}, {&quot;type&quot;: &quot;Feature&quot;, &quot;geometry&quot;: {&quot;type&quot;: &quot;Point&quot;, &quot;coordinates&quot;: [180.9080047607422, -17.552000045776367]}, &quot;properties&quot;: {&quot;time&quot;: &quot;1998-03-29&quot;, &quot;style&quot;: {&quot;color&quot;: &quot;#db0000ff&quot;, &quot;radius&quot;: 17.321901702249374}, &quot;icon&quot;: &quot;circle&quot;}}, {&quot;type&quot;: &quot;Feature&quot;, &quot;geometry&quot;: {&quot;type&quot;: &quot;Point&quot;, &quot;coordinates&quot;: [180.9080047607422, -17.552000045776367]}, &quot;properties&quot;: {&quot;time&quot;: &quot;1998-03-29&quot;, &quot;style&quot;: {&quot;color&quot;: &quot;#db0000ff&quot;, &quot;radius&quot;: 17.321901702249374}, &quot;icon&quot;: &quot;circle&quot;}}, {&quot;type&quot;: &quot;Feature&quot;, &quot;geometry&quot;: {&quot;type&quot;: &quot;Point&quot;, &quot;coordinates&quot;: [342.06800079345703, -0.23899999260902405]}, &quot;properties&quot;: {&quot;time&quot;: &quot;1998-03-29&quot;, &quot;style&quot;: {&quot;color&quot;: &quot;#ffe700ff&quot;, &quot;radius&quot;: 9.211978585288065}, &quot;icon&quot;: &quot;circle&quot;}}, {&quot;type&quot;: &quot;Feature&quot;, &quot;geometry&quot;: {&quot;type&quot;: &quot;Point&quot;, &quot;coordinates&quot;: [342.06800079345703, -0.23899999260902405]}, &quot;properties&quot;: {&quot;time&quot;: &quot;1998-03-29&quot;, &quot;style&quot;: {&quot;color&quot;: &quot;#ffe700ff&quot;, &quot;radius&quot;: 9.211978585288065}, &quot;icon&quot;: &quot;circle&quot;}}, {&quot;type&quot;: &quot;Feature&quot;, &quot;geometry&quot;: {&quot;type&quot;: &quot;Point&quot;, &quot;coordinates&quot;: [147.93699645996094, -63.61199951171875]}, &quot;properties&quot;: {&quot;time&quot;: &quot;1998-03-25&quot;, &quot;style&quot;: {&quot;color&quot;: &quot;#ff9e00ff&quot;, &quot;radius&quot;: 10.948650911643178}, &quot;icon&quot;: &quot;circle&quot;}}, {&quot;type&quot;: &quot;Feature&quot;, &quot;geometry&quot;: {&quot;type&quot;: &quot;Point&quot;, &quot;coordinates&quot;: [-212.06300354003906, -63.61199951171875]}, &quot;properties&quot;: {&quot;time&quot;: &quot;1998-03-25&quot;, &quot;style&quot;: {&quot;color&quot;: &quot;#ff9e00ff&quot;, &quot;radius&quot;: 10.948650911643178}, &quot;icon&quot;: &quot;circle&quot;}}, {&quot;type&quot;: &quot;Feature&quot;, &quot;geometry&quot;: {&quot;type&quot;: &quot;Point&quot;, &quot;coordinates&quot;: [149.52700805664062, -62.87699890136719]}, &quot;properties&quot;: {&quot;time&quot;: &quot;1998-03-25&quot;, &quot;style&quot;: {&quot;color&quot;: &quot;#000000ff&quot;, &quot;radius&quot;: 29.13163571615988}, &quot;icon&quot;: &quot;circle&quot;}}, {&quot;type&quot;: &quot;Feature&quot;, &quot;geometry&quot;: {&quot;type&quot;: &quot;Point&quot;, &quot;coordinates&quot;: [-210.47299194335938, -62.87699890136719]}, &quot;properties&quot;: {&quot;time&quot;: &quot;1998-03-25&quot;, &quot;style&quot;: {&quot;color&quot;: &quot;#000000ff&quot;, &quot;radius&quot;: 29.13163571615988}, &quot;icon&quot;: &quot;circle&quot;}}, {&quot;type&quot;: &quot;Feature&quot;, &quot;geometry&quot;: {&quot;type&quot;: &quot;Point&quot;, &quot;coordinates&quot;: [66.24500274658203, -11.430000305175781]}, &quot;properties&quot;: {&quot;time&quot;: &quot;1998-03-22&quot;, &quot;style&quot;: {&quot;color&quot;: &quot;#ffe700ff&quot;, &quot;radius&quot;: 9.211978585288065}, &quot;icon&quot;: &quot;circle&quot;}}, {&quot;type&quot;: &quot;Feature&quot;, &quot;geometry&quot;: {&quot;type&quot;: &quot;Point&quot;, &quot;coordinates&quot;: [-293.75499725341797, -11.430000305175781]}, &quot;properties&quot;: {&quot;time&quot;: &quot;1998-03-22&quot;, &quot;style&quot;: {&quot;color&quot;: &quot;#ffe700ff&quot;, &quot;radius&quot;: 9.211978585288065}, &quot;icon&quot;: &quot;circle&quot;}}, {&quot;type&quot;: &quot;Feature&quot;, &quot;geometry&quot;: {&quot;type&quot;: &quot;Point&quot;, &quot;coordinates&quot;: [1.8559999465942383, 79.88800048828125]}, &quot;properties&quot;: {&quot;time&quot;: &quot;1998-03-21&quot;, &quot;style&quot;: {&quot;color&quot;: &quot;#ffcf00ff&quot;, &quot;radius&quot;: 9.75789981807732}, &quot;icon&quot;: &quot;circle&quot;}}, {&quot;type&quot;: &quot;Feature&quot;, &quot;geometry&quot;: {&quot;type&quot;: &quot;Point&quot;, &quot;coordinates&quot;: [-358.14400005340576, 79.88800048828125]}, &quot;properties&quot;: {&quot;time&quot;: &quot;1998-03-21&quot;, &quot;style&quot;: {&quot;color&quot;: &quot;#ffcf00ff&quot;, &quot;radius&quot;: 9.75789981807732}, &quot;icon&quot;: &quot;circle&quot;}}, {&quot;type&quot;: &quot;Feature&quot;, &quot;geometry&quot;: {&quot;type&quot;: &quot;Point&quot;, &quot;coordinates&quot;: [163.10699462890625, -50.007999420166016]}, &quot;properties&quot;: {&quot;time&quot;: &quot;1998-03-20&quot;, &quot;style&quot;: {&quot;color&quot;: &quot;#ff5500ff&quot;, &quot;radius&quot;: 13.012575084247258}, &quot;icon&quot;: &quot;circle&quot;}}, {&quot;type&quot;: &quot;Feature&quot;, &quot;geometry&quot;: {&quot;type&quot;: &quot;Point&quot;, &quot;coordinates&quot;: [-196.89300537109375, -50.007999420166016]}, &quot;properties&quot;: {&quot;time&quot;: &quot;1998-03-20&quot;, &quot;style&quot;: {&quot;color&quot;: &quot;#ff5500ff&quot;, &quot;radius&quot;: 13.012575084247258}, &quot;icon&quot;: &quot;circle&quot;}}, {&quot;type&quot;: &quot;Feature&quot;, &quot;geometry&quot;: {&quot;type&quot;: &quot;Point&quot;, &quot;coordinates&quot;: [57.60499954223633, 30.15399932861328]}, &quot;properties&quot;: {&quot;time&quot;: &quot;1998-03-14&quot;, &quot;style&quot;: {&quot;color&quot;: &quot;#ff6d00ff&quot;, &quot;radius&quot;: 12.284657631742865}, &quot;icon&quot;: &quot;circle&quot;}}, {&quot;type&quot;: &quot;Feature&quot;, &quot;geometry&quot;: {&quot;type&quot;: &quot;Point&quot;, &quot;coordinates&quot;: [-302.3950004577637, 30.15399932861328]}, &quot;properties&quot;: {&quot;time&quot;: &quot;1998-03-14&quot;, &quot;style&quot;: {&quot;color&quot;: &quot;#ff6d00ff&quot;, &quot;radius&quot;: 12.284657631742865}, &quot;icon&quot;: &quot;circle&quot;}}, {&quot;type&quot;: &quot;Feature&quot;, &quot;geometry&quot;: {&quot;type&quot;: &quot;Point&quot;, &quot;coordinates&quot;: [268.5340042114258, 14.380000114440918]}, &quot;properties&quot;: {&quot;time&quot;: &quot;1998-03-03&quot;, &quot;style&quot;: {&quot;color&quot;: &quot;#ffe700ff&quot;, &quot;radius&quot;: 9.202296017586532}, &quot;icon&quot;: &quot;circle&quot;}}, {&quot;type&quot;: &quot;Feature&quot;, &quot;geometry&quot;: {&quot;type&quot;: &quot;Point&quot;, &quot;coordinates&quot;: [268.5340042114258, 14.380000114440918]}, &quot;properties&quot;: {&quot;time&quot;: &quot;1998-03-03&quot;, &quot;style&quot;: {&quot;color&quot;: &quot;#ffe700ff&quot;, &quot;radius&quot;: 9.202296017586532}, &quot;icon&quot;: &quot;circle&quot;}}, {&quot;type&quot;: &quot;Feature&quot;, &quot;geometry&quot;: {&quot;type&quot;: &quot;Point&quot;, &quot;coordinates&quot;: [71.08599853515625, 36.479000091552734]}, &quot;properties&quot;: {&quot;time&quot;: &quot;1998-02-20&quot;, &quot;style&quot;: {&quot;color&quot;: &quot;#ff9e00ff&quot;, &quot;radius&quot;: 10.889151767596084}, &quot;icon&quot;: &quot;circle&quot;}}, {&quot;type&quot;: &quot;Feature&quot;, &quot;geometry&quot;: {&quot;type&quot;: &quot;Point&quot;, &quot;coordinates&quot;: [-288.91400146484375, 36.479000091552734]}, &quot;properties&quot;: {&quot;time&quot;: &quot;1998-02-20&quot;, &quot;style&quot;: {&quot;color&quot;: &quot;#ff9e00ff&quot;, &quot;radius&quot;: 10.889151767596084}, &quot;icon&quot;: &quot;circle&quot;}}, {&quot;type&quot;: &quot;Feature&quot;, &quot;geometry&quot;: {&quot;type&quot;: &quot;Point&quot;, &quot;coordinates&quot;: [129.08200073242188, -4.47599983215332]}, &quot;properties&quot;: {&quot;time&quot;: &quot;1998-02-19&quot;, &quot;style&quot;: {&quot;color&quot;: &quot;#ff8600ff&quot;, &quot;radius&quot;: 11.5966456038492}, &quot;icon&quot;: &quot;circle&quot;}}, {&quot;type&quot;: &quot;Feature&quot;, &quot;geometry&quot;: {&quot;type&quot;: &quot;Point&quot;, &quot;coordinates&quot;: [-230.91799926757812, -4.47599983215332]}, &quot;properties&quot;: {&quot;time&quot;: &quot;1998-02-19&quot;, &quot;style&quot;: {&quot;color&quot;: &quot;#ff8600ff&quot;, &quot;radius&quot;: 11.5966456038492}, &quot;icon&quot;: &quot;circle&quot;}}, {&quot;type&quot;: &quot;Feature&quot;, &quot;geometry&quot;: {&quot;type&quot;: &quot;Point&quot;, &quot;coordinates&quot;: [326.322998046875, 52.71799850463867]}, &quot;properties&quot;: {&quot;time&quot;: &quot;1998-02-16&quot;, &quot;style&quot;: {&quot;color&quot;: &quot;#ff3c00ff&quot;, &quot;radius&quot;: 13.783635478534531}, &quot;icon&quot;: &quot;circle&quot;}}, {&quot;type&quot;: &quot;Feature&quot;, &quot;geometry&quot;: {&quot;type&quot;: &quot;Point&quot;, &quot;coordinates&quot;: [326.322998046875, 52.71799850463867]}, &quot;properties&quot;: {&quot;time&quot;: &quot;1998-02-16&quot;, &quot;style&quot;: {&quot;color&quot;: &quot;#ff3c00ff&quot;, &quot;radius&quot;: 13.783635478534531}, &quot;icon&quot;: &quot;circle&quot;}}, {&quot;type&quot;: &quot;Feature&quot;, &quot;geometry&quot;: {&quot;type&quot;: &quot;Point&quot;, &quot;coordinates&quot;: [141.74600219726562, 24.821001052856445]}, &quot;properties&quot;: {&quot;time&quot;: &quot;1998-02-07&quot;, &quot;style&quot;: {&quot;color&quot;: &quot;#ff9e00ff&quot;, &quot;radius&quot;: 10.634782674675272}, &quot;icon&quot;: &quot;circle&quot;}}, {&quot;type&quot;: &quot;Feature&quot;, &quot;geometry&quot;: {&quot;type&quot;: &quot;Point&quot;, &quot;coordinates&quot;: [-218.25399780273438, 24.821001052856445]}, &quot;properties&quot;: {&quot;time&quot;: &quot;1998-02-07&quot;, &quot;style&quot;: {&quot;color&quot;: &quot;#ff9e00ff&quot;, &quot;radius&quot;: 10.634782674675272}, &quot;icon&quot;: &quot;circle&quot;}}, {&quot;type&quot;: &quot;Feature&quot;, &quot;geometry&quot;: {&quot;type&quot;: &quot;Point&quot;, &quot;coordinates&quot;: [263.7020034790039, 15.882999420166016]}, &quot;properties&quot;: {&quot;time&quot;: &quot;1998-02-03&quot;, &quot;style&quot;: {&quot;color&quot;: &quot;#ff9e00ff&quot;, &quot;radius&quot;: 10.94760294871792}, &quot;icon&quot;: &quot;circle&quot;}}, {&quot;type&quot;: &quot;Feature&quot;, &quot;geometry&quot;: {&quot;type&quot;: &quot;Point&quot;, &quot;coordinates&quot;: [263.7020034790039, 15.882999420166016]}, &quot;properties&quot;: {&quot;time&quot;: &quot;1998-02-03&quot;, &quot;style&quot;: {&quot;color&quot;: &quot;#ff9e00ff&quot;, &quot;radius&quot;: 10.94760294871792}, &quot;icon&quot;: &quot;circle&quot;}}, {&quot;type&quot;: &quot;Feature&quot;, &quot;geometry&quot;: {&quot;type&quot;: &quot;Point&quot;, &quot;coordinates&quot;: [262.94200134277344, -35.76300048828125]}, &quot;properties&quot;: {&quot;time&quot;: &quot;1998-01-31&quot;, &quot;style&quot;: {&quot;color&quot;: &quot;#ffff00ff&quot;, &quot;radius&quot;: 8.696571203309698}, &quot;icon&quot;: &quot;circle&quot;}}, {&quot;type&quot;: &quot;Feature&quot;, &quot;geometry&quot;: {&quot;type&quot;: &quot;Point&quot;, &quot;coordinates&quot;: [262.94200134277344, -35.76300048828125]}, &quot;properties&quot;: {&quot;time&quot;: &quot;1998-01-31&quot;, &quot;style&quot;: {&quot;color&quot;: &quot;#ffff00ff&quot;, &quot;radius&quot;: 8.696571203309698}, &quot;icon&quot;: &quot;circle&quot;}}, {&quot;type&quot;: &quot;Feature&quot;, &quot;geometry&quot;: {&quot;type&quot;: &quot;Point&quot;, &quot;coordinates&quot;: [289.7929992675781, -23.913002014160156]}, &quot;properties&quot;: {&quot;time&quot;: &quot;1998-01-30&quot;, &quot;style&quot;: {&quot;color&quot;: &quot;#f30000ff&quot;, &quot;radius&quot;: 16.381669388225585}, &quot;icon&quot;: &quot;circle&quot;}}, {&quot;type&quot;: &quot;Feature&quot;, &quot;geometry&quot;: {&quot;type&quot;: &quot;Point&quot;, &quot;coordinates&quot;: [289.7929992675781, -23.913002014160156]}, &quot;properties&quot;: {&quot;time&quot;: &quot;1998-01-30&quot;, &quot;style&quot;: {&quot;color&quot;: &quot;#f30000ff&quot;, &quot;radius&quot;: 16.381669388225585}, &quot;icon&quot;: &quot;circle&quot;}}, {&quot;type&quot;: &quot;Feature&quot;, &quot;geometry&quot;: {&quot;type&quot;: &quot;Point&quot;, &quot;coordinates&quot;: [179.0349884033203, -22.411001205444336]}, &quot;properties&quot;: {&quot;time&quot;: &quot;1998-01-27&quot;, &quot;style&quot;: {&quot;color&quot;: &quot;#ff8600ff&quot;, &quot;radius&quot;: 11.281002815739072}, &quot;icon&quot;: &quot;circle&quot;}}, {&quot;type&quot;: &quot;Feature&quot;, &quot;geometry&quot;: {&quot;type&quot;: &quot;Point&quot;, &quot;coordinates&quot;: [-180.9650115966797, -22.411001205444336]}, &quot;properties&quot;: {&quot;time&quot;: &quot;1998-01-27&quot;, &quot;style&quot;: {&quot;color&quot;: &quot;#ff8600ff&quot;, &quot;radius&quot;: 11.281002815739072}, &quot;icon&quot;: &quot;circle&quot;}}, {&quot;type&quot;: &quot;Feature&quot;, &quot;geometry&quot;: {&quot;type&quot;: &quot;Point&quot;, &quot;coordinates&quot;: [179.04800415039062, -22.54199981689453]}, &quot;properties&quot;: {&quot;time&quot;: &quot;1998-01-27&quot;, &quot;style&quot;: {&quot;color&quot;: &quot;#ffb600ff&quot;, &quot;radius&quot;: 9.725503716583704}, &quot;icon&quot;: &quot;circle&quot;}}, {&quot;type&quot;: &quot;Feature&quot;, &quot;geometry&quot;: {&quot;type&quot;: &quot;Point&quot;, &quot;coordinates&quot;: [-180.95199584960938, -22.54199981689453]}, &quot;properties&quot;: {&quot;time&quot;: &quot;1998-01-27&quot;, &quot;style&quot;: {&quot;color&quot;: &quot;#ffb600ff&quot;, &quot;radius&quot;: 9.725503716583704}, &quot;icon&quot;: &quot;circle&quot;}}, {&quot;type&quot;: &quot;Feature&quot;, &quot;geometry&quot;: {&quot;type&quot;: &quot;Point&quot;, &quot;coordinates&quot;: [180.82200622558594, -20.76799964904785]}, &quot;properties&quot;: {&quot;time&quot;: &quot;1998-01-27&quot;, &quot;style&quot;: {&quot;color&quot;: &quot;#ffff00ff&quot;, &quot;radius&quot;: 5.188512455830874}, &quot;icon&quot;: &quot;circle&quot;}}, {&quot;type&quot;: &quot;Feature&quot;, &quot;geometry&quot;: {&quot;type&quot;: &quot;Point&quot;, &quot;coordinates&quot;: [180.82200622558594, -20.76799964904785]}, &quot;properties&quot;: {&quot;time&quot;: &quot;1998-01-27&quot;, &quot;style&quot;: {&quot;color&quot;: &quot;#ffff00ff&quot;, &quot;radius&quot;: 5.188512455830874}, &quot;icon&quot;: &quot;circle&quot;}}, {&quot;type&quot;: &quot;Feature&quot;, &quot;geometry&quot;: {&quot;type&quot;: &quot;Point&quot;, &quot;coordinates&quot;: [280.51200103759766, -44.97100067138672]}, &quot;properties&quot;: {&quot;time&quot;: &quot;1998-01-19&quot;, &quot;style&quot;: {&quot;color&quot;: &quot;#ffcf00ff&quot;, &quot;radius&quot;: 9.75789981807732}, &quot;icon&quot;: &quot;circle&quot;}}, {&quot;type&quot;: &quot;Feature&quot;, &quot;geometry&quot;: {&quot;type&quot;: &quot;Point&quot;, &quot;coordinates&quot;: [280.51200103759766, -44.97100067138672]}, &quot;properties&quot;: {&quot;time&quot;: &quot;1998-01-19&quot;, &quot;style&quot;: {&quot;color&quot;: &quot;#ffcf00ff&quot;, &quot;radius&quot;: 9.75789981807732}, &quot;icon&quot;: &quot;circle&quot;}}, {&quot;type&quot;: &quot;Feature&quot;, &quot;geometry&quot;: {&quot;type&quot;: &quot;Point&quot;, &quot;coordinates&quot;: [68.09400177001953, -2.109999895095825]}, &quot;properties&quot;: {&quot;time&quot;: &quot;1998-01-14&quot;, &quot;style&quot;: {&quot;color&quot;: &quot;#ffff00ff&quot;, &quot;radius&quot;: 8.696571203309698}, &quot;icon&quot;: &quot;circle&quot;}}, {&quot;type&quot;: &quot;Feature&quot;, &quot;geometry&quot;: {&quot;type&quot;: &quot;Point&quot;, &quot;coordinates&quot;: [-291.90599822998047, -2.109999895095825]}, &quot;properties&quot;: {&quot;time&quot;: &quot;1998-01-14&quot;, &quot;style&quot;: {&quot;color&quot;: &quot;#ffff00ff&quot;, &quot;radius&quot;: 8.696571203309698}, &quot;icon&quot;: &quot;circle&quot;}}, {&quot;type&quot;: &quot;Feature&quot;, &quot;geometry&quot;: {&quot;type&quot;: &quot;Point&quot;, &quot;coordinates&quot;: [180.67100524902344, -15.730999946594238]}, &quot;properties&quot;: {&quot;time&quot;: &quot;1998-01-14&quot;, &quot;style&quot;: {&quot;color&quot;: &quot;#ff6d00ff&quot;, &quot;radius&quot;: 12.28405708464602}, &quot;icon&quot;: &quot;circle&quot;}}, {&quot;type&quot;: &quot;Feature&quot;, &quot;geometry&quot;: {&quot;type&quot;: &quot;Point&quot;, &quot;coordinates&quot;: [180.67100524902344, -15.730999946594238]}, &quot;properties&quot;: {&quot;time&quot;: &quot;1998-01-14&quot;, &quot;style&quot;: {&quot;color&quot;: &quot;#ff6d00ff&quot;, &quot;radius&quot;: 12.28405708464602}, &quot;icon&quot;: &quot;circle&quot;}}, {&quot;type&quot;: &quot;Feature&quot;, &quot;geometry&quot;: {&quot;type&quot;: &quot;Point&quot;, &quot;coordinates&quot;: [180.62399291992188, -15.847999572753906]}, &quot;properties&quot;: {&quot;time&quot;: &quot;1998-01-12&quot;, &quot;style&quot;: {&quot;color&quot;: &quot;#ff5500ff&quot;, &quot;radius&quot;: 13.012375143902029}, &quot;icon&quot;: &quot;circle&quot;}}, {&quot;type&quot;: &quot;Feature&quot;, &quot;geometry&quot;: {&quot;type&quot;: &quot;Point&quot;, &quot;coordinates&quot;: [180.62399291992188, -15.847999572753906]}, &quot;properties&quot;: {&quot;time&quot;: &quot;1998-01-12&quot;, &quot;style&quot;: {&quot;color&quot;: &quot;#ff5500ff&quot;, &quot;radius&quot;: 13.012375143902029}, &quot;icon&quot;: &quot;circle&quot;}}, {&quot;type&quot;: &quot;Feature&quot;, &quot;geometry&quot;: {&quot;type&quot;: &quot;Point&quot;, &quot;coordinates&quot;: [288.5899963378906, -30.98499870300293]}, &quot;properties&quot;: {&quot;time&quot;: &quot;1998-01-12&quot;, &quot;style&quot;: {&quot;color&quot;: &quot;#ff6d00ff&quot;, &quot;radius&quot;: 12.28398436561938}, &quot;icon&quot;: &quot;circle&quot;}}, {&quot;type&quot;: &quot;Feature&quot;, &quot;geometry&quot;: {&quot;type&quot;: &quot;Point&quot;, &quot;coordinates&quot;: [288.5899963378906, -30.98499870300293]}, &quot;properties&quot;: {&quot;time&quot;: &quot;1998-01-12&quot;, &quot;style&quot;: {&quot;color&quot;: &quot;#ff6d00ff&quot;, &quot;radius&quot;: 12.28398436561938}, &quot;icon&quot;: &quot;circle&quot;}}, {&quot;type&quot;: &quot;Feature&quot;, &quot;geometry&quot;: {&quot;type&quot;: &quot;Point&quot;, &quot;coordinates&quot;: [268.52699279785156, 14.37399959564209]}, &quot;properties&quot;: {&quot;time&quot;: &quot;1998-01-10&quot;, &quot;style&quot;: {&quot;color&quot;: &quot;#ff6d00ff&quot;, &quot;radius&quot;: 12.28405708464602}, &quot;icon&quot;: &quot;circle&quot;}}, {&quot;type&quot;: &quot;Feature&quot;, &quot;geometry&quot;: {&quot;type&quot;: &quot;Point&quot;, &quot;coordinates&quot;: [268.52699279785156, 14.37399959564209]}, &quot;properties&quot;: {&quot;time&quot;: &quot;1998-01-10&quot;, &quot;style&quot;: {&quot;color&quot;: &quot;#ff6d00ff&quot;, &quot;radius&quot;: 12.28405708464602}, &quot;icon&quot;: &quot;circle&quot;}}, {&quot;type&quot;: &quot;Feature&quot;, &quot;geometry&quot;: {&quot;type&quot;: &quot;Point&quot;, &quot;coordinates&quot;: [287.9260025024414, -12.029000282287598]}, &quot;properties&quot;: {&quot;time&quot;: &quot;1998-01-10&quot;, &quot;style&quot;: {&quot;color&quot;: &quot;#ff9e00ff&quot;, &quot;radius&quot;: 10.94760294871792}, &quot;icon&quot;: &quot;circle&quot;}}, {&quot;type&quot;: &quot;Feature&quot;, &quot;geometry&quot;: {&quot;type&quot;: &quot;Point&quot;, &quot;coordinates&quot;: [287.9260025024414, -12.029000282287598]}, &quot;properties&quot;: {&quot;time&quot;: &quot;1998-01-10&quot;, &quot;style&quot;: {&quot;color&quot;: &quot;#ff9e00ff&quot;, &quot;radius&quot;: 10.94760294871792}, &quot;icon&quot;: &quot;circle&quot;}}, {&quot;type&quot;: &quot;Feature&quot;, &quot;geometry&quot;: {&quot;type&quot;: &quot;Point&quot;, &quot;coordinates&quot;: [170.91099548339844, -22.301000595092773]}, &quot;properties&quot;: {&quot;time&quot;: &quot;1998-01-04&quot;, &quot;style&quot;: {&quot;color&quot;: &quot;#920000ff&quot;, &quot;radius&quot;: 20.62316262053097}, &quot;icon&quot;: &quot;circle&quot;}}, {&quot;type&quot;: &quot;Feature&quot;, &quot;geometry&quot;: {&quot;type&quot;: &quot;Point&quot;, &quot;coordinates&quot;: [-189.08900451660156, -22.301000595092773]}, &quot;properties&quot;: {&quot;time&quot;: &quot;1998-01-04&quot;, &quot;style&quot;: {&quot;color&quot;: &quot;#920000ff&quot;, &quot;radius&quot;: 20.62316262053097}, &quot;icon&quot;: &quot;circle&quot;}}, {&quot;type&quot;: &quot;Feature&quot;, &quot;geometry&quot;: {&quot;type&quot;: &quot;Point&quot;, &quot;coordinates&quot;: [343.8090000152588, -35.4739990234375]}, &quot;properties&quot;: {&quot;time&quot;: &quot;1998-01-03&quot;, &quot;style&quot;: {&quot;color&quot;: &quot;#ffb600ff&quot;, &quot;radius&quot;: 10.336152282766209}, &quot;icon&quot;: &quot;circle&quot;}}, {&quot;type&quot;: &quot;Feature&quot;, &quot;geometry&quot;: {&quot;type&quot;: &quot;Point&quot;, &quot;coordinates&quot;: [343.8090000152588, -35.4739990234375]}, &quot;properties&quot;: {&quot;time&quot;: &quot;1998-01-03&quot;, &quot;style&quot;: {&quot;color&quot;: &quot;#ffb600ff&quot;, &quot;radius&quot;: 10.336152282766209}, &quot;icon&quot;: &quot;circle&quot;}}, {&quot;type&quot;: &quot;Feature&quot;, &quot;geometry&quot;: {&quot;type&quot;: &quot;Point&quot;, &quot;coordinates&quot;: [141.90699768066406, 23.913002014160156]}, &quot;properties&quot;: {&quot;time&quot;: &quot;1998-01-01&quot;, &quot;style&quot;: {&quot;color&quot;: &quot;#ffb600ff&quot;, &quot;radius&quot;: 10.323342628374501}, &quot;icon&quot;: &quot;circle&quot;}}, {&quot;type&quot;: &quot;Feature&quot;, &quot;geometry&quot;: {&quot;type&quot;: &quot;Point&quot;, &quot;coordinates&quot;: [-218.09300231933594, 23.913002014160156]}, &quot;properties&quot;: {&quot;time&quot;: &quot;1998-01-01&quot;, &quot;style&quot;: {&quot;color&quot;: &quot;#ffb600ff&quot;, &quot;radius&quot;: 10.323342628374501}, &quot;icon&quot;: &quot;circle&quot;}}, {&quot;type&quot;: &quot;Feature&quot;, &quot;geometry&quot;: {&quot;type&quot;: &quot;Point&quot;, &quot;coordinates&quot;: [355.78200006484985, -55.78300094604492]}, &quot;properties&quot;: {&quot;time&quot;: &quot;1997-12-27&quot;, &quot;style&quot;: {&quot;color&quot;: &quot;#ffcf00ff&quot;, &quot;radius&quot;: 9.75789981807732}, &quot;icon&quot;: &quot;circle&quot;}}, {&quot;type&quot;: &quot;Feature&quot;, &quot;geometry&quot;: {&quot;type&quot;: &quot;Point&quot;, &quot;coordinates&quot;: [355.78200006484985, -55.78300094604492]}, &quot;properties&quot;: {&quot;time&quot;: &quot;1997-12-27&quot;, &quot;style&quot;: {&quot;color&quot;: &quot;#ffcf00ff&quot;, &quot;radius&quot;: 9.75789981807732}, &quot;icon&quot;: &quot;circle&quot;}}, {&quot;type&quot;: &quot;Feature&quot;, &quot;geometry&quot;: {&quot;type&quot;: &quot;Point&quot;, &quot;coordinates&quot;: [269.6840057373047, 13.742000579833984]}, &quot;properties&quot;: {&quot;time&quot;: &quot;1997-12-22&quot;, &quot;style&quot;: {&quot;color&quot;: &quot;#ffe700ff&quot;, &quot;radius&quot;: 9.20337502315844}, &quot;icon&quot;: &quot;circle&quot;}}, {&quot;type&quot;: &quot;Feature&quot;, &quot;geometry&quot;: {&quot;type&quot;: &quot;Point&quot;, &quot;coordinates&quot;: [269.6840057373047, 13.742000579833984]}, &quot;properties&quot;: {&quot;time&quot;: &quot;1997-12-22&quot;, &quot;style&quot;: {&quot;color&quot;: &quot;#ffe700ff&quot;, &quot;radius&quot;: 9.20337502315844}, &quot;icon&quot;: &quot;circle&quot;}}, {&quot;type&quot;: &quot;Feature&quot;, &quot;geometry&quot;: {&quot;type&quot;: &quot;Point&quot;, &quot;coordinates&quot;: [147.8669891357422, -5.494999885559082]}, &quot;properties&quot;: {&quot;time&quot;: &quot;1997-12-22&quot;, &quot;style&quot;: {&quot;color&quot;: &quot;#db0000ff&quot;, &quot;radius&quot;: 17.349200123209748}, &quot;icon&quot;: &quot;circle&quot;}}, {&quot;type&quot;: &quot;Feature&quot;, &quot;geometry&quot;: {&quot;type&quot;: &quot;Point&quot;, &quot;coordinates&quot;: [-212.1330108642578, -5.494999885559082]}, &quot;properties&quot;: {&quot;time&quot;: &quot;1997-12-22&quot;, &quot;style&quot;: {&quot;color&quot;: &quot;#db0000ff&quot;, &quot;radius&quot;: 17.349200123209748}, &quot;icon&quot;: &quot;circle&quot;}}, {&quot;type&quot;: &quot;Feature&quot;, &quot;geometry&quot;: {&quot;type&quot;: &quot;Point&quot;, &quot;coordinates&quot;: [271.26099395751953, 13.84000015258789]}, &quot;properties&quot;: {&quot;time&quot;: &quot;1997-12-18&quot;, &quot;style&quot;: {&quot;color&quot;: &quot;#ffe700ff&quot;, &quot;radius&quot;: 9.12698183324709}, &quot;icon&quot;: &quot;circle&quot;}}, {&quot;type&quot;: &quot;Feature&quot;, &quot;geometry&quot;: {&quot;type&quot;: &quot;Point&quot;, &quot;coordinates&quot;: [271.26099395751953, 13.84000015258789]}, &quot;properties&quot;: {&quot;time&quot;: &quot;1997-12-18&quot;, &quot;style&quot;: {&quot;color&quot;: &quot;#ffe700ff&quot;, &quot;radius&quot;: 9.12698183324709}, &quot;icon&quot;: &quot;circle&quot;}}, {&quot;type&quot;: &quot;Feature&quot;, &quot;geometry&quot;: {&quot;type&quot;: &quot;Point&quot;, &quot;coordinates&quot;: [70.77299499511719, 36.387001037597656]}, &quot;properties&quot;: {&quot;time&quot;: &quot;1997-12-17&quot;, &quot;style&quot;: {&quot;color&quot;: &quot;#ffb600ff&quot;, &quot;radius&quot;: 10.27485864207751}, &quot;icon&quot;: &quot;circle&quot;}}, {&quot;type&quot;: &quot;Feature&quot;, &quot;geometry&quot;: {&quot;type&quot;: &quot;Point&quot;, &quot;coordinates&quot;: [-289.2270050048828, 36.387001037597656]}, &quot;properties&quot;: {&quot;time&quot;: &quot;1997-12-17&quot;, &quot;style&quot;: {&quot;color&quot;: &quot;#ffb600ff&quot;, &quot;radius&quot;: 10.27485864207751}, &quot;icon&quot;: &quot;circle&quot;}}, {&quot;type&quot;: &quot;Feature&quot;, &quot;geometry&quot;: {&quot;type&quot;: &quot;Point&quot;, &quot;coordinates&quot;: [178.87100219726562, 51.18699645996094]}, &quot;properties&quot;: {&quot;time&quot;: &quot;1997-12-17&quot;, &quot;style&quot;: {&quot;color&quot;: &quot;#ff6d00ff&quot;, &quot;radius&quot;: 12.284467593528255}, &quot;icon&quot;: &quot;circle&quot;}}, {&quot;type&quot;: &quot;Feature&quot;, &quot;geometry&quot;: {&quot;type&quot;: &quot;Point&quot;, &quot;coordinates&quot;: [-181.12899780273438, 51.18699645996094]}, &quot;properties&quot;: {&quot;time&quot;: &quot;1997-12-17&quot;, &quot;style&quot;: {&quot;color&quot;: &quot;#ff6d00ff&quot;, &quot;radius&quot;: 12.284467593528255}, &quot;icon&quot;: &quot;circle&quot;}}, {&quot;type&quot;: &quot;Feature&quot;, &quot;geometry&quot;: {&quot;type&quot;: &quot;Point&quot;, &quot;coordinates&quot;: [261.1480026245117, 16.10700035095215]}, &quot;properties&quot;: {&quot;time&quot;: &quot;1997-12-16&quot;, &quot;style&quot;: {&quot;color&quot;: &quot;#ffff00ff&quot;, &quot;radius&quot;: 8.696571203309698}, &quot;icon&quot;: &quot;circle&quot;}}, {&quot;type&quot;: &quot;Feature&quot;, &quot;geometry&quot;: {&quot;type&quot;: &quot;Point&quot;, &quot;coordinates&quot;: [261.1480026245117, 16.10700035095215]}, &quot;properties&quot;: {&quot;time&quot;: &quot;1997-12-16&quot;, &quot;style&quot;: {&quot;color&quot;: &quot;#ffff00ff&quot;, &quot;radius&quot;: 8.696571203309698}, &quot;icon&quot;: &quot;circle&quot;}}, {&quot;type&quot;: &quot;Feature&quot;, &quot;geometry&quot;: {&quot;type&quot;: &quot;Point&quot;, &quot;coordinates&quot;: [284.21299743652344, 3.928999900817871]}, &quot;properties&quot;: {&quot;time&quot;: &quot;1997-12-11&quot;, &quot;style&quot;: {&quot;color&quot;: &quot;#ff9e00ff&quot;, &quot;radius&quot;: 10.915124613068249}, &quot;icon&quot;: &quot;circle&quot;}}, {&quot;type&quot;: &quot;Feature&quot;, &quot;geometry&quot;: {&quot;type&quot;: &quot;Point&quot;, &quot;coordinates&quot;: [284.21299743652344, 3.928999900817871]}, &quot;properties&quot;: {&quot;time&quot;: &quot;1997-12-11&quot;, &quot;style&quot;: {&quot;color&quot;: &quot;#ff9e00ff&quot;, &quot;radius&quot;: 10.915124613068249}, &quot;icon&quot;: &quot;circle&quot;}}, {&quot;type&quot;: &quot;Feature&quot;, &quot;geometry&quot;: {&quot;type&quot;: &quot;Point&quot;, &quot;coordinates&quot;: [162.8820037841797, 54.65800094604492]}, &quot;properties&quot;: {&quot;time&quot;: &quot;1997-12-07&quot;, &quot;style&quot;: {&quot;color&quot;: &quot;#ffcf00ff&quot;, &quot;radius&quot;: 9.756035711764694}, &quot;icon&quot;: &quot;circle&quot;}}, {&quot;type&quot;: &quot;Feature&quot;, &quot;geometry&quot;: {&quot;type&quot;: &quot;Point&quot;, &quot;coordinates&quot;: [-197.1179962158203, 54.65800094604492]}, &quot;properties&quot;: {&quot;time&quot;: &quot;1997-12-07&quot;, &quot;style&quot;: {&quot;color&quot;: &quot;#ffcf00ff&quot;, &quot;radius&quot;: 9.756035711764694}, &quot;icon&quot;: &quot;circle&quot;}}, {&quot;type&quot;: &quot;Feature&quot;, &quot;geometry&quot;: {&quot;type&quot;: &quot;Point&quot;, &quot;coordinates&quot;: [161.9090118408203, 53.97200012207031]}, &quot;properties&quot;: {&quot;time&quot;: &quot;1997-12-06&quot;, &quot;style&quot;: {&quot;color&quot;: &quot;#ffe700ff&quot;, &quot;radius&quot;: 9.20949217102613}, &quot;icon&quot;: &quot;circle&quot;}}, {&quot;type&quot;: &quot;Feature&quot;, &quot;geometry&quot;: {&quot;type&quot;: &quot;Point&quot;, &quot;coordinates&quot;: [-198.0909881591797, 53.97200012207031]}, &quot;properties&quot;: {&quot;time&quot;: &quot;1997-12-06&quot;, &quot;style&quot;: {&quot;color&quot;: &quot;#ffe700ff&quot;, &quot;radius&quot;: 9.20949217102613}, &quot;icon&quot;: &quot;circle&quot;}}, {&quot;type&quot;: &quot;Feature&quot;, &quot;geometry&quot;: {&quot;type&quot;: &quot;Point&quot;, &quot;coordinates&quot;: [161.74600219726562, 53.75199890136719]}, &quot;properties&quot;: {&quot;time&quot;: &quot;1997-12-05&quot;, &quot;style&quot;: {&quot;color&quot;: &quot;#ff9e00ff&quot;, &quot;radius&quot;: 10.94760294871792}, &quot;icon&quot;: &quot;circle&quot;}}, {&quot;type&quot;: &quot;Feature&quot;, &quot;geometry&quot;: {&quot;type&quot;: &quot;Point&quot;, &quot;coordinates&quot;: [-198.25399780273438, 53.75199890136719]}, &quot;properties&quot;: {&quot;time&quot;: &quot;1997-12-05&quot;, &quot;style&quot;: {&quot;color&quot;: &quot;#ff9e00ff&quot;, &quot;radius&quot;: 10.94760294871792}, &quot;icon&quot;: &quot;circle&quot;}}, {&quot;type&quot;: &quot;Feature&quot;, &quot;geometry&quot;: {&quot;type&quot;: &quot;Point&quot;, &quot;coordinates&quot;: [162.03500366210938, 54.840999603271484]}, &quot;properties&quot;: {&quot;time&quot;: &quot;1997-12-05&quot;, &quot;style&quot;: {&quot;color&quot;: &quot;#490000ff&quot;, &quot;radius&quot;: 24.51119422276475}, &quot;icon&quot;: &quot;circle&quot;}}, {&quot;type&quot;: &quot;Feature&quot;, &quot;geometry&quot;: {&quot;type&quot;: &quot;Point&quot;, &quot;coordinates&quot;: [-197.96499633789062, 54.840999603271484]}, &quot;properties&quot;: {&quot;time&quot;: &quot;1997-12-05&quot;, &quot;style&quot;: {&quot;color&quot;: &quot;#490000ff&quot;, &quot;radius&quot;: 24.51119422276475}, &quot;icon&quot;: &quot;circle&quot;}}, {&quot;type&quot;: &quot;Feature&quot;, &quot;geometry&quot;: {&quot;type&quot;: &quot;Point&quot;, &quot;coordinates&quot;: [269.34200286865234, 13.63900089263916]}, &quot;properties&quot;: {&quot;time&quot;: &quot;1997-12-04&quot;, &quot;style&quot;: {&quot;color&quot;: &quot;#ffff00ff&quot;, &quot;radius&quot;: 8.675061669783744}, &quot;icon&quot;: &quot;circle&quot;}}, {&quot;type&quot;: &quot;Feature&quot;, &quot;geometry&quot;: {&quot;type&quot;: &quot;Point&quot;, &quot;coordinates&quot;: [269.34200286865234, 13.63900089263916]}, &quot;properties&quot;: {&quot;time&quot;: &quot;1997-12-04&quot;, &quot;style&quot;: {&quot;color&quot;: &quot;#ffff00ff&quot;, &quot;radius&quot;: 8.675061669783744}, &quot;icon&quot;: &quot;circle&quot;}}, {&quot;type&quot;: &quot;Feature&quot;, &quot;geometry&quot;: {&quot;type&quot;: &quot;Point&quot;, &quot;coordinates&quot;: [291.21199798583984, -13.74000072479248]}, &quot;properties&quot;: {&quot;time&quot;: &quot;1997-11-28&quot;, &quot;style&quot;: {&quot;color&quot;: &quot;#ff5500ff&quot;, &quot;radius&quot;: 12.8544949810327}, &quot;icon&quot;: &quot;circle&quot;}}, {&quot;type&quot;: &quot;Feature&quot;, &quot;geometry&quot;: {&quot;type&quot;: &quot;Point&quot;, &quot;coordinates&quot;: [291.21199798583984, -13.74000072479248]}, &quot;properties&quot;: {&quot;time&quot;: &quot;1997-11-28&quot;, &quot;style&quot;: {&quot;color&quot;: &quot;#ff5500ff&quot;, &quot;radius&quot;: 12.8544949810327}, &quot;icon&quot;: &quot;circle&quot;}}, {&quot;type&quot;: &quot;Feature&quot;, &quot;geometry&quot;: {&quot;type&quot;: &quot;Point&quot;, &quot;coordinates&quot;: [122.53600311279297, 1.2410000562667847]}, &quot;properties&quot;: {&quot;time&quot;: &quot;1997-11-25&quot;, &quot;style&quot;: {&quot;color&quot;: &quot;#ff0c00ff&quot;, &quot;radius&quot;: 15.465420756024766}, &quot;icon&quot;: &quot;circle&quot;}}, {&quot;type&quot;: &quot;Feature&quot;, &quot;geometry&quot;: {&quot;type&quot;: &quot;Point&quot;, &quot;coordinates&quot;: [-237.46399688720703, 1.2410000562667847]}, &quot;properties&quot;: {&quot;time&quot;: &quot;1997-11-25&quot;, &quot;style&quot;: {&quot;color&quot;: &quot;#ff0c00ff&quot;, &quot;radius&quot;: 15.465420756024766}, &quot;icon&quot;: &quot;circle&quot;}}, {&quot;type&quot;: &quot;Feature&quot;, &quot;geometry&quot;: {&quot;type&quot;: &quot;Point&quot;, &quot;coordinates&quot;: [92.7020034790039, 22.211999893188477]}, &quot;properties&quot;: {&quot;time&quot;: &quot;1997-11-21&quot;, &quot;style&quot;: {&quot;color&quot;: &quot;#ffe700ff&quot;, &quot;radius&quot;: 9.20478075995149}, &quot;icon&quot;: &quot;circle&quot;}}, {&quot;type&quot;: &quot;Feature&quot;, &quot;geometry&quot;: {&quot;type&quot;: &quot;Point&quot;, &quot;coordinates&quot;: [-267.2979965209961, 22.211999893188477]}, &quot;properties&quot;: {&quot;time&quot;: &quot;1997-11-21&quot;, &quot;style&quot;: {&quot;color&quot;: &quot;#ffe700ff&quot;, &quot;radius&quot;: 9.20478075995149}, &quot;icon&quot;: &quot;circle&quot;}}, {&quot;type&quot;: &quot;Feature&quot;, &quot;geometry&quot;: {&quot;type&quot;: &quot;Point&quot;, &quot;coordinates&quot;: [20.6560001373291, 37.56999969482422]}, &quot;properties&quot;: {&quot;time&quot;: &quot;1997-11-18&quot;, &quot;style&quot;: {&quot;color&quot;: &quot;#ff6d00ff&quot;, &quot;radius&quot;: 12.28405708464602}, &quot;icon&quot;: &quot;circle&quot;}}, {&quot;type&quot;: &quot;Feature&quot;, &quot;geometry&quot;: {&quot;type&quot;: &quot;Point&quot;, &quot;coordinates&quot;: [-339.3439998626709, 37.56999969482422]}, &quot;properties&quot;: {&quot;time&quot;: &quot;1997-11-18&quot;, &quot;style&quot;: {&quot;color&quot;: &quot;#ff6d00ff&quot;, &quot;radius&quot;: 12.28405708464602}, &quot;icon&quot;: &quot;circle&quot;}}, {&quot;type&quot;: &quot;Feature&quot;, &quot;geometry&quot;: {&quot;type&quot;: &quot;Point&quot;, &quot;coordinates&quot;: [167.375, -15.145000457763672]}, &quot;properties&quot;: {&quot;time&quot;: &quot;1997-11-15&quot;, &quot;style&quot;: {&quot;color&quot;: &quot;#ff0c00ff&quot;, &quot;radius&quot;: 15.462673372829158}, &quot;icon&quot;: &quot;circle&quot;}}, {&quot;type&quot;: &quot;Feature&quot;, &quot;geometry&quot;: {&quot;type&quot;: &quot;Point&quot;, &quot;coordinates&quot;: [-192.625, -15.145000457763672]}, &quot;properties&quot;: {&quot;time&quot;: &quot;1997-11-15&quot;, &quot;style&quot;: {&quot;color&quot;: &quot;#ff0c00ff&quot;, &quot;radius&quot;: 15.462673372829158}, &quot;icon&quot;: &quot;circle&quot;}}, {&quot;type&quot;: &quot;Feature&quot;, &quot;geometry&quot;: {&quot;type&quot;: &quot;Point&quot;, &quot;coordinates&quot;: [145.0189971923828, 43.8129997253418]}, &quot;properties&quot;: {&quot;time&quot;: &quot;1997-11-15&quot;, &quot;style&quot;: {&quot;color&quot;: &quot;#ffe700ff&quot;, &quot;radius&quot;: 9.145934101558534}, &quot;icon&quot;: &quot;circle&quot;}}, {&quot;type&quot;: &quot;Feature&quot;, &quot;geometry&quot;: {&quot;type&quot;: &quot;Point&quot;, &quot;coordinates&quot;: [-214.9810028076172, 43.8129997253418]}, &quot;properties&quot;: {&quot;time&quot;: &quot;1997-11-15&quot;, &quot;style&quot;: {&quot;color&quot;: &quot;#ffe700ff&quot;, &quot;radius&quot;: 9.145934101558534}, &quot;icon&quot;: &quot;circle&quot;}}, {&quot;type&quot;: &quot;Feature&quot;, &quot;geometry&quot;: {&quot;type&quot;: &quot;Point&quot;, &quot;coordinates&quot;: [25.795000076293945, 38.85900115966797]}, &quot;properties&quot;: {&quot;time&quot;: &quot;1997-11-14&quot;, &quot;style&quot;: {&quot;color&quot;: &quot;#ffff00ff&quot;, &quot;radius&quot;: 8.695832564797936}, &quot;icon&quot;: &quot;circle&quot;}}, {&quot;type&quot;: &quot;Feature&quot;, &quot;geometry&quot;: {&quot;type&quot;: &quot;Point&quot;, &quot;coordinates&quot;: [-334.20499992370605, 38.85900115966797]}, &quot;properties&quot;: {&quot;time&quot;: &quot;1997-11-14&quot;, &quot;style&quot;: {&quot;color&quot;: &quot;#ffff00ff&quot;, &quot;radius&quot;: 8.695832564797936}, &quot;icon&quot;: &quot;circle&quot;}}, {&quot;type&quot;: &quot;Feature&quot;, &quot;geometry&quot;: {&quot;type&quot;: &quot;Point&quot;, &quot;coordinates&quot;: [140.48599243164062, 31.18699836730957]}, &quot;properties&quot;: {&quot;time&quot;: &quot;1997-11-10&quot;, &quot;style&quot;: {&quot;color&quot;: &quot;#ffcf00ff&quot;, &quot;radius&quot;: 9.744105938585104}, &quot;icon&quot;: &quot;circle&quot;}}, {&quot;type&quot;: &quot;Feature&quot;, &quot;geometry&quot;: {&quot;type&quot;: &quot;Point&quot;, &quot;coordinates&quot;: [-219.51400756835938, 31.18699836730957]}, &quot;properties&quot;: {&quot;time&quot;: &quot;1997-11-10&quot;, &quot;style&quot;: {&quot;color&quot;: &quot;#ffcf00ff&quot;, &quot;radius&quot;: 9.744105938585104}, &quot;icon&quot;: &quot;circle&quot;}}, {&quot;type&quot;: &quot;Feature&quot;, &quot;geometry&quot;: {&quot;type&quot;: &quot;Point&quot;, &quot;coordinates&quot;: [271.19200134277344, 13.848999977111816]}, &quot;properties&quot;: {&quot;time&quot;: &quot;1997-11-09&quot;, &quot;style&quot;: {&quot;color&quot;: &quot;#ff8600ff&quot;, &quot;radius&quot;: 11.57265959874259}, &quot;icon&quot;: &quot;circle&quot;}}, {&quot;type&quot;: &quot;Feature&quot;, &quot;geometry&quot;: {&quot;type&quot;: &quot;Point&quot;, &quot;coordinates&quot;: [271.19200134277344, 13.848999977111816]}, &quot;properties&quot;: {&quot;time&quot;: &quot;1997-11-09&quot;, &quot;style&quot;: {&quot;color&quot;: &quot;#ff8600ff&quot;, &quot;radius&quot;: 11.57265959874259}, &quot;icon&quot;: &quot;circle&quot;}}, {&quot;type&quot;: &quot;Feature&quot;, &quot;geometry&quot;: {&quot;type&quot;: &quot;Point&quot;, &quot;coordinates&quot;: [87.32499694824219, 35.069000244140625]}, &quot;properties&quot;: {&quot;time&quot;: &quot;1997-11-08&quot;, &quot;style&quot;: {&quot;color&quot;: &quot;#920000ff&quot;, &quot;radius&quot;: 20.623566084159542}, &quot;icon&quot;: &quot;circle&quot;}}, {&quot;type&quot;: &quot;Feature&quot;, &quot;geometry&quot;: {&quot;type&quot;: &quot;Point&quot;, &quot;coordinates&quot;: [-272.6750030517578, 35.069000244140625]}, &quot;properties&quot;: {&quot;time&quot;: &quot;1997-11-08&quot;, &quot;style&quot;: {&quot;color&quot;: &quot;#920000ff&quot;, &quot;radius&quot;: 20.623566084159542}, &quot;icon&quot;: &quot;circle&quot;}}, {&quot;type&quot;: &quot;Feature&quot;, &quot;geometry&quot;: {&quot;type&quot;: &quot;Point&quot;, &quot;coordinates&quot;: [129.02099609375, -6.735999584197998]}, &quot;properties&quot;: {&quot;time&quot;: &quot;1997-11-03&quot;, &quot;style&quot;: {&quot;color&quot;: &quot;#ffe700ff&quot;, &quot;radius&quot;: 9.091580208555557}, &quot;icon&quot;: &quot;circle&quot;}}, {&quot;type&quot;: &quot;Feature&quot;, &quot;geometry&quot;: {&quot;type&quot;: &quot;Point&quot;, &quot;coordinates&quot;: [-230.97900390625, -6.735999584197998]}, &quot;properties&quot;: {&quot;time&quot;: &quot;1997-11-03&quot;, &quot;style&quot;: {&quot;color&quot;: &quot;#ffe700ff&quot;, &quot;radius&quot;: 9.091580208555557}, &quot;icon&quot;: &quot;circle&quot;}}, {&quot;type&quot;: &quot;Feature&quot;, &quot;geometry&quot;: {&quot;type&quot;: &quot;Point&quot;, &quot;coordinates&quot;: [288.7760009765625, -30.743999481201172]}, &quot;properties&quot;: {&quot;time&quot;: &quot;1997-11-03&quot;, &quot;style&quot;: {&quot;color&quot;: &quot;#ffcf00ff&quot;, &quot;radius&quot;: 9.754269860145957}, &quot;icon&quot;: &quot;circle&quot;}}, {&quot;type&quot;: &quot;Feature&quot;, &quot;geometry&quot;: {&quot;type&quot;: &quot;Point&quot;, &quot;coordinates&quot;: [288.7760009765625, -30.743999481201172]}, &quot;properties&quot;: {&quot;time&quot;: &quot;1997-11-03&quot;, &quot;style&quot;: {&quot;color&quot;: &quot;#ffcf00ff&quot;, &quot;radius&quot;: 9.754269860145957}, &quot;icon&quot;: &quot;circle&quot;}}, {&quot;type&quot;: &quot;Feature&quot;, &quot;geometry&quot;: {&quot;type&quot;: &quot;Point&quot;, &quot;coordinates&quot;: [283.3190002441406, -4.368000030517578]}, &quot;properties&quot;: {&quot;time&quot;: &quot;1997-10-28&quot;, &quot;style&quot;: {&quot;color&quot;: &quot;#db0000ff&quot;, &quot;radius&quot;: 17.351278273655755}, &quot;icon&quot;: &quot;circle&quot;}}, {&quot;type&quot;: &quot;Feature&quot;, &quot;geometry&quot;: {&quot;type&quot;: &quot;Point&quot;, &quot;coordinates&quot;: [283.3190002441406, -4.368000030517578]}, &quot;properties&quot;: {&quot;time&quot;: &quot;1997-10-28&quot;, &quot;style&quot;: {&quot;color&quot;: &quot;#db0000ff&quot;, &quot;radius&quot;: 17.351278273655755}, &quot;icon&quot;: &quot;circle&quot;}}, {&quot;type&quot;: &quot;Feature&quot;, &quot;geometry&quot;: {&quot;type&quot;: &quot;Point&quot;, &quot;coordinates&quot;: [181.16099548339844, -20.88800048828125]}, &quot;properties&quot;: {&quot;time&quot;: &quot;1997-10-17&quot;, &quot;style&quot;: {&quot;color&quot;: &quot;#ffff00ff&quot;, &quot;radius&quot;: 6.78512187183794}, &quot;icon&quot;: &quot;circle&quot;}}, {&quot;type&quot;: &quot;Feature&quot;, &quot;geometry&quot;: {&quot;type&quot;: &quot;Point&quot;, &quot;coordinates&quot;: [181.16099548339844, -20.88800048828125]}, &quot;properties&quot;: {&quot;time&quot;: &quot;1997-10-17&quot;, &quot;style&quot;: {&quot;color&quot;: &quot;#ffff00ff&quot;, &quot;radius&quot;: 6.78512187183794}, &quot;icon&quot;: &quot;circle&quot;}}, {&quot;type&quot;: &quot;Feature&quot;, &quot;geometry&quot;: {&quot;type&quot;: &quot;Point&quot;, &quot;coordinates&quot;: [147.97000122070312, -57.538002014160156]}, &quot;properties&quot;: {&quot;time&quot;: &quot;1997-10-17&quot;, &quot;style&quot;: {&quot;color&quot;: &quot;#ffcf00ff&quot;, &quot;radius&quot;: 9.75789981807732}, &quot;icon&quot;: &quot;circle&quot;}}, {&quot;type&quot;: &quot;Feature&quot;, &quot;geometry&quot;: {&quot;type&quot;: &quot;Point&quot;, &quot;coordinates&quot;: [-212.02999877929688, -57.538002014160156]}, &quot;properties&quot;: {&quot;time&quot;: &quot;1997-10-17&quot;, &quot;style&quot;: {&quot;color&quot;: &quot;#ffcf00ff&quot;, &quot;radius&quot;: 9.75789981807732}, &quot;icon&quot;: &quot;circle&quot;}}, {&quot;type&quot;: &quot;Feature&quot;, &quot;geometry&quot;: {&quot;type&quot;: &quot;Point&quot;, &quot;coordinates&quot;: [182.1230010986328, 51.43000030517578]}, &quot;properties&quot;: {&quot;time&quot;: &quot;1997-10-15&quot;, &quot;style&quot;: {&quot;color&quot;: &quot;#ff9e00ff&quot;, &quot;radius&quot;: 10.94824407761232}, &quot;icon&quot;: &quot;circle&quot;}}, {&quot;type&quot;: &quot;Feature&quot;, &quot;geometry&quot;: {&quot;type&quot;: &quot;Point&quot;, &quot;coordinates&quot;: [182.1230010986328, 51.43000030517578]}, &quot;properties&quot;: {&quot;time&quot;: &quot;1997-10-15&quot;, &quot;style&quot;: {&quot;color&quot;: &quot;#ff9e00ff&quot;, &quot;radius&quot;: 10.94824407761232}, &quot;icon&quot;: &quot;circle&quot;}}, {&quot;type&quot;: &quot;Feature&quot;, &quot;geometry&quot;: {&quot;type&quot;: &quot;Point&quot;, &quot;coordinates&quot;: [288.7799987792969, -30.932998657226562]}, &quot;properties&quot;: {&quot;time&quot;: &quot;1997-10-15&quot;, &quot;style&quot;: {&quot;color&quot;: &quot;#f30000ff&quot;, &quot;radius&quot;: 16.381443344191236}, &quot;icon&quot;: &quot;circle&quot;}}, {&quot;type&quot;: &quot;Feature&quot;, &quot;geometry&quot;: {&quot;type&quot;: &quot;Point&quot;, &quot;coordinates&quot;: [288.7799987792969, -30.932998657226562]}, &quot;properties&quot;: {&quot;time&quot;: &quot;1997-10-15&quot;, &quot;style&quot;: {&quot;color&quot;: &quot;#f30000ff&quot;, &quot;radius&quot;: 16.381443344191236}, &quot;icon&quot;: &quot;circle&quot;}}, {&quot;type&quot;: &quot;Feature&quot;, &quot;geometry&quot;: {&quot;type&quot;: &quot;Point&quot;, &quot;coordinates&quot;: [183.22799682617188, -22.10099983215332]}, &quot;properties&quot;: {&quot;time&quot;: &quot;1997-10-14&quot;, &quot;style&quot;: {&quot;color&quot;: &quot;#490000ff&quot;, &quot;radius&quot;: 24.510687458690477}, &quot;icon&quot;: &quot;circle&quot;}}, {&quot;type&quot;: &quot;Feature&quot;, &quot;geometry&quot;: {&quot;type&quot;: &quot;Point&quot;, &quot;coordinates&quot;: [183.22799682617188, -22.10099983215332]}, &quot;properties&quot;: {&quot;time&quot;: &quot;1997-10-14&quot;, &quot;style&quot;: {&quot;color&quot;: &quot;#490000ff&quot;, &quot;radius&quot;: 24.510687458690477}, &quot;icon&quot;: &quot;circle&quot;}}, {&quot;type&quot;: &quot;Feature&quot;, &quot;geometry&quot;: {&quot;type&quot;: &quot;Point&quot;, &quot;coordinates&quot;: [22.070999145507812, 36.378997802734375]}, &quot;properties&quot;: {&quot;time&quot;: &quot;1997-10-13&quot;, &quot;style&quot;: {&quot;color&quot;: &quot;#ff9e00ff&quot;, &quot;radius&quot;: 10.94814659563678}, &quot;icon&quot;: &quot;circle&quot;}}, {&quot;type&quot;: &quot;Feature&quot;, &quot;geometry&quot;: {&quot;type&quot;: &quot;Point&quot;, &quot;coordinates&quot;: [-337.9290008544922, 36.378997802734375]}, &quot;properties&quot;: {&quot;time&quot;: &quot;1997-10-13&quot;, &quot;style&quot;: {&quot;color&quot;: &quot;#ff9e00ff&quot;, &quot;radius&quot;: 10.94814659563678}, &quot;icon&quot;: &quot;circle&quot;}}, {&quot;type&quot;: &quot;Feature&quot;, &quot;geometry&quot;: {&quot;type&quot;: &quot;Point&quot;, &quot;coordinates&quot;: [158.7320098876953, -9.321000099182129]}, &quot;properties&quot;: {&quot;time&quot;: &quot;1997-10-10&quot;, &quot;style&quot;: {&quot;color&quot;: &quot;#ffff00ff&quot;, &quot;radius&quot;: 8.693254406760826}, &quot;icon&quot;: &quot;circle&quot;}}, {&quot;type&quot;: &quot;Feature&quot;, &quot;geometry&quot;: {&quot;type&quot;: &quot;Point&quot;, &quot;coordinates&quot;: [-201.2679901123047, -9.321000099182129]}, &quot;properties&quot;: {&quot;time&quot;: &quot;1997-10-10&quot;, &quot;style&quot;: {&quot;color&quot;: &quot;#ffff00ff&quot;, &quot;radius&quot;: 8.693254406760826}, &quot;icon&quot;: &quot;circle&quot;}}, {&quot;type&quot;: &quot;Feature&quot;, &quot;geometry&quot;: {&quot;type&quot;: &quot;Point&quot;, &quot;coordinates&quot;: [158.6909942626953, -9.302000045776367]}, &quot;properties&quot;: {&quot;time&quot;: &quot;1997-10-06&quot;, &quot;style&quot;: {&quot;color&quot;: &quot;#ffe700ff&quot;, &quot;radius&quot;: 9.20949217102613}, &quot;icon&quot;: &quot;circle&quot;}}, {&quot;type&quot;: &quot;Feature&quot;, &quot;geometry&quot;: {&quot;type&quot;: &quot;Point&quot;, &quot;coordinates&quot;: [-201.3090057373047, -9.302000045776367]}, &quot;properties&quot;: {&quot;time&quot;: &quot;1997-10-06&quot;, &quot;style&quot;: {&quot;color&quot;: &quot;#ffe700ff&quot;, &quot;radius&quot;: 9.20949217102613}, &quot;icon&quot;: &quot;circle&quot;}}, {&quot;type&quot;: &quot;Feature&quot;, &quot;geometry&quot;: {&quot;type&quot;: &quot;Point&quot;, &quot;coordinates&quot;: [125.77900695800781, 9.789999961853027]}, &quot;properties&quot;: {&quot;time&quot;: &quot;1997-10-06&quot;, &quot;style&quot;: {&quot;color&quot;: &quot;#ff8600ff&quot;, &quot;radius&quot;: 11.588635529250945}, &quot;icon&quot;: &quot;circle&quot;}}, {&quot;type&quot;: &quot;Feature&quot;, &quot;geometry&quot;: {&quot;type&quot;: &quot;Point&quot;, &quot;coordinates&quot;: [-234.2209930419922, 9.789999961853027]}, &quot;properties&quot;: {&quot;time&quot;: &quot;1997-10-06&quot;, &quot;style&quot;: {&quot;color&quot;: &quot;#ff8600ff&quot;, &quot;radius&quot;: 11.588635529250945}, &quot;icon&quot;: &quot;circle&quot;}}, {&quot;type&quot;: &quot;Feature&quot;, &quot;geometry&quot;: {&quot;type&quot;: &quot;Point&quot;, &quot;coordinates&quot;: [330.802001953125, -59.7390022277832]}, &quot;properties&quot;: {&quot;time&quot;: &quot;1997-10-05&quot;, &quot;style&quot;: {&quot;color&quot;: &quot;#ffb600ff&quot;, &quot;radius&quot;: 10.227494074841005}, &quot;icon&quot;: &quot;circle&quot;}}, {&quot;type&quot;: &quot;Feature&quot;, &quot;geometry&quot;: {&quot;type&quot;: &quot;Point&quot;, &quot;coordinates&quot;: [330.802001953125, -59.7390022277832]}, &quot;properties&quot;: {&quot;time&quot;: &quot;1997-10-05&quot;, &quot;style&quot;: {&quot;color&quot;: &quot;#ffb600ff&quot;, &quot;radius&quot;: 10.227494074841005}, &quot;icon&quot;: &quot;circle&quot;}}, {&quot;type&quot;: &quot;Feature&quot;, &quot;geometry&quot;: {&quot;type&quot;: &quot;Point&quot;, &quot;coordinates&quot;: [141.8780059814453, 31.958999633789062]}, &quot;properties&quot;: {&quot;time&quot;: &quot;1997-09-30&quot;, &quot;style&quot;: {&quot;color&quot;: &quot;#ffcf00ff&quot;, &quot;radius&quot;: 9.75789981807732}, &quot;icon&quot;: &quot;circle&quot;}}, {&quot;type&quot;: &quot;Feature&quot;, &quot;geometry&quot;: {&quot;type&quot;: &quot;Point&quot;, &quot;coordinates&quot;: [-218.1219940185547, 31.958999633789062]}, &quot;properties&quot;: {&quot;time&quot;: &quot;1997-09-30&quot;, &quot;style&quot;: {&quot;color&quot;: &quot;#ffcf00ff&quot;, &quot;radius&quot;: 9.75789981807732}, &quot;icon&quot;: &quot;circle&quot;}}, {&quot;type&quot;: &quot;Feature&quot;, &quot;geometry&quot;: {&quot;type&quot;: &quot;Point&quot;, &quot;coordinates&quot;: [128.99400329589844, -5.384999752044678]}, &quot;properties&quot;: {&quot;time&quot;: &quot;1997-09-26&quot;, &quot;style&quot;: {&quot;color&quot;: &quot;#ffff00ff&quot;, &quot;radius&quot;: 8.466380951103673}, &quot;icon&quot;: &quot;circle&quot;}}, {&quot;type&quot;: &quot;Feature&quot;, &quot;geometry&quot;: {&quot;type&quot;: &quot;Point&quot;, &quot;coordinates&quot;: [-231.00599670410156, -5.384999752044678]}, &quot;properties&quot;: {&quot;time&quot;: &quot;1997-09-26&quot;, &quot;style&quot;: {&quot;color&quot;: &quot;#ffff00ff&quot;, &quot;radius&quot;: 8.466380951103673}, &quot;icon&quot;: &quot;circle&quot;}}, {&quot;type&quot;: &quot;Feature&quot;, &quot;geometry&quot;: {&quot;type&quot;: &quot;Point&quot;, &quot;coordinates&quot;: [12.812000274658203, 43.08399963378906]}, &quot;properties&quot;: {&quot;time&quot;: &quot;1997-09-26&quot;, &quot;style&quot;: {&quot;color&quot;: &quot;#ffff00ff&quot;, &quot;radius&quot;: 8.696571203309698}, &quot;icon&quot;: &quot;circle&quot;}}, {&quot;type&quot;: &quot;Feature&quot;, &quot;geometry&quot;: {&quot;type&quot;: &quot;Point&quot;, &quot;coordinates&quot;: [-347.1879997253418, 43.08399963378906]}, &quot;properties&quot;: {&quot;time&quot;: &quot;1997-09-26&quot;, &quot;style&quot;: {&quot;color&quot;: &quot;#ffff00ff&quot;, &quot;radius&quot;: 8.696571203309698}, &quot;icon&quot;: &quot;circle&quot;}}, {&quot;type&quot;: &quot;Feature&quot;, &quot;geometry&quot;: {&quot;type&quot;: &quot;Point&quot;, &quot;coordinates&quot;: [66.24800109863281, -13.76099967956543]}, &quot;properties&quot;: {&quot;time&quot;: &quot;1997-09-25&quot;, &quot;style&quot;: {&quot;color&quot;: &quot;#ffff00ff&quot;, &quot;radius&quot;: 8.696571203309698}, &quot;icon&quot;: &quot;circle&quot;}}, {&quot;type&quot;: &quot;Feature&quot;, &quot;geometry&quot;: {&quot;type&quot;: &quot;Point&quot;, &quot;coordinates&quot;: [-293.7519989013672, -13.76099967956543]}, &quot;properties&quot;: {&quot;time&quot;: &quot;1997-09-25&quot;, &quot;style&quot;: {&quot;color&quot;: &quot;#ffff00ff&quot;, &quot;radius&quot;: 8.696571203309698}, &quot;icon&quot;: &quot;circle&quot;}}, {&quot;type&quot;: &quot;Feature&quot;, &quot;geometry&quot;: {&quot;type&quot;: &quot;Point&quot;, &quot;coordinates&quot;: [182.37599182128906, -28.682998657226562]}, &quot;properties&quot;: {&quot;time&quot;: &quot;1997-09-20&quot;, &quot;style&quot;: {&quot;color&quot;: &quot;#ff0c00ff&quot;, &quot;radius&quot;: 15.465359719602546}, &quot;icon&quot;: &quot;circle&quot;}}, {&quot;type&quot;: &quot;Feature&quot;, &quot;geometry&quot;: {&quot;type&quot;: &quot;Point&quot;, &quot;coordinates&quot;: [182.37599182128906, -28.682998657226562]}, &quot;properties&quot;: {&quot;time&quot;: &quot;1997-09-20&quot;, &quot;style&quot;: {&quot;color&quot;: &quot;#ff0c00ff&quot;, &quot;radius&quot;: 15.465359719602546}, &quot;icon&quot;: &quot;circle&quot;}}, {&quot;type&quot;: &quot;Feature&quot;, &quot;geometry&quot;: {&quot;type&quot;: &quot;Point&quot;, &quot;coordinates&quot;: [126.59700012207031, 2.1089999675750732]}, &quot;properties&quot;: {&quot;time&quot;: &quot;1997-09-17&quot;, &quot;style&quot;: {&quot;color&quot;: &quot;#ffff00ff&quot;, &quot;radius&quot;: 8.693254406760826}, &quot;icon&quot;: &quot;circle&quot;}}, {&quot;type&quot;: &quot;Feature&quot;, &quot;geometry&quot;: {&quot;type&quot;: &quot;Point&quot;, &quot;coordinates&quot;: [-233.4029998779297, 2.1089999675750732]}, &quot;properties&quot;: {&quot;time&quot;: &quot;1997-09-17&quot;, &quot;style&quot;: {&quot;color&quot;: &quot;#ffff00ff&quot;, &quot;radius&quot;: 8.693254406760826}, &quot;icon&quot;: &quot;circle&quot;}}, {&quot;type&quot;: &quot;Feature&quot;, &quot;geometry&quot;: {&quot;type&quot;: &quot;Point&quot;, &quot;coordinates&quot;: [126.64199829101562, 8.098000526428223]}, &quot;properties&quot;: {&quot;time&quot;: &quot;1997-09-15&quot;, &quot;style&quot;: {&quot;color&quot;: &quot;#ffcf00ff&quot;, &quot;radius&quot;: 9.75324000438457}, &quot;icon&quot;: &quot;circle&quot;}}, {&quot;type&quot;: &quot;Feature&quot;, &quot;geometry&quot;: {&quot;type&quot;: &quot;Point&quot;, &quot;coordinates&quot;: [-233.35800170898438, 8.098000526428223]}, &quot;properties&quot;: {&quot;time&quot;: &quot;1997-09-15&quot;, &quot;style&quot;: {&quot;color&quot;: &quot;#ffcf00ff&quot;, &quot;radius&quot;: 9.75324000438457}, &quot;icon&quot;: &quot;circle&quot;}}, {&quot;type&quot;: &quot;Feature&quot;, &quot;geometry&quot;: {&quot;type&quot;: &quot;Point&quot;, &quot;coordinates&quot;: [309.45416259765625, 11.371566772460938]}, &quot;properties&quot;: {&quot;time&quot;: &quot;1998-06-22&quot;, &quot;style&quot;: {&quot;color&quot;: &quot;#000aeaff&quot;, &quot;radius&quot;: 6.859412187471182}, &quot;icon&quot;: &quot;circle&quot;}}, {&quot;type&quot;: &quot;Feature&quot;, &quot;geometry&quot;: {&quot;type&quot;: &quot;Point&quot;, &quot;coordinates&quot;: [309.45416259765625, 11.371566772460938]}, &quot;properties&quot;: {&quot;time&quot;: &quot;1998-06-22&quot;, &quot;style&quot;: {&quot;color&quot;: &quot;#000aeaff&quot;, &quot;radius&quot;: 6.859412187471182}, &quot;icon&quot;: &quot;circle&quot;}}, {&quot;type&quot;: &quot;Feature&quot;, &quot;geometry&quot;: {&quot;type&quot;: &quot;Point&quot;, &quot;coordinates&quot;: [53.80657958984375, -20.812103271484375]}, &quot;properties&quot;: {&quot;time&quot;: &quot;1998-06-19&quot;, &quot;style&quot;: {&quot;color&quot;: &quot;#0013d8ff&quot;, &quot;radius&quot;: 6.557469882078002}, &quot;icon&quot;: &quot;circle&quot;}}, {&quot;type&quot;: &quot;Feature&quot;, &quot;geometry&quot;: {&quot;type&quot;: &quot;Point&quot;, &quot;coordinates&quot;: [-306.19342041015625, -20.812103271484375]}, &quot;properties&quot;: {&quot;time&quot;: &quot;1998-06-19&quot;, &quot;style&quot;: {&quot;color&quot;: &quot;#0013d8ff&quot;, &quot;radius&quot;: 6.557469882078002}, &quot;icon&quot;: &quot;circle&quot;}}, {&quot;type&quot;: &quot;Feature&quot;, &quot;geometry&quot;: {&quot;type&quot;: &quot;Point&quot;, &quot;coordinates&quot;: [348.132080078125, 64.94532775878906]}, &quot;properties&quot;: {&quot;time&quot;: &quot;1998-06-09&quot;, &quot;style&quot;: {&quot;color&quot;: &quot;#1800e7ff&quot;, &quot;radius&quot;: 8.191919573030054}, &quot;icon&quot;: &quot;circle&quot;}}, {&quot;type&quot;: &quot;Feature&quot;, &quot;geometry&quot;: {&quot;type&quot;: &quot;Point&quot;, &quot;coordinates&quot;: [348.132080078125, 64.94532775878906]}, &quot;properties&quot;: {&quot;time&quot;: &quot;1998-06-09&quot;, &quot;style&quot;: {&quot;color&quot;: &quot;#1800e7ff&quot;, &quot;radius&quot;: 8.191919573030054}, &quot;icon&quot;: &quot;circle&quot;}}, {&quot;type&quot;: &quot;Feature&quot;, &quot;geometry&quot;: {&quot;type&quot;: &quot;Point&quot;, &quot;coordinates&quot;: [311.23992919921875, 8.505783081054688]}, &quot;properties&quot;: {&quot;time&quot;: &quot;1998-06-03&quot;, &quot;style&quot;: {&quot;color&quot;: &quot;#003399ff&quot;, &quot;radius&quot;: 5.597812233370553}, &quot;icon&quot;: &quot;circle&quot;}}, {&quot;type&quot;: &quot;Feature&quot;, &quot;geometry&quot;: {&quot;type&quot;: &quot;Point&quot;, &quot;coordinates&quot;: [311.23992919921875, 8.505783081054688]}, &quot;properties&quot;: {&quot;time&quot;: &quot;1998-06-03&quot;, &quot;style&quot;: {&quot;color&quot;: &quot;#003399ff&quot;, &quot;radius&quot;: 5.597812233370553}, &quot;icon&quot;: &quot;circle&quot;}}, {&quot;type&quot;: &quot;Feature&quot;, &quot;geometry&quot;: {&quot;type&quot;: &quot;Point&quot;, &quot;coordinates&quot;: [352.75347900390625, -29.05255126953125]}, &quot;properties&quot;: {&quot;time&quot;: &quot;1998-06-01&quot;, &quot;style&quot;: {&quot;color&quot;: &quot;#003a8cff&quot;, &quot;radius&quot;: 5.424420347376486}, &quot;icon&quot;: &quot;circle&quot;}}, {&quot;type&quot;: &quot;Feature&quot;, &quot;geometry&quot;: {&quot;type&quot;: &quot;Point&quot;, &quot;coordinates&quot;: [352.75347900390625, -29.05255126953125]}, &quot;properties&quot;: {&quot;time&quot;: &quot;1998-06-01&quot;, &quot;style&quot;: {&quot;color&quot;: &quot;#003a8cff&quot;, &quot;radius&quot;: 5.424420347376486}, &quot;icon&quot;: &quot;circle&quot;}}, {&quot;type&quot;: &quot;Feature&quot;, &quot;geometry&quot;: {&quot;type&quot;: &quot;Point&quot;, &quot;coordinates&quot;: [233.49107360839844, 62.75225067138672]}, &quot;properties&quot;: {&quot;time&quot;: &quot;1998-06-01&quot;, &quot;style&quot;: {&quot;color&quot;: &quot;#0006f3ff&quot;, &quot;radius&quot;: 7.00293003448073}, &quot;icon&quot;: &quot;circle&quot;}}, {&quot;type&quot;: &quot;Feature&quot;, &quot;geometry&quot;: {&quot;type&quot;: &quot;Point&quot;, &quot;coordinates&quot;: [233.49107360839844, 62.75225067138672]}, &quot;properties&quot;: {&quot;time&quot;: &quot;1998-06-01&quot;, &quot;style&quot;: {&quot;color&quot;: &quot;#0006f3ff&quot;, &quot;radius&quot;: 7.00293003448073}, &quot;icon&quot;: &quot;circle&quot;}}, {&quot;type&quot;: &quot;Feature&quot;, &quot;geometry&quot;: {&quot;type&quot;: &quot;Point&quot;, &quot;coordinates&quot;: [39.299896240234375, -78.15615844726562]}, &quot;properties&quot;: {&quot;time&quot;: &quot;1998-05-30&quot;, &quot;style&quot;: {&quot;color&quot;: &quot;#0026b2ff&quot;, &quot;radius&quot;: 5.9712087616120755}, &quot;icon&quot;: &quot;circle&quot;}}, {&quot;type&quot;: &quot;Feature&quot;, &quot;geometry&quot;: {&quot;type&quot;: &quot;Point&quot;, &quot;coordinates&quot;: [-320.7001037597656, -78.15615844726562]}, &quot;properties&quot;: {&quot;time&quot;: &quot;1998-05-30&quot;, &quot;style&quot;: {&quot;color&quot;: &quot;#0026b2ff&quot;, &quot;radius&quot;: 5.9712087616120755}, &quot;icon&quot;: &quot;circle&quot;}}, {&quot;type&quot;: &quot;Feature&quot;, &quot;geometry&quot;: {&quot;type&quot;: &quot;Point&quot;, &quot;coordinates&quot;: [247.41690063476562, -48.93583679199219]}, &quot;properties&quot;: {&quot;time&quot;: &quot;1998-05-30&quot;, &quot;style&quot;: {&quot;color&quot;: &quot;#0002faff&quot;, &quot;radius&quot;: 7.143781990371152}, &quot;icon&quot;: &quot;circle&quot;}}, {&quot;type&quot;: &quot;Feature&quot;, &quot;geometry&quot;: {&quot;type&quot;: &quot;Point&quot;, &quot;coordinates&quot;: [247.41690063476562, -48.93583679199219]}, &quot;properties&quot;: {&quot;time&quot;: &quot;1998-05-30&quot;, &quot;style&quot;: {&quot;color&quot;: &quot;#0002faff&quot;, &quot;radius&quot;: 7.143781990371152}, &quot;icon&quot;: &quot;circle&quot;}}, {&quot;type&quot;: &quot;Feature&quot;, &quot;geometry&quot;: {&quot;type&quot;: &quot;Point&quot;, &quot;coordinates&quot;: [296.4618835449219, 67.17840576171875]}, &quot;properties&quot;: {&quot;time&quot;: &quot;1998-05-27&quot;, &quot;style&quot;: {&quot;color&quot;: &quot;#0b00f4ff&quot;, &quot;radius&quot;: 7.651362004946937}, &quot;icon&quot;: &quot;circle&quot;}}, {&quot;type&quot;: &quot;Feature&quot;, &quot;geometry&quot;: {&quot;type&quot;: &quot;Point&quot;, &quot;coordinates&quot;: [296.4618835449219, 67.17840576171875]}, &quot;properties&quot;: {&quot;time&quot;: &quot;1998-05-27&quot;, &quot;style&quot;: {&quot;color&quot;: &quot;#0b00f4ff&quot;, &quot;radius&quot;: 7.651362004946937}, &quot;icon&quot;: &quot;circle&quot;}}, {&quot;type&quot;: &quot;Feature&quot;, &quot;geometry&quot;: {&quot;type&quot;: &quot;Point&quot;, &quot;coordinates&quot;: [45.015625, -25.844161987304688]}, &quot;properties&quot;: {&quot;time&quot;: &quot;1998-05-26&quot;, &quot;style&quot;: {&quot;color&quot;: &quot;#0009ecff&quot;, &quot;radius&quot;: 6.898967801269703}, &quot;icon&quot;: &quot;circle&quot;}}, {&quot;type&quot;: &quot;Feature&quot;, &quot;geometry&quot;: {&quot;type&quot;: &quot;Point&quot;, &quot;coordinates&quot;: [-314.984375, -25.844161987304688]}, &quot;properties&quot;: {&quot;time&quot;: &quot;1998-05-26&quot;, &quot;style&quot;: {&quot;color&quot;: &quot;#0009ecff&quot;, &quot;radius&quot;: 6.898967801269703}, &quot;icon&quot;: &quot;circle&quot;}}, {&quot;type&quot;: &quot;Feature&quot;, &quot;geometry&quot;: {&quot;type&quot;: &quot;Point&quot;, &quot;coordinates&quot;: [317.3536071777344, 34.14787292480469]}, &quot;properties&quot;: {&quot;time&quot;: &quot;1998-05-24&quot;, &quot;style&quot;: {&quot;color&quot;: &quot;#3100ceff&quot;, &quot;radius&quot;: 9.263374281730806}, &quot;icon&quot;: &quot;circle&quot;}}, {&quot;type&quot;: &quot;Feature&quot;, &quot;geometry&quot;: {&quot;type&quot;: &quot;Point&quot;, &quot;coordinates&quot;: [317.3536071777344, 34.14787292480469]}, &quot;properties&quot;: {&quot;time&quot;: &quot;1998-05-24&quot;, &quot;style&quot;: {&quot;color&quot;: &quot;#3100ceff&quot;, &quot;radius&quot;: 9.263374281730806}, &quot;icon&quot;: &quot;circle&quot;}}, {&quot;type&quot;: &quot;Feature&quot;, &quot;geometry&quot;: {&quot;type&quot;: &quot;Point&quot;, &quot;coordinates&quot;: [317.9203186035156, -1.8785400390625]}, &quot;properties&quot;: {&quot;time&quot;: &quot;1998-05-25&quot;, &quot;style&quot;: {&quot;color&quot;: &quot;#0600f9ff&quot;, &quot;radius&quot;: 7.477393075460409}, &quot;icon&quot;: &quot;circle&quot;}}, {&quot;type&quot;: &quot;Feature&quot;, &quot;geometry&quot;: {&quot;type&quot;: &quot;Point&quot;, &quot;coordinates&quot;: [317.9203186035156, -1.8785400390625]}, &quot;properties&quot;: {&quot;time&quot;: &quot;1998-05-25&quot;, &quot;style&quot;: {&quot;color&quot;: &quot;#0600f9ff&quot;, &quot;radius&quot;: 7.477393075460409}, &quot;icon&quot;: &quot;circle&quot;}}, {&quot;type&quot;: &quot;Feature&quot;, &quot;geometry&quot;: {&quot;type&quot;: &quot;Point&quot;, &quot;coordinates&quot;: [346.5840759277344, 47.19706726074219]}, &quot;properties&quot;: {&quot;time&quot;: &quot;1998-05-20&quot;, &quot;style&quot;: {&quot;color&quot;: &quot;#0c00f3ff&quot;, &quot;radius&quot;: 7.701215254986325}, &quot;icon&quot;: &quot;circle&quot;}}, {&quot;type&quot;: &quot;Feature&quot;, &quot;geometry&quot;: {&quot;type&quot;: &quot;Point&quot;, &quot;coordinates&quot;: [346.5840759277344, 47.19706726074219]}, &quot;properties&quot;: {&quot;time&quot;: &quot;1998-05-20&quot;, &quot;style&quot;: {&quot;color&quot;: &quot;#0c00f3ff&quot;, &quot;radius&quot;: 7.701215254986325}, &quot;icon&quot;: &quot;circle&quot;}}, {&quot;type&quot;: &quot;Feature&quot;, &quot;geometry&quot;: {&quot;type&quot;: &quot;Point&quot;, &quot;coordinates&quot;: [208.20855712890625, -14.004928588867188]}, &quot;properties&quot;: {&quot;time&quot;: &quot;1998-05-18&quot;, &quot;style&quot;: {&quot;color&quot;: &quot;#0021bdff&quot;, &quot;radius&quot;: 6.093196512261763}, &quot;icon&quot;: &quot;circle&quot;}}, {&quot;type&quot;: &quot;Feature&quot;, &quot;geometry&quot;: {&quot;type&quot;: &quot;Point&quot;, &quot;coordinates&quot;: [208.20855712890625, -14.004928588867188]}, &quot;properties&quot;: {&quot;time&quot;: &quot;1998-05-18&quot;, &quot;style&quot;: {&quot;color&quot;: &quot;#0021bdff&quot;, &quot;radius&quot;: 6.093196512261763}, &quot;icon&quot;: &quot;circle&quot;}}, {&quot;type&quot;: &quot;Feature&quot;, &quot;geometry&quot;: {&quot;type&quot;: &quot;Point&quot;, &quot;coordinates&quot;: [15.2291259765625, 86.44804382324219]}, &quot;properties&quot;: {&quot;time&quot;: &quot;1998-05-17&quot;, &quot;style&quot;: {&quot;color&quot;: &quot;#00692cff&quot;, &quot;radius&quot;: 4.272630524544174}, &quot;icon&quot;: &quot;circle&quot;}}, {&quot;type&quot;: &quot;Feature&quot;, &quot;geometry&quot;: {&quot;type&quot;: &quot;Point&quot;, &quot;coordinates&quot;: [-344.7708740234375, 86.44804382324219]}, &quot;properties&quot;: {&quot;time&quot;: &quot;1998-05-17&quot;, &quot;style&quot;: {&quot;color&quot;: &quot;#00692cff&quot;, &quot;radius&quot;: 4.272630524544174}, &quot;icon&quot;: &quot;circle&quot;}}, {&quot;type&quot;: &quot;Feature&quot;, &quot;geometry&quot;: {&quot;type&quot;: &quot;Point&quot;, &quot;coordinates&quot;: [11.7845458984375, 67.32141876220703]}, &quot;properties&quot;: {&quot;time&quot;: &quot;1998-05-16&quot;, &quot;style&quot;: {&quot;color&quot;: &quot;#4300bdff&quot;, &quot;radius&quot;: 10.088677183090784}, &quot;icon&quot;: &quot;circle&quot;}}, {&quot;type&quot;: &quot;Feature&quot;, &quot;geometry&quot;: {&quot;type&quot;: &quot;Point&quot;, &quot;coordinates&quot;: [-348.2154541015625, 67.32141876220703]}, &quot;properties&quot;: {&quot;time&quot;: &quot;1998-05-16&quot;, &quot;style&quot;: {&quot;color&quot;: &quot;#4300bdff&quot;, &quot;radius&quot;: 10.088677183090784}, &quot;icon&quot;: &quot;circle&quot;}}, {&quot;type&quot;: &quot;Feature&quot;, &quot;geometry&quot;: {&quot;type&quot;: &quot;Point&quot;, &quot;coordinates&quot;: [155.623291015625, 48.564208984375]}, &quot;properties&quot;: {&quot;time&quot;: &quot;1998-05-13&quot;, &quot;style&quot;: {&quot;color&quot;: &quot;#0000ffff&quot;, &quot;radius&quot;: 7.198422873678449}, &quot;icon&quot;: &quot;circle&quot;}}, {&quot;type&quot;: &quot;Feature&quot;, &quot;geometry&quot;: {&quot;type&quot;: &quot;Point&quot;, &quot;coordinates&quot;: [-204.376708984375, 48.564208984375]}, &quot;properties&quot;: {&quot;time&quot;: &quot;1998-05-13&quot;, &quot;style&quot;: {&quot;color&quot;: &quot;#0000ffff&quot;, &quot;radius&quot;: 7.198422873678449}, &quot;icon&quot;: &quot;circle&quot;}}, {&quot;type&quot;: &quot;Feature&quot;, &quot;geometry&quot;: {&quot;type&quot;: &quot;Point&quot;, &quot;coordinates&quot;: [104.2059326171875, 59.93757629394531]}, &quot;properties&quot;: {&quot;time&quot;: &quot;1998-05-06&quot;, &quot;style&quot;: {&quot;color&quot;: &quot;#003a8aff&quot;, &quot;radius&quot;: 5.382481476429471}, &quot;icon&quot;: &quot;circle&quot;}}, {&quot;type&quot;: &quot;Feature&quot;, &quot;geometry&quot;: {&quot;type&quot;: &quot;Point&quot;, &quot;coordinates&quot;: [-255.7940673828125, 59.93757629394531]}, &quot;properties&quot;: {&quot;time&quot;: &quot;1998-05-06&quot;, &quot;style&quot;: {&quot;color&quot;: &quot;#003a8aff&quot;, &quot;radius&quot;: 5.382481476429471}, &quot;icon&quot;: &quot;circle&quot;}}, {&quot;type&quot;: &quot;Feature&quot;, &quot;geometry&quot;: {&quot;type&quot;: &quot;Point&quot;, &quot;coordinates&quot;: [328.640625, 20.533966064453125]}, &quot;properties&quot;: {&quot;time&quot;: &quot;1998-04-30&quot;, &quot;style&quot;: {&quot;color&quot;: &quot;#00417dff&quot;, &quot;radius&quot;: 4.9915546413221}, &quot;icon&quot;: &quot;circle&quot;}}, {&quot;type&quot;: &quot;Feature&quot;, &quot;geometry&quot;: {&quot;type&quot;: &quot;Point&quot;, &quot;coordinates&quot;: [328.640625, 20.533966064453125]}, &quot;properties&quot;: {&quot;time&quot;: &quot;1998-04-30&quot;, &quot;style&quot;: {&quot;color&quot;: &quot;#00417dff&quot;, &quot;radius&quot;: 4.9915546413221}, &quot;icon&quot;: &quot;circle&quot;}}, {&quot;type&quot;: &quot;Feature&quot;, &quot;geometry&quot;: {&quot;type&quot;: &quot;Point&quot;, &quot;coordinates&quot;: [342.64263916015625, -16.816848754882812]}, &quot;properties&quot;: {&quot;time&quot;: &quot;1998-04-27&quot;, &quot;style&quot;: {&quot;color&quot;: &quot;#00505fff&quot;, &quot;radius&quot;: 4.81327009341588}, &quot;icon&quot;: &quot;circle&quot;}}, {&quot;type&quot;: &quot;Feature&quot;, &quot;geometry&quot;: {&quot;type&quot;: &quot;Point&quot;, &quot;coordinates&quot;: [342.64263916015625, -16.816848754882812]}, &quot;properties&quot;: {&quot;time&quot;: &quot;1998-04-27&quot;, &quot;style&quot;: {&quot;color&quot;: &quot;#00505fff&quot;, &quot;radius&quot;: 4.81327009341588}, &quot;icon&quot;: &quot;circle&quot;}}, {&quot;type&quot;: &quot;Feature&quot;, &quot;geometry&quot;: {&quot;type&quot;: &quot;Point&quot;, &quot;coordinates&quot;: [351.6158447265625, 70.42639923095703]}, &quot;properties&quot;: {&quot;time&quot;: &quot;1998-04-22&quot;, &quot;style&quot;: {&quot;color&quot;: &quot;#004c67ff&quot;, &quot;radius&quot;: 4.9090416367039795}, &quot;icon&quot;: &quot;circle&quot;}}, {&quot;type&quot;: &quot;Feature&quot;, &quot;geometry&quot;: {&quot;type&quot;: &quot;Point&quot;, &quot;coordinates&quot;: [351.6158447265625, 70.42639923095703]}, &quot;properties&quot;: {&quot;time&quot;: &quot;1998-04-22&quot;, &quot;style&quot;: {&quot;color&quot;: &quot;#004c67ff&quot;, &quot;radius&quot;: 4.9090416367039795}, &quot;icon&quot;: &quot;circle&quot;}}, {&quot;type&quot;: &quot;Feature&quot;, &quot;geometry&quot;: {&quot;type&quot;: &quot;Point&quot;, &quot;coordinates&quot;: [43.538055419921875, 87.14122772216797]}, &quot;properties&quot;: {&quot;time&quot;: &quot;1998-04-17&quot;, &quot;style&quot;: {&quot;color&quot;: &quot;#0004f7ff&quot;, &quot;radius&quot;: 7.093077526520067}, &quot;icon&quot;: &quot;circle&quot;}}, {&quot;type&quot;: &quot;Feature&quot;, &quot;geometry&quot;: {&quot;type&quot;: &quot;Point&quot;, &quot;coordinates&quot;: [-316.4619445800781, 87.14122772216797]}, &quot;properties&quot;: {&quot;time&quot;: &quot;1998-04-17&quot;, &quot;style&quot;: {&quot;color&quot;: &quot;#0004f7ff&quot;, &quot;radius&quot;: 7.093077526520067}, &quot;icon&quot;: &quot;circle&quot;}}, {&quot;type&quot;: &quot;Feature&quot;, &quot;geometry&quot;: {&quot;type&quot;: &quot;Point&quot;, &quot;coordinates&quot;: [315.5899658203125, 51.63450622558594]}, &quot;properties&quot;: {&quot;time&quot;: &quot;1998-04-16&quot;, &quot;style&quot;: {&quot;color&quot;: &quot;#7a0086ff&quot;, &quot;radius&quot;: 13.328947781492792}, &quot;icon&quot;: &quot;circle&quot;}}, {&quot;type&quot;: &quot;Feature&quot;, &quot;geometry&quot;: {&quot;type&quot;: &quot;Point&quot;, &quot;coordinates&quot;: [315.5899658203125, 51.63450622558594]}, &quot;properties&quot;: {&quot;time&quot;: &quot;1998-04-16&quot;, &quot;style&quot;: {&quot;color&quot;: &quot;#7a0086ff&quot;, &quot;radius&quot;: 13.328947781492792}, &quot;icon&quot;: &quot;circle&quot;}}, {&quot;type&quot;: &quot;Feature&quot;, &quot;geometry&quot;: {&quot;type&quot;: &quot;Point&quot;, &quot;coordinates&quot;: [275.2679138183594, 38.93304443359375]}, &quot;properties&quot;: {&quot;time&quot;: &quot;1998-04-14&quot;, &quot;style&quot;: {&quot;color&quot;: &quot;#3600c9ff&quot;, &quot;radius&quot;: 9.502746594397054}, &quot;icon&quot;: &quot;circle&quot;}}, {&quot;type&quot;: &quot;Feature&quot;, &quot;geometry&quot;: {&quot;type&quot;: &quot;Point&quot;, &quot;coordinates&quot;: [275.2679138183594, 38.93304443359375]}, &quot;properties&quot;: {&quot;time&quot;: &quot;1998-04-14&quot;, &quot;style&quot;: {&quot;color&quot;: &quot;#3600c9ff&quot;, &quot;radius&quot;: 9.502746594397054}, &quot;icon&quot;: &quot;circle&quot;}}, {&quot;type&quot;: &quot;Feature&quot;, &quot;geometry&quot;: {&quot;type&quot;: &quot;Point&quot;, &quot;coordinates&quot;: [339.4418029785156, -12.375762939453125]}, &quot;properties&quot;: {&quot;time&quot;: &quot;1998-04-07&quot;, &quot;style&quot;: {&quot;color&quot;: &quot;#800080ff&quot;, &quot;radius&quot;: 13.724350781068082}, &quot;icon&quot;: &quot;circle&quot;}}, {&quot;type&quot;: &quot;Feature&quot;, &quot;geometry&quot;: {&quot;type&quot;: &quot;Point&quot;, &quot;coordinates&quot;: [339.4418029785156, -12.375762939453125]}, &quot;properties&quot;: {&quot;time&quot;: &quot;1998-04-07&quot;, &quot;style&quot;: {&quot;color&quot;: &quot;#800080ff&quot;, &quot;radius&quot;: 13.724350781068082}, &quot;icon&quot;: &quot;circle&quot;}}, {&quot;type&quot;: &quot;Feature&quot;, &quot;geometry&quot;: {&quot;type&quot;: &quot;Point&quot;, &quot;coordinates&quot;: [92.1102294921875, 14.17974853515625]}, &quot;properties&quot;: {&quot;time&quot;: &quot;1998-04-04&quot;, &quot;style&quot;: {&quot;color&quot;: &quot;#1000efff&quot;, &quot;radius&quot;: 7.86635937960338}, &quot;icon&quot;: &quot;circle&quot;}}, {&quot;type&quot;: &quot;Feature&quot;, &quot;geometry&quot;: {&quot;type&quot;: &quot;Point&quot;, &quot;coordinates&quot;: [-267.8897705078125, 14.17974853515625]}, &quot;properties&quot;: {&quot;time&quot;: &quot;1998-04-04&quot;, &quot;style&quot;: {&quot;color&quot;: &quot;#1000efff&quot;, &quot;radius&quot;: 7.86635937960338}, &quot;icon&quot;: &quot;circle&quot;}}, {&quot;type&quot;: &quot;Feature&quot;, &quot;geometry&quot;: {&quot;type&quot;: &quot;Point&quot;, &quot;coordinates&quot;: [298.1509704589844, 4.4725494384765625]}, &quot;properties&quot;: {&quot;time&quot;: &quot;1998-04-04&quot;, &quot;style&quot;: {&quot;color&quot;: &quot;#000de6ff&quot;, &quot;radius&quot;: 6.786158386980447}, &quot;icon&quot;: &quot;circle&quot;}}, {&quot;type&quot;: &quot;Feature&quot;, &quot;geometry&quot;: {&quot;type&quot;: &quot;Point&quot;, &quot;coordinates&quot;: [298.1509704589844, 4.4725494384765625]}, &quot;properties&quot;: {&quot;time&quot;: &quot;1998-04-04&quot;, &quot;style&quot;: {&quot;color&quot;: &quot;#000de6ff&quot;, &quot;radius&quot;: 6.786158386980447}, &quot;icon&quot;: &quot;circle&quot;}}, {&quot;type&quot;: &quot;Feature&quot;, &quot;geometry&quot;: {&quot;type&quot;: &quot;Point&quot;, &quot;coordinates&quot;: [94.70977783203125, 52.391021728515625]}, &quot;properties&quot;: {&quot;time&quot;: &quot;1998-04-02&quot;, &quot;style&quot;: {&quot;color&quot;: &quot;#1f00e0ff&quot;, &quot;radius&quot;: 8.47513165512098}, &quot;icon&quot;: &quot;circle&quot;}}, {&quot;type&quot;: &quot;Feature&quot;, &quot;geometry&quot;: {&quot;type&quot;: &quot;Point&quot;, &quot;coordinates&quot;: [-265.29022216796875, 52.391021728515625]}, &quot;properties&quot;: {&quot;time&quot;: &quot;1998-04-02&quot;, &quot;style&quot;: {&quot;color&quot;: &quot;#1f00e0ff&quot;, &quot;radius&quot;: 8.47513165512098}, &quot;icon&quot;: &quot;circle&quot;}}, {&quot;type&quot;: &quot;Feature&quot;, &quot;geometry&quot;: {&quot;type&quot;: &quot;Point&quot;, &quot;coordinates&quot;: [23.579742431640625, -22.464447021484375]}, &quot;properties&quot;: {&quot;time&quot;: &quot;1998-04-02&quot;, &quot;style&quot;: {&quot;color&quot;: &quot;#0009edff&quot;, &quot;radius&quot;: 6.907603112110554}, &quot;icon&quot;: &quot;circle&quot;}}, {&quot;type&quot;: &quot;Feature&quot;, &quot;geometry&quot;: {&quot;type&quot;: &quot;Point&quot;, &quot;coordinates&quot;: [-336.4202575683594, -22.464447021484375]}, &quot;properties&quot;: {&quot;time&quot;: &quot;1998-04-02&quot;, &quot;style&quot;: {&quot;color&quot;: &quot;#0009edff&quot;, &quot;radius&quot;: 6.907603112110554}, &quot;icon&quot;: &quot;circle&quot;}}, {&quot;type&quot;: &quot;Feature&quot;, &quot;geometry&quot;: {&quot;type&quot;: &quot;Point&quot;, &quot;coordinates&quot;: [323.3190612792969, -4.9008941650390625]}, &quot;properties&quot;: {&quot;time&quot;: &quot;1998-03-29&quot;, &quot;style&quot;: {&quot;color&quot;: &quot;#0015d4ff&quot;, &quot;radius&quot;: 6.490917251319101}, &quot;icon&quot;: &quot;circle&quot;}}, {&quot;type&quot;: &quot;Feature&quot;, &quot;geometry&quot;: {&quot;type&quot;: &quot;Point&quot;, &quot;coordinates&quot;: [323.3190612792969, -4.9008941650390625]}, &quot;properties&quot;: {&quot;time&quot;: &quot;1998-03-29&quot;, &quot;style&quot;: {&quot;color&quot;: &quot;#0015d4ff&quot;, &quot;radius&quot;: 6.490917251319101}, &quot;icon&quot;: &quot;circle&quot;}}, {&quot;type&quot;: &quot;Feature&quot;, &quot;geometry&quot;: {&quot;type&quot;: &quot;Point&quot;, &quot;coordinates&quot;: [3.408843994140625, 12.848495483398438]}, &quot;properties&quot;: {&quot;time&quot;: &quot;1998-03-27&quot;, &quot;style&quot;: {&quot;color&quot;: &quot;#1800e7ff&quot;, &quot;radius&quot;: 8.172669658458318}, &quot;icon&quot;: &quot;circle&quot;}}, {&quot;type&quot;: &quot;Feature&quot;, &quot;geometry&quot;: {&quot;type&quot;: &quot;Point&quot;, &quot;coordinates&quot;: [-356.5911560058594, 12.848495483398438]}, &quot;properties&quot;: {&quot;time&quot;: &quot;1998-03-27&quot;, &quot;style&quot;: {&quot;color&quot;: &quot;#1800e7ff&quot;, &quot;radius&quot;: 8.172669658458318}, &quot;icon&quot;: &quot;circle&quot;}}, {&quot;type&quot;: &quot;Feature&quot;, &quot;geometry&quot;: {&quot;type&quot;: &quot;Point&quot;, &quot;coordinates&quot;: [20.795928955078125, 34.918304443359375]}, &quot;properties&quot;: {&quot;time&quot;: &quot;1998-03-25&quot;, &quot;style&quot;: {&quot;color&quot;: &quot;#5600aaff&quot;, &quot;radius&quot;: 11.120975282896639}, &quot;icon&quot;: &quot;circle&quot;}}, {&quot;type&quot;: &quot;Feature&quot;, &quot;geometry&quot;: {&quot;type&quot;: &quot;Point&quot;, &quot;coordinates&quot;: [-339.2040710449219, 34.918304443359375]}, &quot;properties&quot;: {&quot;time&quot;: &quot;1998-03-25&quot;, &quot;style&quot;: {&quot;color&quot;: &quot;#5600aaff&quot;, &quot;radius&quot;: 11.120975282896639}, &quot;icon&quot;: &quot;circle&quot;}}, {&quot;type&quot;: &quot;Feature&quot;, &quot;geometry&quot;: {&quot;type&quot;: &quot;Point&quot;, &quot;coordinates&quot;: [94.66156005859375, 10.959075927734375]}, &quot;properties&quot;: {&quot;time&quot;: &quot;1998-03-24&quot;, &quot;style&quot;: {&quot;color&quot;: &quot;#0005f5ff&quot;, &quot;radius&quot;: 7.054336973341218}, &quot;icon&quot;: &quot;circle&quot;}}, {&quot;type&quot;: &quot;Feature&quot;, &quot;geometry&quot;: {&quot;type&quot;: &quot;Point&quot;, &quot;coordinates&quot;: [-265.33843994140625, 10.959075927734375]}, &quot;properties&quot;: {&quot;time&quot;: &quot;1998-03-24&quot;, &quot;style&quot;: {&quot;color&quot;: &quot;#0005f5ff&quot;, &quot;radius&quot;: 7.054336973341218}, &quot;icon&quot;: &quot;circle&quot;}}, {&quot;type&quot;: &quot;Feature&quot;, &quot;geometry&quot;: {&quot;type&quot;: &quot;Point&quot;, &quot;coordinates&quot;: [273.677734375, 36.64628601074219]}, &quot;properties&quot;: {&quot;time&quot;: &quot;1998-03-24&quot;, &quot;style&quot;: {&quot;color&quot;: &quot;#001fc1ff&quot;, &quot;radius&quot;: 6.195540878802685}, &quot;icon&quot;: &quot;circle&quot;}}, {&quot;type&quot;: &quot;Feature&quot;, &quot;geometry&quot;: {&quot;type&quot;: &quot;Point&quot;, &quot;coordinates&quot;: [273.677734375, 36.64628601074219]}, &quot;properties&quot;: {&quot;time&quot;: &quot;1998-03-24&quot;, &quot;style&quot;: {&quot;color&quot;: &quot;#001fc1ff&quot;, &quot;radius&quot;: 6.195540878802685}, &quot;icon&quot;: &quot;circle&quot;}}, {&quot;type&quot;: &quot;Feature&quot;, &quot;geometry&quot;: {&quot;type&quot;: &quot;Point&quot;, &quot;coordinates&quot;: [263.7618103027344, 5.2028656005859375]}, &quot;properties&quot;: {&quot;time&quot;: &quot;1998-03-18&quot;, &quot;style&quot;: {&quot;color&quot;: &quot;#0006f2ff&quot;, &quot;radius&quot;: 7.007314527066534}, &quot;icon&quot;: &quot;circle&quot;}}, {&quot;type&quot;: &quot;Feature&quot;, &quot;geometry&quot;: {&quot;type&quot;: &quot;Point&quot;, &quot;coordinates&quot;: [263.7618103027344, 5.2028656005859375]}, &quot;properties&quot;: {&quot;time&quot;: &quot;1998-03-18&quot;, &quot;style&quot;: {&quot;color&quot;: &quot;#0006f2ff&quot;, &quot;radius&quot;: 7.007314527066534}, &quot;icon&quot;: &quot;circle&quot;}}, {&quot;type&quot;: &quot;Feature&quot;, &quot;geometry&quot;: {&quot;type&quot;: &quot;Point&quot;, &quot;coordinates&quot;: [264.32965087890625, 77.95618438720703]}, &quot;properties&quot;: {&quot;time&quot;: &quot;1998-03-06&quot;, &quot;style&quot;: {&quot;color&quot;: &quot;#1e00e2ff&quot;, &quot;radius&quot;: 8.408788668095896}, &quot;icon&quot;: &quot;circle&quot;}}, {&quot;type&quot;: &quot;Feature&quot;, &quot;geometry&quot;: {&quot;type&quot;: &quot;Point&quot;, &quot;coordinates&quot;: [264.32965087890625, 77.95618438720703]}, &quot;properties&quot;: {&quot;time&quot;: &quot;1998-03-06&quot;, &quot;style&quot;: {&quot;color&quot;: &quot;#1e00e2ff&quot;, &quot;radius&quot;: 8.408788668095896}, &quot;icon&quot;: &quot;circle&quot;}}, {&quot;type&quot;: &quot;Feature&quot;, &quot;geometry&quot;: {&quot;type&quot;: &quot;Point&quot;, &quot;coordinates&quot;: [307.49310302734375, 61.112815856933594]}, &quot;properties&quot;: {&quot;time&quot;: &quot;1998-02-25&quot;, &quot;style&quot;: {&quot;color&quot;: &quot;#0019cdff&quot;, &quot;radius&quot;: 6.37832889089069}, &quot;icon&quot;: &quot;circle&quot;}}, {&quot;type&quot;: &quot;Feature&quot;, &quot;geometry&quot;: {&quot;type&quot;: &quot;Point&quot;, &quot;coordinates&quot;: [307.49310302734375, 61.112815856933594]}, &quot;properties&quot;: {&quot;time&quot;: &quot;1998-02-25&quot;, &quot;style&quot;: {&quot;color&quot;: &quot;#0019cdff&quot;, &quot;radius&quot;: 6.37832889089069}, &quot;icon&quot;: &quot;circle&quot;}}, {&quot;type&quot;: &quot;Feature&quot;, &quot;geometry&quot;: {&quot;type&quot;: &quot;Point&quot;, &quot;coordinates&quot;: [262.5944519042969, 66.16625213623047]}, &quot;properties&quot;: {&quot;time&quot;: &quot;1998-02-22&quot;, &quot;style&quot;: {&quot;color&quot;: &quot;#5100aeff&quot;, &quot;radius&quot;: 10.759848316306849}, &quot;icon&quot;: &quot;circle&quot;}}, {&quot;type&quot;: &quot;Feature&quot;, &quot;geometry&quot;: {&quot;type&quot;: &quot;Point&quot;, &quot;coordinates&quot;: [262.5944519042969, 66.16625213623047]}, &quot;properties&quot;: {&quot;time&quot;: &quot;1998-02-22&quot;, &quot;style&quot;: {&quot;color&quot;: &quot;#5100aeff&quot;, &quot;radius&quot;: 10.759848316306849}, &quot;icon&quot;: &quot;circle&quot;}}, {&quot;type&quot;: &quot;Feature&quot;, &quot;geometry&quot;: {&quot;type&quot;: &quot;Point&quot;, &quot;coordinates&quot;: [22.776153564453125, 65.38328552246094]}, &quot;properties&quot;: {&quot;time&quot;: &quot;1998-02-18&quot;, &quot;style&quot;: {&quot;color&quot;: &quot;#0005f5ff&quot;, &quot;radius&quot;: 6.797082543568349}, &quot;icon&quot;: &quot;circle&quot;}}, {&quot;type&quot;: &quot;Feature&quot;, &quot;geometry&quot;: {&quot;type&quot;: &quot;Point&quot;, &quot;coordinates&quot;: [-337.2238464355469, 65.38328552246094]}, &quot;properties&quot;: {&quot;time&quot;: &quot;1998-02-18&quot;, &quot;style&quot;: {&quot;color&quot;: &quot;#0005f5ff&quot;, &quot;radius&quot;: 6.797082543568349}, &quot;icon&quot;: &quot;circle&quot;}}, {&quot;type&quot;: &quot;Feature&quot;, &quot;geometry&quot;: {&quot;type&quot;: &quot;Point&quot;, &quot;coordinates&quot;: [32.36639404296875, 44.99989318847656]}, &quot;properties&quot;: {&quot;time&quot;: &quot;1998-02-10&quot;, &quot;style&quot;: {&quot;color&quot;: &quot;#004673ff&quot;, &quot;radius&quot;: 5.043718343206957}, &quot;icon&quot;: &quot;circle&quot;}}, {&quot;type&quot;: &quot;Feature&quot;, &quot;geometry&quot;: {&quot;type&quot;: &quot;Point&quot;, &quot;coordinates&quot;: [-327.63360595703125, 44.99989318847656]}, &quot;properties&quot;: {&quot;time&quot;: &quot;1998-02-10&quot;, &quot;style&quot;: {&quot;color&quot;: &quot;#004673ff&quot;, &quot;radius&quot;: 5.043718343206957}, &quot;icon&quot;: &quot;circle&quot;}}, {&quot;type&quot;: &quot;Feature&quot;, &quot;geometry&quot;: {&quot;type&quot;: &quot;Point&quot;, &quot;coordinates&quot;: [337.2052001953125, 27.7449951171875]}, &quot;properties&quot;: {&quot;time&quot;: &quot;1998-02-07&quot;, &quot;style&quot;: {&quot;color&quot;: &quot;#004f62ff&quot;, &quot;radius&quot;: 4.860016210072172}, &quot;icon&quot;: &quot;circle&quot;}}, {&quot;type&quot;: &quot;Feature&quot;, &quot;geometry&quot;: {&quot;type&quot;: &quot;Point&quot;, &quot;coordinates&quot;: [337.2052001953125, 27.7449951171875]}, &quot;properties&quot;: {&quot;time&quot;: &quot;1998-02-07&quot;, &quot;style&quot;: {&quot;color&quot;: &quot;#004f62ff&quot;, &quot;radius&quot;: 4.860016210072172}, &quot;icon&quot;: &quot;circle&quot;}}, {&quot;type&quot;: &quot;Feature&quot;, &quot;geometry&quot;: {&quot;type&quot;: &quot;Point&quot;, &quot;coordinates&quot;: [322.79541015625, 18.0225830078125]}, &quot;properties&quot;: {&quot;time&quot;: &quot;1998-02-05&quot;, &quot;style&quot;: {&quot;color&quot;: &quot;#00427aff&quot;, &quot;radius&quot;: 5.18296436610112}, &quot;icon&quot;: &quot;circle&quot;}}, {&quot;type&quot;: &quot;Feature&quot;, &quot;geometry&quot;: {&quot;type&quot;: &quot;Point&quot;, &quot;coordinates&quot;: [322.79541015625, 18.0225830078125]}, &quot;properties&quot;: {&quot;time&quot;: &quot;1998-02-05&quot;, &quot;style&quot;: {&quot;color&quot;: &quot;#00427aff&quot;, &quot;radius&quot;: 5.18296436610112}, &quot;icon&quot;: &quot;circle&quot;}}, {&quot;type&quot;: &quot;Feature&quot;, &quot;geometry&quot;: {&quot;type&quot;: &quot;Point&quot;, &quot;coordinates&quot;: [203.7999267578125, 3.831573486328125]}, &quot;properties&quot;: {&quot;time&quot;: &quot;1998-02-02&quot;, &quot;style&quot;: {&quot;color&quot;: &quot;#008000ff&quot;, &quot;radius&quot;: 3.8163251725409277}, &quot;icon&quot;: &quot;circle&quot;}}, {&quot;type&quot;: &quot;Feature&quot;, &quot;geometry&quot;: {&quot;type&quot;: &quot;Point&quot;, &quot;coordinates&quot;: [203.7999267578125, 3.831573486328125]}, &quot;properties&quot;: {&quot;time&quot;: &quot;1998-02-02&quot;, &quot;style&quot;: {&quot;color&quot;: &quot;#008000ff&quot;, &quot;radius&quot;: 3.8163251725409277}, &quot;icon&quot;: &quot;circle&quot;}}, {&quot;type&quot;: &quot;Feature&quot;, &quot;geometry&quot;: {&quot;type&quot;: &quot;Point&quot;, &quot;coordinates&quot;: [234.07794189453125, -17.14508056640625]}, &quot;properties&quot;: {&quot;time&quot;: &quot;1998-01-29&quot;, &quot;style&quot;: {&quot;color&quot;: &quot;#004673ff&quot;, &quot;radius&quot;: 5.092022209956032}, &quot;icon&quot;: &quot;circle&quot;}}, {&quot;type&quot;: &quot;Feature&quot;, &quot;geometry&quot;: {&quot;type&quot;: &quot;Point&quot;, &quot;coordinates&quot;: [234.07794189453125, -17.14508056640625]}, &quot;properties&quot;: {&quot;time&quot;: &quot;1998-01-29&quot;, &quot;style&quot;: {&quot;color&quot;: &quot;#004673ff&quot;, &quot;radius&quot;: 5.092022209956032}, &quot;icon&quot;: &quot;circle&quot;}}, {&quot;type&quot;: &quot;Feature&quot;, &quot;geometry&quot;: {&quot;type&quot;: &quot;Point&quot;, &quot;coordinates&quot;: [15.84320068359375, 0.4086456298828125]}, &quot;properties&quot;: {&quot;time&quot;: &quot;1998-01-30&quot;, &quot;style&quot;: {&quot;color&quot;: &quot;#004e63ff&quot;, &quot;radius&quot;: 4.896724401243165}, &quot;icon&quot;: &quot;circle&quot;}}, {&quot;type&quot;: &quot;Feature&quot;, &quot;geometry&quot;: {&quot;type&quot;: &quot;Point&quot;, &quot;coordinates&quot;: [-344.15679931640625, 0.4086456298828125]}, &quot;properties&quot;: {&quot;time&quot;: &quot;1998-01-30&quot;, &quot;style&quot;: {&quot;color&quot;: &quot;#004e63ff&quot;, &quot;radius&quot;: 4.896724401243165}, &quot;icon&quot;: &quot;circle&quot;}}, {&quot;type&quot;: &quot;Feature&quot;, &quot;geometry&quot;: {&quot;type&quot;: &quot;Point&quot;, &quot;coordinates&quot;: [300.9218444824219, 64.89861297607422]}, &quot;properties&quot;: {&quot;time&quot;: &quot;1998-01-30&quot;, &quot;style&quot;: {&quot;color&quot;: &quot;#002da4ff&quot;, &quot;radius&quot;: 5.629674791709862}, &quot;icon&quot;: &quot;circle&quot;}}, {&quot;type&quot;: &quot;Feature&quot;, &quot;geometry&quot;: {&quot;type&quot;: &quot;Point&quot;, &quot;coordinates&quot;: [300.9218444824219, 64.89861297607422]}, &quot;properties&quot;: {&quot;time&quot;: &quot;1998-01-30&quot;, &quot;style&quot;: {&quot;color&quot;: &quot;#002da4ff&quot;, &quot;radius&quot;: 5.629674791709862}, &quot;icon&quot;: &quot;circle&quot;}}, {&quot;type&quot;: &quot;Feature&quot;, &quot;geometry&quot;: {&quot;type&quot;: &quot;Point&quot;, &quot;coordinates&quot;: [347.70892333984375, 34.98402404785156]}, &quot;properties&quot;: {&quot;time&quot;: &quot;1998-01-22&quot;, &quot;style&quot;: {&quot;color&quot;: &quot;#001fc0ff&quot;, &quot;radius&quot;: 6.179058539200765}, &quot;icon&quot;: &quot;circle&quot;}}, {&quot;type&quot;: &quot;Feature&quot;, &quot;geometry&quot;: {&quot;type&quot;: &quot;Point&quot;, &quot;coordinates&quot;: [347.70892333984375, 34.98402404785156]}, &quot;properties&quot;: {&quot;time&quot;: &quot;1998-01-22&quot;, &quot;style&quot;: {&quot;color&quot;: &quot;#001fc0ff&quot;, &quot;radius&quot;: 6.179058539200765}, &quot;icon&quot;: &quot;circle&quot;}}, {&quot;type&quot;: &quot;Feature&quot;, &quot;geometry&quot;: {&quot;type&quot;: &quot;Point&quot;, &quot;coordinates&quot;: [242.52732849121094, 51.975250244140625]}, &quot;properties&quot;: {&quot;time&quot;: &quot;1998-01-17&quot;, &quot;style&quot;: {&quot;color&quot;: &quot;#00319dff&quot;, &quot;radius&quot;: 5.666639788219022}, &quot;icon&quot;: &quot;circle&quot;}}, {&quot;type&quot;: &quot;Feature&quot;, &quot;geometry&quot;: {&quot;type&quot;: &quot;Point&quot;, &quot;coordinates&quot;: [242.52732849121094, 51.975250244140625]}, &quot;properties&quot;: {&quot;time&quot;: &quot;1998-01-17&quot;, &quot;style&quot;: {&quot;color&quot;: &quot;#00319dff&quot;, &quot;radius&quot;: 5.666639788219022}, &quot;icon&quot;: &quot;circle&quot;}}, {&quot;type&quot;: &quot;Feature&quot;, &quot;geometry&quot;: {&quot;type&quot;: &quot;Point&quot;, &quot;coordinates&quot;: [13.377655029296875, 39.99183654785156]}, &quot;properties&quot;: {&quot;time&quot;: &quot;1998-01-17&quot;, &quot;style&quot;: {&quot;color&quot;: &quot;#000aeaff&quot;, &quot;radius&quot;: 6.861193565474626}, &quot;icon&quot;: &quot;circle&quot;}}, {&quot;type&quot;: &quot;Feature&quot;, &quot;geometry&quot;: {&quot;type&quot;: &quot;Point&quot;, &quot;coordinates&quot;: [-346.6223449707031, 39.99183654785156]}, &quot;properties&quot;: {&quot;time&quot;: &quot;1998-01-17&quot;, &quot;style&quot;: {&quot;color&quot;: &quot;#000aeaff&quot;, &quot;radius&quot;: 6.861193565474626}, &quot;icon&quot;: &quot;circle&quot;}}, {&quot;type&quot;: &quot;Feature&quot;, &quot;geometry&quot;: {&quot;type&quot;: &quot;Point&quot;, &quot;coordinates&quot;: [326.7415466308594, 5.905059814453125]}, &quot;properties&quot;: {&quot;time&quot;: &quot;1998-01-15&quot;, &quot;style&quot;: {&quot;color&quot;: &quot;#0002faff&quot;, &quot;radius&quot;: 7.142978054417318}, &quot;icon&quot;: &quot;circle&quot;}}, {&quot;type&quot;: &quot;Feature&quot;, &quot;geometry&quot;: {&quot;type&quot;: &quot;Point&quot;, &quot;coordinates&quot;: [326.7415466308594, 5.905059814453125]}, &quot;properties&quot;: {&quot;time&quot;: &quot;1998-01-15&quot;, &quot;style&quot;: {&quot;color&quot;: &quot;#0002faff&quot;, &quot;radius&quot;: 7.142978054417318}, &quot;icon&quot;: &quot;circle&quot;}}, {&quot;type&quot;: &quot;Feature&quot;, &quot;geometry&quot;: {&quot;type&quot;: &quot;Point&quot;, &quot;coordinates&quot;: [321.5287780761719, 3.4254608154296875]}, &quot;properties&quot;: {&quot;time&quot;: &quot;1998-01-15&quot;, &quot;style&quot;: {&quot;color&quot;: &quot;#0014d7ff&quot;, &quot;radius&quot;: 6.549122658874382}, &quot;icon&quot;: &quot;circle&quot;}}, {&quot;type&quot;: &quot;Feature&quot;, &quot;geometry&quot;: {&quot;type&quot;: &quot;Point&quot;, &quot;coordinates&quot;: [321.5287780761719, 3.4254608154296875]}, &quot;properties&quot;: {&quot;time&quot;: &quot;1998-01-15&quot;, &quot;style&quot;: {&quot;color&quot;: &quot;#0014d7ff&quot;, &quot;radius&quot;: 6.549122658874382}, &quot;icon&quot;: &quot;circle&quot;}}, {&quot;type&quot;: &quot;Feature&quot;, &quot;geometry&quot;: {&quot;type&quot;: &quot;Point&quot;, &quot;coordinates&quot;: [330.4615478515625, -41.99208068847656]}, &quot;properties&quot;: {&quot;time&quot;: &quot;1998-01-13&quot;, &quot;style&quot;: {&quot;color&quot;: &quot;#0020bfff&quot;, &quot;radius&quot;: 6.160231797321417}, &quot;icon&quot;: &quot;circle&quot;}}, {&quot;type&quot;: &quot;Feature&quot;, &quot;geometry&quot;: {&quot;type&quot;: &quot;Point&quot;, &quot;coordinates&quot;: [330.4615478515625, -41.99208068847656]}, &quot;properties&quot;: {&quot;time&quot;: &quot;1998-01-13&quot;, &quot;style&quot;: {&quot;color&quot;: &quot;#0020bfff&quot;, &quot;radius&quot;: 6.160231797321417}, &quot;icon&quot;: &quot;circle&quot;}}, {&quot;type&quot;: &quot;Feature&quot;, &quot;geometry&quot;: {&quot;type&quot;: &quot;Point&quot;, &quot;coordinates&quot;: [359.86895751953125, 4.0847320556640625]}, &quot;properties&quot;: {&quot;time&quot;: &quot;1998-01-13&quot;, &quot;style&quot;: {&quot;color&quot;: &quot;#0600f9ff&quot;, &quot;radius&quot;: 7.4730703563100125}, &quot;icon&quot;: &quot;circle&quot;}}, {&quot;type&quot;: &quot;Feature&quot;, &quot;geometry&quot;: {&quot;type&quot;: &quot;Point&quot;, &quot;coordinates&quot;: [359.86895751953125, 4.0847320556640625]}, &quot;properties&quot;: {&quot;time&quot;: &quot;1998-01-13&quot;, &quot;style&quot;: {&quot;color&quot;: &quot;#0600f9ff&quot;, &quot;radius&quot;: 7.4730703563100125}, &quot;icon&quot;: &quot;circle&quot;}}, {&quot;type&quot;: &quot;Feature&quot;, &quot;geometry&quot;: {&quot;type&quot;: &quot;Point&quot;, &quot;coordinates&quot;: [270.4893798828125, -29.984756469726562]}, &quot;properties&quot;: {&quot;time&quot;: &quot;1998-01-09&quot;, &quot;style&quot;: {&quot;color&quot;: &quot;#4100bfff&quot;, &quot;radius&quot;: 10.026715879164088}, &quot;icon&quot;: &quot;circle&quot;}}, {&quot;type&quot;: &quot;Feature&quot;, &quot;geometry&quot;: {&quot;type&quot;: &quot;Point&quot;, &quot;coordinates&quot;: [270.4893798828125, -29.984756469726562]}, &quot;properties&quot;: {&quot;time&quot;: &quot;1998-01-09&quot;, &quot;style&quot;: {&quot;color&quot;: &quot;#4100bfff&quot;, &quot;radius&quot;: 10.026715879164088}, &quot;icon&quot;: &quot;circle&quot;}}, {&quot;type&quot;: &quot;Feature&quot;, &quot;geometry&quot;: {&quot;type&quot;: &quot;Point&quot;, &quot;coordinates&quot;: [281.84161376953125, 17.146163940429688]}, &quot;properties&quot;: {&quot;time&quot;: &quot;1998-01-08&quot;, &quot;style&quot;: {&quot;color&quot;: &quot;#0011dcff&quot;, &quot;radius&quot;: 6.586283037822163}, &quot;icon&quot;: &quot;circle&quot;}}, {&quot;type&quot;: &quot;Feature&quot;, &quot;geometry&quot;: {&quot;type&quot;: &quot;Point&quot;, &quot;coordinates&quot;: [281.84161376953125, 17.146163940429688]}, &quot;properties&quot;: {&quot;time&quot;: &quot;1998-01-08&quot;, &quot;style&quot;: {&quot;color&quot;: &quot;#0011dcff&quot;, &quot;radius&quot;: 6.586283037822163}, &quot;icon&quot;: &quot;circle&quot;}}, {&quot;type&quot;: &quot;Feature&quot;, &quot;geometry&quot;: {&quot;type&quot;: &quot;Point&quot;, &quot;coordinates&quot;: [333.7861633300781, -35.1192626953125]}, &quot;properties&quot;: {&quot;time&quot;: &quot;1998-01-06&quot;, &quot;style&quot;: {&quot;color&quot;: &quot;#2800d7ff&quot;, &quot;radius&quot;: 8.872862170923147}, &quot;icon&quot;: &quot;circle&quot;}}, {&quot;type&quot;: &quot;Feature&quot;, &quot;geometry&quot;: {&quot;type&quot;: &quot;Point&quot;, &quot;coordinates&quot;: [333.7861633300781, -35.1192626953125]}, &quot;properties&quot;: {&quot;time&quot;: &quot;1998-01-06&quot;, &quot;style&quot;: {&quot;color&quot;: &quot;#2800d7ff&quot;, &quot;radius&quot;: 8.872862170923147}, &quot;icon&quot;: &quot;circle&quot;}}, {&quot;type&quot;: &quot;Feature&quot;, &quot;geometry&quot;: {&quot;type&quot;: &quot;Point&quot;, &quot;coordinates&quot;: [345.3789978027344, -22.054107666015625]}, &quot;properties&quot;: {&quot;time&quot;: &quot;1997-12-31&quot;, &quot;style&quot;: {&quot;color&quot;: &quot;#00496dff&quot;, &quot;radius&quot;: 5.02043167486845}, &quot;icon&quot;: &quot;circle&quot;}}, {&quot;type&quot;: &quot;Feature&quot;, &quot;geometry&quot;: {&quot;type&quot;: &quot;Point&quot;, &quot;coordinates&quot;: [345.3789978027344, -22.054107666015625]}, &quot;properties&quot;: {&quot;time&quot;: &quot;1997-12-31&quot;, &quot;style&quot;: {&quot;color&quot;: &quot;#00496dff&quot;, &quot;radius&quot;: 5.02043167486845}, &quot;icon&quot;: &quot;circle&quot;}}, {&quot;type&quot;: &quot;Feature&quot;, &quot;geometry&quot;: {&quot;type&quot;: &quot;Point&quot;, &quot;coordinates&quot;: [10.143218994140625, 23.04962158203125]}, &quot;properties&quot;: {&quot;time&quot;: &quot;1997-12-25&quot;, &quot;style&quot;: {&quot;color&quot;: &quot;#003399ff&quot;, &quot;radius&quot;: 5.607641629643276}, &quot;icon&quot;: &quot;circle&quot;}}, {&quot;type&quot;: &quot;Feature&quot;, &quot;geometry&quot;: {&quot;type&quot;: &quot;Point&quot;, &quot;coordinates&quot;: [-349.8567810058594, 23.04962158203125]}, &quot;properties&quot;: {&quot;time&quot;: &quot;1997-12-25&quot;, &quot;style&quot;: {&quot;color&quot;: &quot;#003399ff&quot;, &quot;radius&quot;: 5.607641629643276}, &quot;icon&quot;: &quot;circle&quot;}}, {&quot;type&quot;: &quot;Feature&quot;, &quot;geometry&quot;: {&quot;type&quot;: &quot;Point&quot;, &quot;coordinates&quot;: [279.1601867675781, -3.934326171875]}, &quot;properties&quot;: {&quot;time&quot;: &quot;1997-12-26&quot;, &quot;style&quot;: {&quot;color&quot;: &quot;#0013d8ff&quot;, &quot;radius&quot;: 6.557382870408694}, &quot;icon&quot;: &quot;circle&quot;}}, {&quot;type&quot;: &quot;Feature&quot;, &quot;geometry&quot;: {&quot;type&quot;: &quot;Point&quot;, &quot;coordinates&quot;: [279.1601867675781, -3.934326171875]}, &quot;properties&quot;: {&quot;time&quot;: &quot;1997-12-26&quot;, &quot;style&quot;: {&quot;color&quot;: &quot;#0013d8ff&quot;, &quot;radius&quot;: 6.557382870408694}, &quot;icon&quot;: &quot;circle&quot;}}, {&quot;type&quot;: &quot;Feature&quot;, &quot;geometry&quot;: {&quot;type&quot;: &quot;Point&quot;, &quot;coordinates&quot;: [340.7198486328125, 3.6136627197265625]}, &quot;properties&quot;: {&quot;time&quot;: &quot;1997-12-22&quot;, &quot;style&quot;: {&quot;color&quot;: &quot;#0013d9ff&quot;, &quot;radius&quot;: 6.5781919057808}, &quot;icon&quot;: &quot;circle&quot;}}, {&quot;type&quot;: &quot;Feature&quot;, &quot;geometry&quot;: {&quot;type&quot;: &quot;Point&quot;, &quot;coordinates&quot;: [340.7198486328125, 3.6136627197265625]}, &quot;properties&quot;: {&quot;time&quot;: &quot;1997-12-22&quot;, &quot;style&quot;: {&quot;color&quot;: &quot;#0013d9ff&quot;, &quot;radius&quot;: 6.5781919057808}, &quot;icon&quot;: &quot;circle&quot;}}, {&quot;type&quot;: &quot;Feature&quot;, &quot;geometry&quot;: {&quot;type&quot;: &quot;Point&quot;, &quot;coordinates&quot;: [104.80099487304688, -15.956634521484375]}, &quot;properties&quot;: {&quot;time&quot;: &quot;1997-12-20&quot;, &quot;style&quot;: {&quot;color&quot;: &quot;#001fc1ff&quot;, &quot;radius&quot;: 6.196698184306296}, &quot;icon&quot;: &quot;circle&quot;}}, {&quot;type&quot;: &quot;Feature&quot;, &quot;geometry&quot;: {&quot;type&quot;: &quot;Point&quot;, &quot;coordinates&quot;: [-255.19900512695312, -15.956634521484375]}, &quot;properties&quot;: {&quot;time&quot;: &quot;1997-12-20&quot;, &quot;style&quot;: {&quot;color&quot;: &quot;#001fc1ff&quot;, &quot;radius&quot;: 6.196698184306296}, &quot;icon&quot;: &quot;circle&quot;}}, {&quot;type&quot;: &quot;Feature&quot;, &quot;geometry&quot;: {&quot;type&quot;: &quot;Point&quot;, &quot;coordinates&quot;: [106.939453125, 50.31748962402344]}, &quot;properties&quot;: {&quot;time&quot;: &quot;1997-12-20&quot;, &quot;style&quot;: {&quot;color&quot;: &quot;#3200cdff&quot;, &quot;radius&quot;: 9.304827049937085}, &quot;icon&quot;: &quot;circle&quot;}}, {&quot;type&quot;: &quot;Feature&quot;, &quot;geometry&quot;: {&quot;type&quot;: &quot;Point&quot;, &quot;coordinates&quot;: [-253.060546875, 50.31748962402344]}, &quot;properties&quot;: {&quot;time&quot;: &quot;1997-12-20&quot;, &quot;style&quot;: {&quot;color&quot;: &quot;#3200cdff&quot;, &quot;radius&quot;: 9.304827049937085}, &quot;icon&quot;: &quot;circle&quot;}}, {&quot;type&quot;: &quot;Feature&quot;, &quot;geometry&quot;: {&quot;type&quot;: &quot;Point&quot;, &quot;coordinates&quot;: [328.71044921875, 33.093231201171875]}, &quot;properties&quot;: {&quot;time&quot;: &quot;1997-12-19&quot;, &quot;style&quot;: {&quot;color&quot;: &quot;#00319eff&quot;, &quot;radius&quot;: 5.672410812141344}, &quot;icon&quot;: &quot;circle&quot;}}, {&quot;type&quot;: &quot;Feature&quot;, &quot;geometry&quot;: {&quot;type&quot;: &quot;Point&quot;, &quot;coordinates&quot;: [328.71044921875, 33.093231201171875]}, &quot;properties&quot;: {&quot;time&quot;: &quot;1997-12-19&quot;, &quot;style&quot;: {&quot;color&quot;: &quot;#00319eff&quot;, &quot;radius&quot;: 5.672410812141344}, &quot;icon&quot;: &quot;circle&quot;}}, {&quot;type&quot;: &quot;Feature&quot;, &quot;geometry&quot;: {&quot;type&quot;: &quot;Point&quot;, &quot;coordinates&quot;: [29.156158447265625, 20.475479125976562]}, &quot;properties&quot;: {&quot;time&quot;: &quot;1997-12-14&quot;, &quot;style&quot;: {&quot;color&quot;: &quot;#001ec2ff&quot;, &quot;radius&quot;: 6.210130356090865}, &quot;icon&quot;: &quot;circle&quot;}}, {&quot;type&quot;: &quot;Feature&quot;, &quot;geometry&quot;: {&quot;type&quot;: &quot;Point&quot;, &quot;coordinates&quot;: [-330.8438415527344, 20.475479125976562]}, &quot;properties&quot;: {&quot;time&quot;: &quot;1997-12-14&quot;, &quot;style&quot;: {&quot;color&quot;: &quot;#001ec2ff&quot;, &quot;radius&quot;: 6.210130356090865}, &quot;icon&quot;: &quot;circle&quot;}}, {&quot;type&quot;: &quot;Feature&quot;, &quot;geometry&quot;: {&quot;type&quot;: &quot;Point&quot;, &quot;coordinates&quot;: [344.9373474121094, 62.829620361328125]}, &quot;properties&quot;: {&quot;time&quot;: &quot;1997-12-10&quot;, &quot;style&quot;: {&quot;color&quot;: &quot;#0b00f4ff&quot;, &quot;radius&quot;: 7.659737318156123}, &quot;icon&quot;: &quot;circle&quot;}}, {&quot;type&quot;: &quot;Feature&quot;, &quot;geometry&quot;: {&quot;type&quot;: &quot;Point&quot;, &quot;coordinates&quot;: [344.9373474121094, 62.829620361328125]}, &quot;properties&quot;: {&quot;time&quot;: &quot;1997-12-10&quot;, &quot;style&quot;: {&quot;color&quot;: &quot;#0b00f4ff&quot;, &quot;radius&quot;: 7.659737318156123}, &quot;icon&quot;: &quot;circle&quot;}}, {&quot;type&quot;: &quot;Feature&quot;, &quot;geometry&quot;: {&quot;type&quot;: &quot;Point&quot;, &quot;coordinates&quot;: [352.999755859375, 7.1764068603515625]}, &quot;properties&quot;: {&quot;time&quot;: &quot;1997-12-09&quot;, &quot;style&quot;: {&quot;color&quot;: &quot;#2900d7ff&quot;, &quot;radius&quot;: 8.885009795565235}, &quot;icon&quot;: &quot;circle&quot;}}, {&quot;type&quot;: &quot;Feature&quot;, &quot;geometry&quot;: {&quot;type&quot;: &quot;Point&quot;, &quot;coordinates&quot;: [352.999755859375, 7.1764068603515625]}, &quot;properties&quot;: {&quot;time&quot;: &quot;1997-12-09&quot;, &quot;style&quot;: {&quot;color&quot;: &quot;#2900d7ff&quot;, &quot;radius&quot;: 8.885009795565235}, &quot;icon&quot;: &quot;circle&quot;}}, {&quot;type&quot;: &quot;Feature&quot;, &quot;geometry&quot;: {&quot;type&quot;: &quot;Point&quot;, &quot;coordinates&quot;: [339.90228271484375, 15.488937377929688]}, &quot;properties&quot;: {&quot;time&quot;: &quot;1997-12-08&quot;, &quot;style&quot;: {&quot;color&quot;: &quot;#0017d1ff&quot;, &quot;radius&quot;: 6.440202466777235}, &quot;icon&quot;: &quot;circle&quot;}}, {&quot;type&quot;: &quot;Feature&quot;, &quot;geometry&quot;: {&quot;type&quot;: &quot;Point&quot;, &quot;coordinates&quot;: [339.90228271484375, 15.488937377929688]}, &quot;properties&quot;: {&quot;time&quot;: &quot;1997-12-08&quot;, &quot;style&quot;: {&quot;color&quot;: &quot;#0017d1ff&quot;, &quot;radius&quot;: 6.440202466777235}, &quot;icon&quot;: &quot;circle&quot;}}, {&quot;type&quot;: &quot;Feature&quot;, &quot;geometry&quot;: {&quot;type&quot;: &quot;Point&quot;, &quot;coordinates&quot;: [350.5994567871094, 46.15753173828125]}, &quot;properties&quot;: {&quot;time&quot;: &quot;1997-12-08&quot;, &quot;style&quot;: {&quot;color&quot;: &quot;#0025b6ff&quot;, &quot;radius&quot;: 5.999502011718412}, &quot;icon&quot;: &quot;circle&quot;}}, {&quot;type&quot;: &quot;Feature&quot;, &quot;geometry&quot;: {&quot;type&quot;: &quot;Point&quot;, &quot;coordinates&quot;: [350.5994567871094, 46.15753173828125]}, &quot;properties&quot;: {&quot;time&quot;: &quot;1997-12-08&quot;, &quot;style&quot;: {&quot;color&quot;: &quot;#0025b6ff&quot;, &quot;radius&quot;: 5.999502011718412}, &quot;icon&quot;: &quot;circle&quot;}}, {&quot;type&quot;: &quot;Feature&quot;, &quot;geometry&quot;: {&quot;type&quot;: &quot;Point&quot;, &quot;coordinates&quot;: [269.79571533203125, 22.382308959960938]}, &quot;properties&quot;: {&quot;time&quot;: &quot;1997-12-07&quot;, &quot;style&quot;: {&quot;color&quot;: &quot;#005358ff&quot;, &quot;radius&quot;: 4.768130148514598}, &quot;icon&quot;: &quot;circle&quot;}}, {&quot;type&quot;: &quot;Feature&quot;, &quot;geometry&quot;: {&quot;type&quot;: &quot;Point&quot;, &quot;coordinates&quot;: [269.79571533203125, 22.382308959960938]}, &quot;properties&quot;: {&quot;time&quot;: &quot;1997-12-07&quot;, &quot;style&quot;: {&quot;color&quot;: &quot;#005358ff&quot;, &quot;radius&quot;: 4.768130148514598}, &quot;icon&quot;: &quot;circle&quot;}}, {&quot;type&quot;: &quot;Feature&quot;, &quot;geometry&quot;: {&quot;type&quot;: &quot;Point&quot;, &quot;coordinates&quot;: [253.29437255859375, -45.66230773925781]}, &quot;properties&quot;: {&quot;time&quot;: &quot;1997-12-03&quot;, &quot;style&quot;: {&quot;color&quot;: &quot;#0100feff&quot;, &quot;radius&quot;: 7.28367091724691}, &quot;icon&quot;: &quot;circle&quot;}}, {&quot;type&quot;: &quot;Feature&quot;, &quot;geometry&quot;: {&quot;type&quot;: &quot;Point&quot;, &quot;coordinates&quot;: [253.29437255859375, -45.66230773925781]}, &quot;properties&quot;: {&quot;time&quot;: &quot;1997-12-03&quot;, &quot;style&quot;: {&quot;color&quot;: &quot;#0100feff&quot;, &quot;radius&quot;: 7.28367091724691}, &quot;icon&quot;: &quot;circle&quot;}}, {&quot;type&quot;: &quot;Feature&quot;, &quot;geometry&quot;: {&quot;type&quot;: &quot;Point&quot;, &quot;coordinates&quot;: [297.32696533203125, 58.884925842285156]}, &quot;properties&quot;: {&quot;time&quot;: &quot;1997-11-28&quot;, &quot;style&quot;: {&quot;color&quot;: &quot;#0000feff&quot;, &quot;radius&quot;: 7.204998118132806}, &quot;icon&quot;: &quot;circle&quot;}}, {&quot;type&quot;: &quot;Feature&quot;, &quot;geometry&quot;: {&quot;type&quot;: &quot;Point&quot;, &quot;coordinates&quot;: [297.32696533203125, 58.884925842285156]}, &quot;properties&quot;: {&quot;time&quot;: &quot;1997-11-28&quot;, &quot;style&quot;: {&quot;color&quot;: &quot;#0000feff&quot;, &quot;radius&quot;: 7.204998118132806}, &quot;icon&quot;: &quot;circle&quot;}}, {&quot;type&quot;: &quot;Feature&quot;, &quot;geometry&quot;: {&quot;type&quot;: &quot;Point&quot;, &quot;coordinates&quot;: [323.36273193359375, 49.46156311035156]}, &quot;properties&quot;: {&quot;time&quot;: &quot;1997-11-24&quot;, &quot;style&quot;: {&quot;color&quot;: &quot;#000ee3ff&quot;, &quot;radius&quot;: 6.736357089953204}, &quot;icon&quot;: &quot;circle&quot;}}, {&quot;type&quot;: &quot;Feature&quot;, &quot;geometry&quot;: {&quot;type&quot;: &quot;Point&quot;, &quot;coordinates&quot;: [323.36273193359375, 49.46156311035156]}, &quot;properties&quot;: {&quot;time&quot;: &quot;1997-11-24&quot;, &quot;style&quot;: {&quot;color&quot;: &quot;#000ee3ff&quot;, &quot;radius&quot;: 6.736357089953204}, &quot;icon&quot;: &quot;circle&quot;}}, {&quot;type&quot;: &quot;Feature&quot;, &quot;geometry&quot;: {&quot;type&quot;: &quot;Point&quot;, &quot;coordinates&quot;: [42.922119140625, 35.16729736328125]}, &quot;properties&quot;: {&quot;time&quot;: &quot;1997-11-20&quot;, &quot;style&quot;: {&quot;color&quot;: &quot;#1200edff&quot;, &quot;radius&quot;: 7.956939257616693}, &quot;icon&quot;: &quot;circle&quot;}}, {&quot;type&quot;: &quot;Feature&quot;, &quot;geometry&quot;: {&quot;type&quot;: &quot;Point&quot;, &quot;coordinates&quot;: [-317.077880859375, 35.16729736328125]}, &quot;properties&quot;: {&quot;time&quot;: &quot;1997-11-20&quot;, &quot;style&quot;: {&quot;color&quot;: &quot;#1200edff&quot;, &quot;radius&quot;: 7.956939257616693}, &quot;icon&quot;: &quot;circle&quot;}}, {&quot;type&quot;: &quot;Feature&quot;, &quot;geometry&quot;: {&quot;type&quot;: &quot;Point&quot;, &quot;coordinates&quot;: [346.9031066894531, -30.666915893554688]}, &quot;properties&quot;: {&quot;time&quot;: &quot;1997-11-19&quot;, &quot;style&quot;: {&quot;color&quot;: &quot;#3c00c4ff&quot;, &quot;radius&quot;: 9.76580095260538}, &quot;icon&quot;: &quot;circle&quot;}}, {&quot;type&quot;: &quot;Feature&quot;, &quot;geometry&quot;: {&quot;type&quot;: &quot;Point&quot;, &quot;coordinates&quot;: [346.9031066894531, -30.666915893554688]}, &quot;properties&quot;: {&quot;time&quot;: &quot;1997-11-19&quot;, &quot;style&quot;: {&quot;color&quot;: &quot;#3c00c4ff&quot;, &quot;radius&quot;: 9.76580095260538}, &quot;icon&quot;: &quot;circle&quot;}}, {&quot;type&quot;: &quot;Feature&quot;, &quot;geometry&quot;: {&quot;type&quot;: &quot;Point&quot;, &quot;coordinates&quot;: [325.6315002441406, 7.3504486083984375]}, &quot;properties&quot;: {&quot;time&quot;: &quot;1997-11-18&quot;, &quot;style&quot;: {&quot;color&quot;: &quot;#0018cfff&quot;, &quot;radius&quot;: 6.420163944207313}, &quot;icon&quot;: &quot;circle&quot;}}, {&quot;type&quot;: &quot;Feature&quot;, &quot;geometry&quot;: {&quot;type&quot;: &quot;Point&quot;, &quot;coordinates&quot;: [325.6315002441406, 7.3504486083984375]}, &quot;properties&quot;: {&quot;time&quot;: &quot;1997-11-18&quot;, &quot;style&quot;: {&quot;color&quot;: &quot;#0018cfff&quot;, &quot;radius&quot;: 6.420163944207313}, &quot;icon&quot;: &quot;circle&quot;}}, {&quot;type&quot;: &quot;Feature&quot;, &quot;geometry&quot;: {&quot;type&quot;: &quot;Point&quot;, &quot;coordinates&quot;: [12.817626953125, 13.9305419921875]}, &quot;properties&quot;: {&quot;time&quot;: &quot;1997-11-17&quot;, &quot;style&quot;: {&quot;color&quot;: &quot;#002ba8ff&quot;, &quot;radius&quot;: 5.82260157501563}, &quot;icon&quot;: &quot;circle&quot;}}, {&quot;type&quot;: &quot;Feature&quot;, &quot;geometry&quot;: {&quot;type&quot;: &quot;Point&quot;, &quot;coordinates&quot;: [-347.182373046875, 13.9305419921875]}, &quot;properties&quot;: {&quot;time&quot;: &quot;1997-11-17&quot;, &quot;style&quot;: {&quot;color&quot;: &quot;#002ba8ff&quot;, &quot;radius&quot;: 5.82260157501563}, &quot;icon&quot;: &quot;circle&quot;}}, {&quot;type&quot;: &quot;Feature&quot;, &quot;geometry&quot;: {&quot;type&quot;: &quot;Point&quot;, &quot;coordinates&quot;: [351.9253845214844, 61.905982971191406]}, &quot;properties&quot;: {&quot;time&quot;: &quot;1997-11-14&quot;, &quot;style&quot;: {&quot;color&quot;: &quot;#5700a9ff&quot;, &quot;radius&quot;: 11.176392568790142}, &quot;icon&quot;: &quot;circle&quot;}}, {&quot;type&quot;: &quot;Feature&quot;, &quot;geometry&quot;: {&quot;type&quot;: &quot;Point&quot;, &quot;coordinates&quot;: [351.9253845214844, 61.905982971191406]}, &quot;properties&quot;: {&quot;time&quot;: &quot;1997-11-14&quot;, &quot;style&quot;: {&quot;color&quot;: &quot;#5700a9ff&quot;, &quot;radius&quot;: 11.176392568790142}, &quot;icon&quot;: &quot;circle&quot;}}, {&quot;type&quot;: &quot;Feature&quot;, &quot;geometry&quot;: {&quot;type&quot;: &quot;Point&quot;, &quot;coordinates&quot;: [34.52789306640625, 56.60765838623047]}, &quot;properties&quot;: {&quot;time&quot;: &quot;1997-11-12&quot;, &quot;style&quot;: {&quot;color&quot;: &quot;#0200fdff&quot;, &quot;radius&quot;: 7.251019620390863}, &quot;icon&quot;: &quot;circle&quot;}}, {&quot;type&quot;: &quot;Feature&quot;, &quot;geometry&quot;: {&quot;type&quot;: &quot;Point&quot;, &quot;coordinates&quot;: [-325.47210693359375, 56.60765838623047]}, &quot;properties&quot;: {&quot;time&quot;: &quot;1997-11-12&quot;, &quot;style&quot;: {&quot;color&quot;: &quot;#0200fdff&quot;, &quot;radius&quot;: 7.251019620390863}, &quot;icon&quot;: &quot;circle&quot;}}, {&quot;type&quot;: &quot;Feature&quot;, &quot;geometry&quot;: {&quot;type&quot;: &quot;Point&quot;, &quot;coordinates&quot;: [51.239898681640625, 52.23368835449219]}, &quot;properties&quot;: {&quot;time&quot;: &quot;1997-11-11&quot;, &quot;style&quot;: {&quot;color&quot;: &quot;#0025b5ff&quot;, &quot;radius&quot;: 1.0003148596161027}, &quot;icon&quot;: &quot;circle&quot;}}, {&quot;type&quot;: &quot;Feature&quot;, &quot;geometry&quot;: {&quot;type&quot;: &quot;Point&quot;, &quot;coordinates&quot;: [-308.7601013183594, 52.23368835449219]}, &quot;properties&quot;: {&quot;time&quot;: &quot;1997-11-11&quot;, &quot;style&quot;: {&quot;color&quot;: &quot;#0025b5ff&quot;, &quot;radius&quot;: 1.0003148596161027}, &quot;icon&quot;: &quot;circle&quot;}}, {&quot;type&quot;: &quot;Feature&quot;, &quot;geometry&quot;: {&quot;type&quot;: &quot;Point&quot;, &quot;coordinates&quot;: [326.1675720214844, 57.985557556152344]}, &quot;properties&quot;: {&quot;time&quot;: &quot;1997-11-05&quot;, &quot;style&quot;: {&quot;color&quot;: &quot;#0002fbff&quot;, &quot;radius&quot;: 7.139716024416438}, &quot;icon&quot;: &quot;circle&quot;}}, {&quot;type&quot;: &quot;Feature&quot;, &quot;geometry&quot;: {&quot;type&quot;: &quot;Point&quot;, &quot;coordinates&quot;: [326.1675720214844, 57.985557556152344]}, &quot;properties&quot;: {&quot;time&quot;: &quot;1997-11-05&quot;, &quot;style&quot;: {&quot;color&quot;: &quot;#0002fbff&quot;, &quot;radius&quot;: 7.139716024416438}, &quot;icon&quot;: &quot;circle&quot;}}, {&quot;type&quot;: &quot;Feature&quot;, &quot;geometry&quot;: {&quot;type&quot;: &quot;Point&quot;, &quot;coordinates&quot;: [26.8265380859375, 63.32879638671875]}, &quot;properties&quot;: {&quot;time&quot;: &quot;1997-11-06&quot;, &quot;style&quot;: {&quot;color&quot;: &quot;#2400dbff&quot;, &quot;radius&quot;: 8.69279515991228}, &quot;icon&quot;: &quot;circle&quot;}}, {&quot;type&quot;: &quot;Feature&quot;, &quot;geometry&quot;: {&quot;type&quot;: &quot;Point&quot;, &quot;coordinates&quot;: [-333.1734619140625, 63.32879638671875]}, &quot;properties&quot;: {&quot;time&quot;: &quot;1997-11-06&quot;, &quot;style&quot;: {&quot;color&quot;: &quot;#2400dbff&quot;, &quot;radius&quot;: 8.69279515991228}, &quot;icon&quot;: &quot;circle&quot;}}, {&quot;type&quot;: &quot;Feature&quot;, &quot;geometry&quot;: {&quot;type&quot;: &quot;Point&quot;, &quot;coordinates&quot;: [208.0675811767578, 74.97815704345703]}, &quot;properties&quot;: {&quot;time&quot;: &quot;1997-11-01&quot;, &quot;style&quot;: {&quot;color&quot;: &quot;#2e00d1ff&quot;, &quot;radius&quot;: 9.126229754873142}, &quot;icon&quot;: &quot;circle&quot;}}, {&quot;type&quot;: &quot;Feature&quot;, &quot;geometry&quot;: {&quot;type&quot;: &quot;Point&quot;, &quot;coordinates&quot;: [208.0675811767578, 74.97815704345703]}, &quot;properties&quot;: {&quot;time&quot;: &quot;1997-11-01&quot;, &quot;style&quot;: {&quot;color&quot;: &quot;#2e00d1ff&quot;, &quot;radius&quot;: 9.126229754873142}, &quot;icon&quot;: &quot;circle&quot;}}, {&quot;type&quot;: &quot;Feature&quot;, &quot;geometry&quot;: {&quot;type&quot;: &quot;Point&quot;, &quot;coordinates&quot;: [268.9040832519531, 62.93549346923828]}, &quot;properties&quot;: {&quot;time&quot;: &quot;1997-10-22&quot;, &quot;style&quot;: {&quot;color&quot;: &quot;#4700b8ff&quot;, &quot;radius&quot;: 10.35672302911064}, &quot;icon&quot;: &quot;circle&quot;}}, {&quot;type&quot;: &quot;Feature&quot;, &quot;geometry&quot;: {&quot;type&quot;: &quot;Point&quot;, &quot;coordinates&quot;: [268.9040832519531, 62.93549346923828]}, &quot;properties&quot;: {&quot;time&quot;: &quot;1997-10-22&quot;, &quot;style&quot;: {&quot;color&quot;: &quot;#4700b8ff&quot;, &quot;radius&quot;: 10.35672302911064}, &quot;icon&quot;: &quot;circle&quot;}}, {&quot;type&quot;: &quot;Feature&quot;, &quot;geometry&quot;: {&quot;type&quot;: &quot;Point&quot;, &quot;coordinates&quot;: [315.2378234863281, 44.51512145996094]}, &quot;properties&quot;: {&quot;time&quot;: &quot;1997-10-20&quot;, &quot;style&quot;: {&quot;color&quot;: &quot;#0018cfff&quot;, &quot;radius&quot;: 6.410244803645579}, &quot;icon&quot;: &quot;circle&quot;}}, {&quot;type&quot;: &quot;Feature&quot;, &quot;geometry&quot;: {&quot;type&quot;: &quot;Point&quot;, &quot;coordinates&quot;: [315.2378234863281, 44.51512145996094]}, &quot;properties&quot;: {&quot;time&quot;: &quot;1997-10-20&quot;, &quot;style&quot;: {&quot;color&quot;: &quot;#0018cfff&quot;, &quot;radius&quot;: 6.410244803645579}, &quot;icon&quot;: &quot;circle&quot;}}, {&quot;type&quot;: &quot;Feature&quot;, &quot;geometry&quot;: {&quot;type&quot;: &quot;Point&quot;, &quot;coordinates&quot;: [68.52120971679688, -5.7113494873046875]}, &quot;properties&quot;: {&quot;time&quot;: &quot;1997-10-19&quot;, &quot;style&quot;: {&quot;color&quot;: &quot;#1f00e1ff&quot;, &quot;radius&quot;: 8.455962791517981}, &quot;icon&quot;: &quot;circle&quot;}}, {&quot;type&quot;: &quot;Feature&quot;, &quot;geometry&quot;: {&quot;type&quot;: &quot;Point&quot;, &quot;coordinates&quot;: [-291.4787902832031, -5.7113494873046875]}, &quot;properties&quot;: {&quot;time&quot;: &quot;1997-10-19&quot;, &quot;style&quot;: {&quot;color&quot;: &quot;#1f00e1ff&quot;, &quot;radius&quot;: 8.455962791517981}, &quot;icon&quot;: &quot;circle&quot;}}, {&quot;type&quot;: &quot;Feature&quot;, &quot;geometry&quot;: {&quot;type&quot;: &quot;Point&quot;, &quot;coordinates&quot;: [97.96087646484375, 22.721603393554688]}, &quot;properties&quot;: {&quot;time&quot;: &quot;1997-10-18&quot;, &quot;style&quot;: {&quot;color&quot;: &quot;#0006f3ff&quot;, &quot;radius&quot;: 7.009346327658029}, &quot;icon&quot;: &quot;circle&quot;}}, {&quot;type&quot;: &quot;Feature&quot;, &quot;geometry&quot;: {&quot;type&quot;: &quot;Point&quot;, &quot;coordinates&quot;: [-262.03912353515625, 22.721603393554688]}, &quot;properties&quot;: {&quot;time&quot;: &quot;1997-10-18&quot;, &quot;style&quot;: {&quot;color&quot;: &quot;#0006f3ff&quot;, &quot;radius&quot;: 7.009346327658029}, &quot;icon&quot;: &quot;circle&quot;}}, {&quot;type&quot;: &quot;Feature&quot;, &quot;geometry&quot;: {&quot;type&quot;: &quot;Point&quot;, &quot;coordinates&quot;: [274.87255859375, -24.23846435546875]}, &quot;properties&quot;: {&quot;time&quot;: &quot;1997-10-18&quot;, &quot;style&quot;: {&quot;color&quot;: &quot;#0000ffff&quot;, &quot;radius&quot;: 7.2344000510586595}, &quot;icon&quot;: &quot;circle&quot;}}, {&quot;type&quot;: &quot;Feature&quot;, &quot;geometry&quot;: {&quot;type&quot;: &quot;Point&quot;, &quot;coordinates&quot;: [274.87255859375, -24.23846435546875]}, &quot;properties&quot;: {&quot;time&quot;: &quot;1997-10-18&quot;, &quot;style&quot;: {&quot;color&quot;: &quot;#0000ffff&quot;, &quot;radius&quot;: 7.2344000510586595}, &quot;icon&quot;: &quot;circle&quot;}}, {&quot;type&quot;: &quot;Feature&quot;, &quot;geometry&quot;: {&quot;type&quot;: &quot;Point&quot;, &quot;coordinates&quot;: [332.577880859375, 28.898574829101562]}, &quot;properties&quot;: {&quot;time&quot;: &quot;1997-10-16&quot;, &quot;style&quot;: {&quot;color&quot;: &quot;#0000ffff&quot;, &quot;radius&quot;: 7.245560677000139}, &quot;icon&quot;: &quot;circle&quot;}}, {&quot;type&quot;: &quot;Feature&quot;, &quot;geometry&quot;: {&quot;type&quot;: &quot;Point&quot;, &quot;coordinates&quot;: [332.577880859375, 28.898574829101562]}, &quot;properties&quot;: {&quot;time&quot;: &quot;1997-10-16&quot;, &quot;style&quot;: {&quot;color&quot;: &quot;#0000ffff&quot;, &quot;radius&quot;: 7.245560677000139}, &quot;icon&quot;: &quot;circle&quot;}}, {&quot;type&quot;: &quot;Feature&quot;, &quot;geometry&quot;: {&quot;type&quot;: &quot;Point&quot;, &quot;coordinates&quot;: [346.8586120605469, 23.26507568359375]}, &quot;properties&quot;: {&quot;time&quot;: &quot;1997-10-13&quot;, &quot;style&quot;: {&quot;color&quot;: &quot;#0000feff&quot;, &quot;radius&quot;: 7.209324286065525}, &quot;icon&quot;: &quot;circle&quot;}}, {&quot;type&quot;: &quot;Feature&quot;, &quot;geometry&quot;: {&quot;type&quot;: &quot;Point&quot;, &quot;coordinates&quot;: [346.8586120605469, 23.26507568359375]}, &quot;properties&quot;: {&quot;time&quot;: &quot;1997-10-13&quot;, &quot;style&quot;: {&quot;color&quot;: &quot;#0000feff&quot;, &quot;radius&quot;: 7.209324286065525}, &quot;icon&quot;: &quot;circle&quot;}}, {&quot;type&quot;: &quot;Feature&quot;, &quot;geometry&quot;: {&quot;type&quot;: &quot;Point&quot;, &quot;coordinates&quot;: [332.65045166015625, 15.658523559570312]}, &quot;properties&quot;: {&quot;time&quot;: &quot;1997-10-09&quot;, &quot;style&quot;: {&quot;color&quot;: &quot;#0c00f3ff&quot;, &quot;radius&quot;: 7.694421066787465}, &quot;icon&quot;: &quot;circle&quot;}}, {&quot;type&quot;: &quot;Feature&quot;, &quot;geometry&quot;: {&quot;type&quot;: &quot;Point&quot;, &quot;coordinates&quot;: [332.65045166015625, 15.658523559570312]}, &quot;properties&quot;: {&quot;time&quot;: &quot;1997-10-09&quot;, &quot;style&quot;: {&quot;color&quot;: &quot;#0c00f3ff&quot;, &quot;radius&quot;: 7.694421066787465}, &quot;icon&quot;: &quot;circle&quot;}}, {&quot;type&quot;: &quot;Feature&quot;, &quot;geometry&quot;: {&quot;type&quot;: &quot;Point&quot;, &quot;coordinates&quot;: [39.35003662109375, 3.084747314453125]}, &quot;properties&quot;: {&quot;time&quot;: &quot;1997-10-10&quot;, &quot;style&quot;: {&quot;color&quot;: &quot;#0200fdff&quot;, &quot;radius&quot;: 7.331434616851592}, &quot;icon&quot;: &quot;circle&quot;}}, {&quot;type&quot;: &quot;Feature&quot;, &quot;geometry&quot;: {&quot;type&quot;: &quot;Point&quot;, &quot;coordinates&quot;: [-320.64996337890625, 3.084747314453125]}, &quot;properties&quot;: {&quot;time&quot;: &quot;1997-10-10&quot;, &quot;style&quot;: {&quot;color&quot;: &quot;#0200fdff&quot;, &quot;radius&quot;: 7.331434616851592}, &quot;icon&quot;: &quot;circle&quot;}}, {&quot;type&quot;: &quot;Feature&quot;, &quot;geometry&quot;: {&quot;type&quot;: &quot;Point&quot;, &quot;coordinates&quot;: [111.04180908203125, -47.85194396972656]}, &quot;properties&quot;: {&quot;time&quot;: &quot;1997-10-08&quot;, &quot;style&quot;: {&quot;color&quot;: &quot;#0000ffff&quot;, &quot;radius&quot;: 7.226857486894286}, &quot;icon&quot;: &quot;circle&quot;}}, {&quot;type&quot;: &quot;Feature&quot;, &quot;geometry&quot;: {&quot;type&quot;: &quot;Point&quot;, &quot;coordinates&quot;: [-248.95819091796875, -47.85194396972656]}, &quot;properties&quot;: {&quot;time&quot;: &quot;1997-10-08&quot;, &quot;style&quot;: {&quot;color&quot;: &quot;#0000ffff&quot;, &quot;radius&quot;: 7.226857486894286}, &quot;icon&quot;: &quot;circle&quot;}}, {&quot;type&quot;: &quot;Feature&quot;, &quot;geometry&quot;: {&quot;type&quot;: &quot;Point&quot;, &quot;coordinates&quot;: [13.217315673828125, 0.1195220947265625]}, &quot;properties&quot;: {&quot;time&quot;: &quot;1997-10-03&quot;, &quot;style&quot;: {&quot;color&quot;: &quot;#000ce7ff&quot;, &quot;radius&quot;: 6.805597623016141}, &quot;icon&quot;: &quot;circle&quot;}}, {&quot;type&quot;: &quot;Feature&quot;, &quot;geometry&quot;: {&quot;type&quot;: &quot;Point&quot;, &quot;coordinates&quot;: [-346.7826843261719, 0.1195220947265625]}, &quot;properties&quot;: {&quot;time&quot;: &quot;1997-10-03&quot;, &quot;style&quot;: {&quot;color&quot;: &quot;#000ce7ff&quot;, &quot;radius&quot;: 6.805597623016141}, &quot;icon&quot;: &quot;circle&quot;}}, {&quot;type&quot;: &quot;Feature&quot;, &quot;geometry&quot;: {&quot;type&quot;: &quot;Point&quot;, &quot;coordinates&quot;: [339.0113525390625, -3.51220703125]}, &quot;properties&quot;: {&quot;time&quot;: &quot;1997-09-29&quot;, &quot;style&quot;: {&quot;color&quot;: &quot;#0010dfff&quot;, &quot;radius&quot;: 6.654218201653083}, &quot;icon&quot;: &quot;circle&quot;}}, {&quot;type&quot;: &quot;Feature&quot;, &quot;geometry&quot;: {&quot;type&quot;: &quot;Point&quot;, &quot;coordinates&quot;: [339.0113525390625, -3.51220703125]}, &quot;properties&quot;: {&quot;time&quot;: &quot;1997-09-29&quot;, &quot;style&quot;: {&quot;color&quot;: &quot;#0010dfff&quot;, &quot;radius&quot;: 6.654218201653083}, &quot;icon&quot;: &quot;circle&quot;}}, {&quot;type&quot;: &quot;Feature&quot;, &quot;geometry&quot;: {&quot;type&quot;: &quot;Point&quot;, &quot;coordinates&quot;: [0.586822509765625, 53.11689758300781]}, &quot;properties&quot;: {&quot;time&quot;: &quot;1997-09-30&quot;, &quot;style&quot;: {&quot;color&quot;: &quot;#0f00f0ff&quot;, &quot;radius&quot;: 7.803395457906461}, &quot;icon&quot;: &quot;circle&quot;}}, {&quot;type&quot;: &quot;Feature&quot;, &quot;geometry&quot;: {&quot;type&quot;: &quot;Point&quot;, &quot;coordinates&quot;: [-359.4131774902344, 53.11689758300781]}, &quot;properties&quot;: {&quot;time&quot;: &quot;1997-09-30&quot;, &quot;style&quot;: {&quot;color&quot;: &quot;#0f00f0ff&quot;, &quot;radius&quot;: 7.803395457906461}, &quot;icon&quot;: &quot;circle&quot;}}, {&quot;type&quot;: &quot;Feature&quot;, &quot;geometry&quot;: {&quot;type&quot;: &quot;Point&quot;, &quot;coordinates&quot;: [116.80450439453125, 15.017776489257812]}, &quot;properties&quot;: {&quot;time&quot;: &quot;1997-09-29&quot;, &quot;style&quot;: {&quot;color&quot;: &quot;#0d00f3ff&quot;, &quot;radius&quot;: 7.686150905242614}, &quot;icon&quot;: &quot;circle&quot;}}, {&quot;type&quot;: &quot;Feature&quot;, &quot;geometry&quot;: {&quot;type&quot;: &quot;Point&quot;, &quot;coordinates&quot;: [-243.19549560546875, 15.017776489257812]}, &quot;properties&quot;: {&quot;time&quot;: &quot;1997-09-29&quot;, &quot;style&quot;: {&quot;color&quot;: &quot;#0d00f3ff&quot;, &quot;radius&quot;: 7.686150905242614}, &quot;icon&quot;: &quot;circle&quot;}}, {&quot;type&quot;: &quot;Feature&quot;, &quot;geometry&quot;: {&quot;type&quot;: &quot;Point&quot;, &quot;coordinates&quot;: [74.30731201171875, -25.285919189453125]}, &quot;properties&quot;: {&quot;time&quot;: &quot;1997-09-24&quot;, &quot;style&quot;: {&quot;color&quot;: &quot;#5400acff&quot;, &quot;radius&quot;: 11.0030221661478}, &quot;icon&quot;: &quot;circle&quot;}}, {&quot;type&quot;: &quot;Feature&quot;, &quot;geometry&quot;: {&quot;type&quot;: &quot;Point&quot;, &quot;coordinates&quot;: [-285.69268798828125, -25.285919189453125]}, &quot;properties&quot;: {&quot;time&quot;: &quot;1997-09-24&quot;, &quot;style&quot;: {&quot;color&quot;: &quot;#5400acff&quot;, &quot;radius&quot;: 11.0030221661478}, &quot;icon&quot;: &quot;circle&quot;}}, {&quot;type&quot;: &quot;Feature&quot;, &quot;geometry&quot;: {&quot;type&quot;: &quot;Point&quot;, &quot;coordinates&quot;: [21.03057861328125, 54.79298400878906]}, &quot;properties&quot;: {&quot;time&quot;: &quot;1997-09-20&quot;, &quot;style&quot;: {&quot;color&quot;: &quot;#1500eaff&quot;, &quot;radius&quot;: 8.042591885771444}, &quot;icon&quot;: &quot;circle&quot;}}, {&quot;type&quot;: &quot;Feature&quot;, &quot;geometry&quot;: {&quot;type&quot;: &quot;Point&quot;, &quot;coordinates&quot;: [-338.96942138671875, 54.79298400878906]}, &quot;properties&quot;: {&quot;time&quot;: &quot;1997-09-20&quot;, &quot;style&quot;: {&quot;color&quot;: &quot;#1500eaff&quot;, &quot;radius&quot;: 8.042591885771444}, &quot;icon&quot;: &quot;circle&quot;}}, {&quot;type&quot;: &quot;Feature&quot;, &quot;geometry&quot;: {&quot;type&quot;: &quot;Point&quot;, &quot;coordinates&quot;: [332.2406311035156, 27.792098999023438]}, &quot;properties&quot;: {&quot;time&quot;: &quot;1997-09-19&quot;, &quot;style&quot;: {&quot;color&quot;: &quot;#3b00c4ff&quot;, &quot;radius&quot;: 9.755335690585104}, &quot;icon&quot;: &quot;circle&quot;}}, {&quot;type&quot;: &quot;Feature&quot;, &quot;geometry&quot;: {&quot;type&quot;: &quot;Point&quot;, &quot;coordinates&quot;: [332.2406311035156, 27.792098999023438]}, &quot;properties&quot;: {&quot;time&quot;: &quot;1997-09-19&quot;, &quot;style&quot;: {&quot;color&quot;: &quot;#3b00c4ff&quot;, &quot;radius&quot;: 9.755335690585104}, &quot;icon&quot;: &quot;circle&quot;}}, {&quot;type&quot;: &quot;Feature&quot;, &quot;geometry&quot;: {&quot;type&quot;: &quot;Point&quot;, &quot;coordinates&quot;: [0.636688232421875, 36.65045166015625]}, &quot;properties&quot;: {&quot;time&quot;: &quot;1997-09-13&quot;, &quot;style&quot;: {&quot;color&quot;: &quot;#0018ceff&quot;, &quot;radius&quot;: 6.397926761306109}, &quot;icon&quot;: &quot;circle&quot;}}, {&quot;type&quot;: &quot;Feature&quot;, &quot;geometry&quot;: {&quot;type&quot;: &quot;Point&quot;, &quot;coordinates&quot;: [-359.3633117675781, 36.65045166015625]}, &quot;properties&quot;: {&quot;time&quot;: &quot;1997-09-13&quot;, &quot;style&quot;: {&quot;color&quot;: &quot;#0018ceff&quot;, &quot;radius&quot;: 6.397926761306109}, &quot;icon&quot;: &quot;circle&quot;}}]}, {\n",
              "                    pointToLayer: function (feature, latLng) {\n",
              "                        if (feature.properties.icon == &#x27;marker&#x27;) {\n",
              "                            if(feature.properties.iconstyle){\n",
              "                                return new L.Marker(latLng, {\n",
              "                                    icon: L.icon(feature.properties.iconstyle)});\n",
              "                            }\n",
              "                            //else\n",
              "                            return new L.Marker(latLng);\n",
              "                        }\n",
              "                        if (feature.properties.icon == &#x27;circle&#x27;) {\n",
              "                            if (feature.properties.iconstyle) {\n",
              "                                return new L.circleMarker(latLng, feature.properties.iconstyle)\n",
              "                                };\n",
              "                            //else\n",
              "                            return new L.circleMarker(latLng);\n",
              "                        }\n",
              "                        //else\n",
              "\n",
              "                        return new L.Marker(latLng);\n",
              "                    },\n",
              "                    style: function (feature) {\n",
              "                        return feature.properties.style;\n",
              "                    },\n",
              "                    onEachFeature: function(feature, layer) {\n",
              "                        if (feature.properties.popup) {\n",
              "                        layer.bindPopup(feature.properties.popup);\n",
              "                        }\n",
              "                    }\n",
              "                })\n",
              "\n",
              "            var timestamped_geo_json_ea0d0dfe69ea3329df2042f95a561ae5 = L.timeDimension.layer.geoJson(\n",
              "                geoJsonLayer,\n",
              "                {\n",
              "                    updateTimeDimension: true,\n",
              "                    addlastPoint: true,\n",
              "                    duration: &quot;P1M&quot;,\n",
              "                }\n",
              "            ).addTo(map_bbe7fc8df6b94d50473f783ed11e3f07);\n",
              "        \n",
              "&lt;/script&gt;\n",
              "&lt;/html&gt;\" style=\"position:absolute;width:100%;height:100%;left:0;top:0;border:none !important;\" allowfullscreen webkitallowfullscreen mozallowfullscreen></iframe></div></div>"
            ]
          },
          "metadata": {},
          "execution_count": 347
        }
      ]
    },
    {
      "cell_type": "code",
      "source": [
        "# earthquakeVisualizer(data)"
      ],
      "metadata": {
        "id": "7knTAxQORMTB"
      },
      "execution_count": null,
      "outputs": []
    },
    {
      "cell_type": "markdown",
      "source": [
        "# 모델 저장 및 불러오기"
      ],
      "metadata": {
        "id": "fdrOR2nkkkIf"
      }
    },
    {
      "cell_type": "code",
      "source": [
        "# Save the weights\n",
        "model.save_weights('./checkpoints/'+file_name)"
      ],
      "metadata": {
        "id": "A7fG1ijYkvdt"
      },
      "execution_count": null,
      "outputs": []
    },
    {
      "cell_type": "code",
      "source": [
        "# Restore the weights\n",
        "# model.load_weights('./checkpoints/'+file_name)\n",
        "model.load_weights('./checkpoints/EarthQuakePrediction_epoch_360_batch_size_1_trainFrom_1000_until_5000')"
      ],
      "metadata": {
        "id": "WQ_2fmjYmL87"
      },
      "execution_count": null,
      "outputs": []
    },
    {
      "cell_type": "code",
      "source": [
        "!pwd"
      ],
      "metadata": {
        "id": "9Yjo8E--qM4Y"
      },
      "execution_count": null,
      "outputs": []
    }
  ],
  "metadata": {
    "colab": {
      "name": "Colaboratory에 오신 것을 환영합니다",
      "provenance": [],
      "toc_visible": true,
      "include_colab_link": true
    },
    "kernelspec": {
      "display_name": "Python 3",
      "name": "python3"
    },
    "gpuClass": "standard"
  },
  "nbformat": 4,
  "nbformat_minor": 0
}