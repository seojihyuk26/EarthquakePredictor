{
  "cells": [
    {
      "cell_type": "markdown",
      "metadata": {
        "id": "view-in-github",
        "colab_type": "text"
      },
      "source": [
        "<a href=\"https://colab.research.google.com/github/seojihyuk26/EarthquakePredictor/blob/main/earthquakePredictor.ipynb\" target=\"_parent\"><img src=\"https://colab.research.google.com/assets/colab-badge.svg\" alt=\"Open In Colab\"/></a>"
      ]
    },
    {
      "cell_type": "markdown",
      "source": [
        "# 모듈 로드"
      ],
      "metadata": {
        "id": "zcv0FGZ8iPne"
      }
    },
    {
      "cell_type": "code",
      "source": [
        "import itertools\n",
        "import os\n",
        "\n",
        "import matplotlib.pylab as plt\n",
        "import numpy as np\n",
        "\n",
        "import tensorflow as tf\n",
        "import tensorflow_hub as hub\n",
        "\n",
        "print(\"TF version:\", tf.__version__)\n",
        "print(\"Hub version:\", hub.__version__)\n",
        "print(\"GPU is\", \"available\" if tf.config.list_physical_devices('GPU') else \"NOT AVAILABLE\")"
      ],
      "metadata": {
        "id": "cHFWuAzQe8g2",
        "outputId": "9c499210-7a35-41a7-ed72-558399bee726",
        "colab": {
          "base_uri": "https://localhost:8080/"
        }
      },
      "execution_count": 1,
      "outputs": [
        {
          "output_type": "stream",
          "name": "stderr",
          "text": [
            "2023-01-08 23:00:49.973013: I tensorflow/core/platform/cpu_feature_guard.cc:193] This TensorFlow binary is optimized with oneAPI Deep Neural Network Library (oneDNN) to use the following CPU instructions in performance-critical operations:  AVX2 AVX512F AVX512_VNNI FMA\n",
            "To enable them in other operations, rebuild TensorFlow with the appropriate compiler flags.\n"
          ]
        },
        {
          "output_type": "stream",
          "name": "stdout",
          "text": [
            "TF version: 2.11.0\n",
            "Hub version: 0.12.0\n",
            "GPU is NOT AVAILABLE\n"
          ]
        }
      ]
    },
    {
      "cell_type": "code",
      "source": [
        "# %tensorflow_version 2.x\n",
        "device_name = tf.test.gpu_device_name()\n",
        "if device_name == '/device:GPU:0':\n",
        "  # raise SystemError('GPU device not found')\n",
        "  print('Found GPU at: {}'.format(device_name))"
      ],
      "metadata": {
        "id": "MktbGfHZ_Yi8",
        "outputId": "e1c074fe-d753-4e03-aff9-4d6ad48f0f78",
        "colab": {
          "base_uri": "https://localhost:8080/"
        }
      },
      "execution_count": 2,
      "outputs": [
        {
          "output_type": "stream",
          "name": "stderr",
          "text": [
            "2023-01-08 23:00:55.677796: I tensorflow/core/platform/cpu_feature_guard.cc:193] This TensorFlow binary is optimized with oneAPI Deep Neural Network Library (oneDNN) to use the following CPU instructions in performance-critical operations:  AVX2 AVX512F AVX512_VNNI FMA\n",
            "To enable them in other operations, rebuild TensorFlow with the appropriate compiler flags.\n"
          ]
        }
      ]
    },
    {
      "cell_type": "code",
      "source": [
        "import pandas as pd\n",
        "from datetime import timedelta"
      ],
      "metadata": {
        "id": "gO7wLrjBkg5P"
      },
      "execution_count": 3,
      "outputs": []
    },
    {
      "cell_type": "code",
      "source": [
        "import folium\n",
        "print(\"folium version:\", folium.__version__)"
      ],
      "metadata": {
        "colab": {
          "base_uri": "https://localhost:8080/"
        },
        "id": "Vi9yCPiqlMcH",
        "outputId": "df7a8f18-ddd9-41e2-b0df-389df8da2d14"
      },
      "execution_count": 4,
      "outputs": [
        {
          "output_type": "stream",
          "name": "stdout",
          "text": [
            "folium version: 0.14.0\n"
          ]
        }
      ]
    },
    {
      "cell_type": "code",
      "source": [
        "from folium import plugins"
      ],
      "metadata": {
        "id": "mnXF-0QdpTJG"
      },
      "execution_count": 5,
      "outputs": []
    },
    {
      "cell_type": "code",
      "source": [
        "from tensorflow.keras.layers import LSTM, Dense, Attention, concatenate\n",
        "from tensorflow.keras.models import Sequential\n",
        "from tensorflow.keras import losses,layers\n",
        "from tensorflow.keras.callbacks import EarlyStopping, TerminateOnNaN\n",
        "import tensorflow.keras as keras"
      ],
      "metadata": {
        "id": "YECrIzdvISGW"
      },
      "execution_count": 6,
      "outputs": []
    },
    {
      "cell_type": "code",
      "source": [
        "import matplotlib.pyplot as plt"
      ],
      "metadata": {
        "id": "FpBUKawsSx-f"
      },
      "execution_count": 7,
      "outputs": []
    },
    {
      "cell_type": "code",
      "source": [
        "from sklearn.preprocessing import MinMaxScaler, MaxAbsScaler\n",
        "from sklearn.base import BaseEstimator, TransformerMixin\n",
        "from sklearn.compose import ColumnTransformer"
      ],
      "metadata": {
        "id": "xwgl-5yJkBU8"
      },
      "execution_count": 8,
      "outputs": []
    },
    {
      "cell_type": "code",
      "source": [
        "from tensorflow.keras.utils import plot_model"
      ],
      "metadata": {
        "id": "-8ikirqeMMw5"
      },
      "execution_count": 9,
      "outputs": []
    },
    {
      "cell_type": "code",
      "source": [
        "%load_ext tensorboard"
      ],
      "metadata": {
        "id": "dV6Nq2s0hFlY"
      },
      "execution_count": 10,
      "outputs": []
    },
    {
      "cell_type": "markdown",
      "source": [
        "# 초기 변수 설정"
      ],
      "metadata": {
        "id": "dR9s24Hu4wnb"
      }
    },
    {
      "cell_type": "code",
      "source": [
        "timesteps = 3\n",
        "batch_size = 1\n",
        "num_epochs = 10\n",
        "startIndex = 1000\n",
        "learningIndex = 5000\n",
        "test_steps = 100\n",
        "test_start_steps = 12000-learningIndex\n",
        "test_end_steps = test_start_steps + test_steps\n",
        "file_name = \"EarthQuakePrediction_epoch_\"+str(num_epochs)+\"_batch_size_\"+str(batch_size)+\"_time_steps_\"+str(timesteps)+\"_trainFrom_\"+str(startIndex)+\"_until_\"+str(learningIndex)\n",
        "svae_directory = \"/mnt/c/Users/seojihyuk/Documents/MEGAsync/2022/\""
      ],
      "metadata": {
        "id": "jLFQQOkD4u_l"
      },
      "execution_count": 11,
      "outputs": []
    },
    {
      "cell_type": "markdown",
      "source": [
        "# 데이터 입력"
      ],
      "metadata": {
        "id": "mTNxih8dib-a"
      }
    },
    {
      "cell_type": "code",
      "source": [
        "data = pd.read_csv('https://raw.githubusercontent.com/seojihyuk26/EarthquakePredictor/main/earthquake1900.csv')\n",
        "data"
      ],
      "metadata": {
        "id": "qgXdRY2HkTWd",
        "outputId": "bed66fb4-8043-45b7-e7ea-01e55f3a35f5",
        "colab": {
          "base_uri": "https://localhost:8080/",
          "height": 513
        }
      },
      "execution_count": 28,
      "outputs": [
        {
          "output_type": "execute_result",
          "data": {
            "text/plain": [
              "                           time  latitude  longitude   depth   mag\n",
              "0      2022-12-28T16:34:20.446Z  -21.2622   171.3631  10.000  6.00\n",
              "1      2022-12-20T10:34:24.770Z   40.5250  -124.4230  17.910  6.37\n",
              "2      2022-12-14T18:40:26.902Z   51.6382   178.6190  73.000  6.30\n",
              "3      2022-12-14T18:40:26.778Z   51.6199   178.6159  73.000  6.30\n",
              "4      2022-12-11T14:31:29.703Z   17.2565  -100.4369  18.346  6.00\n",
              "...                         ...       ...        ...     ...   ...\n",
              "13818  1902-11-17T19:50:00.000Z   37.4000  -113.5000     NaN  6.30\n",
              "13819  1902-01-01T05:20:30.000Z   52.3800  -167.4500     NaN  7.00\n",
              "13820  1901-12-31T09:02:30.000Z   51.4500  -171.0200     NaN  7.10\n",
              "13821  1901-12-30T22:34:00.000Z   52.0000  -160.0000     NaN  7.00\n",
              "13822  1901-03-03T07:45:00.000Z   36.0000  -120.5000     NaN  6.40\n",
              "\n",
              "[13823 rows x 5 columns]"
            ],
            "text/html": [
              "<div>\n",
              "<style scoped>\n",
              "    .dataframe tbody tr th:only-of-type {\n",
              "        vertical-align: middle;\n",
              "    }\n",
              "\n",
              "    .dataframe tbody tr th {\n",
              "        vertical-align: top;\n",
              "    }\n",
              "\n",
              "    .dataframe thead th {\n",
              "        text-align: right;\n",
              "    }\n",
              "</style>\n",
              "<table border=\"1\" class=\"dataframe\">\n",
              "  <thead>\n",
              "    <tr style=\"text-align: right;\">\n",
              "      <th></th>\n",
              "      <th>time</th>\n",
              "      <th>latitude</th>\n",
              "      <th>longitude</th>\n",
              "      <th>depth</th>\n",
              "      <th>mag</th>\n",
              "    </tr>\n",
              "  </thead>\n",
              "  <tbody>\n",
              "    <tr>\n",
              "      <th>0</th>\n",
              "      <td>2022-12-28T16:34:20.446Z</td>\n",
              "      <td>-21.2622</td>\n",
              "      <td>171.3631</td>\n",
              "      <td>10.000</td>\n",
              "      <td>6.00</td>\n",
              "    </tr>\n",
              "    <tr>\n",
              "      <th>1</th>\n",
              "      <td>2022-12-20T10:34:24.770Z</td>\n",
              "      <td>40.5250</td>\n",
              "      <td>-124.4230</td>\n",
              "      <td>17.910</td>\n",
              "      <td>6.37</td>\n",
              "    </tr>\n",
              "    <tr>\n",
              "      <th>2</th>\n",
              "      <td>2022-12-14T18:40:26.902Z</td>\n",
              "      <td>51.6382</td>\n",
              "      <td>178.6190</td>\n",
              "      <td>73.000</td>\n",
              "      <td>6.30</td>\n",
              "    </tr>\n",
              "    <tr>\n",
              "      <th>3</th>\n",
              "      <td>2022-12-14T18:40:26.778Z</td>\n",
              "      <td>51.6199</td>\n",
              "      <td>178.6159</td>\n",
              "      <td>73.000</td>\n",
              "      <td>6.30</td>\n",
              "    </tr>\n",
              "    <tr>\n",
              "      <th>4</th>\n",
              "      <td>2022-12-11T14:31:29.703Z</td>\n",
              "      <td>17.2565</td>\n",
              "      <td>-100.4369</td>\n",
              "      <td>18.346</td>\n",
              "      <td>6.00</td>\n",
              "    </tr>\n",
              "    <tr>\n",
              "      <th>...</th>\n",
              "      <td>...</td>\n",
              "      <td>...</td>\n",
              "      <td>...</td>\n",
              "      <td>...</td>\n",
              "      <td>...</td>\n",
              "    </tr>\n",
              "    <tr>\n",
              "      <th>13818</th>\n",
              "      <td>1902-11-17T19:50:00.000Z</td>\n",
              "      <td>37.4000</td>\n",
              "      <td>-113.5000</td>\n",
              "      <td>NaN</td>\n",
              "      <td>6.30</td>\n",
              "    </tr>\n",
              "    <tr>\n",
              "      <th>13819</th>\n",
              "      <td>1902-01-01T05:20:30.000Z</td>\n",
              "      <td>52.3800</td>\n",
              "      <td>-167.4500</td>\n",
              "      <td>NaN</td>\n",
              "      <td>7.00</td>\n",
              "    </tr>\n",
              "    <tr>\n",
              "      <th>13820</th>\n",
              "      <td>1901-12-31T09:02:30.000Z</td>\n",
              "      <td>51.4500</td>\n",
              "      <td>-171.0200</td>\n",
              "      <td>NaN</td>\n",
              "      <td>7.10</td>\n",
              "    </tr>\n",
              "    <tr>\n",
              "      <th>13821</th>\n",
              "      <td>1901-12-30T22:34:00.000Z</td>\n",
              "      <td>52.0000</td>\n",
              "      <td>-160.0000</td>\n",
              "      <td>NaN</td>\n",
              "      <td>7.00</td>\n",
              "    </tr>\n",
              "    <tr>\n",
              "      <th>13822</th>\n",
              "      <td>1901-03-03T07:45:00.000Z</td>\n",
              "      <td>36.0000</td>\n",
              "      <td>-120.5000</td>\n",
              "      <td>NaN</td>\n",
              "      <td>6.40</td>\n",
              "    </tr>\n",
              "  </tbody>\n",
              "</table>\n",
              "<p>13823 rows × 5 columns</p>\n",
              "</div>"
            ]
          },
          "metadata": {},
          "execution_count": 28
        }
      ]
    },
    {
      "cell_type": "code",
      "source": [
        "print(data.info())\n",
        "print(data.shape)"
      ],
      "metadata": {
        "colab": {
          "base_uri": "https://localhost:8080/"
        },
        "id": "DnSOmLzsnUWc",
        "outputId": "327af750-fe25-478c-a97e-16fedadc2e10"
      },
      "execution_count": 29,
      "outputs": [
        {
          "output_type": "stream",
          "name": "stdout",
          "text": [
            "<class 'pandas.core.frame.DataFrame'>\n",
            "RangeIndex: 13823 entries, 0 to 13822\n",
            "Data columns (total 5 columns):\n",
            " #   Column     Non-Null Count  Dtype  \n",
            "---  ------     --------------  -----  \n",
            " 0   time       13823 non-null  object \n",
            " 1   latitude   13823 non-null  float64\n",
            " 2   longitude  13823 non-null  float64\n",
            " 3   depth      13771 non-null  float64\n",
            " 4   mag        13823 non-null  float64\n",
            "dtypes: float64(4), object(1)\n",
            "memory usage: 540.1+ KB\n",
            "None\n",
            "(13823, 5)\n"
          ]
        }
      ]
    },
    {
      "cell_type": "markdown",
      "source": [
        "# 데이터 전처리"
      ],
      "metadata": {
        "id": "1fTvBK5f_lv2"
      }
    },
    {
      "cell_type": "code",
      "source": [
        "data = data.fillna(data.mean())\n",
        "data"
      ],
      "metadata": {
        "id": "U2ba-_WD_xxi",
        "outputId": "0ca4b62a-219d-4e9b-b856-c31f43915b9c",
        "colab": {
          "base_uri": "https://localhost:8080/",
          "height": 550
        }
      },
      "execution_count": 30,
      "outputs": [
        {
          "output_type": "stream",
          "name": "stderr",
          "text": [
            "/tmp/ipykernel_12704/1611534281.py:1: FutureWarning: The default value of numeric_only in DataFrame.mean is deprecated. In a future version, it will default to False. In addition, specifying 'numeric_only=None' is deprecated. Select only valid columns or specify the value of numeric_only to silence this warning.\n",
            "  data = data.fillna(data.mean())\n"
          ]
        },
        {
          "output_type": "execute_result",
          "data": {
            "text/plain": [
              "                           time  latitude  longitude      depth   mag\n",
              "0      2022-12-28T16:34:20.446Z  -21.2622   171.3631  10.000000  6.00\n",
              "1      2022-12-20T10:34:24.770Z   40.5250  -124.4230  17.910000  6.37\n",
              "2      2022-12-14T18:40:26.902Z   51.6382   178.6190  73.000000  6.30\n",
              "3      2022-12-14T18:40:26.778Z   51.6199   178.6159  73.000000  6.30\n",
              "4      2022-12-11T14:31:29.703Z   17.2565  -100.4369  18.346000  6.00\n",
              "...                         ...       ...        ...        ...   ...\n",
              "13818  1902-11-17T19:50:00.000Z   37.4000  -113.5000  56.177293  6.30\n",
              "13819  1902-01-01T05:20:30.000Z   52.3800  -167.4500  56.177293  7.00\n",
              "13820  1901-12-31T09:02:30.000Z   51.4500  -171.0200  56.177293  7.10\n",
              "13821  1901-12-30T22:34:00.000Z   52.0000  -160.0000  56.177293  7.00\n",
              "13822  1901-03-03T07:45:00.000Z   36.0000  -120.5000  56.177293  6.40\n",
              "\n",
              "[13823 rows x 5 columns]"
            ],
            "text/html": [
              "<div>\n",
              "<style scoped>\n",
              "    .dataframe tbody tr th:only-of-type {\n",
              "        vertical-align: middle;\n",
              "    }\n",
              "\n",
              "    .dataframe tbody tr th {\n",
              "        vertical-align: top;\n",
              "    }\n",
              "\n",
              "    .dataframe thead th {\n",
              "        text-align: right;\n",
              "    }\n",
              "</style>\n",
              "<table border=\"1\" class=\"dataframe\">\n",
              "  <thead>\n",
              "    <tr style=\"text-align: right;\">\n",
              "      <th></th>\n",
              "      <th>time</th>\n",
              "      <th>latitude</th>\n",
              "      <th>longitude</th>\n",
              "      <th>depth</th>\n",
              "      <th>mag</th>\n",
              "    </tr>\n",
              "  </thead>\n",
              "  <tbody>\n",
              "    <tr>\n",
              "      <th>0</th>\n",
              "      <td>2022-12-28T16:34:20.446Z</td>\n",
              "      <td>-21.2622</td>\n",
              "      <td>171.3631</td>\n",
              "      <td>10.000000</td>\n",
              "      <td>6.00</td>\n",
              "    </tr>\n",
              "    <tr>\n",
              "      <th>1</th>\n",
              "      <td>2022-12-20T10:34:24.770Z</td>\n",
              "      <td>40.5250</td>\n",
              "      <td>-124.4230</td>\n",
              "      <td>17.910000</td>\n",
              "      <td>6.37</td>\n",
              "    </tr>\n",
              "    <tr>\n",
              "      <th>2</th>\n",
              "      <td>2022-12-14T18:40:26.902Z</td>\n",
              "      <td>51.6382</td>\n",
              "      <td>178.6190</td>\n",
              "      <td>73.000000</td>\n",
              "      <td>6.30</td>\n",
              "    </tr>\n",
              "    <tr>\n",
              "      <th>3</th>\n",
              "      <td>2022-12-14T18:40:26.778Z</td>\n",
              "      <td>51.6199</td>\n",
              "      <td>178.6159</td>\n",
              "      <td>73.000000</td>\n",
              "      <td>6.30</td>\n",
              "    </tr>\n",
              "    <tr>\n",
              "      <th>4</th>\n",
              "      <td>2022-12-11T14:31:29.703Z</td>\n",
              "      <td>17.2565</td>\n",
              "      <td>-100.4369</td>\n",
              "      <td>18.346000</td>\n",
              "      <td>6.00</td>\n",
              "    </tr>\n",
              "    <tr>\n",
              "      <th>...</th>\n",
              "      <td>...</td>\n",
              "      <td>...</td>\n",
              "      <td>...</td>\n",
              "      <td>...</td>\n",
              "      <td>...</td>\n",
              "    </tr>\n",
              "    <tr>\n",
              "      <th>13818</th>\n",
              "      <td>1902-11-17T19:50:00.000Z</td>\n",
              "      <td>37.4000</td>\n",
              "      <td>-113.5000</td>\n",
              "      <td>56.177293</td>\n",
              "      <td>6.30</td>\n",
              "    </tr>\n",
              "    <tr>\n",
              "      <th>13819</th>\n",
              "      <td>1902-01-01T05:20:30.000Z</td>\n",
              "      <td>52.3800</td>\n",
              "      <td>-167.4500</td>\n",
              "      <td>56.177293</td>\n",
              "      <td>7.00</td>\n",
              "    </tr>\n",
              "    <tr>\n",
              "      <th>13820</th>\n",
              "      <td>1901-12-31T09:02:30.000Z</td>\n",
              "      <td>51.4500</td>\n",
              "      <td>-171.0200</td>\n",
              "      <td>56.177293</td>\n",
              "      <td>7.10</td>\n",
              "    </tr>\n",
              "    <tr>\n",
              "      <th>13821</th>\n",
              "      <td>1901-12-30T22:34:00.000Z</td>\n",
              "      <td>52.0000</td>\n",
              "      <td>-160.0000</td>\n",
              "      <td>56.177293</td>\n",
              "      <td>7.00</td>\n",
              "    </tr>\n",
              "    <tr>\n",
              "      <th>13822</th>\n",
              "      <td>1901-03-03T07:45:00.000Z</td>\n",
              "      <td>36.0000</td>\n",
              "      <td>-120.5000</td>\n",
              "      <td>56.177293</td>\n",
              "      <td>6.40</td>\n",
              "    </tr>\n",
              "  </tbody>\n",
              "</table>\n",
              "<p>13823 rows × 5 columns</p>\n",
              "</div>"
            ]
          },
          "metadata": {},
          "execution_count": 30
        }
      ]
    },
    {
      "cell_type": "code",
      "source": [
        "dataEdited = data.iloc[::-1]\n",
        "dataEdited"
      ],
      "metadata": {
        "colab": {
          "base_uri": "https://localhost:8080/",
          "height": 513
        },
        "id": "fiyw_opCPFmo",
        "outputId": "c98349a2-015d-4b48-a958-55f1c6a06bbc"
      },
      "execution_count": 31,
      "outputs": [
        {
          "output_type": "execute_result",
          "data": {
            "text/plain": [
              "                           time  latitude  longitude      depth   mag\n",
              "13822  1901-03-03T07:45:00.000Z   36.0000  -120.5000  56.177293  6.40\n",
              "13821  1901-12-30T22:34:00.000Z   52.0000  -160.0000  56.177293  7.00\n",
              "13820  1901-12-31T09:02:30.000Z   51.4500  -171.0200  56.177293  7.10\n",
              "13819  1902-01-01T05:20:30.000Z   52.3800  -167.4500  56.177293  7.00\n",
              "13818  1902-11-17T19:50:00.000Z   37.4000  -113.5000  56.177293  6.30\n",
              "...                         ...       ...        ...        ...   ...\n",
              "4      2022-12-11T14:31:29.703Z   17.2565  -100.4369  18.346000  6.00\n",
              "3      2022-12-14T18:40:26.778Z   51.6199   178.6159  73.000000  6.30\n",
              "2      2022-12-14T18:40:26.902Z   51.6382   178.6190  73.000000  6.30\n",
              "1      2022-12-20T10:34:24.770Z   40.5250  -124.4230  17.910000  6.37\n",
              "0      2022-12-28T16:34:20.446Z  -21.2622   171.3631  10.000000  6.00\n",
              "\n",
              "[13823 rows x 5 columns]"
            ],
            "text/html": [
              "<div>\n",
              "<style scoped>\n",
              "    .dataframe tbody tr th:only-of-type {\n",
              "        vertical-align: middle;\n",
              "    }\n",
              "\n",
              "    .dataframe tbody tr th {\n",
              "        vertical-align: top;\n",
              "    }\n",
              "\n",
              "    .dataframe thead th {\n",
              "        text-align: right;\n",
              "    }\n",
              "</style>\n",
              "<table border=\"1\" class=\"dataframe\">\n",
              "  <thead>\n",
              "    <tr style=\"text-align: right;\">\n",
              "      <th></th>\n",
              "      <th>time</th>\n",
              "      <th>latitude</th>\n",
              "      <th>longitude</th>\n",
              "      <th>depth</th>\n",
              "      <th>mag</th>\n",
              "    </tr>\n",
              "  </thead>\n",
              "  <tbody>\n",
              "    <tr>\n",
              "      <th>13822</th>\n",
              "      <td>1901-03-03T07:45:00.000Z</td>\n",
              "      <td>36.0000</td>\n",
              "      <td>-120.5000</td>\n",
              "      <td>56.177293</td>\n",
              "      <td>6.40</td>\n",
              "    </tr>\n",
              "    <tr>\n",
              "      <th>13821</th>\n",
              "      <td>1901-12-30T22:34:00.000Z</td>\n",
              "      <td>52.0000</td>\n",
              "      <td>-160.0000</td>\n",
              "      <td>56.177293</td>\n",
              "      <td>7.00</td>\n",
              "    </tr>\n",
              "    <tr>\n",
              "      <th>13820</th>\n",
              "      <td>1901-12-31T09:02:30.000Z</td>\n",
              "      <td>51.4500</td>\n",
              "      <td>-171.0200</td>\n",
              "      <td>56.177293</td>\n",
              "      <td>7.10</td>\n",
              "    </tr>\n",
              "    <tr>\n",
              "      <th>13819</th>\n",
              "      <td>1902-01-01T05:20:30.000Z</td>\n",
              "      <td>52.3800</td>\n",
              "      <td>-167.4500</td>\n",
              "      <td>56.177293</td>\n",
              "      <td>7.00</td>\n",
              "    </tr>\n",
              "    <tr>\n",
              "      <th>13818</th>\n",
              "      <td>1902-11-17T19:50:00.000Z</td>\n",
              "      <td>37.4000</td>\n",
              "      <td>-113.5000</td>\n",
              "      <td>56.177293</td>\n",
              "      <td>6.30</td>\n",
              "    </tr>\n",
              "    <tr>\n",
              "      <th>...</th>\n",
              "      <td>...</td>\n",
              "      <td>...</td>\n",
              "      <td>...</td>\n",
              "      <td>...</td>\n",
              "      <td>...</td>\n",
              "    </tr>\n",
              "    <tr>\n",
              "      <th>4</th>\n",
              "      <td>2022-12-11T14:31:29.703Z</td>\n",
              "      <td>17.2565</td>\n",
              "      <td>-100.4369</td>\n",
              "      <td>18.346000</td>\n",
              "      <td>6.00</td>\n",
              "    </tr>\n",
              "    <tr>\n",
              "      <th>3</th>\n",
              "      <td>2022-12-14T18:40:26.778Z</td>\n",
              "      <td>51.6199</td>\n",
              "      <td>178.6159</td>\n",
              "      <td>73.000000</td>\n",
              "      <td>6.30</td>\n",
              "    </tr>\n",
              "    <tr>\n",
              "      <th>2</th>\n",
              "      <td>2022-12-14T18:40:26.902Z</td>\n",
              "      <td>51.6382</td>\n",
              "      <td>178.6190</td>\n",
              "      <td>73.000000</td>\n",
              "      <td>6.30</td>\n",
              "    </tr>\n",
              "    <tr>\n",
              "      <th>1</th>\n",
              "      <td>2022-12-20T10:34:24.770Z</td>\n",
              "      <td>40.5250</td>\n",
              "      <td>-124.4230</td>\n",
              "      <td>17.910000</td>\n",
              "      <td>6.37</td>\n",
              "    </tr>\n",
              "    <tr>\n",
              "      <th>0</th>\n",
              "      <td>2022-12-28T16:34:20.446Z</td>\n",
              "      <td>-21.2622</td>\n",
              "      <td>171.3631</td>\n",
              "      <td>10.000000</td>\n",
              "      <td>6.00</td>\n",
              "    </tr>\n",
              "  </tbody>\n",
              "</table>\n",
              "<p>13823 rows × 5 columns</p>\n",
              "</div>"
            ]
          },
          "metadata": {},
          "execution_count": 31
        }
      ]
    },
    {
      "cell_type": "code",
      "source": [
        "# Convert the time column to datetime\n",
        "dataEdited['time'] = pd.to_datetime(dataEdited['time'])\n",
        "dataEdited['original_time'] = dataEdited['time']#pd.Timestamp.to_datetime64()\n",
        "\n",
        "# Calculate the time difference between each time step\n",
        "dataEdited['time'] = dataEdited['time'].dt.date.diff().dt.days\n",
        "\n",
        "dataEdited.loc[dataEdited.shape[0]-1,\"time\"] = 0\n",
        "\n",
        "dataEdited"
      ],
      "metadata": {
        "colab": {
          "base_uri": "https://localhost:8080/",
          "height": 687
        },
        "id": "2foZ0ZVsV7pI",
        "outputId": "b0020536-1515-4aeb-ec74-d7e6f942f688"
      },
      "execution_count": 32,
      "outputs": [
        {
          "output_type": "execute_result",
          "data": {
            "text/plain": [
              "        time  latitude  longitude      depth   mag  \\\n",
              "13822    0.0   36.0000  -120.5000  56.177293  6.40   \n",
              "13821  302.0   52.0000  -160.0000  56.177293  7.00   \n",
              "13820    1.0   51.4500  -171.0200  56.177293  7.10   \n",
              "13819    1.0   52.3800  -167.4500  56.177293  7.00   \n",
              "13818  320.0   37.4000  -113.5000  56.177293  6.30   \n",
              "...      ...       ...        ...        ...   ...   \n",
              "4        7.0   17.2565  -100.4369  18.346000  6.00   \n",
              "3        3.0   51.6199   178.6159  73.000000  6.30   \n",
              "2        0.0   51.6382   178.6190  73.000000  6.30   \n",
              "1        6.0   40.5250  -124.4230  17.910000  6.37   \n",
              "0        8.0  -21.2622   171.3631  10.000000  6.00   \n",
              "\n",
              "                         original_time  \n",
              "13822        1901-03-03 07:45:00+00:00  \n",
              "13821        1901-12-30 22:34:00+00:00  \n",
              "13820        1901-12-31 09:02:30+00:00  \n",
              "13819        1902-01-01 05:20:30+00:00  \n",
              "13818        1902-11-17 19:50:00+00:00  \n",
              "...                                ...  \n",
              "4     2022-12-11 14:31:29.703000+00:00  \n",
              "3     2022-12-14 18:40:26.778000+00:00  \n",
              "2     2022-12-14 18:40:26.902000+00:00  \n",
              "1     2022-12-20 10:34:24.770000+00:00  \n",
              "0     2022-12-28 16:34:20.446000+00:00  \n",
              "\n",
              "[13823 rows x 6 columns]"
            ],
            "text/html": [
              "<div>\n",
              "<style scoped>\n",
              "    .dataframe tbody tr th:only-of-type {\n",
              "        vertical-align: middle;\n",
              "    }\n",
              "\n",
              "    .dataframe tbody tr th {\n",
              "        vertical-align: top;\n",
              "    }\n",
              "\n",
              "    .dataframe thead th {\n",
              "        text-align: right;\n",
              "    }\n",
              "</style>\n",
              "<table border=\"1\" class=\"dataframe\">\n",
              "  <thead>\n",
              "    <tr style=\"text-align: right;\">\n",
              "      <th></th>\n",
              "      <th>time</th>\n",
              "      <th>latitude</th>\n",
              "      <th>longitude</th>\n",
              "      <th>depth</th>\n",
              "      <th>mag</th>\n",
              "      <th>original_time</th>\n",
              "    </tr>\n",
              "  </thead>\n",
              "  <tbody>\n",
              "    <tr>\n",
              "      <th>13822</th>\n",
              "      <td>0.0</td>\n",
              "      <td>36.0000</td>\n",
              "      <td>-120.5000</td>\n",
              "      <td>56.177293</td>\n",
              "      <td>6.40</td>\n",
              "      <td>1901-03-03 07:45:00+00:00</td>\n",
              "    </tr>\n",
              "    <tr>\n",
              "      <th>13821</th>\n",
              "      <td>302.0</td>\n",
              "      <td>52.0000</td>\n",
              "      <td>-160.0000</td>\n",
              "      <td>56.177293</td>\n",
              "      <td>7.00</td>\n",
              "      <td>1901-12-30 22:34:00+00:00</td>\n",
              "    </tr>\n",
              "    <tr>\n",
              "      <th>13820</th>\n",
              "      <td>1.0</td>\n",
              "      <td>51.4500</td>\n",
              "      <td>-171.0200</td>\n",
              "      <td>56.177293</td>\n",
              "      <td>7.10</td>\n",
              "      <td>1901-12-31 09:02:30+00:00</td>\n",
              "    </tr>\n",
              "    <tr>\n",
              "      <th>13819</th>\n",
              "      <td>1.0</td>\n",
              "      <td>52.3800</td>\n",
              "      <td>-167.4500</td>\n",
              "      <td>56.177293</td>\n",
              "      <td>7.00</td>\n",
              "      <td>1902-01-01 05:20:30+00:00</td>\n",
              "    </tr>\n",
              "    <tr>\n",
              "      <th>13818</th>\n",
              "      <td>320.0</td>\n",
              "      <td>37.4000</td>\n",
              "      <td>-113.5000</td>\n",
              "      <td>56.177293</td>\n",
              "      <td>6.30</td>\n",
              "      <td>1902-11-17 19:50:00+00:00</td>\n",
              "    </tr>\n",
              "    <tr>\n",
              "      <th>...</th>\n",
              "      <td>...</td>\n",
              "      <td>...</td>\n",
              "      <td>...</td>\n",
              "      <td>...</td>\n",
              "      <td>...</td>\n",
              "      <td>...</td>\n",
              "    </tr>\n",
              "    <tr>\n",
              "      <th>4</th>\n",
              "      <td>7.0</td>\n",
              "      <td>17.2565</td>\n",
              "      <td>-100.4369</td>\n",
              "      <td>18.346000</td>\n",
              "      <td>6.00</td>\n",
              "      <td>2022-12-11 14:31:29.703000+00:00</td>\n",
              "    </tr>\n",
              "    <tr>\n",
              "      <th>3</th>\n",
              "      <td>3.0</td>\n",
              "      <td>51.6199</td>\n",
              "      <td>178.6159</td>\n",
              "      <td>73.000000</td>\n",
              "      <td>6.30</td>\n",
              "      <td>2022-12-14 18:40:26.778000+00:00</td>\n",
              "    </tr>\n",
              "    <tr>\n",
              "      <th>2</th>\n",
              "      <td>0.0</td>\n",
              "      <td>51.6382</td>\n",
              "      <td>178.6190</td>\n",
              "      <td>73.000000</td>\n",
              "      <td>6.30</td>\n",
              "      <td>2022-12-14 18:40:26.902000+00:00</td>\n",
              "    </tr>\n",
              "    <tr>\n",
              "      <th>1</th>\n",
              "      <td>6.0</td>\n",
              "      <td>40.5250</td>\n",
              "      <td>-124.4230</td>\n",
              "      <td>17.910000</td>\n",
              "      <td>6.37</td>\n",
              "      <td>2022-12-20 10:34:24.770000+00:00</td>\n",
              "    </tr>\n",
              "    <tr>\n",
              "      <th>0</th>\n",
              "      <td>8.0</td>\n",
              "      <td>-21.2622</td>\n",
              "      <td>171.3631</td>\n",
              "      <td>10.000000</td>\n",
              "      <td>6.00</td>\n",
              "      <td>2022-12-28 16:34:20.446000+00:00</td>\n",
              "    </tr>\n",
              "  </tbody>\n",
              "</table>\n",
              "<p>13823 rows × 6 columns</p>\n",
              "</div>"
            ]
          },
          "metadata": {},
          "execution_count": 32
        }
      ]
    },
    {
      "cell_type": "code",
      "source": [
        "class DivideColumns(BaseEstimator, TransformerMixin):\n",
        "    def __init__(self, factor=1, columns=None):\n",
        "        self.factor = factor\n",
        "        self.columns = columns\n",
        "    \n",
        "    def fit(self, X, y=None):\n",
        "        return self\n",
        "\n",
        "    def transform(self, X, y=None):\n",
        "        cols_to_transform = list(X.columns)\n",
        "\n",
        "        if self.columns:\n",
        "            cols_to_transform = self.columns\n",
        "\n",
        "        X[cols_to_transform] = X[cols_to_transform] / self.factor\n",
        "        return X\n",
        "\n",
        "    def inverse_transform(self, X, y=None):\n",
        "        cols_to_transform = list(X.columns)\n",
        "\n",
        "        if self.columns:\n",
        "            cols_to_transform = self.columns\n",
        "\n",
        "        X[cols_to_transform] = X[cols_to_transform] * self.factor\n",
        "        return X"
      ],
      "metadata": {
        "id": "Jwn49O80RYk3"
      },
      "execution_count": 33,
      "outputs": []
    },
    {
      "cell_type": "code",
      "source": [
        "class FixedMinMaxScaler(BaseEstimator, TransformerMixin):\n",
        "    def __init__(self, min=0, columns=None):\n",
        "        self.min = min\n",
        "        self.columns = columns\n",
        "        self.length = 1\n",
        "    \n",
        "    def fit(self, X, y=None):\n",
        "        cols_to_transform = list(X.columns)\n",
        "\n",
        "        if self.columns:\n",
        "            cols_to_transform = self.columns\n",
        "        if X[cols_to_transform].max()[0]-self.min <= 0:\n",
        "            self.length = 0.0000001\n",
        "        else:\n",
        "            self.length = X[cols_to_transform].max()[0]-self.min\n",
        "        return self\n",
        "\n",
        "    def transform(self, X, y=None):\n",
        "        cols_to_transform = list(X.columns)\n",
        "\n",
        "        if self.columns:\n",
        "            cols_to_transform = self.columns\n",
        "        X[cols_to_transform] = (X[cols_to_transform] - self.min)/self.length\n",
        "        return X\n",
        "\n",
        "    def inverse_transform(self, X, y=None):\n",
        "        cols_to_transform = list(X.columns)\n",
        "\n",
        "        if self.columns:\n",
        "            cols_to_transform = self.columns\n",
        "\n",
        "        X[cols_to_transform] = X[cols_to_transform]*self.length + self.min\n",
        "        return X"
      ],
      "metadata": {
        "id": "suQbiYmCTZkP"
      },
      "execution_count": 34,
      "outputs": []
    },
    {
      "cell_type": "code",
      "source": [
        "pipe = ColumnTransformer(transformers=[\n",
        "    (\"time\", FixedMinMaxScaler(),[\"time\"]),\n",
        "    (\"latitude\", DivideColumns(90),[\"latitude\"]),\n",
        "    (\"longitude\", DivideColumns(180),[\"longitude\"]),\n",
        "    (\"depth\", FixedMinMaxScaler(),[\"depth\"]),\n",
        "    (\"mag\", FixedMinMaxScaler(6),[\"mag\"]),\n",
        "    ('original_time', 'passthrough',[\"original_time\"])\n",
        "])\n",
        "data_scaled = pipe.fit_transform(dataEdited)\n",
        "data_scaled = pd.DataFrame(data_scaled, index=dataEdited.index, columns=dataEdited.columns)\n",
        "data_scaled"
      ],
      "metadata": {
        "colab": {
          "base_uri": "https://localhost:8080/",
          "height": 687
        },
        "id": "iQfb_kBEKstT",
        "outputId": "66e35d69-a84a-4280-d98f-97034065bfeb"
      },
      "execution_count": 35,
      "outputs": [
        {
          "output_type": "execute_result",
          "data": {
            "text/plain": [
              "           time  latitude longitude     depth       mag  \\\n",
              "13822       0.0       0.4 -0.669444  0.081653  0.114286   \n",
              "13821   0.94375  0.577778 -0.888889  0.081653  0.285714   \n",
              "13820  0.003125  0.571667 -0.950111  0.081653  0.314286   \n",
              "13819  0.003125     0.582 -0.930278  0.081653  0.285714   \n",
              "13818       1.0  0.415556 -0.630556  0.081653  0.085714   \n",
              "...         ...       ...       ...       ...       ...   \n",
              "4      0.021875  0.191739 -0.557983  0.026666       0.0   \n",
              "3      0.009375  0.573554  0.992311  0.106105  0.085714   \n",
              "2           0.0  0.573758  0.992328  0.106105  0.085714   \n",
              "1       0.01875  0.450278 -0.691239  0.026032  0.105714   \n",
              "0         0.025 -0.236247  0.952017  0.014535       0.0   \n",
              "\n",
              "                         original_time  \n",
              "13822        1901-03-03 07:45:00+00:00  \n",
              "13821        1901-12-30 22:34:00+00:00  \n",
              "13820        1901-12-31 09:02:30+00:00  \n",
              "13819        1902-01-01 05:20:30+00:00  \n",
              "13818        1902-11-17 19:50:00+00:00  \n",
              "...                                ...  \n",
              "4     2022-12-11 14:31:29.703000+00:00  \n",
              "3     2022-12-14 18:40:26.778000+00:00  \n",
              "2     2022-12-14 18:40:26.902000+00:00  \n",
              "1     2022-12-20 10:34:24.770000+00:00  \n",
              "0     2022-12-28 16:34:20.446000+00:00  \n",
              "\n",
              "[13823 rows x 6 columns]"
            ],
            "text/html": [
              "<div>\n",
              "<style scoped>\n",
              "    .dataframe tbody tr th:only-of-type {\n",
              "        vertical-align: middle;\n",
              "    }\n",
              "\n",
              "    .dataframe tbody tr th {\n",
              "        vertical-align: top;\n",
              "    }\n",
              "\n",
              "    .dataframe thead th {\n",
              "        text-align: right;\n",
              "    }\n",
              "</style>\n",
              "<table border=\"1\" class=\"dataframe\">\n",
              "  <thead>\n",
              "    <tr style=\"text-align: right;\">\n",
              "      <th></th>\n",
              "      <th>time</th>\n",
              "      <th>latitude</th>\n",
              "      <th>longitude</th>\n",
              "      <th>depth</th>\n",
              "      <th>mag</th>\n",
              "      <th>original_time</th>\n",
              "    </tr>\n",
              "  </thead>\n",
              "  <tbody>\n",
              "    <tr>\n",
              "      <th>13822</th>\n",
              "      <td>0.0</td>\n",
              "      <td>0.4</td>\n",
              "      <td>-0.669444</td>\n",
              "      <td>0.081653</td>\n",
              "      <td>0.114286</td>\n",
              "      <td>1901-03-03 07:45:00+00:00</td>\n",
              "    </tr>\n",
              "    <tr>\n",
              "      <th>13821</th>\n",
              "      <td>0.94375</td>\n",
              "      <td>0.577778</td>\n",
              "      <td>-0.888889</td>\n",
              "      <td>0.081653</td>\n",
              "      <td>0.285714</td>\n",
              "      <td>1901-12-30 22:34:00+00:00</td>\n",
              "    </tr>\n",
              "    <tr>\n",
              "      <th>13820</th>\n",
              "      <td>0.003125</td>\n",
              "      <td>0.571667</td>\n",
              "      <td>-0.950111</td>\n",
              "      <td>0.081653</td>\n",
              "      <td>0.314286</td>\n",
              "      <td>1901-12-31 09:02:30+00:00</td>\n",
              "    </tr>\n",
              "    <tr>\n",
              "      <th>13819</th>\n",
              "      <td>0.003125</td>\n",
              "      <td>0.582</td>\n",
              "      <td>-0.930278</td>\n",
              "      <td>0.081653</td>\n",
              "      <td>0.285714</td>\n",
              "      <td>1902-01-01 05:20:30+00:00</td>\n",
              "    </tr>\n",
              "    <tr>\n",
              "      <th>13818</th>\n",
              "      <td>1.0</td>\n",
              "      <td>0.415556</td>\n",
              "      <td>-0.630556</td>\n",
              "      <td>0.081653</td>\n",
              "      <td>0.085714</td>\n",
              "      <td>1902-11-17 19:50:00+00:00</td>\n",
              "    </tr>\n",
              "    <tr>\n",
              "      <th>...</th>\n",
              "      <td>...</td>\n",
              "      <td>...</td>\n",
              "      <td>...</td>\n",
              "      <td>...</td>\n",
              "      <td>...</td>\n",
              "      <td>...</td>\n",
              "    </tr>\n",
              "    <tr>\n",
              "      <th>4</th>\n",
              "      <td>0.021875</td>\n",
              "      <td>0.191739</td>\n",
              "      <td>-0.557983</td>\n",
              "      <td>0.026666</td>\n",
              "      <td>0.0</td>\n",
              "      <td>2022-12-11 14:31:29.703000+00:00</td>\n",
              "    </tr>\n",
              "    <tr>\n",
              "      <th>3</th>\n",
              "      <td>0.009375</td>\n",
              "      <td>0.573554</td>\n",
              "      <td>0.992311</td>\n",
              "      <td>0.106105</td>\n",
              "      <td>0.085714</td>\n",
              "      <td>2022-12-14 18:40:26.778000+00:00</td>\n",
              "    </tr>\n",
              "    <tr>\n",
              "      <th>2</th>\n",
              "      <td>0.0</td>\n",
              "      <td>0.573758</td>\n",
              "      <td>0.992328</td>\n",
              "      <td>0.106105</td>\n",
              "      <td>0.085714</td>\n",
              "      <td>2022-12-14 18:40:26.902000+00:00</td>\n",
              "    </tr>\n",
              "    <tr>\n",
              "      <th>1</th>\n",
              "      <td>0.01875</td>\n",
              "      <td>0.450278</td>\n",
              "      <td>-0.691239</td>\n",
              "      <td>0.026032</td>\n",
              "      <td>0.105714</td>\n",
              "      <td>2022-12-20 10:34:24.770000+00:00</td>\n",
              "    </tr>\n",
              "    <tr>\n",
              "      <th>0</th>\n",
              "      <td>0.025</td>\n",
              "      <td>-0.236247</td>\n",
              "      <td>0.952017</td>\n",
              "      <td>0.014535</td>\n",
              "      <td>0.0</td>\n",
              "      <td>2022-12-28 16:34:20.446000+00:00</td>\n",
              "    </tr>\n",
              "  </tbody>\n",
              "</table>\n",
              "<p>13823 rows × 6 columns</p>\n",
              "</div>"
            ]
          },
          "metadata": {},
          "execution_count": 35
        }
      ]
    },
    {
      "cell_type": "code",
      "source": [
        "def seq2dataset(seq, window_size):\n",
        "    dataset = []\n",
        "    # print(seq.dtypes)\n",
        "    for i in range(len(seq)-window_size):\n",
        "        subset = seq[i:(i+window_size+1)]\n",
        "        dataset.append(subset)\n",
        "    # print(dataset.dtype)\n",
        "    return np.array(dataset)"
      ],
      "metadata": {
        "id": "X1JywYSkNcbW"
      },
      "execution_count": 36,
      "outputs": []
    },
    {
      "cell_type": "code",
      "source": [
        "dataset = seq2dataset(data_scaled.iloc[startIndex:learningIndex,:5], timesteps)\n",
        "X_train = dataset[:,0:timesteps]\n",
        "y_train = dataset[:,timesteps]"
      ],
      "metadata": {
        "id": "jx3RabLNLDD4"
      },
      "execution_count": 37,
      "outputs": []
    },
    {
      "cell_type": "code",
      "source": [
        "#X_train[0:3]"
      ],
      "metadata": {
        "id": "B5WJibj5sF4l"
      },
      "execution_count": 38,
      "outputs": []
    },
    {
      "cell_type": "code",
      "source": [
        "#y_train[0:3]"
      ],
      "metadata": {
        "id": "VwbRDcuvsHUt"
      },
      "execution_count": 39,
      "outputs": []
    },
    {
      "cell_type": "code",
      "source": [
        "print(\"input data shape : \", X_train.shape, \", result shape: \", y_train.shape)"
      ],
      "metadata": {
        "colab": {
          "base_uri": "https://localhost:8080/"
        },
        "id": "D202IJRFrxOI",
        "outputId": "20c41204-d9ea-4959-cca4-475b8a7767e7"
      },
      "execution_count": 40,
      "outputs": [
        {
          "output_type": "stream",
          "name": "stdout",
          "text": [
            "input data shape :  (3997, 3, 5) , result shape:  (3997, 5)\n"
          ]
        }
      ]
    },
    {
      "cell_type": "code",
      "source": [
        "dataset_test = seq2dataset(data_scaled[learningIndex:], timesteps)\n",
        "X_test = dataset_test[:,0:timesteps]\n",
        "y_test = dataset_test[:,timesteps]\n",
        "y_test = tf.convert_to_tensor(y_test[:,:5], tf.float32)\n",
        "# y_test = y_test.numpy()"
      ],
      "metadata": {
        "id": "6Aa_kEgtUJp8"
      },
      "execution_count": 41,
      "outputs": []
    },
    {
      "cell_type": "code",
      "source": [
        "X_test[0:3]"
      ],
      "metadata": {
        "colab": {
          "base_uri": "https://localhost:8080/"
        },
        "id": "TAhip_S0sZGj",
        "outputId": "4afcca41-3541-48ce-cebd-ea88704f4d33"
      },
      "execution_count": 42,
      "outputs": [
        {
          "output_type": "execute_result",
          "data": {
            "text/plain": [
              "array([[[0.059375, -0.03671111111111111, 0.818111111111111,\n",
              "         0.036337209302325583, 0.034285714285714315,\n",
              "         Timestamp('1958-05-17 07:02:32.250000+0000', tz='UTC')],\n",
              "        [0.003125, -0.14609999999999998, 0.9265555555555556,\n",
              "         0.06540697674418605, 0.07428571428571422,\n",
              "         Timestamp('1958-05-18 02:33:00.190000+0000', tz='UTC')],\n",
              "        [0.0, -0.14735555555555557, 0.9267055555555554,\n",
              "         0.06540697674418605, 0.06571428571428584,\n",
              "         Timestamp('1958-05-18 12:21:24.410000+0000', tz='UTC')]],\n",
              "\n",
              "       [[0.003125, -0.14609999999999998, 0.9265555555555556,\n",
              "         0.06540697674418605, 0.07428571428571422,\n",
              "         Timestamp('1958-05-18 02:33:00.190000+0000', tz='UTC')],\n",
              "        [0.0, -0.14735555555555557, 0.9267055555555554,\n",
              "         0.06540697674418605, 0.06571428571428584,\n",
              "         Timestamp('1958-05-18 12:21:24.410000+0000', tz='UTC')],\n",
              "        [0.0125, -0.037288888888888885, 0.8137777777777777,\n",
              "         0.036337209302325583, 0.06857142857142863,\n",
              "         Timestamp('1958-05-22 15:08:07.990000+0000', tz='UTC')]],\n",
              "\n",
              "       [[0.0, -0.14735555555555557, 0.9267055555555554,\n",
              "         0.06540697674418605, 0.06571428571428584,\n",
              "         Timestamp('1958-05-18 12:21:24.410000+0000', tz='UTC')],\n",
              "        [0.0125, -0.037288888888888885, 0.8137777777777777,\n",
              "         0.036337209302325583, 0.06857142857142863,\n",
              "         Timestamp('1958-05-22 15:08:07.990000+0000', tz='UTC')],\n",
              "        [0.009375, -0.035944444444444446, -0.43265, 0.06656976744186047,\n",
              "         0.054285714285714395,\n",
              "         Timestamp('1958-05-25 21:11:45.800000+0000', tz='UTC')]]],\n",
              "      dtype=object)"
            ]
          },
          "metadata": {},
          "execution_count": 42
        }
      ]
    },
    {
      "cell_type": "code",
      "source": [
        "y_test[0:3]"
      ],
      "metadata": {
        "colab": {
          "base_uri": "https://localhost:8080/"
        },
        "id": "u6g_qJqksdVt",
        "outputId": "16fbf656-65e0-4fe0-d4a4-6712799dafed"
      },
      "execution_count": 43,
      "outputs": [
        {
          "output_type": "execute_result",
          "data": {
            "text/plain": [
              "<tf.Tensor: shape=(3, 5), dtype=float32, numpy=\n",
              "array([[ 0.0125    , -0.03728889,  0.8137778 ,  0.03633721,  0.06857143],\n",
              "       [ 0.009375  , -0.03594444, -0.43265   ,  0.06656977,  0.05428571],\n",
              "       [ 0.015625  ,  0.5819111 , -0.93730557,  0.05087209,  0.03142857]],\n",
              "      dtype=float32)>"
            ]
          },
          "metadata": {},
          "execution_count": 43
        }
      ]
    },
    {
      "cell_type": "code",
      "source": [
        "print(\"input data shape : \", X_test.shape, \", result shape: \", y_test.shape)"
      ],
      "metadata": {
        "colab": {
          "base_uri": "https://localhost:8080/"
        },
        "id": "smRXOF35smqo",
        "outputId": "7489745d-7a65-4653-d49a-a1344d3c4be9"
      },
      "execution_count": 44,
      "outputs": [
        {
          "output_type": "stream",
          "name": "stdout",
          "text": [
            "input data shape :  (8820, 3, 6) , result shape:  (8820, 5)\n"
          ]
        }
      ]
    },
    {
      "cell_type": "markdown",
      "source": [
        "# lstm 모델"
      ],
      "metadata": {
        "id": "bvoVhZGxIHvJ"
      }
    },
    {
      "cell_type": "code",
      "source": [
        "# Assume that your input data has shape (batch_size, timesteps, input_dim)\n",
        "input_dim = 5\n",
        "output_dim = 5\n",
        "LSTM_layer = []\n",
        "with tf.device('/device:GPU:0'):\n",
        "  inputs = keras.Input(shape=(timesteps, input_dim),batch_size=batch_size) #batch_size\n",
        "  # inputsDense = Dense(5)(inputs)\n",
        "  # model = Sequential()\n",
        "  LSTM_layer.append(LSTM(64,stateful=True)(inputs)) #kernel_initializer=tf.keras.initializers.RandomNormal(mean=0.0, stddev=0.00001, seed=7)  , input_shape=(batch_size,timesteps, input_dim)\n",
        "  # LSTM_layer.append(LSTM(64, return_sequences=True, stateful=True)(LSTM_layer[-1])) #kernel_initializer=tf.keras.initializers.RandomNormal(mean=0.0, stddev=0.00001, seed=7)  , input_shape=(batch_size,timesteps, input_dim)\n",
        "  # model.add(Attention())\n",
        "  # model.add(LSTM(64,stateful=True))\n",
        "  # model.add(Dense(output_dim))\n",
        "  time = Dense(1,activation='sigmoid', name=\"time\")(LSTM_layer[-1])\n",
        "  position = Dense(2, name=\"position\")(LSTM_layer[-1])\n",
        "  depth = Dense(1,activation='sigmoid', name=\"depth\")(LSTM_layer[-1])\n",
        "  mag = Dense(1, name=\"mag\")(LSTM_layer[-1])\n",
        "  outputs = concatenate([time, position,depth,mag])\n",
        "\n",
        "  model = keras.Model(\n",
        "    inputs=[inputs],\n",
        "    outputs=[outputs],\n",
        ")\n",
        "\n",
        "model.summary()"
      ],
      "metadata": {
        "id": "2lVNJZyAIO3K",
        "colab": {
          "base_uri": "https://localhost:8080/"
        },
        "outputId": "98510827-94ba-489c-f6f7-5e74b4b90381"
      },
      "execution_count": 13,
      "outputs": [
        {
          "output_type": "stream",
          "name": "stderr",
          "text": [
            "2023-01-08 23:01:13.792187: I tensorflow/core/common_runtime/process_util.cc:146] Creating new thread pool with default inter op setting: \n"
          ]
        },
        {
          "output_type": "stream",
          "name": "stdout",
          "text": [
            "Model: \"model\"\n",
            "__________________________________________________________________________________________________\n",
            " Layer (type)                   Output Shape         Param #     Connected to                     \n",
            "==================================================================================================\n",
            " input_1 (InputLayer)           [(1, 3, 5)]          0           []                               \n",
            "                                                                                                  \n",
            " lstm (LSTM)                    (1, 64)              17920       ['input_1[0][0]']                \n",
            "                                                                                                  \n",
            " time (Dense)                   (1, 1)               65          ['lstm[0][0]']                   \n",
            "                                                                                                  \n",
            " position (Dense)               (1, 2)               130         ['lstm[0][0]']                   \n",
            "                                                                                                  \n",
            " depth (Dense)                  (1, 1)               65          ['lstm[0][0]']                   \n",
            "                                                                                                  \n",
            " mag (Dense)                    (1, 1)               65          ['lstm[0][0]']                   \n",
            "                                                                                                  \n",
            " concatenate (Concatenate)      (1, 5)               0           ['time[0][0]',                   \n",
            "                                                                  'position[0][0]',               \n",
            "                                                                  'depth[0][0]',                  \n",
            "                                                                  'mag[0][0]']                    \n",
            "                                                                                                  \n",
            "==================================================================================================\n",
            "Total params: 18,245\n",
            "Trainable params: 18,245\n",
            "Non-trainable params: 0\n",
            "__________________________________________________________________________________________________\n"
          ]
        }
      ]
    },
    {
      "cell_type": "code",
      "source": [
        "plot_model(model, to_file='model_shapes.png', show_shapes=True)"
      ],
      "metadata": {
        "colab": {
          "base_uri": "https://localhost:8080/",
          "height": 270
        },
        "id": "75p3vITiMRZc",
        "outputId": "e991219c-aea6-497b-afb8-7c75a8edbf17"
      },
      "execution_count": 15,
      "outputs": [
        {
          "output_type": "execute_result",
          "data": {
            "image/png": "[encoded data removed]",
            "text/plain": [
              "<IPython.core.display.Image object>"
            ]
          },
          "metadata": {},
          "execution_count": 15
        }
      ]
    },
    {
      "cell_type": "code",
      "source": [
        "def degrees_to_radians(deg):\n",
        "    return np.pi*deg/180\n",
        "\n",
        "def sphericalToOrthogonal(lat,lon):\n",
        "  x = tf.math.cos(lat)*tf.math.cos(lon)\n",
        "  y = tf.math.cos(lat)*tf.math.sin(lon)\n",
        "  z = tf.math.sin(lat)\n",
        "  return tf.concat([x,y,z],0)"
      ],
      "metadata": {
        "id": "-lFVMp1jFxwN"
      },
      "execution_count": 16,
      "outputs": []
    },
    {
      "cell_type": "code",
      "source": [
        "def haversine_distance_loss(lat1,lon1,lat2,lon2):\n",
        "    \n",
        "    # 위도와 경도의 단위를 라디안으로 변환\n",
        "    lat1 = degrees_to_radians(lat1*90)\n",
        "    lon1 = degrees_to_radians(lon1*180)\n",
        "    lat2 = degrees_to_radians(lat2*90)\n",
        "    lon2 = degrees_to_radians(lon2*180)\n",
        "    \n",
        "    p_1 = sphericalToOrthogonal(lat1,lon1)\n",
        "    p_2 = sphericalToOrthogonal(lat2,lon2)\n",
        "    \n",
        "    # 유클리드 거리 공식 사용\n",
        "    ThreeDimensionalDistance = tf.norm(p_1-p_2)\n",
        "    \n",
        "    # 거리의 제곱을 반환\n",
        "    return (2*tf.math.asin(ThreeDimensionalDistance/2))**2/(np.pi**2)\n"
      ],
      "metadata": {
        "id": "rO6aW5qw9uiq"
      },
      "execution_count": 18,
      "outputs": []
    },
    {
      "cell_type": "code",
      "source": [
        "# haversine_distance_loss(0,1,0.1,0.2)"
      ],
      "metadata": {
        "id": "1UT-H5LiNgWg"
      },
      "execution_count": 19,
      "outputs": []
    },
    {
      "cell_type": "code",
      "source": [
        "def custom_loss_function(y_true, y_pred):\n",
        "    # 위도와 경도는 지구 위의 2개의 점 사이의 거리를 측정하는 커스텀 손실 함수\n",
        "    distance_loss = haversine_distance_loss(y_true[:, 1], y_true[:, 2], y_pred[:, 1], y_pred[:, 2])\n",
        "    # 나머지 파라미터는 평균 제곱 오차를 측정하는 함수\n",
        "    true_time, true_depth, true_mag = y_true[:, 0], y_true[:, 3], y_true[:, 4]\n",
        "    pred_time, pred_depth, pred_mag = y_pred[:, 0], y_pred[:, 3], y_pred[:, 4]\n",
        "    \n",
        "    # Calculate the mean squared error loss for the time, depth, and mag dimensions\n",
        "    mse_loss = (true_time - pred_time)**2 + (true_depth - pred_depth)**2 + (true_mag - pred_mag)**2\n",
        "\n",
        "    # mse_loss = losses.mean_squared_error(tf.gather(y_true, [0, 3, 4], axis=1), tf.gather(y_pred, [0, 3, 4], axis=1))\n",
        "    # 커스텀 손실 함수 결과 반환\n",
        "    return distance_loss + mse_loss\n"
      ],
      "metadata": {
        "id": "bkzYvKpM8eM0"
      },
      "execution_count": 20,
      "outputs": []
    },
    {
      "cell_type": "code",
      "source": [
        "# 손실 이력 클래스 정의\n",
        "class LossHistory(keras.callbacks.Callback):\n",
        "    def init(self):\n",
        "        self.losses = []\n",
        "        self.accuracys = []\n",
        "        self.term = TerminateOnNaN()\n",
        "        \n",
        "    def on_epoch_end(self, batch, logs={}):\n",
        "        self.losses.append(logs.get('loss'))\n",
        "        self.accuracys.append(logs.get('acc'))\n",
        "        self.term.on_epoch_end(batch, logs)"
      ],
      "metadata": {
        "id": "pX06dxqeRwFa"
      },
      "execution_count": 21,
      "outputs": []
    },
    {
      "cell_type": "code",
      "source": [
        "history = LossHistory() # 손실 이력 객체 생성\n",
        "\n",
        "history.init()"
      ],
      "metadata": {
        "id": "dBdTEXnfSHST"
      },
      "execution_count": 22,
      "outputs": []
    },
    {
      "cell_type": "code",
      "source": [
        "import datetime\n",
        "log_dir = \"logs/my_board/\" + datetime.datetime.now().strftime(\"%Y%m%d-%H%M%S\")\n",
        "tensorboard_callback = tf.keras.callbacks.TensorBoard(log_dir=log_dir, histogram_freq=1)"
      ],
      "metadata": {
        "id": "UDfREsz-hS0u"
      },
      "execution_count": 23,
      "outputs": []
    },
    {
      "cell_type": "code",
      "source": [
        "with tf.device('/device:GPU:0'):\n",
        "  model.compile(loss=custom_loss_function, optimizer=\"adam\")#tf.keras.optimizers.Adam(learning_rate=0.0001)"
      ],
      "metadata": {
        "id": "-Eq9JxH58UTq"
      },
      "execution_count": 24,
      "outputs": []
    },
    {
      "cell_type": "markdown",
      "source": [
        "# 모델 훈련"
      ],
      "metadata": {
        "id": "on1-KHgTJ2qo"
      }
    },
    {
      "cell_type": "code",
      "source": [
        "#term = TerminateOnNaN()"
      ],
      "metadata": {
        "id": "fGI89maepHPO"
      },
      "execution_count": 25,
      "outputs": []
    },
    {
      "cell_type": "code",
      "source": [
        "with tf.device('/device:GPU:0'):\n",
        "  \n",
        "  X_train_tensor = tf.convert_to_tensor(X_train, dtype=tf.float32)\n",
        "  y_train_tensor = tf.convert_to_tensor(y_train, dtype=tf.float32)\n",
        "\n",
        "  for epoch_idx in range(num_epochs):\n",
        "      print ('epochs : ' + str(epoch_idx) )\n",
        "      model.fit(X_train_tensor, y_train_tensor, epochs=1, batch_size=batch_size, verbose=2, shuffle=False, callbacks=[history]) #term\n",
        "      model.reset_states()\n",
        "    "
      ],
      "metadata": {
        "colab": {
          "base_uri": "https://localhost:8080/",
          "height": 1000
        },
        "id": "wC-vb3pOJ6AO",
        "outputId": "621f25df-f526-4122-cda7-d4536206404d"
      },
      "execution_count": 45,
      "outputs": [
        {
          "output_type": "stream",
          "name": "stdout",
          "text": [
            "epochs : 0\n"
          ]
        },
        {
          "output_type": "error",
          "ename": "KeyboardInterrupt",
          "evalue": "ignored",
          "traceback": [
            "\u001b[0;31m---------------------------------------------------------------------------\u001b[0m",
            "\u001b[0;31mKeyboardInterrupt\u001b[0m                         Traceback (most recent call last)",
            "Cell \u001b[0;32mIn[45], line 8\u001b[0m\n\u001b[1;32m      6\u001b[0m \u001b[38;5;28;01mfor\u001b[39;00m epoch_idx \u001b[38;5;129;01min\u001b[39;00m \u001b[38;5;28mrange\u001b[39m(num_epochs):\n\u001b[1;32m      7\u001b[0m     \u001b[38;5;28mprint\u001b[39m (\u001b[38;5;124m'\u001b[39m\u001b[38;5;124mepochs : \u001b[39m\u001b[38;5;124m'\u001b[39m \u001b[38;5;241m+\u001b[39m \u001b[38;5;28mstr\u001b[39m(epoch_idx) )\n\u001b[0;32m----> 8\u001b[0m     \u001b[43mmodel\u001b[49m\u001b[38;5;241;43m.\u001b[39;49m\u001b[43mfit\u001b[49m\u001b[43m(\u001b[49m\u001b[43mX_train_tensor\u001b[49m\u001b[43m,\u001b[49m\u001b[43m \u001b[49m\u001b[43my_train_tensor\u001b[49m\u001b[43m,\u001b[49m\u001b[43m \u001b[49m\u001b[43mepochs\u001b[49m\u001b[38;5;241;43m=\u001b[39;49m\u001b[38;5;241;43m1\u001b[39;49m\u001b[43m,\u001b[49m\u001b[43m \u001b[49m\u001b[43mbatch_size\u001b[49m\u001b[38;5;241;43m=\u001b[39;49m\u001b[43mbatch_size\u001b[49m\u001b[43m,\u001b[49m\u001b[43m \u001b[49m\u001b[43mverbose\u001b[49m\u001b[38;5;241;43m=\u001b[39;49m\u001b[38;5;241;43m2\u001b[39;49m\u001b[43m,\u001b[49m\u001b[43m \u001b[49m\u001b[43mshuffle\u001b[49m\u001b[38;5;241;43m=\u001b[39;49m\u001b[38;5;28;43;01mFalse\u001b[39;49;00m\u001b[43m,\u001b[49m\u001b[43m \u001b[49m\u001b[43mcallbacks\u001b[49m\u001b[38;5;241;43m=\u001b[39;49m\u001b[43m[\u001b[49m\u001b[43mhistory\u001b[49m\u001b[43m]\u001b[49m\u001b[43m)\u001b[49m \u001b[38;5;66;03m#term\u001b[39;00m\n\u001b[1;32m      9\u001b[0m     model\u001b[38;5;241m.\u001b[39mreset_states()\n",
            "File \u001b[0;32m~/.local/lib/python3.8/site-packages/keras/utils/traceback_utils.py:65\u001b[0m, in \u001b[0;36mfilter_traceback.<locals>.error_handler\u001b[0;34m(*args, **kwargs)\u001b[0m\n\u001b[1;32m     63\u001b[0m filtered_tb \u001b[38;5;241m=\u001b[39m \u001b[38;5;28;01mNone\u001b[39;00m\n\u001b[1;32m     64\u001b[0m \u001b[38;5;28;01mtry\u001b[39;00m:\n\u001b[0;32m---> 65\u001b[0m     \u001b[38;5;28;01mreturn\u001b[39;00m \u001b[43mfn\u001b[49m\u001b[43m(\u001b[49m\u001b[38;5;241;43m*\u001b[39;49m\u001b[43margs\u001b[49m\u001b[43m,\u001b[49m\u001b[43m \u001b[49m\u001b[38;5;241;43m*\u001b[39;49m\u001b[38;5;241;43m*\u001b[39;49m\u001b[43mkwargs\u001b[49m\u001b[43m)\u001b[49m\n\u001b[1;32m     66\u001b[0m \u001b[38;5;28;01mexcept\u001b[39;00m \u001b[38;5;167;01mException\u001b[39;00m \u001b[38;5;28;01mas\u001b[39;00m e:\n\u001b[1;32m     67\u001b[0m     filtered_tb \u001b[38;5;241m=\u001b[39m _process_traceback_frames(e\u001b[38;5;241m.\u001b[39m__traceback__)\n",
            "File \u001b[0;32m~/.local/lib/python3.8/site-packages/keras/engine/training.py:1650\u001b[0m, in \u001b[0;36mModel.fit\u001b[0;34m(self, x, y, batch_size, epochs, verbose, callbacks, validation_split, validation_data, shuffle, class_weight, sample_weight, initial_epoch, steps_per_epoch, validation_steps, validation_batch_size, validation_freq, max_queue_size, workers, use_multiprocessing)\u001b[0m\n\u001b[1;32m   1642\u001b[0m \u001b[38;5;28;01mwith\u001b[39;00m tf\u001b[38;5;241m.\u001b[39mprofiler\u001b[38;5;241m.\u001b[39mexperimental\u001b[38;5;241m.\u001b[39mTrace(\n\u001b[1;32m   1643\u001b[0m     \u001b[38;5;124m\"\u001b[39m\u001b[38;5;124mtrain\u001b[39m\u001b[38;5;124m\"\u001b[39m,\n\u001b[1;32m   1644\u001b[0m     epoch_num\u001b[38;5;241m=\u001b[39mepoch,\n\u001b[0;32m   (...)\u001b[0m\n\u001b[1;32m   1647\u001b[0m     _r\u001b[38;5;241m=\u001b[39m\u001b[38;5;241m1\u001b[39m,\n\u001b[1;32m   1648\u001b[0m ):\n\u001b[1;32m   1649\u001b[0m     callbacks\u001b[38;5;241m.\u001b[39mon_train_batch_begin(step)\n\u001b[0;32m-> 1650\u001b[0m     tmp_logs \u001b[38;5;241m=\u001b[39m \u001b[38;5;28;43mself\u001b[39;49m\u001b[38;5;241;43m.\u001b[39;49m\u001b[43mtrain_function\u001b[49m\u001b[43m(\u001b[49m\u001b[43miterator\u001b[49m\u001b[43m)\u001b[49m\n\u001b[1;32m   1651\u001b[0m     \u001b[38;5;28;01mif\u001b[39;00m data_handler\u001b[38;5;241m.\u001b[39mshould_sync:\n\u001b[1;32m   1652\u001b[0m         context\u001b[38;5;241m.\u001b[39masync_wait()\n",
            "File \u001b[0;32m~/.local/lib/python3.8/site-packages/tensorflow/python/util/traceback_utils.py:150\u001b[0m, in \u001b[0;36mfilter_traceback.<locals>.error_handler\u001b[0;34m(*args, **kwargs)\u001b[0m\n\u001b[1;32m    148\u001b[0m filtered_tb \u001b[38;5;241m=\u001b[39m \u001b[38;5;28;01mNone\u001b[39;00m\n\u001b[1;32m    149\u001b[0m \u001b[38;5;28;01mtry\u001b[39;00m:\n\u001b[0;32m--> 150\u001b[0m   \u001b[38;5;28;01mreturn\u001b[39;00m \u001b[43mfn\u001b[49m\u001b[43m(\u001b[49m\u001b[38;5;241;43m*\u001b[39;49m\u001b[43margs\u001b[49m\u001b[43m,\u001b[49m\u001b[43m \u001b[49m\u001b[38;5;241;43m*\u001b[39;49m\u001b[38;5;241;43m*\u001b[39;49m\u001b[43mkwargs\u001b[49m\u001b[43m)\u001b[49m\n\u001b[1;32m    151\u001b[0m \u001b[38;5;28;01mexcept\u001b[39;00m \u001b[38;5;167;01mException\u001b[39;00m \u001b[38;5;28;01mas\u001b[39;00m e:\n\u001b[1;32m    152\u001b[0m   filtered_tb \u001b[38;5;241m=\u001b[39m _process_traceback_frames(e\u001b[38;5;241m.\u001b[39m__traceback__)\n",
            "File \u001b[0;32m~/.local/lib/python3.8/site-packages/tensorflow/python/eager/polymorphic_function/polymorphic_function.py:880\u001b[0m, in \u001b[0;36mFunction.__call__\u001b[0;34m(self, *args, **kwds)\u001b[0m\n\u001b[1;32m    877\u001b[0m compiler \u001b[38;5;241m=\u001b[39m \u001b[38;5;124m\"\u001b[39m\u001b[38;5;124mxla\u001b[39m\u001b[38;5;124m\"\u001b[39m \u001b[38;5;28;01mif\u001b[39;00m \u001b[38;5;28mself\u001b[39m\u001b[38;5;241m.\u001b[39m_jit_compile \u001b[38;5;28;01melse\u001b[39;00m \u001b[38;5;124m\"\u001b[39m\u001b[38;5;124mnonXla\u001b[39m\u001b[38;5;124m\"\u001b[39m\n\u001b[1;32m    879\u001b[0m \u001b[38;5;28;01mwith\u001b[39;00m OptionalXlaContext(\u001b[38;5;28mself\u001b[39m\u001b[38;5;241m.\u001b[39m_jit_compile):\n\u001b[0;32m--> 880\u001b[0m   result \u001b[38;5;241m=\u001b[39m \u001b[38;5;28;43mself\u001b[39;49m\u001b[38;5;241;43m.\u001b[39;49m\u001b[43m_call\u001b[49m\u001b[43m(\u001b[49m\u001b[38;5;241;43m*\u001b[39;49m\u001b[43margs\u001b[49m\u001b[43m,\u001b[49m\u001b[43m \u001b[49m\u001b[38;5;241;43m*\u001b[39;49m\u001b[38;5;241;43m*\u001b[39;49m\u001b[43mkwds\u001b[49m\u001b[43m)\u001b[49m\n\u001b[1;32m    882\u001b[0m new_tracing_count \u001b[38;5;241m=\u001b[39m \u001b[38;5;28mself\u001b[39m\u001b[38;5;241m.\u001b[39mexperimental_get_tracing_count()\n\u001b[1;32m    883\u001b[0m without_tracing \u001b[38;5;241m=\u001b[39m (tracing_count \u001b[38;5;241m==\u001b[39m new_tracing_count)\n",
            "File \u001b[0;32m~/.local/lib/python3.8/site-packages/tensorflow/python/eager/polymorphic_function/polymorphic_function.py:912\u001b[0m, in \u001b[0;36mFunction._call\u001b[0;34m(self, *args, **kwds)\u001b[0m\n\u001b[1;32m    909\u001b[0m   \u001b[38;5;28mself\u001b[39m\u001b[38;5;241m.\u001b[39m_lock\u001b[38;5;241m.\u001b[39mrelease()\n\u001b[1;32m    910\u001b[0m   \u001b[38;5;66;03m# In this case we have created variables on the first call, so we run the\u001b[39;00m\n\u001b[1;32m    911\u001b[0m   \u001b[38;5;66;03m# defunned version which is guaranteed to never create variables.\u001b[39;00m\n\u001b[0;32m--> 912\u001b[0m   \u001b[38;5;28;01mreturn\u001b[39;00m \u001b[38;5;28;43mself\u001b[39;49m\u001b[38;5;241;43m.\u001b[39;49m\u001b[43m_no_variable_creation_fn\u001b[49m\u001b[43m(\u001b[49m\u001b[38;5;241;43m*\u001b[39;49m\u001b[43margs\u001b[49m\u001b[43m,\u001b[49m\u001b[43m \u001b[49m\u001b[38;5;241;43m*\u001b[39;49m\u001b[38;5;241;43m*\u001b[39;49m\u001b[43mkwds\u001b[49m\u001b[43m)\u001b[49m  \u001b[38;5;66;03m# pylint: disable=not-callable\u001b[39;00m\n\u001b[1;32m    913\u001b[0m \u001b[38;5;28;01melif\u001b[39;00m \u001b[38;5;28mself\u001b[39m\u001b[38;5;241m.\u001b[39m_variable_creation_fn \u001b[38;5;129;01mis\u001b[39;00m \u001b[38;5;129;01mnot\u001b[39;00m \u001b[38;5;28;01mNone\u001b[39;00m:\n\u001b[1;32m    914\u001b[0m   \u001b[38;5;66;03m# Release the lock early so that multiple threads can perform the call\u001b[39;00m\n\u001b[1;32m    915\u001b[0m   \u001b[38;5;66;03m# in parallel.\u001b[39;00m\n\u001b[1;32m    916\u001b[0m   \u001b[38;5;28mself\u001b[39m\u001b[38;5;241m.\u001b[39m_lock\u001b[38;5;241m.\u001b[39mrelease()\n",
            "File \u001b[0;32m~/.local/lib/python3.8/site-packages/tensorflow/python/eager/polymorphic_function/tracing_compiler.py:134\u001b[0m, in \u001b[0;36mTracingCompiler.__call__\u001b[0;34m(self, *args, **kwargs)\u001b[0m\n\u001b[1;32m    131\u001b[0m \u001b[38;5;28;01mwith\u001b[39;00m \u001b[38;5;28mself\u001b[39m\u001b[38;5;241m.\u001b[39m_lock:\n\u001b[1;32m    132\u001b[0m   (concrete_function,\n\u001b[1;32m    133\u001b[0m    filtered_flat_args) \u001b[38;5;241m=\u001b[39m \u001b[38;5;28mself\u001b[39m\u001b[38;5;241m.\u001b[39m_maybe_define_function(args, kwargs)\n\u001b[0;32m--> 134\u001b[0m \u001b[38;5;28;01mreturn\u001b[39;00m \u001b[43mconcrete_function\u001b[49m\u001b[38;5;241;43m.\u001b[39;49m\u001b[43m_call_flat\u001b[49m\u001b[43m(\u001b[49m\n\u001b[1;32m    135\u001b[0m \u001b[43m    \u001b[49m\u001b[43mfiltered_flat_args\u001b[49m\u001b[43m,\u001b[49m\u001b[43m \u001b[49m\u001b[43mcaptured_inputs\u001b[49m\u001b[38;5;241;43m=\u001b[39;49m\u001b[43mconcrete_function\u001b[49m\u001b[38;5;241;43m.\u001b[39;49m\u001b[43mcaptured_inputs\u001b[49m\u001b[43m)\u001b[49m\n",
            "File \u001b[0;32m~/.local/lib/python3.8/site-packages/tensorflow/python/eager/polymorphic_function/monomorphic_function.py:1745\u001b[0m, in \u001b[0;36mConcreteFunction._call_flat\u001b[0;34m(self, args, captured_inputs, cancellation_manager)\u001b[0m\n\u001b[1;32m   1741\u001b[0m possible_gradient_type \u001b[38;5;241m=\u001b[39m gradients_util\u001b[38;5;241m.\u001b[39mPossibleTapeGradientTypes(args)\n\u001b[1;32m   1742\u001b[0m \u001b[38;5;28;01mif\u001b[39;00m (possible_gradient_type \u001b[38;5;241m==\u001b[39m gradients_util\u001b[38;5;241m.\u001b[39mPOSSIBLE_GRADIENT_TYPES_NONE\n\u001b[1;32m   1743\u001b[0m     \u001b[38;5;129;01mand\u001b[39;00m executing_eagerly):\n\u001b[1;32m   1744\u001b[0m   \u001b[38;5;66;03m# No tape is watching; skip to running the function.\u001b[39;00m\n\u001b[0;32m-> 1745\u001b[0m   \u001b[38;5;28;01mreturn\u001b[39;00m \u001b[38;5;28mself\u001b[39m\u001b[38;5;241m.\u001b[39m_build_call_outputs(\u001b[38;5;28;43mself\u001b[39;49m\u001b[38;5;241;43m.\u001b[39;49m\u001b[43m_inference_function\u001b[49m\u001b[38;5;241;43m.\u001b[39;49m\u001b[43mcall\u001b[49m\u001b[43m(\u001b[49m\n\u001b[1;32m   1746\u001b[0m \u001b[43m      \u001b[49m\u001b[43mctx\u001b[49m\u001b[43m,\u001b[49m\u001b[43m \u001b[49m\u001b[43margs\u001b[49m\u001b[43m,\u001b[49m\u001b[43m \u001b[49m\u001b[43mcancellation_manager\u001b[49m\u001b[38;5;241;43m=\u001b[39;49m\u001b[43mcancellation_manager\u001b[49m\u001b[43m)\u001b[49m)\n\u001b[1;32m   1747\u001b[0m forward_backward \u001b[38;5;241m=\u001b[39m \u001b[38;5;28mself\u001b[39m\u001b[38;5;241m.\u001b[39m_select_forward_and_backward_functions(\n\u001b[1;32m   1748\u001b[0m     args,\n\u001b[1;32m   1749\u001b[0m     possible_gradient_type,\n\u001b[1;32m   1750\u001b[0m     executing_eagerly)\n\u001b[1;32m   1751\u001b[0m forward_function, args_with_tangents \u001b[38;5;241m=\u001b[39m forward_backward\u001b[38;5;241m.\u001b[39mforward()\n",
            "File \u001b[0;32m~/.local/lib/python3.8/site-packages/tensorflow/python/eager/polymorphic_function/monomorphic_function.py:378\u001b[0m, in \u001b[0;36m_EagerDefinedFunction.call\u001b[0;34m(self, ctx, args, cancellation_manager)\u001b[0m\n\u001b[1;32m    376\u001b[0m \u001b[38;5;28;01mwith\u001b[39;00m _InterpolateFunctionError(\u001b[38;5;28mself\u001b[39m):\n\u001b[1;32m    377\u001b[0m   \u001b[38;5;28;01mif\u001b[39;00m cancellation_manager \u001b[38;5;129;01mis\u001b[39;00m \u001b[38;5;28;01mNone\u001b[39;00m:\n\u001b[0;32m--> 378\u001b[0m     outputs \u001b[38;5;241m=\u001b[39m \u001b[43mexecute\u001b[49m\u001b[38;5;241;43m.\u001b[39;49m\u001b[43mexecute\u001b[49m\u001b[43m(\u001b[49m\n\u001b[1;32m    379\u001b[0m \u001b[43m        \u001b[49m\u001b[38;5;28;43mstr\u001b[39;49m\u001b[43m(\u001b[49m\u001b[38;5;28;43mself\u001b[39;49m\u001b[38;5;241;43m.\u001b[39;49m\u001b[43msignature\u001b[49m\u001b[38;5;241;43m.\u001b[39;49m\u001b[43mname\u001b[49m\u001b[43m)\u001b[49m\u001b[43m,\u001b[49m\n\u001b[1;32m    380\u001b[0m \u001b[43m        \u001b[49m\u001b[43mnum_outputs\u001b[49m\u001b[38;5;241;43m=\u001b[39;49m\u001b[38;5;28;43mself\u001b[39;49m\u001b[38;5;241;43m.\u001b[39;49m\u001b[43m_num_outputs\u001b[49m\u001b[43m,\u001b[49m\n\u001b[1;32m    381\u001b[0m \u001b[43m        \u001b[49m\u001b[43minputs\u001b[49m\u001b[38;5;241;43m=\u001b[39;49m\u001b[43margs\u001b[49m\u001b[43m,\u001b[49m\n\u001b[1;32m    382\u001b[0m \u001b[43m        \u001b[49m\u001b[43mattrs\u001b[49m\u001b[38;5;241;43m=\u001b[39;49m\u001b[43mattrs\u001b[49m\u001b[43m,\u001b[49m\n\u001b[1;32m    383\u001b[0m \u001b[43m        \u001b[49m\u001b[43mctx\u001b[49m\u001b[38;5;241;43m=\u001b[39;49m\u001b[43mctx\u001b[49m\u001b[43m)\u001b[49m\n\u001b[1;32m    384\u001b[0m   \u001b[38;5;28;01melse\u001b[39;00m:\n\u001b[1;32m    385\u001b[0m     outputs \u001b[38;5;241m=\u001b[39m execute\u001b[38;5;241m.\u001b[39mexecute_with_cancellation(\n\u001b[1;32m    386\u001b[0m         \u001b[38;5;28mstr\u001b[39m(\u001b[38;5;28mself\u001b[39m\u001b[38;5;241m.\u001b[39msignature\u001b[38;5;241m.\u001b[39mname),\n\u001b[1;32m    387\u001b[0m         num_outputs\u001b[38;5;241m=\u001b[39m\u001b[38;5;28mself\u001b[39m\u001b[38;5;241m.\u001b[39m_num_outputs,\n\u001b[0;32m   (...)\u001b[0m\n\u001b[1;32m    390\u001b[0m         ctx\u001b[38;5;241m=\u001b[39mctx,\n\u001b[1;32m    391\u001b[0m         cancellation_manager\u001b[38;5;241m=\u001b[39mcancellation_manager)\n",
            "File \u001b[0;32m~/.local/lib/python3.8/site-packages/tensorflow/python/eager/execute.py:52\u001b[0m, in \u001b[0;36mquick_execute\u001b[0;34m(op_name, num_outputs, inputs, attrs, ctx, name)\u001b[0m\n\u001b[1;32m     50\u001b[0m \u001b[38;5;28;01mtry\u001b[39;00m:\n\u001b[1;32m     51\u001b[0m   ctx\u001b[38;5;241m.\u001b[39mensure_initialized()\n\u001b[0;32m---> 52\u001b[0m   tensors \u001b[38;5;241m=\u001b[39m \u001b[43mpywrap_tfe\u001b[49m\u001b[38;5;241;43m.\u001b[39;49m\u001b[43mTFE_Py_Execute\u001b[49m\u001b[43m(\u001b[49m\u001b[43mctx\u001b[49m\u001b[38;5;241;43m.\u001b[39;49m\u001b[43m_handle\u001b[49m\u001b[43m,\u001b[49m\u001b[43m \u001b[49m\u001b[43mdevice_name\u001b[49m\u001b[43m,\u001b[49m\u001b[43m \u001b[49m\u001b[43mop_name\u001b[49m\u001b[43m,\u001b[49m\n\u001b[1;32m     53\u001b[0m \u001b[43m                                      \u001b[49m\u001b[43minputs\u001b[49m\u001b[43m,\u001b[49m\u001b[43m \u001b[49m\u001b[43mattrs\u001b[49m\u001b[43m,\u001b[49m\u001b[43m \u001b[49m\u001b[43mnum_outputs\u001b[49m\u001b[43m)\u001b[49m\n\u001b[1;32m     54\u001b[0m \u001b[38;5;28;01mexcept\u001b[39;00m core\u001b[38;5;241m.\u001b[39m_NotOkStatusException \u001b[38;5;28;01mas\u001b[39;00m e:\n\u001b[1;32m     55\u001b[0m   \u001b[38;5;28;01mif\u001b[39;00m name \u001b[38;5;129;01mis\u001b[39;00m \u001b[38;5;129;01mnot\u001b[39;00m \u001b[38;5;28;01mNone\u001b[39;00m:\n",
            "\u001b[0;31mKeyboardInterrupt\u001b[0m: "
          ]
        }
      ]
    },
    {
      "cell_type": "markdown",
      "source": [
        "# 훈련 결과"
      ],
      "metadata": {
        "id": "v8zlRWL354yi"
      }
    },
    {
      "cell_type": "code",
      "source": [
        "#%tensorboard --logdir {log_dir}"
      ],
      "metadata": {
        "id": "FdrCKUw5hHri"
      },
      "execution_count": null,
      "outputs": []
    },
    {
      "cell_type": "code",
      "source": [
        "#weights = model.get_weights()\n",
        "#weights"
      ],
      "metadata": {
        "id": "AC6AeuI0LYZx"
      },
      "execution_count": null,
      "outputs": []
    },
    {
      "cell_type": "code",
      "source": [
        "# 6. 학습과정 살펴보기\n",
        "%matplotlib inline\n",
        "\n",
        "plt.plot(history.losses)\n",
        "plt.ylabel('loss')\n",
        "plt.xlabel('epoch')\n",
        "plt.legend(['train'], loc='upper left')\n",
        "plt.show()"
      ],
      "metadata": {
        "id": "L4i0ffOBfcGn"
      },
      "execution_count": null,
      "outputs": []
    },
    {
      "cell_type": "code",
      "source": [
        "# 7. 모델 평가하기\n",
        "X_test_tensor = tf.convert_to_tensor(X_test[:,:,:5], dtype=tf.float32)\n",
        "y_test_tensor = tf.convert_to_tensor(y_test, dtype=tf.float32)\n",
        "scores = model.evaluate(X_test_tensor, y_test_tensor, batch_size=1)\n",
        "print(\"%s: %.2f\" %(model.metrics_names[0], scores))\n",
        "model.reset_states()"
      ],
      "metadata": {
        "id": "JaV8fruAsB1D"
      },
      "execution_count": null,
      "outputs": []
    },
    {
      "cell_type": "markdown",
      "source": [
        "# 모델 예상"
      ],
      "metadata": {
        "id": "KjqLadL4-tZ2"
      }
    },
    {
      "cell_type": "code",
      "source": [
        "X_test_time = X_test[test_start_steps:test_end_steps,:,5]\n",
        "X_test_time[:3]"
      ],
      "metadata": {
        "id": "9WJeSWK8E4ov"
      },
      "execution_count": null,
      "outputs": []
    },
    {
      "cell_type": "code",
      "source": [
        "X_test = np.reshape(X_test[test_start_steps:test_end_steps,:,:5],(test_steps,timesteps,5))\n",
        "X_test[:3]"
      ],
      "metadata": {
        "id": "OcVobVUA_RI9"
      },
      "execution_count": null,
      "outputs": []
    },
    {
      "cell_type": "code",
      "source": [
        "y_test = np.reshape(y_test[test_start_steps:test_end_steps,:],(test_steps,5))\n",
        "y_test = tf.cast(y_test, tf.float32)\n",
        "y_test[:3]"
      ],
      "metadata": {
        "id": "zuB_vq04__AO"
      },
      "execution_count": null,
      "outputs": []
    },
    {
      "cell_type": "code",
      "source": [
        "y_pred = np.array([])\n",
        "for i in range(test_steps):\n",
        "  y_pred = np.append(y_pred,model.predict(tf.convert_to_tensor(X_test[i].reshape(1,timesteps,5), dtype=\"float32\"),verbose=0))\n",
        "y_pred = tf.reshape(tf.convert_to_tensor(y_pred, dtype=tf.float32),[test_steps,5])\n",
        "y_pred[:3]"
      ],
      "metadata": {
        "id": "uvYM7avG-zeu"
      },
      "execution_count": null,
      "outputs": []
    },
    {
      "cell_type": "code",
      "source": [
        "y_error = []\n",
        "for i in range(test_steps):\n",
        "   y_error.append(custom_loss_function(tf.reshape(y_test[i,:],[1,5]),tf.reshape(y_pred[1,:],[1,5])).numpy()[0])\n",
        "y_error[:3]"
      ],
      "metadata": {
        "id": "f_qpInqR_7VF"
      },
      "execution_count": null,
      "outputs": []
    },
    {
      "cell_type": "markdown",
      "source": [
        "# 원래 데이터 포맷으로 돌리기"
      ],
      "metadata": {
        "id": "9sQyNje3h-Gr"
      }
    },
    {
      "cell_type": "code",
      "source": [
        "def reformTensorToEarthQuake(y_pred,inverse_transform=True):\n",
        "    y_pred = pd.DataFrame(y_pred.numpy(),index=range(test_steps),columns = data.columns[:5])\n",
        "    if inverse_transform:\n",
        "        for column in data.columns[0:5]:\n",
        "            y_pred.loc[:,[column]] = pipe.named_transformers_[column].inverse_transform(y_pred.loc[:,[column]])\n",
        "    y_pred[\"time\"] = X_test_time[:,-1].astype(\"datetime64[D]\") + tf.math.round(y_pred[\"time\"]).numpy().astype('timedelta64[D]')\n",
        "    y_pred = y_pred.iloc[::-1]\n",
        "    y_pred['time'] = y_pred['time'].astype(str)\n",
        "    return y_pred"
      ],
      "metadata": {
        "id": "WtP787BjJIUu"
      },
      "execution_count": null,
      "outputs": []
    },
    {
      "cell_type": "code",
      "source": [
        "y_test = reformTensorToEarthQuake(y_test)"
      ],
      "metadata": {
        "id": "ODheWXADq6gW"
      },
      "execution_count": null,
      "outputs": []
    },
    {
      "cell_type": "code",
      "source": [
        "y_pred = reformTensorToEarthQuake(y_pred)"
      ],
      "metadata": {
        "id": "-7LuJICvs7bj"
      },
      "execution_count": null,
      "outputs": []
    },
    {
      "cell_type": "code",
      "source": [
        "y_pred.info()"
      ],
      "metadata": {
        "id": "b3eS9DQbe0TT"
      },
      "execution_count": null,
      "outputs": []
    },
    {
      "cell_type": "code",
      "source": [
        "y_test"
      ],
      "metadata": {
        "id": "Fet5MMKtxq9Z"
      },
      "execution_count": null,
      "outputs": []
    },
    {
      "cell_type": "markdown",
      "source": [
        "# 데이터 시각화"
      ],
      "metadata": {
        "id": "SL1J-B59iqJf"
      }
    },
    {
      "cell_type": "code",
      "source": [
        "def AddCircles(data,colormap,array):\n",
        "  surfaceEnergy = np.multiply(10**(data['mag']*1.5),1/(data['depth']**2+1))\n",
        "  minSurfaceEnergy = surfaceEnergy.min()\n",
        "\n",
        "  for i, row in data.iterrows():\n",
        "      borderRadius = np.power(10**(row['mag']*1.5)/minSurfaceEnergy - row['depth']**2,1/6)\n",
        "      # np.sqrt(10**(row['mag']*1.5)/minSurfaceEnergy - row['depth']**2)\n",
        "      color = colormap(row['mag'])\n",
        "      latitude = row['latitude']\n",
        "      if latitude > 90:\n",
        "          latitude = 180 - latitude\n",
        "      elif latitude < -90:\n",
        "          latitude = - 180 - latitude\n",
        "      feature = {\n",
        "          'type': 'Feature',\n",
        "          'geometry': {\n",
        "              'type': 'Point',\n",
        "              'coordinates': [row['longitude'], latitude]\n",
        "          },\n",
        "          'properties': {\n",
        "              'time': row['time'],\n",
        "              'style': {'color': color, 'radius': borderRadius},\n",
        "              'icon': 'circle'\n",
        "          }\n",
        "      }\n",
        "      array.append(feature)\n",
        "      if row['longitude'] < 0 :\n",
        "        feature = {\n",
        "          'type': 'Feature',\n",
        "          'geometry': {\n",
        "              'type': 'Point',\n",
        "              'coordinates': [row['longitude']+360, latitude]\n",
        "          },\n",
        "          'properties': {\n",
        "              'time': row['time'],\n",
        "              'style': {'color': color, 'radius': borderRadius},\n",
        "              'icon': 'circle'\n",
        "          }\n",
        "      }\n",
        "      array.append(feature)\n",
        "  return array"
      ],
      "metadata": {
        "id": "cBXvM9EJjn2D"
      },
      "execution_count": null,
      "outputs": []
    },
    {
      "cell_type": "code",
      "source": [
        "def earthquakeVisualizer(realData,predData):\n",
        "  \n",
        "\n",
        "  m = folium.Map(location=[0, 90], zoom_start=2)\n",
        "\n",
        "  realColormap = folium.LinearColormap(\n",
        "      ['yellow', 'red','black'],\n",
        "      vmin=realData['mag'].min(), vmax=realData['mag'].max()\n",
        "  )\n",
        "  m.add_child(realColormap)\n",
        "  predColormap = folium.LinearColormap(\n",
        "      ['green', 'blue','purple'],\n",
        "      vmin=predData['mag'].min(), vmax=predData['mag'].max()\n",
        "  )\n",
        "  m.add_child(predColormap)\n",
        "\n",
        "  # 지도 위에 시간 인터렉티브한 바 추가\n",
        "  timestamps = data['time'].unique()\n",
        "  features = []\n",
        "  # minEnergy = 10**(data['mag'].min()*1.5)\n",
        "  # distanceOfDeepestSixMagReachToOneKM = np.sqrt(data['depth'].max()**2+1)\n",
        "  features = AddCircles(realData,realColormap,features)\n",
        "  features = AddCircles(predData,predColormap,features)\n",
        "\n",
        "  time_slider = plugins.TimestampedGeoJson({\n",
        "      'type': 'FeatureCollection',\n",
        "      'features': features\n",
        "  }, period='P1D',duration=\"P1M\", add_last_point=True, auto_play=False, loop=False)#\n",
        "\n",
        "  m.add_child(time_slider)\n",
        "\n",
        "  return m"
      ],
      "metadata": {
        "id": "jjkBC4hcnIxx"
      },
      "execution_count": null,
      "outputs": []
    },
    {
      "cell_type": "code",
      "source": [
        "m = earthquakeVisualizer(y_test,y_pred)\n",
        "m.save(save_directory+file_name+'.html')\n",
        "m"
      ],
      "metadata": {
        "id": "JXMRylovXrnb"
      },
      "execution_count": null,
      "outputs": []
    },
    {
      "cell_type": "code",
      "source": [
        "# earthquakeVisualizer(data)"
      ],
      "metadata": {
        "id": "7knTAxQORMTB"
      },
      "execution_count": null,
      "outputs": []
    },
    {
      "cell_type": "markdown",
      "source": [
        "# 모델 저장 및 불러오기"
      ],
      "metadata": {
        "id": "fdrOR2nkkkIf"
      }
    },
    {
      "cell_type": "code",
      "source": [
        "# Save the weights\n",
        "model.save_weights('./checkpoints/'+file_name)"
      ],
      "metadata": {
        "id": "A7fG1ijYkvdt"
      },
      "execution_count": null,
      "outputs": []
    },
    {
      "cell_type": "code",
      "source": [
        "# Restore the weights\n",
        "# model.load_weights('./checkpoints/'+file_name)\n",
        "model.load_weights('./checkpoints/EarthQuakePrediction_epoch_360_batch_size_1_trainFrom_1000_until_5000')"
      ],
      "metadata": {
        "id": "WQ_2fmjYmL87"
      },
      "execution_count": null,
      "outputs": []
    },
    {
      "cell_type": "code",
      "source": [
        "!pwd"
      ],
      "metadata": {
        "id": "9Yjo8E--qM4Y"
      },
      "execution_count": null,
      "outputs": []
    }
  ],
  "metadata": {
    "colab": {
      "name": "Colaboratory에 오신 것을 환영합니다",
      "provenance": [],
      "toc_visible": true,
      "include_colab_link": true
    },
    "kernelspec": {
      "display_name": "Python 3",
      "name": "python3"
    },
    "gpuClass": "standard",
    "accelerator": "GPU"
  },
  "nbformat": 4,
  "nbformat_minor": 0
}